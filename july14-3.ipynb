{
 "cells": [
  {
   "cell_type": "markdown",
   "id": "2b520193-afb0-43ca-ab9b-a3b810a365ad",
   "metadata": {},
   "source": [
    "### Swapping two numbers"
   ]
  },
  {
   "cell_type": "code",
   "execution_count": 5,
   "id": "8afce4f0-6b55-44e7-8b1b-cfb35609eb47",
   "metadata": {},
   "outputs": [
    {
     "name": "stdout",
     "output_type": "stream",
     "text": [
      "Value of number 1 before swap:  10\n",
      "Value of number 2 before swap:  20\n",
      "Value of number 1 After swap:  20\n",
      "Value of number 2 After swap:  10\n"
     ]
    }
   ],
   "source": [
    "n1 = 10\n",
    "n2 = 20\n",
    "\n",
    "print(\"Value of number 1 before swap: \", n1)\n",
    "print(\"Value of number 2 before swap: \", n2)\n",
    "\n",
    "#Approch 1\n",
    "temp = n1\n",
    "n1 = n2\n",
    "n2 = temp\n",
    "\n",
    "#Approch 2\n",
    "# n1,n2 = n2,n1\n",
    "print(\"Value of number 1 After swap: \", n1)\n",
    "print(\"Value of number 2 After swap: \", n2)\n"
   ]
  },
  {
   "cell_type": "markdown",
   "id": "b186527c-2c0c-4a7d-9247-2ba73670fb05",
   "metadata": {},
   "source": [
    "### Sum of list items"
   ]
  },
  {
   "cell_type": "code",
   "execution_count": 25,
   "id": "d48722b9-7058-4e19-b9ad-1d8fc905bc23",
   "metadata": {},
   "outputs": [
    {
     "name": "stdout",
     "output_type": "stream",
     "text": [
      "15\n"
     ]
    }
   ],
   "source": [
    "l1 = [1,2,3,4,5]\n",
    "num = 0\n",
    "for i in range(0,len(l1)+1):\n",
    "    num = num + i\n",
    "print(num)"
   ]
  },
  {
   "cell_type": "markdown",
   "id": "e4ef13cd-f1d0-4bdc-9967-51df5f1719f4",
   "metadata": {},
   "source": [
    "### Finding smallest and largest number is a list"
   ]
  },
  {
   "cell_type": "code",
   "execution_count": 33,
   "id": "cf4b32df-00b2-411c-8570-0ecc33c7cd69",
   "metadata": {},
   "outputs": [
    {
     "name": "stdout",
     "output_type": "stream",
     "text": [
      "Smallest is: 2\n",
      "Largest is: 70\n"
     ]
    }
   ],
   "source": [
    "l1 = [2,10,4,50,9,8,70,6]\n",
    "l1.sort()\n",
    "print(\"Smallest is:\",l1[0])\n",
    "print(\"Largest is:\",l1[-1])\n"
   ]
  },
  {
   "cell_type": "markdown",
   "id": "4049e13d-97d0-448b-aae0-8d5464349d8f",
   "metadata": {},
   "source": [
    "### Second Largest in a list"
   ]
  },
  {
   "cell_type": "code",
   "execution_count": 32,
   "id": "8c124d7d-a16e-48c7-8714-33b12a6ab4a3",
   "metadata": {},
   "outputs": [
    {
     "name": "stdout",
     "output_type": "stream",
     "text": [
      "Second Largest: 50\n"
     ]
    }
   ],
   "source": [
    "print(\"Second Largest:\",l1[-2])"
   ]
  },
  {
   "cell_type": "markdown",
   "id": "5b842ac3-87e7-4b42-8d31-f6bb6f4cceb7",
   "metadata": {},
   "source": [
    "### Swapping the First and the last digit of a List"
   ]
  },
  {
   "cell_type": "code",
   "execution_count": 34,
   "id": "864e5d41-15f0-4187-bd5d-ef9448cf075a",
   "metadata": {},
   "outputs": [
    {
     "name": "stdout",
     "output_type": "stream",
     "text": [
      "List before swapping: [2, 10, 4, 50, 9, 8, 70, 6]\n",
      "List after swapping: [6, 10, 4, 50, 9, 8, 70, 2]\n"
     ]
    }
   ],
   "source": [
    "l1 = [2,10,4,50,9,8,70,6]\n",
    "print(\"List before swapping:\", l1)\n",
    "temp = l1[0]\n",
    "l1[0]= l1[-1]\n",
    "l1[-1] = temp\n",
    "print(\"List after swapping:\", l1)\n"
   ]
  },
  {
   "cell_type": "code",
   "execution_count": null,
   "id": "cb163f78-8186-4016-ba20-acd1acb9418e",
   "metadata": {},
   "outputs": [],
   "source": []
  }
 ],
 "metadata": {
  "kernelspec": {
   "display_name": "Python 3 (ipykernel)",
   "language": "python",
   "name": "python3"
  },
  "language_info": {
   "codemirror_mode": {
    "name": "ipython",
    "version": 3
   },
   "file_extension": ".py",
   "mimetype": "text/x-python",
   "name": "python",
   "nbconvert_exporter": "python",
   "pygments_lexer": "ipython3",
   "version": "3.13.5"
  }
 },
 "nbformat": 4,
 "nbformat_minor": 5
}
