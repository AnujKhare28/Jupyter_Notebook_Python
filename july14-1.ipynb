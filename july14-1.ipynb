{
 "cells": [
  {
   "cell_type": "markdown",
   "id": "962da684-69fd-40e0-af3c-24fffc512396",
   "metadata": {},
   "source": [
    "### Find the Maximum number using while loop"
   ]
  },
  {
   "cell_type": "code",
   "execution_count": 11,
   "id": "ecc727f1-0c31-4dc7-8f7a-a7a429978a03",
   "metadata": {},
   "outputs": [
    {
     "name": "stdout",
     "output_type": "stream",
     "text": [
      "Enter 5 numbers:\n"
     ]
    },
    {
     "name": "stdin",
     "output_type": "stream",
     "text": [
      " 1\n",
      " 2\n",
      " 3\n",
      " 4\n",
      " 5\n"
     ]
    },
    {
     "name": "stdout",
     "output_type": "stream",
     "text": [
      "Maximum number is: 5\n",
      "Minimum number is: 1\n"
     ]
    }
   ],
   "source": [
    "n = 5\n",
    "print(\"Enter\",n,\"numbers:\")\n",
    "i = 0\n",
    "Max = float('-inf')\n",
    "Min = float('inf')\n",
    "\n",
    "while i < n:\n",
    "    i = i + 1\n",
    "    x = int(input())\n",
    "    \n",
    "    if x > Max :\n",
    "        Max = x\n",
    "    if x < Min :\n",
    "        Min = x\n",
    "\n",
    "print(\"Maximum number is:\", Max)\n",
    "print(\"Minimum number is:\", Min)       "
   ]
  },
  {
   "cell_type": "markdown",
   "id": "070cf177-fe4c-45b1-b4fe-8b21e36f9e8c",
   "metadata": {},
   "source": [
    "### Prime number"
   ]
  },
  {
   "cell_type": "code",
   "execution_count": 13,
   "id": "b236ccc7-501c-4971-ae40-3d278677c844",
   "metadata": {},
   "outputs": [
    {
     "name": "stdin",
     "output_type": "stream",
     "text": [
      "Enter a number: 37\n"
     ]
    },
    {
     "name": "stdout",
     "output_type": "stream",
     "text": [
      "Prime\n"
     ]
    }
   ],
   "source": [
    "num = int(input(\"Enter a number:\"))\n",
    "if num == 1:\n",
    "    print(\"Not a Prime\")\n",
    "if num > 1:\n",
    "    for i in range(2, num):\n",
    "        if num % i == 0:\n",
    "            print(\"Not a Prime\")\n",
    "            break\n",
    "    else:\n",
    "        print(\"Prime\")"
   ]
  },
  {
   "cell_type": "code",
   "execution_count": null,
   "id": "740099e1-8a4b-46ea-84d1-b93f5376b3fb",
   "metadata": {},
   "outputs": [],
   "source": []
  }
 ],
 "metadata": {
  "kernelspec": {
   "display_name": "Python 3 (ipykernel)",
   "language": "python",
   "name": "python3"
  },
  "language_info": {
   "codemirror_mode": {
    "name": "ipython",
    "version": 3
   },
   "file_extension": ".py",
   "mimetype": "text/x-python",
   "name": "python",
   "nbconvert_exporter": "python",
   "pygments_lexer": "ipython3",
   "version": "3.13.5"
  }
 },
 "nbformat": 4,
 "nbformat_minor": 5
}
