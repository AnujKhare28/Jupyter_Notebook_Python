{
 "cells": [
  {
   "cell_type": "markdown",
   "id": "dd8fdcbd-0cfb-43db-81f8-e4f37f92916c",
   "metadata": {},
   "source": [
    "### Make different List for different data type"
   ]
  },
  {
   "cell_type": "code",
   "execution_count": 5,
   "id": "fb8c8c98-981a-4e9d-b114-498ab2f6e695",
   "metadata": {},
   "outputs": [
    {
     "name": "stdout",
     "output_type": "stream",
     "text": [
      "List of integers [1, 2, 6, 9, 7]\n",
      "List of float [3.4, 4.5]\n",
      "List of string ['a', 'b', 'c']\n"
     ]
    }
   ],
   "source": [
    "list1 = [1,2,3.4,4.5,6,'a',9,'b','c',7]\n",
    "lint = []\n",
    "lfloat = []\n",
    "lstr = []\n",
    "\n",
    "for i in range(0, len(list1)):\n",
    "    if type(list1[i]) == int:\n",
    "        lint.append(list1[i])\n",
    "    elif type(list1[i]) == float:\n",
    "        lfloat.append(list1[i])\n",
    "    else:\n",
    "        lstr.append(list1[i])\n",
    "print('List of integers', lint)\n",
    "print('List of float', lfloat)\n",
    "print('List of string', lstr)"
   ]
  }
 ],
 "metadata": {
  "kernelspec": {
   "display_name": "Python 3 (ipykernel)",
   "language": "python",
   "name": "python3"
  },
  "language_info": {
   "codemirror_mode": {
    "name": "ipython",
    "version": 3
   },
   "file_extension": ".py",
   "mimetype": "text/x-python",
   "name": "python",
   "nbconvert_exporter": "python",
   "pygments_lexer": "ipython3",
   "version": "3.13.5"
  }
 },
 "nbformat": 4,
 "nbformat_minor": 5
}
