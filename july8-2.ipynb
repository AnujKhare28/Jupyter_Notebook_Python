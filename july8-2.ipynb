{
 "cells": [
  {
   "cell_type": "code",
   "execution_count": 5,
   "id": "802affb2-8737-47c1-bd62-19dfcc223fa1",
   "metadata": {},
   "outputs": [
    {
     "name": "stdin",
     "output_type": "stream",
     "text": [
      "Enter some comma separated values:  1,2,3\n"
     ]
    },
    {
     "name": "stdout",
     "output_type": "stream",
     "text": [
      "List:  ['1', '2', '3']\n",
      "Tuple:  ('1', '2', '3')\n"
     ]
    }
   ],
   "source": [
    "values = input(\"Enter some comma separated values: \")\n",
    "list = values.split(\",\")\n",
    "\n",
    "tuple = tuple(list)\n",
    "\n",
    "print(\"List: \", list)\n",
    "print(\"Tuple: \", tuple)"
   ]
  },
  {
   "cell_type": "code",
   "execution_count": null,
   "id": "ded5e843-5c95-44b7-a728-db699d6c28bc",
   "metadata": {},
   "outputs": [],
   "source": []
  },
  {
   "cell_type": "code",
   "execution_count": 6,
   "id": "acacf97f-db0d-4686-9933-43323357b3e6",
   "metadata": {},
   "outputs": [
    {
     "name": "stdout",
     "output_type": "stream",
     "text": [
      "Red Black\n"
     ]
    }
   ],
   "source": [
    "color_list = [\"Red\",\"Green\",\"White\" ,\"Black\"]\n",
    "print(color_list[0],color_list[-1])"
   ]
  },
  {
   "cell_type": "code",
   "execution_count": null,
   "id": "313c0b65-0cca-49a7-927d-ee21e0cadbb1",
   "metadata": {},
   "outputs": [],
   "source": []
  },
  {
   "cell_type": "code",
   "execution_count": 14,
   "id": "713cd2bf-9181-40a1-84eb-78688e046b6a",
   "metadata": {},
   "outputs": [
    {
     "name": "stdout",
     "output_type": "stream",
     "text": [
      "True\n",
      "False\n"
     ]
    }
   ],
   "source": [
    "def checkVowel(a):\n",
    "    vow = \"aeiou\"\n",
    "    return a in vow\n",
    "        \n",
    "print(checkVowel(\"a\"))\n",
    "print(checkVowel(\"s\"))\n"
   ]
  },
  {
   "cell_type": "code",
   "execution_count": null,
   "id": "41f2b956-f50a-47c1-8ceb-efda58936fad",
   "metadata": {},
   "outputs": [],
   "source": []
  }
 ],
 "metadata": {
  "kernelspec": {
   "display_name": "Python 3 (ipykernel)",
   "language": "python",
   "name": "python3"
  },
  "language_info": {
   "codemirror_mode": {
    "name": "ipython",
    "version": 3
   },
   "file_extension": ".py",
   "mimetype": "text/x-python",
   "name": "python",
   "nbconvert_exporter": "python",
   "pygments_lexer": "ipython3",
   "version": "3.13.5"
  }
 },
 "nbformat": 4,
 "nbformat_minor": 5
}
