{
 "cells": [
  {
   "cell_type": "markdown",
   "id": "73f3a5da-a0b2-476b-86d8-5e45155246aa",
   "metadata": {},
   "source": [
    "### Mean Median & Mode"
   ]
  },
  {
   "cell_type": "code",
   "execution_count": 2,
   "id": "c3ead096-8acb-4c6c-a5f1-7d9b1e885833",
   "metadata": {},
   "outputs": [
    {
     "name": "stdout",
     "output_type": "stream",
     "text": [
      "Mean: 5\n",
      "Median: 4.5\n",
      "Mode: 4\n"
     ]
    }
   ],
   "source": [
    "import statistics as st \n",
    "\n",
    "lst = [2,4,5,6,8,6,4,9,4,1,2,4,7,8]\n",
    "\n",
    "mean = st.mean(lst)\n",
    "\n",
    "median = st.median(lst)\n",
    "\n",
    "mode = st.mode(lst)\n",
    "\n",
    "print('Mean:',mean)\n",
    "\n",
    "print('Median:',median)\n",
    "\n",
    "print('Mode:',mode)"
   ]
  },
  {
   "cell_type": "markdown",
   "id": "01f3f41a-b794-44fe-a112-a83d2949eb3c",
   "metadata": {},
   "source": [
    "### Find the Largest List"
   ]
  },
  {
   "cell_type": "code",
   "execution_count": 6,
   "id": "acac4dd6-b4c7-4cea-a3bd-db52bfcd1fce",
   "metadata": {},
   "outputs": [
    {
     "name": "stdout",
     "output_type": "stream",
     "text": [
      "[3, 2, 4, 5, 6, 7, 7]\n"
     ]
    }
   ],
   "source": [
    "lt = [[1,2,3], [3,2,4,5,6,7,7],[5,6,7,8]]\n",
    "\n",
    "max_l = max(lt, key=len)\n",
    "\n",
    "print(max_l)"
   ]
  },
  {
   "cell_type": "code",
   "execution_count": null,
   "id": "4b55b8d8-2c7d-449a-be0d-e39d5a435dfc",
   "metadata": {},
   "outputs": [],
   "source": []
  }
 ],
 "metadata": {
  "kernelspec": {
   "display_name": "Python 3 (ipykernel)",
   "language": "python",
   "name": "python3"
  },
  "language_info": {
   "codemirror_mode": {
    "name": "ipython",
    "version": 3
   },
   "file_extension": ".py",
   "mimetype": "text/x-python",
   "name": "python",
   "nbconvert_exporter": "python",
   "pygments_lexer": "ipython3",
   "version": "3.13.5"
  }
 },
 "nbformat": 4,
 "nbformat_minor": 5
}
