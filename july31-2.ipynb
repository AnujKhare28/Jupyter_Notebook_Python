{
 "cells": [
  {
   "cell_type": "code",
   "execution_count": 1,
   "id": "06ccbff1-f9d2-4ca9-9826-507c2e60d058",
   "metadata": {},
   "outputs": [],
   "source": [
    "import pandas as pandu"
   ]
  },
  {
   "cell_type": "code",
   "execution_count": 2,
   "id": "c1625383-62de-408a-a7a7-72e62446d4a3",
   "metadata": {},
   "outputs": [],
   "source": [
    "data = {\n",
    "    'Name':['Anuj','Swarali','Mitthu'],\n",
    "    'Age':[23,22,20],\n",
    "    'City':['Vadodara','Chhatarpur','Pune']\n",
    "}\n",
    "\n",
    "df = pandu.DataFrame(data)"
   ]
  },
  {
   "cell_type": "code",
   "execution_count": 3,
   "id": "db3809b7-a555-4f82-a095-5d1fdf668ffc",
   "metadata": {},
   "outputs": [
    {
     "name": "stdout",
     "output_type": "stream",
     "text": [
      "      Name  Age        City\n",
      "0     Anuj   23    Vadodara\n",
      "1  Swarali   22  Chhatarpur\n",
      "2   Mitthu   20        Pune\n"
     ]
    }
   ],
   "source": [
    "print(df)"
   ]
  },
  {
   "cell_type": "code",
   "execution_count": 5,
   "id": "084df9f8-8892-45fc-babe-f3b28baee4b0",
   "metadata": {},
   "outputs": [],
   "source": [
    "df.to_csv('data.csv', index=False)"
   ]
  },
  {
   "cell_type": "code",
   "execution_count": 7,
   "id": "dd86c188-37d3-4d8c-a37e-15fdc8ddeb51",
   "metadata": {},
   "outputs": [],
   "source": [
    "df.to_excel('data.xlsx', index=False)"
   ]
  },
  {
   "cell_type": "code",
   "execution_count": 8,
   "id": "51b308f5-a61a-44fb-a8a2-01b7aef688ca",
   "metadata": {},
   "outputs": [],
   "source": [
    "df.to_json('data.json', index=False)"
   ]
  },
  {
   "cell_type": "code",
   "execution_count": 9,
   "id": "746af815-82bb-4bfd-9747-2d1fd1cb5e43",
   "metadata": {},
   "outputs": [],
   "source": [
    "d = pandu.read_json('sample_Data.json')"
   ]
  },
  {
   "cell_type": "markdown",
   "id": "a7db9338-03cc-412b-ae8f-6c8420a7fae8",
   "metadata": {},
   "source": [
    "### Data Exploration"
   ]
  },
  {
   "cell_type": "code",
   "execution_count": 13,
   "id": "877ead7a-27fd-43b5-845d-7b92ce931ad3",
   "metadata": {},
   "outputs": [
    {
     "data": {
      "text/html": [
       "<div>\n",
       "<style scoped>\n",
       "    .dataframe tbody tr th:only-of-type {\n",
       "        vertical-align: middle;\n",
       "    }\n",
       "\n",
       "    .dataframe tbody tr th {\n",
       "        vertical-align: top;\n",
       "    }\n",
       "\n",
       "    .dataframe thead th {\n",
       "        text-align: right;\n",
       "    }\n",
       "</style>\n",
       "<table border=\"1\" class=\"dataframe\">\n",
       "  <thead>\n",
       "    <tr style=\"text-align: right;\">\n",
       "      <th></th>\n",
       "      <th>id</th>\n",
       "      <th>name</th>\n",
       "      <th>description</th>\n",
       "      <th>price</th>\n",
       "      <th>category</th>\n",
       "      <th>image</th>\n",
       "    </tr>\n",
       "  </thead>\n",
       "  <tbody>\n",
       "    <tr>\n",
       "      <th>0</th>\n",
       "      <td>1</td>\n",
       "      <td>Apple iPhone 12</td>\n",
       "      <td>The Apple iPhone 12 features a 6.1-inch Super ...</td>\n",
       "      <td>999.00</td>\n",
       "      <td>Electronics</td>\n",
       "      <td>https://www.apple.com/newsroom/images/product/...</td>\n",
       "    </tr>\n",
       "    <tr>\n",
       "      <th>1</th>\n",
       "      <td>2</td>\n",
       "      <td>Samsung Galaxy S21</td>\n",
       "      <td>The Samsung Galaxy S21 features a 6.2-inch Dyn...</td>\n",
       "      <td>799.00</td>\n",
       "      <td>Electronics</td>\n",
       "      <td>https://images.samsung.com/is/image/samsung/p6...</td>\n",
       "    </tr>\n",
       "    <tr>\n",
       "      <th>2</th>\n",
       "      <td>3</td>\n",
       "      <td>Sony PlayStation 5</td>\n",
       "      <td>The Sony PlayStation 5 features an AMD Zen 2-b...</td>\n",
       "      <td>499.99</td>\n",
       "      <td>Electronics</td>\n",
       "      <td>https://www.sony.com/image/44baa604124b770c824...</td>\n",
       "    </tr>\n",
       "    <tr>\n",
       "      <th>3</th>\n",
       "      <td>4</td>\n",
       "      <td>LG OLED55CXPUA 55-inch 4K OLED TV</td>\n",
       "      <td>The LG OLED55CXPUA 55-inch 4K OLED TV features...</td>\n",
       "      <td>1599.99</td>\n",
       "      <td>Electronics</td>\n",
       "      <td>https://www.lg.com/us/images/tvs/md07501804/ga...</td>\n",
       "    </tr>\n",
       "    <tr>\n",
       "      <th>4</th>\n",
       "      <td>5</td>\n",
       "      <td>Bose QuietComfort 35 II Wireless Headphones</td>\n",
       "      <td>The Bose QuietComfort 35 II Wireless Headphone...</td>\n",
       "      <td>299.00</td>\n",
       "      <td>Electronics</td>\n",
       "      <td>https://assets.bose.com/content/dam/Bose_DAM/W...</td>\n",
       "    </tr>\n",
       "  </tbody>\n",
       "</table>\n",
       "</div>"
      ],
      "text/plain": [
       "   id                                         name  \\\n",
       "0   1                              Apple iPhone 12   \n",
       "1   2                           Samsung Galaxy S21   \n",
       "2   3                           Sony PlayStation 5   \n",
       "3   4            LG OLED55CXPUA 55-inch 4K OLED TV   \n",
       "4   5  Bose QuietComfort 35 II Wireless Headphones   \n",
       "\n",
       "                                         description    price     category  \\\n",
       "0  The Apple iPhone 12 features a 6.1-inch Super ...   999.00  Electronics   \n",
       "1  The Samsung Galaxy S21 features a 6.2-inch Dyn...   799.00  Electronics   \n",
       "2  The Sony PlayStation 5 features an AMD Zen 2-b...   499.99  Electronics   \n",
       "3  The LG OLED55CXPUA 55-inch 4K OLED TV features...  1599.99  Electronics   \n",
       "4  The Bose QuietComfort 35 II Wireless Headphone...   299.00  Electronics   \n",
       "\n",
       "                                               image  \n",
       "0  https://www.apple.com/newsroom/images/product/...  \n",
       "1  https://images.samsung.com/is/image/samsung/p6...  \n",
       "2  https://www.sony.com/image/44baa604124b770c824...  \n",
       "3  https://www.lg.com/us/images/tvs/md07501804/ga...  \n",
       "4  https://assets.bose.com/content/dam/Bose_DAM/W...  "
      ]
     },
     "execution_count": 13,
     "metadata": {},
     "output_type": "execute_result"
    }
   ],
   "source": [
    "d.head(5)"
   ]
  },
  {
   "cell_type": "code",
   "execution_count": 14,
   "id": "da6f483a-7c12-46a6-830f-46318ba851ce",
   "metadata": {},
   "outputs": [
    {
     "data": {
      "text/html": [
       "<div>\n",
       "<style scoped>\n",
       "    .dataframe tbody tr th:only-of-type {\n",
       "        vertical-align: middle;\n",
       "    }\n",
       "\n",
       "    .dataframe tbody tr th {\n",
       "        vertical-align: top;\n",
       "    }\n",
       "\n",
       "    .dataframe thead th {\n",
       "        text-align: right;\n",
       "    }\n",
       "</style>\n",
       "<table border=\"1\" class=\"dataframe\">\n",
       "  <thead>\n",
       "    <tr style=\"text-align: right;\">\n",
       "      <th></th>\n",
       "      <th>id</th>\n",
       "      <th>name</th>\n",
       "      <th>description</th>\n",
       "      <th>price</th>\n",
       "      <th>category</th>\n",
       "      <th>image</th>\n",
       "    </tr>\n",
       "  </thead>\n",
       "  <tbody>\n",
       "    <tr>\n",
       "      <th>15</th>\n",
       "      <td>16</td>\n",
       "      <td>Breville Barista Express Espresso Machine</td>\n",
       "      <td>The Breville Barista Express Espresso Machine ...</td>\n",
       "      <td>699.95</td>\n",
       "      <td>Home &amp; Kitchen</td>\n",
       "      <td>https://www.breville.com/content/dam/breville/...</td>\n",
       "    </tr>\n",
       "    <tr>\n",
       "      <th>16</th>\n",
       "      <td>17</td>\n",
       "      <td>Keurig K-Elite Coffee Maker</td>\n",
       "      <td>The Keurig K-Elite Coffee Maker features a str...</td>\n",
       "      <td>169.99</td>\n",
       "      <td>Home &amp; Kitchen</td>\n",
       "      <td>https://www.keurig.com/content/dam/global-ecom...</td>\n",
       "    </tr>\n",
       "    <tr>\n",
       "      <th>17</th>\n",
       "      <td>18</td>\n",
       "      <td>iRobot Roomba i7+ Robot Vacuum</td>\n",
       "      <td>The iRobot Roomba i7+ Robot Vacuum features au...</td>\n",
       "      <td>799.99</td>\n",
       "      <td>Home &amp; Kitchen</td>\n",
       "      <td>https://store.irobot.com/default/i7-vacuuming-...</td>\n",
       "    </tr>\n",
       "    <tr>\n",
       "      <th>18</th>\n",
       "      <td>19</td>\n",
       "      <td>Ninja Foodi Digital Air Fry Oven</td>\n",
       "      <td>The Ninja Foodi Digital Air Fry Oven features ...</td>\n",
       "      <td>209.99</td>\n",
       "      <td>Home &amp; Kitchen</td>\n",
       "      <td>https://www.ninjakitchen.com/static/img/produc...</td>\n",
       "    </tr>\n",
       "    <tr>\n",
       "      <th>19</th>\n",
       "      <td>20</td>\n",
       "      <td>Cuisinart ICE-70 Ice Cream Maker</td>\n",
       "      <td>The Cuisinart ICE-70 Ice Cream Maker features ...</td>\n",
       "      <td>139.99</td>\n",
       "      <td>Home &amp; Kitchen</td>\n",
       "      <td>https://www.cuisinart.com/share/images/product...</td>\n",
       "    </tr>\n",
       "  </tbody>\n",
       "</table>\n",
       "</div>"
      ],
      "text/plain": [
       "    id                                       name  \\\n",
       "15  16  Breville Barista Express Espresso Machine   \n",
       "16  17                Keurig K-Elite Coffee Maker   \n",
       "17  18             iRobot Roomba i7+ Robot Vacuum   \n",
       "18  19           Ninja Foodi Digital Air Fry Oven   \n",
       "19  20           Cuisinart ICE-70 Ice Cream Maker   \n",
       "\n",
       "                                          description   price        category  \\\n",
       "15  The Breville Barista Express Espresso Machine ...  699.95  Home & Kitchen   \n",
       "16  The Keurig K-Elite Coffee Maker features a str...  169.99  Home & Kitchen   \n",
       "17  The iRobot Roomba i7+ Robot Vacuum features au...  799.99  Home & Kitchen   \n",
       "18  The Ninja Foodi Digital Air Fry Oven features ...  209.99  Home & Kitchen   \n",
       "19  The Cuisinart ICE-70 Ice Cream Maker features ...  139.99  Home & Kitchen   \n",
       "\n",
       "                                                image  \n",
       "15  https://www.breville.com/content/dam/breville/...  \n",
       "16  https://www.keurig.com/content/dam/global-ecom...  \n",
       "17  https://store.irobot.com/default/i7-vacuuming-...  \n",
       "18  https://www.ninjakitchen.com/static/img/produc...  \n",
       "19  https://www.cuisinart.com/share/images/product...  "
      ]
     },
     "execution_count": 14,
     "metadata": {},
     "output_type": "execute_result"
    }
   ],
   "source": [
    "d.tail(5)"
   ]
  },
  {
   "cell_type": "code",
   "execution_count": 15,
   "id": "9abca394-9064-457f-a0f7-f8a9feda9874",
   "metadata": {},
   "outputs": [
    {
     "data": {
      "text/plain": [
       "(20, 6)"
      ]
     },
     "execution_count": 15,
     "metadata": {},
     "output_type": "execute_result"
    }
   ],
   "source": [
    "d.shape"
   ]
  },
  {
   "cell_type": "code",
   "execution_count": 16,
   "id": "622582f1-1787-4850-9304-976dbbcf0f8b",
   "metadata": {},
   "outputs": [
    {
     "name": "stdout",
     "output_type": "stream",
     "text": [
      "<class 'pandas.core.frame.DataFrame'>\n",
      "RangeIndex: 20 entries, 0 to 19\n",
      "Data columns (total 6 columns):\n",
      " #   Column       Non-Null Count  Dtype  \n",
      "---  ------       --------------  -----  \n",
      " 0   id           20 non-null     int64  \n",
      " 1   name         20 non-null     object \n",
      " 2   description  20 non-null     object \n",
      " 3   price        20 non-null     float64\n",
      " 4   category     20 non-null     object \n",
      " 5   image        20 non-null     object \n",
      "dtypes: float64(1), int64(1), object(4)\n",
      "memory usage: 1.1+ KB\n"
     ]
    }
   ],
   "source": [
    "d.info()"
   ]
  },
  {
   "cell_type": "code",
   "execution_count": 17,
   "id": "2fb3ca42-a5b1-4fed-af1c-3a2ec6d5ecb7",
   "metadata": {},
   "outputs": [
    {
     "name": "stdout",
     "output_type": "stream",
     "text": [
      "<class 'pandas.core.frame.DataFrame'>\n",
      "RangeIndex: 3 entries, 0 to 2\n",
      "Data columns (total 3 columns):\n",
      " #   Column  Non-Null Count  Dtype \n",
      "---  ------  --------------  ----- \n",
      " 0   Name    3 non-null      object\n",
      " 1   Age     3 non-null      int64 \n",
      " 2   City    3 non-null      object\n",
      "dtypes: int64(1), object(2)\n",
      "memory usage: 204.0+ bytes\n"
     ]
    }
   ],
   "source": [
    "df.info()"
   ]
  },
  {
   "cell_type": "code",
   "execution_count": null,
   "id": "0ffecd7a-974a-4d82-bcf9-208aca7f8c46",
   "metadata": {},
   "outputs": [],
   "source": []
  }
 ],
 "metadata": {
  "kernelspec": {
   "display_name": "Python 3 (ipykernel)",
   "language": "python",
   "name": "python3"
  },
  "language_info": {
   "codemirror_mode": {
    "name": "ipython",
    "version": 3
   },
   "file_extension": ".py",
   "mimetype": "text/x-python",
   "name": "python",
   "nbconvert_exporter": "python",
   "pygments_lexer": "ipython3",
   "version": "3.13.5"
  }
 },
 "nbformat": 4,
 "nbformat_minor": 5
}
