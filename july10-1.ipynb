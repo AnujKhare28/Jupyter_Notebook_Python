{
 "cells": [
  {
   "cell_type": "markdown",
   "id": "4c0421fb-827a-4dbc-82fd-a6ab0ae0224c",
   "metadata": {},
   "source": [
    "#### Finding the unique number"
   ]
  },
  {
   "cell_type": "code",
   "execution_count": 18,
   "id": "caece65f-314b-4568-92ae-42bf9cc0b054",
   "metadata": {},
   "outputs": [
    {
     "name": "stdin",
     "output_type": "stream",
     "text": [
      "Enter the list of numbers:  1,2,3,4,5,5,7,8\n"
     ]
    },
    {
     "name": "stdout",
     "output_type": "stream",
     "text": [
      "False\n"
     ]
    }
   ],
   "source": [
    "def checkUnique(data):\n",
    "    if len(data) == len(set(data)):\n",
    "        return True\n",
    "    else:\n",
    "        return False\n",
    "val= input(\"Enter the list of numbers: \")\n",
    "print(checkUnique([val]))"
   ]
  },
  {
   "cell_type": "code",
   "execution_count": 19,
   "id": "913a57e4-df66-4031-bb71-a0c32784c30a",
   "metadata": {},
   "outputs": [
    {
     "name": "stdin",
     "output_type": "stream",
     "text": [
      "Enter the list of numbers:  1,2,3,4,5\n"
     ]
    },
    {
     "name": "stdout",
     "output_type": "stream",
     "text": [
      "True\n"
     ]
    }
   ],
   "source": [
    "def checkUnique(data):\n",
    "    if len(data) == len(set(data)):\n",
    "        return True\n",
    "    else:\n",
    "        return False\n",
    "val= input(\"Enter the list of numbers: \")\n",
    "print(checkUnique([val]))"
   ]
  },
  {
   "cell_type": "markdown",
   "id": "b84ff7e8-4a2b-43f9-b306-4695b810ed24",
   "metadata": {},
   "source": [
    "#### Find the factors of a number"
   ]
  },
  {
   "cell_type": "code",
   "execution_count": 15,
   "id": "bef2d0e7-d27a-4668-be51-51373d31fabc",
   "metadata": {},
   "outputs": [
    {
     "name": "stdin",
     "output_type": "stream",
     "text": [
      "Enter a number:  50\n"
     ]
    },
    {
     "name": "stdout",
     "output_type": "stream",
     "text": [
      "The Factors are of 50: [1, 2, 5, 10, 25, 50]\n"
     ]
    }
   ],
   "source": [
    "num = int(input(\"Enter a number: \"))\n",
    "a = []\n",
    "for i in range(1, num+1):\n",
    "    if num % i == 0:\n",
    "        a.append(i)\n",
    "print(f\"The Factors are of {num}:\",a)"
   ]
  },
  {
   "cell_type": "code",
   "execution_count": null,
   "id": "1cf9b77a-0ebc-4b22-8a33-834d16e0dc4e",
   "metadata": {},
   "outputs": [],
   "source": []
  }
 ],
 "metadata": {
  "kernelspec": {
   "display_name": "Python 3 (ipykernel)",
   "language": "python",
   "name": "python3"
  },
  "language_info": {
   "codemirror_mode": {
    "name": "ipython",
    "version": 3
   },
   "file_extension": ".py",
   "mimetype": "text/x-python",
   "name": "python",
   "nbconvert_exporter": "python",
   "pygments_lexer": "ipython3",
   "version": "3.13.5"
  }
 },
 "nbformat": 4,
 "nbformat_minor": 5
}
