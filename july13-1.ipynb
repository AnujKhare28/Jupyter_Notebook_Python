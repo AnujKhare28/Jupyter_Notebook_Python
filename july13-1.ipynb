{
 "cells": [
  {
   "cell_type": "markdown",
   "id": "53fd21d6-d928-47e9-9611-45b776e99b04",
   "metadata": {},
   "source": [
    "### Sum of the Digits"
   ]
  },
  {
   "cell_type": "code",
   "execution_count": 10,
   "id": "3e3d0a4d-ba4c-453e-bcf6-94856593b8d1",
   "metadata": {},
   "outputs": [
    {
     "name": "stdin",
     "output_type": "stream",
     "text": [
      "Enter a number: 123\n"
     ]
    },
    {
     "name": "stdout",
     "output_type": "stream",
     "text": [
      "Sum of digits:  6\n"
     ]
    }
   ],
   "source": [
    "n = int(input(\"Enter a number:\"))\n",
    "\n",
    "sum = 0\n",
    "\n",
    "while n > 0:\n",
    "    r = n % 10\n",
    "    sum = sum + r\n",
    "    n = n // 10\n",
    "print(\"Sum of digits: \",sum)"
   ]
  },
  {
   "cell_type": "markdown",
   "id": "204bbb66-9b67-4097-b052-18a99e734b44",
   "metadata": {},
   "source": [
    "### Reverse a number\n"
   ]
  },
  {
   "cell_type": "code",
   "execution_count": 1,
   "id": "4209fa4c-2cf3-4fa9-a9c0-56e48f4aba4e",
   "metadata": {},
   "outputs": [
    {
     "name": "stdin",
     "output_type": "stream",
     "text": [
      "Enter a number: 123\n"
     ]
    },
    {
     "name": "stdout",
     "output_type": "stream",
     "text": [
      "Reversed number is: 321\n"
     ]
    }
   ],
   "source": [
    "n = n = int(input(\"Enter a number:\"))\n",
    "\n",
    "rev = 0\n",
    "\n",
    "while n > 0:\n",
    "    r = n % 10\n",
    "    rev = rev * 10 + r\n",
    "    n = n // 10\n",
    "print(\"Reversed number is:\",rev)"
   ]
  },
  {
   "cell_type": "code",
   "execution_count": null,
   "id": "b7d7f58e-57d9-491c-9797-89a93bb5873e",
   "metadata": {},
   "outputs": [],
   "source": []
  }
 ],
 "metadata": {
  "kernelspec": {
   "display_name": "Python 3 (ipykernel)",
   "language": "python",
   "name": "python3"
  },
  "language_info": {
   "codemirror_mode": {
    "name": "ipython",
    "version": 3
   },
   "file_extension": ".py",
   "mimetype": "text/x-python",
   "name": "python",
   "nbconvert_exporter": "python",
   "pygments_lexer": "ipython3",
   "version": "3.13.5"
  }
 },
 "nbformat": 4,
 "nbformat_minor": 5
}
