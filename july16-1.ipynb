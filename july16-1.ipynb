{
 "cells": [
  {
   "cell_type": "markdown",
   "id": "8896e1e2-8459-408f-b441-d4c3a04b04fa",
   "metadata": {},
   "source": [
    "### Lambda( Filter)"
   ]
  },
  {
   "cell_type": "code",
   "execution_count": 1,
   "id": "29269a12-eaa2-4f82-8ba1-8a13c31781b4",
   "metadata": {},
   "outputs": [
    {
     "name": "stdout",
     "output_type": "stream",
     "text": [
      "[2, 34, 6, 8]\n",
      "[1, 5, 7, 89]\n"
     ]
    }
   ],
   "source": [
    "List1 = [1,2,34,5,6,7,89,8]\n",
    "\n",
    "even_list = filter(lambda x : x % 2 == 0,List1)\n",
    "odd_list = filter(lambda x : x % 2 != 0, List1)\n",
    "\n",
    "print(list(even_list))\n",
    "print(list(odd_list))"
   ]
  },
  {
   "cell_type": "markdown",
   "id": "69047233-4701-47a4-aff2-492c3d81da72",
   "metadata": {},
   "source": [
    "### List comprehension"
   ]
  },
  {
   "cell_type": "code",
   "execution_count": 7,
   "id": "ba75e15b-5c34-4fae-94fa-5f467ed90e18",
   "metadata": {},
   "outputs": [
    {
     "name": "stdout",
     "output_type": "stream",
     "text": [
      "[2, 34, 6, 8]\n"
     ]
    }
   ],
   "source": [
    "even_list = [i for i in List1 if i % 2 == 0]\n",
    "print(even_list)"
   ]
  },
  {
   "cell_type": "code",
   "execution_count": 2,
   "id": "df1536a4-dbb6-441f-a7b0-a7a941c3099d",
   "metadata": {},
   "outputs": [
    {
     "name": "stdout",
     "output_type": "stream",
     "text": [
      "[1, 4, 5, 9]\n",
      "[-2, -6, -7]\n"
     ]
    }
   ],
   "source": [
    "list2 = [1,-2,4,5,-6,-7,9]\n",
    "\n",
    "positive = filter(lambda x : x > 0, list2)\n",
    "negative = filter(lambda x : x < 0, list2)\n",
    "\n",
    "print(list(positive))\n",
    "print(list(negative))"
   ]
  },
  {
   "cell_type": "markdown",
   "id": "b6fafdc5-339d-4275-963f-2686fca0243b",
   "metadata": {},
   "source": [
    "### Map"
   ]
  },
  {
   "cell_type": "code",
   "execution_count": 3,
   "id": "a2432405-70a1-45cb-a8b8-b54c2d857956",
   "metadata": {},
   "outputs": [
    {
     "name": "stdout",
     "output_type": "stream",
     "text": [
      "[1, 9, 16, 49, 64, 100, 529, 2025, 4225, 81]\n"
     ]
    }
   ],
   "source": [
    "def square(a):\n",
    "    return a * a\n",
    "\n",
    "num = (1,3,4,7,8,10,23,45,65,9)\n",
    "result = map(square, num)\n",
    "print(list(result))"
   ]
  },
  {
   "cell_type": "code",
   "execution_count": 5,
   "id": "d15cdb17-0c78-4efa-8186-95dc9505a4d0",
   "metadata": {},
   "outputs": [
    {
     "name": "stdout",
     "output_type": "stream",
     "text": [
      "[14, 25, 36]\n"
     ]
    }
   ],
   "source": [
    "num1 = [10,20,30]\n",
    "num2 = [4,5,6]\n",
    "\n",
    "result = map (lambda x,y : x + y, num1, num2)\n",
    "print(list(result))"
   ]
  },
  {
   "cell_type": "code",
   "execution_count": null,
   "id": "9e68a778-bfe6-4493-8d91-2c90b22e6a68",
   "metadata": {},
   "outputs": [],
   "source": []
  }
 ],
 "metadata": {
  "kernelspec": {
   "display_name": "Python 3 (ipykernel)",
   "language": "python",
   "name": "python3"
  },
  "language_info": {
   "codemirror_mode": {
    "name": "ipython",
    "version": 3
   },
   "file_extension": ".py",
   "mimetype": "text/x-python",
   "name": "python",
   "nbconvert_exporter": "python",
   "pygments_lexer": "ipython3",
   "version": "3.13.5"
  }
 },
 "nbformat": 4,
 "nbformat_minor": 5
}
