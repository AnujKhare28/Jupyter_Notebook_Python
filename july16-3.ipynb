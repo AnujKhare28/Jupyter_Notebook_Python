{
 "cells": [
  {
   "cell_type": "markdown",
   "id": "5f46925c-00da-4323-8f40-55b3c99795cc",
   "metadata": {},
   "source": [
    "### Check the item present in a tuple"
   ]
  },
  {
   "cell_type": "code",
   "execution_count": 4,
   "id": "f4b5f659-4a19-466a-8aeb-8220db8c92b8",
   "metadata": {},
   "outputs": [
    {
     "name": "stdout",
     "output_type": "stream",
     "text": [
      "True\n"
     ]
    }
   ],
   "source": [
    "mytup = ('Ram','Shyam','Krishna','Vishnu','Narayan')\n",
    "name = 'Krishna'\n",
    "\n",
    "if name in mytup:\n",
    "    print(\"True\")\n",
    "else:\n",
    "    print('False')"
   ]
  },
  {
   "cell_type": "markdown",
   "id": "c31cf60b-0939-4442-b397-470d97b30e55",
   "metadata": {},
   "source": [
    "### Reversing a Tuple"
   ]
  },
  {
   "cell_type": "code",
   "execution_count": 8,
   "id": "846a5e7b-d4bd-4960-94a9-5e24922b654b",
   "metadata": {},
   "outputs": [
    {
     "name": "stdout",
     "output_type": "stream",
     "text": [
      "('Narayan', 'Vishnu', 'Krishna', 'Shyam', 'Ram')\n"
     ]
    }
   ],
   "source": [
    "mytup = mytup[::-1]\n",
    "print(mytup)"
   ]
  },
  {
   "cell_type": "code",
   "execution_count": null,
   "id": "3b77765d-ecb8-456e-9b3d-484c4aa15bf1",
   "metadata": {},
   "outputs": [],
   "source": []
  }
 ],
 "metadata": {
  "kernelspec": {
   "display_name": "Python 3 (ipykernel)",
   "language": "python",
   "name": "python3"
  },
  "language_info": {
   "codemirror_mode": {
    "name": "ipython",
    "version": 3
   },
   "file_extension": ".py",
   "mimetype": "text/x-python",
   "name": "python",
   "nbconvert_exporter": "python",
   "pygments_lexer": "ipython3",
   "version": "3.13.5"
  }
 },
 "nbformat": 4,
 "nbformat_minor": 5
}
