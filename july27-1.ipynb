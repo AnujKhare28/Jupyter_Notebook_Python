{
 "cells": [
  {
   "cell_type": "markdown",
   "id": "eeaf78fa-cc67-40eb-afdb-d22bb6322cd7",
   "metadata": {},
   "source": [
    "### Exception Handling"
   ]
  },
  {
   "cell_type": "code",
   "execution_count": 1,
   "id": "20dd28fe-e665-4c38-9107-a181a597b51e",
   "metadata": {},
   "outputs": [
    {
     "name": "stdout",
     "output_type": "stream",
     "text": [
      "2\n",
      "End\n"
     ]
    }
   ],
   "source": [
    "a,b = 10,5\n",
    "\n",
    "try:\n",
    "    c = a // b\n",
    "    print(c)\n",
    "except: \n",
    "    print(\"B value should not be 0\")\n",
    "\n",
    "print(\"End\")"
   ]
  },
  {
   "cell_type": "code",
   "execution_count": 2,
   "id": "8da58cb5-78b2-40fd-9a29-924b2780ed5d",
   "metadata": {},
   "outputs": [
    {
     "name": "stdout",
     "output_type": "stream",
     "text": [
      "B value should not be 0\n",
      "End\n"
     ]
    }
   ],
   "source": [
    "a,b = 10,0\n",
    "\n",
    "try:\n",
    "    c = a // b\n",
    "    print(c)\n",
    "except: \n",
    "    print(\"B value should not be 0\")\n",
    "\n",
    "print(\"End\")"
   ]
  },
  {
   "cell_type": "code",
   "execution_count": 4,
   "id": "23277194-b89d-4518-a7cb-7150603d04eb",
   "metadata": {},
   "outputs": [
    {
     "name": "stdin",
     "output_type": "stream",
     "text": [
      "Enter a index:  4\n"
     ]
    },
    {
     "name": "stdout",
     "output_type": "stream",
     "text": [
      "50\n",
      "Program End\n"
     ]
    }
   ],
   "source": [
    "l1 = [10,20,30,40,50]\n",
    "\n",
    "index = int(input(\"Enter a index: \"))\n",
    "\n",
    "try:\n",
    "    print(l1[index])\n",
    "except:\n",
    "    print(\"Enter a valid index\")\n",
    "\n",
    "print(\"Program End\")"
   ]
  },
  {
   "cell_type": "code",
   "execution_count": 5,
   "id": "e35896d0-f14e-4c14-ab81-cdd12fbc3896",
   "metadata": {},
   "outputs": [
    {
     "name": "stdin",
     "output_type": "stream",
     "text": [
      "Enter a index:  5\n"
     ]
    },
    {
     "name": "stdout",
     "output_type": "stream",
     "text": [
      "Enter a valid index\n",
      "Program End\n"
     ]
    }
   ],
   "source": [
    "l1 = [10,20,30,40,50]\n",
    "\n",
    "index = int(input(\"Enter a index: \"))\n",
    "\n",
    "try:\n",
    "    print(l1[index])\n",
    "except:\n",
    "    print(\"Enter a valid index\")\n",
    "\n",
    "print(\"Program End\")"
   ]
  },
  {
   "cell_type": "code",
   "execution_count": null,
   "id": "c3a3bef7-ed19-47db-9ba4-427575e40adf",
   "metadata": {},
   "outputs": [],
   "source": []
  }
 ],
 "metadata": {
  "kernelspec": {
   "display_name": "Python 3 (ipykernel)",
   "language": "python",
   "name": "python3"
  },
  "language_info": {
   "codemirror_mode": {
    "name": "ipython",
    "version": 3
   },
   "file_extension": ".py",
   "mimetype": "text/x-python",
   "name": "python",
   "nbconvert_exporter": "python",
   "pygments_lexer": "ipython3",
   "version": "3.13.5"
  }
 },
 "nbformat": 4,
 "nbformat_minor": 5
}
