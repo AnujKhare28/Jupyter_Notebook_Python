{
 "cells": [
  {
   "cell_type": "markdown",
   "id": "4ad722ce-ed93-4a7e-ad9d-c4d1c9ea8b73",
   "metadata": {},
   "source": [
    "### Finding Common alphabates in two strings"
   ]
  },
  {
   "cell_type": "code",
   "execution_count": 13,
   "id": "e39a5c90-5e3f-41cc-95c7-e75622b30512",
   "metadata": {},
   "outputs": [
    {
     "name": "stdout",
     "output_type": "stream",
     "text": [
      "['i', ' ', 'h', 'n', 't', 'r', 'P', 'e', 'y', 's']\n"
     ]
    }
   ],
   "source": [
    "a = 'Hello, Python is very interesting'\n",
    "b = 'Pune is a city in Maharashtra'\n",
    "\n",
    "c = set(a)\n",
    "d = set(b)\n",
    "\n",
    "print(list(c&d))"
   ]
  },
  {
   "cell_type": "code",
   "execution_count": 4,
   "id": "c19564d6-a87a-4628-9845-7cb0eea0ef19",
   "metadata": {},
   "outputs": [
    {
     "name": "stdin",
     "output_type": "stream",
     "text": [
      "Enter number of items: 9\n",
      "Enter the Item name and Quantity: BANANA FRIES 12\n",
      "Enter the Item name and Quantity: POTATO CHIPS 30\n",
      "Enter the Item name and Quantity: APPLE JUICE 10\n",
      "Enter the Item name and Quantity: CANDY 5\n",
      "Enter the Item name and Quantity: APPLE JUICE 10\n",
      "Enter the Item name and Quantity: CANDY 5\n",
      "Enter the Item name and Quantity: CANDY 5\n",
      "Enter the Item name and Quantity: CANDY 5\n",
      "Enter the Item name and Quantity: POTATO CHIPS 30\n"
     ]
    },
    {
     "name": "stdout",
     "output_type": "stream",
     "text": [
      "BANANA FRIES   12\n",
      "POTATO CHIPS   60\n",
      "APPLE JUICE   20\n",
      "CANDY   20\n"
     ]
    }
   ],
   "source": [
    "\n",
    "from collections import OrderedDict \n",
    "\n",
    "od = OrderedDict()\n",
    "n = int(input(\"Enter number of items:\"))\n",
    "\n",
    "for i in range(n):\n",
    "    item_name,price = input(\"Enter the Item name and Quantity:\").strip().rsplit(' ',1)\n",
    "    price = int(price)\n",
    "    \n",
    "    if item_name in od:\n",
    "        od[item_name] += price\n",
    "    else:\n",
    "        od[item_name] = price\n",
    "for item_name, price in od.items():\n",
    "    print(item_name,' ',price)\n"
   ]
  }
 ],
 "metadata": {
  "kernelspec": {
   "display_name": "Python 3 (ipykernel)",
   "language": "python",
   "name": "python3"
  },
  "language_info": {
   "codemirror_mode": {
    "name": "ipython",
    "version": 3
   },
   "file_extension": ".py",
   "mimetype": "text/x-python",
   "name": "python",
   "nbconvert_exporter": "python",
   "pygments_lexer": "ipython3",
   "version": "3.13.5"
  }
 },
 "nbformat": 4,
 "nbformat_minor": 5
}
