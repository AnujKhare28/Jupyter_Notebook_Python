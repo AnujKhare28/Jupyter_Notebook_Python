{
 "cells": [
  {
   "cell_type": "code",
   "execution_count": 1,
   "id": "008b4086-d079-412b-b64e-7f182ce279da",
   "metadata": {},
   "outputs": [],
   "source": [
    "import numpy as np"
   ]
  },
  {
   "cell_type": "code",
   "execution_count": 11,
   "id": "33d14f44-ae56-4333-a3e7-a36c24c3b197",
   "metadata": {},
   "outputs": [],
   "source": [
    "arr1 = np.array(['I','love','coding'])"
   ]
  },
  {
   "cell_type": "code",
   "execution_count": 12,
   "id": "38db8f32-d312-402f-9114-4f53ad0f7935",
   "metadata": {},
   "outputs": [
    {
     "data": {
      "text/plain": [
       "numpy.ndarray"
      ]
     },
     "execution_count": 12,
     "metadata": {},
     "output_type": "execute_result"
    }
   ],
   "source": [
    "type(arr1)"
   ]
  },
  {
   "cell_type": "code",
   "execution_count": 13,
   "id": "cb435501-97ba-4945-a1c7-b03abf52f780",
   "metadata": {},
   "outputs": [
    {
     "data": {
      "text/plain": [
       "(3,)"
      ]
     },
     "execution_count": 13,
     "metadata": {},
     "output_type": "execute_result"
    }
   ],
   "source": [
    "arr1.shape"
   ]
  },
  {
   "cell_type": "code",
   "execution_count": 14,
   "id": "0dd1fce5-cd18-4b87-8d27-587a8d5c9dc5",
   "metadata": {},
   "outputs": [
    {
     "name": "stdout",
     "output_type": "stream",
     "text": [
      "['I' 'LOVE' 'CODING']\n"
     ]
    }
   ],
   "source": [
    "up = np.char.upper(arr1)\n",
    "print(up)"
   ]
  },
  {
   "cell_type": "code",
   "execution_count": 15,
   "id": "305c080b-eb9e-4f75-9a01-ffa6e39702f1",
   "metadata": {},
   "outputs": [
    {
     "name": "stdout",
     "output_type": "stream",
     "text": [
      "['i' 'love' 'coding']\n"
     ]
    }
   ],
   "source": [
    "low = np.char.lower(arr1)\n",
    "print(low)"
   ]
  },
  {
   "cell_type": "code",
   "execution_count": 16,
   "id": "70fcea26-f6a3-45e3-bf49-084bb0ab3429",
   "metadata": {},
   "outputs": [
    {
     "name": "stdout",
     "output_type": "stream",
     "text": [
      "['I' 'Love' 'Coding']\n"
     ]
    }
   ],
   "source": [
    "tle = np.char.title(arr1)\n",
    "print(tle)"
   ]
  },
  {
   "cell_type": "code",
   "execution_count": 17,
   "id": "5a801ff0-24fd-4626-b074-074d26b86d66",
   "metadata": {},
   "outputs": [
    {
     "name": "stdout",
     "output_type": "stream",
     "text": [
      "['i' 'LOVE' 'CODING']\n"
     ]
    }
   ],
   "source": [
    "swpc = np.char.swapcase(arr1)\n",
    "print(swpc)"
   ]
  },
  {
   "cell_type": "code",
   "execution_count": null,
   "id": "6eb79ebe-0dea-4893-bc3d-093b813231f1",
   "metadata": {},
   "outputs": [],
   "source": []
  },
  {
   "cell_type": "code",
   "execution_count": null,
   "id": "8aefdcbf-a444-4076-9516-c0eec431a245",
   "metadata": {},
   "outputs": [],
   "source": []
  },
  {
   "cell_type": "code",
   "execution_count": null,
   "id": "4e89a7ce-7d0e-4fe9-a0f6-a8556778d78a",
   "metadata": {},
   "outputs": [],
   "source": []
  }
 ],
 "metadata": {
  "kernelspec": {
   "display_name": "Python 3 (ipykernel)",
   "language": "python",
   "name": "python3"
  },
  "language_info": {
   "codemirror_mode": {
    "name": "ipython",
    "version": 3
   },
   "file_extension": ".py",
   "mimetype": "text/x-python",
   "name": "python",
   "nbconvert_exporter": "python",
   "pygments_lexer": "ipython3",
   "version": "3.13.5"
  }
 },
 "nbformat": 4,
 "nbformat_minor": 5
}
