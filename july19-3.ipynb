{
 "cells": [
  {
   "cell_type": "markdown",
   "id": "13501226-c38f-41f6-9544-65190e81f27d",
   "metadata": {},
   "source": [
    "### Restaurant Menu"
   ]
  },
  {
   "cell_type": "code",
   "execution_count": 20,
   "id": "7bc4da38-5aa0-427f-81c6-710d73d5c37b",
   "metadata": {},
   "outputs": [
    {
     "name": "stdin",
     "output_type": "stream",
     "text": [
      "Enter the name of the item  Samosa\n",
      "Enter the Price of the item:  20\n",
      "Enter the name of the item  Jalebi\n",
      "Enter the Price of the item:  30\n",
      "Enter the name of the item  Chai\n",
      "Enter the Price of the item:  10\n",
      "Enter the name of the item  Maggie\n",
      "Enter the Price of the item:  50\n"
     ]
    },
    {
     "name": "stdout",
     "output_type": "stream",
     "text": [
      "Samosa------------$20\n",
      "Jalebi------------$30\n",
      "Chai--------------$10\n",
      "Maggie------------$50\n"
     ]
    }
   ],
   "source": [
    "a = []\n",
    "for i in range(4):\n",
    "    item_name = input(\"Enter the name of the item \")\n",
    "    price = input(\"Enter the Price of the item: \")\n",
    "\n",
    "    dash = 20 - len(item_name) - len(price)\n",
    "\n",
    "    a.append(item_name+('-' * dash)+'$'+price)\n",
    "for i in range(0, len(a)):\n",
    "    print(a[i])"
   ]
  }
 ],
 "metadata": {
  "kernelspec": {
   "display_name": "Python 3 (ipykernel)",
   "language": "python",
   "name": "python3"
  },
  "language_info": {
   "codemirror_mode": {
    "name": "ipython",
    "version": 3
   },
   "file_extension": ".py",
   "mimetype": "text/x-python",
   "name": "python",
   "nbconvert_exporter": "python",
   "pygments_lexer": "ipython3",
   "version": "3.13.5"
  }
 },
 "nbformat": 4,
 "nbformat_minor": 5
}
