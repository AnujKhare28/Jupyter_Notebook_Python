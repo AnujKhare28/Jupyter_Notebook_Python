{
 "cells": [
  {
   "cell_type": "markdown",
   "id": "44059700-264f-4b00-a2d9-e79bc4a5d5bd",
   "metadata": {},
   "source": [
    "### Scrambled Words"
   ]
  },
  {
   "cell_type": "code",
   "execution_count": 2,
   "id": "531945ce-b9b8-4f0d-a5dc-888328773770",
   "metadata": {},
   "outputs": [
    {
     "name": "stdout",
     "output_type": "stream",
     "text": [
      "Scramble word pairs:\n",
      "('leap', 'plea')\n",
      "('listen', 'silent')\n",
      "('enlist', 'silent')\n",
      "('pale', 'plea')\n",
      "('leap', 'pale')\n",
      "('decimal', 'medical')\n",
      "('enlist', 'listen')\n"
     ]
    }
   ],
   "source": [
    "words = {'plea', 'medical','listen','leap','decimal','silent','pale','enlist'}\n",
    "\n",
    "result = set()\n",
    "\n",
    "print(\"Scramble word pairs:\")\n",
    "\n",
    "for i in words:\n",
    "    for j in words: \n",
    "        if i != j and sorted(i) == sorted(j): \n",
    "            pair = tuple(sorted((i, j)))\n",
    "            result.add(pair)\n",
    "\n",
    "for i in result:\n",
    "    print(i)"
   ]
  },
  {
   "cell_type": "markdown",
   "id": "761912f2-48b7-4641-aecc-df814ebaa9ff",
   "metadata": {},
   "source": [
    "### Armstrong number"
   ]
  },
  {
   "cell_type": "code",
   "execution_count": 4,
   "id": "ed8b6d46-b1f0-4a09-b796-adde94683120",
   "metadata": {},
   "outputs": [
    {
     "name": "stdin",
     "output_type": "stream",
     "text": [
      "Enter a number: 153\n"
     ]
    },
    {
     "name": "stdout",
     "output_type": "stream",
     "text": [
      "Armstrong\n"
     ]
    }
   ],
   "source": [
    "num = int(input(\"Enter a number:\"))\n",
    "\n",
    "temp = num\n",
    "sum = 0\n",
    "\n",
    "while temp > 0:\n",
    "    digit = temp % 10\n",
    "    cube = digit ** 3\n",
    "    sum += cube\n",
    "    temp = temp // 10\n",
    "\n",
    "if num == sum:\n",
    "    print(\"Armstrong\")\n",
    "else:\n",
    "    print(\"Not Armstrong\")"
   ]
  }
 ],
 "metadata": {
  "kernelspec": {
   "display_name": "Python 3 (ipykernel)",
   "language": "python",
   "name": "python3"
  },
  "language_info": {
   "codemirror_mode": {
    "name": "ipython",
    "version": 3
   },
   "file_extension": ".py",
   "mimetype": "text/x-python",
   "name": "python",
   "nbconvert_exporter": "python",
   "pygments_lexer": "ipython3",
   "version": "3.13.5"
  }
 },
 "nbformat": 4,
 "nbformat_minor": 5
}
