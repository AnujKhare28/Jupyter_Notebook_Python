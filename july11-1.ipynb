{
 "cells": [
  {
   "cell_type": "markdown",
   "id": "9ae6f64c-4d2b-4c0e-afcb-d9b6f6fc314f",
   "metadata": {},
   "source": [
    "### Finding roots of the quadratic equation"
   ]
  },
  {
   "cell_type": "code",
   "execution_count": 4,
   "id": "f1e7c703-1ea5-4f5b-9587-8b604d0477a6",
   "metadata": {},
   "outputs": [
    {
     "name": "stdout",
     "output_type": "stream",
     "text": [
      "Enter the Coefficent of the quadratic equation aX^2 + bX + c\n"
     ]
    },
    {
     "name": "stdin",
     "output_type": "stream",
     "text": [
      "Enter the value of a: 2\n",
      "Enter the value of b: -7\n",
      "Enter the value of c: 3\n"
     ]
    },
    {
     "name": "stdout",
     "output_type": "stream",
     "text": [
      "The roots of 2X^2 + -7X + 3 are: 3.0, 0.5\n"
     ]
    }
   ],
   "source": [
    "import math as m\n",
    "print (\"Enter the Coefficent of the quadratic equation aX^2 + bX + c\")\n",
    "a = int(input(\"Enter the value of a:\"))\n",
    "b = int(input(\"Enter the value of b:\"))\n",
    "c = int(input(\"Enter the value of c:\"))\n",
    "\n",
    "r1 = (-b + m.sqrt(b * b - 4 * a * c)) / (2 * a)\n",
    "r2 = (-b - m.sqrt(b * b - 4 * a * c)) / (2 * a)\n",
    "\n",
    "print(f\"The roots of {a}X^2 + {b}X + {c} are: {r1}, {r2}\")\n"
   ]
  },
  {
   "cell_type": "code",
   "execution_count": null,
   "id": "53676c1d-c6a1-4578-bcd9-bdd021d25fc2",
   "metadata": {},
   "outputs": [],
   "source": []
  },
  {
   "cell_type": "markdown",
   "id": "44e192db-1e63-41d9-a99b-fdcf67994da1",
   "metadata": {},
   "source": [
    "### Sort words in Alphabetic order"
   ]
  },
  {
   "cell_type": "code",
   "execution_count": 19,
   "id": "d4304578-434a-48d0-97cb-2cea4d5a8eb8",
   "metadata": {},
   "outputs": [
    {
     "name": "stdin",
     "output_type": "stream",
     "text": [
      "Enter the sentance you want to sort: I am Anuj Khare, Learning data science and python.\n"
     ]
    },
    {
     "name": "stdout",
     "output_type": "stream",
     "text": [
      "['am', 'and', 'anuj', 'data', 'i', 'khare,', 'learning', 'python.', 'science']\n"
     ]
    }
   ],
   "source": [
    "str1 = input(\"Enter the sentance you want to sort:\")\n",
    "\n",
    "list1 = str1.split()\n",
    "\n",
    "for i in range (len(list1)):\n",
    "    list1[i] = list1[i].lower()\n",
    "list1.sort()\n",
    "print(list1)"
   ]
  },
  {
   "cell_type": "code",
   "execution_count": null,
   "id": "47891bf0-ff64-4569-ae71-5acb0159a974",
   "metadata": {},
   "outputs": [],
   "source": []
  }
 ],
 "metadata": {
  "kernelspec": {
   "display_name": "Python 3 (ipykernel)",
   "language": "python",
   "name": "python3"
  },
  "language_info": {
   "codemirror_mode": {
    "name": "ipython",
    "version": 3
   },
   "file_extension": ".py",
   "mimetype": "text/x-python",
   "name": "python",
   "nbconvert_exporter": "python",
   "pygments_lexer": "ipython3",
   "version": "3.13.5"
  }
 },
 "nbformat": 4,
 "nbformat_minor": 5
}
