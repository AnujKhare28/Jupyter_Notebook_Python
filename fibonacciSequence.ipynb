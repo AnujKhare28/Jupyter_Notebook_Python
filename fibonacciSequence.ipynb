{
 "cells": [
  {
   "cell_type": "code",
   "execution_count": 6,
   "id": "ce33f3f3-68b2-4b6c-973b-256b709c40b0",
   "metadata": {},
   "outputs": [
    {
     "name": "stdin",
     "output_type": "stream",
     "text": [
      "Enter a Number:  7\n"
     ]
    },
    {
     "name": "stdout",
     "output_type": "stream",
     "text": [
      "0\n",
      "1\n",
      "1\n",
      "2\n",
      "3\n",
      "5\n",
      "8\n",
      "13\n",
      "21\n"
     ]
    }
   ],
   "source": [
    "num = int (input(\"Enter a Number: \"))\n",
    "a = 0\n",
    "b = 1\n",
    "\n",
    "if num == 0:\n",
    "    print (a)\n",
    "else:\n",
    "    print (a)\n",
    "    print (b)\n",
    "    for i in range (1 , num + 1):\n",
    "        c = a + b\n",
    "        a = b\n",
    "        b = c\n",
    "        print (c)"
   ]
  },
  {
   "cell_type": "code",
   "execution_count": null,
   "id": "a3a8414f-58ec-4879-a3cc-e2959475b090",
   "metadata": {},
   "outputs": [],
   "source": []
  }
 ],
 "metadata": {
  "kernelspec": {
   "display_name": "Python 3 (ipykernel)",
   "language": "python",
   "name": "python3"
  },
  "language_info": {
   "codemirror_mode": {
    "name": "ipython",
    "version": 3
   },
   "file_extension": ".py",
   "mimetype": "text/x-python",
   "name": "python",
   "nbconvert_exporter": "python",
   "pygments_lexer": "ipython3",
   "version": "3.13.5"
  }
 },
 "nbformat": 4,
 "nbformat_minor": 5
}
