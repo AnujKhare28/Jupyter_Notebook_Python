{
 "cells": [
  {
   "cell_type": "code",
   "execution_count": 8,
   "id": "f2dc54a4-96e6-4121-bad8-57ce9144c3b0",
   "metadata": {},
   "outputs": [],
   "source": [
    "import numpy as np"
   ]
  },
  {
   "cell_type": "markdown",
   "id": "ec724491-91ee-4a82-88e3-e7a0e45d9dd0",
   "metadata": {},
   "source": [
    "### Mean "
   ]
  },
  {
   "cell_type": "code",
   "execution_count": 9,
   "id": "4e4d7a1b-daf0-450a-9e22-08ea7f39c6ab",
   "metadata": {},
   "outputs": [
    {
     "name": "stdout",
     "output_type": "stream",
     "text": [
      "12.0\n"
     ]
    }
   ],
   "source": [
    "data = [1,23,4,4,55,6,4,3,8]\n",
    "\n",
    "print(np.mean(data))"
   ]
  },
  {
   "cell_type": "markdown",
   "id": "572ecf9f-2447-4c27-aebb-1e0ebc0be977",
   "metadata": {},
   "source": [
    "### Meadiam"
   ]
  },
  {
   "cell_type": "code",
   "execution_count": 10,
   "id": "568e7657-f342-42c0-a13a-bba5b8066d6a",
   "metadata": {},
   "outputs": [
    {
     "name": "stdout",
     "output_type": "stream",
     "text": [
      "4.0\n"
     ]
    }
   ],
   "source": [
    "print(np.median(data))"
   ]
  },
  {
   "cell_type": "code",
   "execution_count": 21,
   "id": "37e7732d-b7af-4b4f-a868-5e026754bf94",
   "metadata": {},
   "outputs": [],
   "source": [
    "data.append(150)"
   ]
  },
  {
   "cell_type": "code",
   "execution_count": 5,
   "id": "040d256f-ae78-4c61-ace6-31aa28836062",
   "metadata": {},
   "outputs": [
    {
     "data": {
      "text/plain": [
       "[1, 23, 4, 4, 55, 6, 4, 3, 8, 150]"
      ]
     },
     "execution_count": 5,
     "metadata": {},
     "output_type": "execute_result"
    }
   ],
   "source": [
    "data"
   ]
  },
  {
   "cell_type": "code",
   "execution_count": 6,
   "id": "3766c05b-a582-478f-8e5a-2f94278948b8",
   "metadata": {},
   "outputs": [
    {
     "name": "stdout",
     "output_type": "stream",
     "text": [
      "25.8\n"
     ]
    }
   ],
   "source": [
    "print(np.mean(data))"
   ]
  },
  {
   "cell_type": "code",
   "execution_count": 7,
   "id": "a83aafaa-a62e-4849-80b3-407f46edf36a",
   "metadata": {},
   "outputs": [
    {
     "name": "stdout",
     "output_type": "stream",
     "text": [
      "5.0\n"
     ]
    }
   ],
   "source": [
    "print(np.median(data))"
   ]
  },
  {
   "cell_type": "markdown",
   "id": "93296fae-b510-432e-8c5b-9aa1f6c6f2b3",
   "metadata": {},
   "source": [
    "### Mode"
   ]
  },
  {
   "cell_type": "code",
   "execution_count": 18,
   "id": "cf3e4b70-2d9d-4382-bf7e-0684593d224b",
   "metadata": {},
   "outputs": [
    {
     "name": "stdout",
     "output_type": "stream",
     "text": [
      "ModeResult(mode=np.int64(4), count=np.int64(3))\n"
     ]
    }
   ],
   "source": [
    "from scipy import stats\n",
    "mode = stats.mode(data)\n",
    "print(mode)"
   ]
  },
  {
   "cell_type": "code",
   "execution_count": 20,
   "id": "2dd4aa20-ac3b-4056-8b9b-01a425a6a625",
   "metadata": {},
   "outputs": [
    {
     "name": "stdout",
     "output_type": "stream",
     "text": [
      "mode ==  4\n",
      "count of mode==  3\n"
     ]
    }
   ],
   "source": [
    "print (\"mode == \",mode[0])\n",
    "print(\"count of mode== \", mode[1])"
   ]
  },
  {
   "cell_type": "markdown",
   "id": "72b40794-4dcd-4c16-b6f0-62a69c62160b",
   "metadata": {},
   "source": [
    "### IQR"
   ]
  },
  {
   "cell_type": "code",
   "execution_count": 30,
   "id": "9abda9b8-6884-48ce-a250-c7ce974db2ab",
   "metadata": {},
   "outputs": [
    {
     "data": {
      "text/plain": [
       "[1, 23, 4, 4, 55, 6, 4, 3, 8, 150]"
      ]
     },
     "execution_count": 30,
     "metadata": {},
     "output_type": "execute_result"
    }
   ],
   "source": [
    "data"
   ]
  },
  {
   "cell_type": "code",
   "execution_count": 23,
   "id": "6c180eba-970c-466f-8975-10c22995356d",
   "metadata": {},
   "outputs": [
    {
     "data": {
      "text/plain": [
       "np.float64(15.25)"
      ]
     },
     "execution_count": 23,
     "metadata": {},
     "output_type": "execute_result"
    }
   ],
   "source": [
    "stats.iqr(data)"
   ]
  },
  {
   "cell_type": "code",
   "execution_count": 24,
   "id": "106ce118-460d-45eb-a535-3eea92e6abed",
   "metadata": {},
   "outputs": [
    {
     "name": "stdout",
     "output_type": "stream",
     "text": [
      "4.0\n"
     ]
    }
   ],
   "source": [
    "Q1 = np.percentile(data, 25)\n",
    "print(Q1)"
   ]
  },
  {
   "cell_type": "code",
   "execution_count": 25,
   "id": "f1963aba-9a08-4c25-9eb2-85c64f94bb4d",
   "metadata": {},
   "outputs": [
    {
     "name": "stdout",
     "output_type": "stream",
     "text": [
      "19.25\n"
     ]
    }
   ],
   "source": [
    "Q3 = np.percentile(data, 75)\n",
    "print(Q3)"
   ]
  },
  {
   "cell_type": "code",
   "execution_count": 26,
   "id": "99b27308-19ea-4750-9176-8ee1ede5ca21",
   "metadata": {},
   "outputs": [
    {
     "name": "stdout",
     "output_type": "stream",
     "text": [
      "15.25\n"
     ]
    }
   ],
   "source": [
    "IQR = Q3 - Q1\n",
    "print(IQR)"
   ]
  },
  {
   "cell_type": "code",
   "execution_count": 27,
   "id": "52925ea3-7674-4349-8d46-9b3deb553c23",
   "metadata": {},
   "outputs": [
    {
     "name": "stdout",
     "output_type": "stream",
     "text": [
      "5.0\n"
     ]
    }
   ],
   "source": [
    "Q2 = np.percentile(data, 50)\n",
    "print(Q2)"
   ]
  },
  {
   "cell_type": "code",
   "execution_count": 28,
   "id": "dab0edc4-d99f-4eaa-b0ab-5d1d85e59bd3",
   "metadata": {},
   "outputs": [
    {
     "data": {
      "text/plain": [
       "np.True_"
      ]
     },
     "execution_count": 28,
     "metadata": {},
     "output_type": "execute_result"
    }
   ],
   "source": [
    "Q2 == np.median(data)"
   ]
  },
  {
   "cell_type": "code",
   "execution_count": 29,
   "id": "894a4297-00d8-4ffb-9aa3-0c20ab304ae7",
   "metadata": {},
   "outputs": [
    {
     "data": {
      "text/plain": [
       "np.False_"
      ]
     },
     "execution_count": 29,
     "metadata": {},
     "output_type": "execute_result"
    }
   ],
   "source": [
    "Q2 == np.mean(data)"
   ]
  },
  {
   "cell_type": "markdown",
   "id": "e1075a1b-4d13-4b1f-a119-aa0fa3118aab",
   "metadata": {},
   "source": [
    "### Standard deviation"
   ]
  },
  {
   "cell_type": "code",
   "execution_count": 31,
   "id": "c1c9f7fc-1ff1-4719-a89d-d67c4b3a6122",
   "metadata": {},
   "outputs": [
    {
     "name": "stdout",
     "output_type": "stream",
     "text": [
      "1.4142135623730951\n"
     ]
    }
   ],
   "source": [
    "data = [1,2,3,4,5]\n",
    "\n",
    "print(np.std(data))"
   ]
  },
  {
   "cell_type": "code",
   "execution_count": 33,
   "id": "77ac60d5-aff9-4861-8328-fe1f177fda0d",
   "metadata": {},
   "outputs": [
    {
     "name": "stdout",
     "output_type": "stream",
     "text": [
      "1.5811388300841898\n"
     ]
    }
   ],
   "source": [
    "import statistics\n",
    "\n",
    "print(statistics.stdev(data))"
   ]
  },
  {
   "cell_type": "code",
   "execution_count": 34,
   "id": "f9421f9b-ef05-48fa-a1c3-ce9e9e0b133a",
   "metadata": {},
   "outputs": [
    {
     "data": {
      "text/plain": [
       "np.float64(2.0)"
      ]
     },
     "execution_count": 34,
     "metadata": {},
     "output_type": "execute_result"
    }
   ],
   "source": [
    "np.var(data)"
   ]
  },
  {
   "cell_type": "markdown",
   "id": "de771f3b-aa37-4cbd-a089-0366f1276a82",
   "metadata": {},
   "source": [
    "### Graph "
   ]
  },
  {
   "cell_type": "code",
   "execution_count": 35,
   "id": "c2b2b3f4-59c7-48ce-9ec2-a0d920ecd53e",
   "metadata": {},
   "outputs": [],
   "source": [
    "import seaborn as sns"
   ]
  },
  {
   "cell_type": "code",
   "execution_count": 36,
   "id": "7d513eee-3170-4cb0-847f-1a8f1643c1f8",
   "metadata": {},
   "outputs": [
    {
     "data": {
      "text/plain": [
       "<Axes: ylabel='Density'>"
      ]
     },
     "execution_count": 36,
     "metadata": {},
     "output_type": "execute_result"
    },
    {
     "data": {
      "image/png": "[encoded data removed]",
      "text/plain": [
       "<Figure size 640x480 with 1 Axes>"
      ]
     },
     "metadata": {},
     "output_type": "display_data"
    }
   ],
   "source": [
    "sns.kdeplot(data)"
   ]
  },
  {
   "cell_type": "code",
   "execution_count": 39,
   "id": "6670cdb2-6110-41e5-817a-361fb65ee360",
   "metadata": {},
   "outputs": [
    {
     "data": {
      "text/plain": [
       "<Axes: ylabel='Density'>"
      ]
     },
     "execution_count": 39,
     "metadata": {},
     "output_type": "execute_result"
    },
    {
     "data": {
      "image/png": "[encoded data removed]",
      "text/plain": [
       "<Figure size 640x480 with 1 Axes>"
      ]
     },
     "metadata": {},
     "output_type": "display_data"
    }
   ],
   "source": [
    "data = [1, 2,3,4,5,150]\n",
    "sns.kdeplot(data)"
   ]
  },
  {
   "cell_type": "code",
   "execution_count": null,
   "id": "f79a5fc7-f1ac-40b9-b3bf-32fca32116a4",
   "metadata": {},
   "outputs": [],
   "source": []
  }
 ],
 "metadata": {
  "kernelspec": {
   "display_name": "Python 3 (ipykernel)",
   "language": "python",
   "name": "python3"
  },
  "language_info": {
   "codemirror_mode": {
    "name": "ipython",
    "version": 3
   },
   "file_extension": ".py",
   "mimetype": "text/x-python",
   "name": "python",
   "nbconvert_exporter": "python",
   "pygments_lexer": "ipython3",
   "version": "3.13.5"
  }
 },
 "nbformat": 4,
 "nbformat_minor": 5
}
