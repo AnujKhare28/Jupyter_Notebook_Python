{
 "cells": [
  {
   "cell_type": "markdown",
   "id": "b36a2d91-2ce5-4a19-ab47-d0dd37572f62",
   "metadata": {},
   "source": [
    "### Indexing and Slicing"
   ]
  },
  {
   "cell_type": "code",
   "execution_count": 1,
   "id": "60fdecab-038f-43d5-89c3-953e5e3ebc78",
   "metadata": {},
   "outputs": [],
   "source": [
    "import numpy as np"
   ]
  },
  {
   "cell_type": "code",
   "execution_count": 6,
   "id": "a1b84d5d-a314-46e2-ba24-6a021cdbde16",
   "metadata": {},
   "outputs": [],
   "source": [
    "arr = np.array([10,20,30,40,50,60,70,80,90,100])\n"
   ]
  },
  {
   "cell_type": "code",
   "execution_count": 7,
   "id": "6b8f0597-62e8-42bc-9625-67a1b7b090e7",
   "metadata": {},
   "outputs": [
    {
     "name": "stdout",
     "output_type": "stream",
     "text": [
      "10\n"
     ]
    }
   ],
   "source": [
    "print(arr[0])"
   ]
  },
  {
   "cell_type": "code",
   "execution_count": 8,
   "id": "d114eff9-e4ae-4cc7-989a-f24f60cfe6df",
   "metadata": {},
   "outputs": [
    {
     "name": "stdout",
     "output_type": "stream",
     "text": [
      "100\n"
     ]
    }
   ],
   "source": [
    "print(arr[-1])"
   ]
  },
  {
   "cell_type": "code",
   "execution_count": 9,
   "id": "be61e313-4777-4711-8e11-31cdc0e6682f",
   "metadata": {},
   "outputs": [
    {
     "name": "stdout",
     "output_type": "stream",
     "text": [
      "[20 30 40 50]\n"
     ]
    }
   ],
   "source": [
    "print(arr[1:5])"
   ]
  },
  {
   "cell_type": "code",
   "execution_count": 10,
   "id": "a01009d2-3208-49f9-a9a0-7a49fa4daeda",
   "metadata": {},
   "outputs": [
    {
     "name": "stdout",
     "output_type": "stream",
     "text": [
      "[10 30 50 70 90]\n"
     ]
    }
   ],
   "source": [
    "print(arr[0:10:2])"
   ]
  },
  {
   "cell_type": "code",
   "execution_count": 11,
   "id": "86cba54d-44ee-4b0f-b9c4-062192d6f7f8",
   "metadata": {},
   "outputs": [
    {
     "name": "stdout",
     "output_type": "stream",
     "text": [
      "[10 20 30 40 50 60]\n"
     ]
    }
   ],
   "source": [
    "print(arr[:6])"
   ]
  },
  {
   "cell_type": "code",
   "execution_count": 12,
   "id": "9a1cfb19-bc7a-4041-a613-246073d94d86",
   "metadata": {},
   "outputs": [
    {
     "name": "stdout",
     "output_type": "stream",
     "text": [
      "[100  90  80  70  60  50  40  30  20  10]\n"
     ]
    }
   ],
   "source": [
    "print(arr[::-1])"
   ]
  },
  {
   "cell_type": "code",
   "execution_count": 15,
   "id": "a4a3bf78-3c41-456e-9616-ec86e2b8797e",
   "metadata": {},
   "outputs": [
    {
     "name": "stdout",
     "output_type": "stream",
     "text": [
      "[10 30 60 70]\n"
     ]
    }
   ],
   "source": [
    "print(arr[[0,2,5,6]])"
   ]
  },
  {
   "cell_type": "markdown",
   "id": "a95c1c65-23d8-4ce8-a4fb-212cb8607596",
   "metadata": {},
   "source": [
    "### Filtering"
   ]
  },
  {
   "cell_type": "code",
   "execution_count": 16,
   "id": "c916e932-1b41-498e-b826-7f37fc02668c",
   "metadata": {},
   "outputs": [
    {
     "name": "stdout",
     "output_type": "stream",
     "text": [
      "[ 50  60  70  80  90 100]\n"
     ]
    }
   ],
   "source": [
    "print(arr[arr>45])"
   ]
  },
  {
   "cell_type": "code",
   "execution_count": 17,
   "id": "e164a3b7-2429-431d-ba96-afe3173f936d",
   "metadata": {},
   "outputs": [
    {
     "name": "stdout",
     "output_type": "stream",
     "text": [
      "[10 20 30 40 50]\n"
     ]
    }
   ],
   "source": [
    "print(arr[arr<55])\n"
   ]
  },
  {
   "cell_type": "markdown",
   "id": "aa03b56b-84c7-4973-9add-6a861df5ee32",
   "metadata": {},
   "source": [
    "### Reshaping and Manipulating"
   ]
  },
  {
   "cell_type": "code",
   "execution_count": 21,
   "id": "0f569051-7144-4e70-a12c-6c5265850da9",
   "metadata": {},
   "outputs": [],
   "source": [
    "arr2 = np.array([1,2,3,4,5,6])"
   ]
  },
  {
   "cell_type": "code",
   "execution_count": 23,
   "id": "55ef837d-d40d-4ee1-b672-c44967febd70",
   "metadata": {},
   "outputs": [],
   "source": [
    "reshape = arr2.reshape(2,3)"
   ]
  },
  {
   "cell_type": "code",
   "execution_count": 24,
   "id": "d763ec02-d6cc-4057-84cc-d04d2ac9f4bc",
   "metadata": {},
   "outputs": [
    {
     "name": "stdout",
     "output_type": "stream",
     "text": [
      "[[1 2 3]\n",
      " [4 5 6]]\n"
     ]
    }
   ],
   "source": [
    "print(reshape)"
   ]
  },
  {
   "cell_type": "code",
   "execution_count": 25,
   "id": "656c9c52-2d36-4d15-b600-3b5887a21347",
   "metadata": {},
   "outputs": [
    {
     "name": "stdout",
     "output_type": "stream",
     "text": [
      "[[1 2]\n",
      " [3 4]\n",
      " [5 6]]\n"
     ]
    }
   ],
   "source": [
    "reshape = arr2.reshape(3,2)\n",
    "print(reshape)"
   ]
  },
  {
   "cell_type": "markdown",
   "id": "a0620498-7091-485a-8426-47cf6dc0590a",
   "metadata": {},
   "source": [
    "### Falttening Array"
   ]
  },
  {
   "cell_type": "code",
   "execution_count": 26,
   "id": "5f4f7d3e-8025-4d62-b082-e9a42d4963df",
   "metadata": {},
   "outputs": [],
   "source": [
    "flat = reshape.flatten() # Creates a copy "
   ]
  },
  {
   "cell_type": "code",
   "execution_count": 28,
   "id": "496df0d9-f381-42af-b983-314d43d5239b",
   "metadata": {},
   "outputs": [
    {
     "name": "stdout",
     "output_type": "stream",
     "text": [
      "[1 2 3 4 5 6]\n"
     ]
    }
   ],
   "source": [
    "print(flat)"
   ]
  },
  {
   "cell_type": "code",
   "execution_count": 29,
   "id": "000e31c7-28a1-4206-87c6-6838e5347ac1",
   "metadata": {},
   "outputs": [
    {
     "data": {
      "text/plain": [
       "array([1, 2, 3, 4, 5, 6])"
      ]
     },
     "execution_count": 29,
     "metadata": {},
     "output_type": "execute_result"
    }
   ],
   "source": [
    "reshape.ravel() # creates a view "
   ]
  }
 ],
 "metadata": {
  "kernelspec": {
   "display_name": "Python 3 (ipykernel)",
   "language": "python",
   "name": "python3"
  },
  "language_info": {
   "codemirror_mode": {
    "name": "ipython",
    "version": 3
   },
   "file_extension": ".py",
   "mimetype": "text/x-python",
   "name": "python",
   "nbconvert_exporter": "python",
   "pygments_lexer": "ipython3",
   "version": "3.13.5"
  }
 },
 "nbformat": 4,
 "nbformat_minor": 5
}
