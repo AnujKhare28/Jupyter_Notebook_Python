{
 "cells": [
  {
   "cell_type": "markdown",
   "id": "b3858fee-9a43-4762-9164-6847f79b8fab",
   "metadata": {},
   "source": [
    "### Positional Arguments"
   ]
  },
  {
   "cell_type": "code",
   "execution_count": 2,
   "id": "65dc696d-63dd-47d0-9a1a-6d9bc27bf965",
   "metadata": {},
   "outputs": [],
   "source": [
    "def max3(a,b,c,/):\n",
    "    if (a>b) and (a>c): \n",
    "        return 'A is greater'\n",
    "    elif (b>a) and (b>c): \n",
    "        return 'B is greater'\n",
    "    else: \n",
    "        return 'C is greater'\n"
   ]
  },
  {
   "cell_type": "code",
   "execution_count": 3,
   "id": "9da65dde-f38b-46b9-bcaa-cbc1e8766944",
   "metadata": {},
   "outputs": [
    {
     "data": {
      "text/plain": [
       "'C is greater'"
      ]
     },
     "execution_count": 3,
     "metadata": {},
     "output_type": "execute_result"
    }
   ],
   "source": [
    "max3(1,2,3)"
   ]
  },
  {
   "cell_type": "markdown",
   "id": "b49ccf01-103b-4d15-9777-0d23ff8c5b37",
   "metadata": {},
   "source": [
    "### Keyword Arguments"
   ]
  },
  {
   "cell_type": "code",
   "execution_count": 5,
   "id": "246a4744-3663-4d37-97d0-4dd9e6a286a8",
   "metadata": {},
   "outputs": [],
   "source": [
    "def simpleIntrest(*,P,T,R): \n",
    "    SI = (P*R*T)/100\n",
    "    return SI"
   ]
  },
  {
   "cell_type": "code",
   "execution_count": 7,
   "id": "6dfcda9c-e043-4c50-baad-83c6d15dc630",
   "metadata": {},
   "outputs": [
    {
     "data": {
      "text/plain": [
       "100.0"
      ]
     },
     "execution_count": 7,
     "metadata": {},
     "output_type": "execute_result"
    }
   ],
   "source": [
    "simpleIntrest(P=1000,R=5,T=2)"
   ]
  },
  {
   "cell_type": "markdown",
   "id": "ef58f572-7a34-47f5-b738-4f77f3227ac3",
   "metadata": {},
   "source": [
    "### Variable Arguments"
   ]
  },
  {
   "cell_type": "code",
   "execution_count": 10,
   "id": "ed51fef1-dc82-4935-9bfe-5333fa7a0f48",
   "metadata": {},
   "outputs": [],
   "source": [
    "def uniqueNum(*args): \n",
    "    s = set(args)\n",
    "    return list(s)"
   ]
  },
  {
   "cell_type": "code",
   "execution_count": 12,
   "id": "31ccc721-34a6-4d19-97bb-b2d62369876c",
   "metadata": {},
   "outputs": [
    {
     "data": {
      "text/plain": [
       "[2, 3, 4, 5, 7, 9]"
      ]
     },
     "execution_count": 12,
     "metadata": {},
     "output_type": "execute_result"
    }
   ],
   "source": [
    "l1 = [2,3,4,5,4,7,9,5,4,3,2,7]\n",
    "uniqueNum(*l1)"
   ]
  },
  {
   "cell_type": "code",
   "execution_count": null,
   "id": "2a669a7e-a4e0-41ba-aaee-6240cec3f7be",
   "metadata": {},
   "outputs": [],
   "source": []
  }
 ],
 "metadata": {
  "kernelspec": {
   "display_name": "Python 3 (ipykernel)",
   "language": "python",
   "name": "python3"
  },
  "language_info": {
   "codemirror_mode": {
    "name": "ipython",
    "version": 3
   },
   "file_extension": ".py",
   "mimetype": "text/x-python",
   "name": "python",
   "nbconvert_exporter": "python",
   "pygments_lexer": "ipython3",
   "version": "3.13.5"
  }
 },
 "nbformat": 4,
 "nbformat_minor": 5
}
