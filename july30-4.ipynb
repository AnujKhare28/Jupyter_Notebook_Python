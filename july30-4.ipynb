{
 "cells": [
  {
   "cell_type": "markdown",
   "id": "3e672200-fa82-4d1a-a9aa-d66ccba3c572",
   "metadata": {},
   "source": [
    "### Remove row with num value"
   ]
  },
  {
   "cell_type": "code",
   "execution_count": 1,
   "id": "52bf51fa-bc06-4d2f-ab9a-73402d122fd6",
   "metadata": {},
   "outputs": [],
   "source": [
    "import numpy as np"
   ]
  },
  {
   "cell_type": "code",
   "execution_count": 5,
   "id": "8ab76658-5920-4e39-8798-98535f78ec32",
   "metadata": {},
   "outputs": [],
   "source": [
    "arr = np.array([[10.2,3.4,5.6,1.2,4.5],\n",
    "               [23,44,55,34,56], \n",
    "              [78,34,np.nan,23,51], \n",
    "              [34,67,87,45,34]])"
   ]
  },
  {
   "cell_type": "code",
   "execution_count": 6,
   "id": "373e6800-3311-428f-b707-b4664177ceec",
   "metadata": {},
   "outputs": [
    {
     "data": {
      "text/plain": [
       "array([[10.2,  3.4,  5.6,  1.2,  4.5],\n",
       "       [23. , 44. , 55. , 34. , 56. ],\n",
       "       [78. , 34. ,  nan, 23. , 51. ],\n",
       "       [34. , 67. , 87. , 45. , 34. ]])"
      ]
     },
     "execution_count": 6,
     "metadata": {},
     "output_type": "execute_result"
    }
   ],
   "source": [
    "arr"
   ]
  },
  {
   "cell_type": "code",
   "execution_count": 7,
   "id": "ccb8d38f-07d3-4b0e-b58a-a44fea5f962b",
   "metadata": {},
   "outputs": [
    {
     "data": {
      "text/plain": [
       "(4, 5)"
      ]
     },
     "execution_count": 7,
     "metadata": {},
     "output_type": "execute_result"
    }
   ],
   "source": [
    "arr.shape"
   ]
  },
  {
   "cell_type": "code",
   "execution_count": 11,
   "id": "00e53a65-28a0-48dc-b8b3-7f5c0da2ea5a",
   "metadata": {},
   "outputs": [
    {
     "data": {
      "text/plain": [
       "array([[10.2,  3.4,  5.6,  1.2,  4.5],\n",
       "       [23. , 44. , 55. , 34. , 56. ],\n",
       "       [34. , 67. , 87. , 45. , 34. ]])"
      ]
     },
     "execution_count": 11,
     "metadata": {},
     "output_type": "execute_result"
    }
   ],
   "source": [
    "arr[~np.isnan(arr).any(axis=1)]"
   ]
  }
 ],
 "metadata": {
  "kernelspec": {
   "display_name": "Python 3 (ipykernel)",
   "language": "python",
   "name": "python3"
  },
  "language_info": {
   "codemirror_mode": {
    "name": "ipython",
    "version": 3
   },
   "file_extension": ".py",
   "mimetype": "text/x-python",
   "name": "python",
   "nbconvert_exporter": "python",
   "pygments_lexer": "ipython3",
   "version": "3.13.5"
  }
 },
 "nbformat": 4,
 "nbformat_minor": 5
}
