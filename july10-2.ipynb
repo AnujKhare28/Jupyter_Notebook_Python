{
 "cells": [
  {
   "cell_type": "markdown",
   "id": "f40f085e-02b9-4d82-b838-755f69f0fa10",
   "metadata": {},
   "source": [
    "### Mini Calculator"
   ]
  },
  {
   "cell_type": "code",
   "execution_count": 15,
   "id": "f3947926-bef8-4686-a605-32726aa7649b",
   "metadata": {},
   "outputs": [
    {
     "name": "stdin",
     "output_type": "stream",
     "text": [
      "Enter the first number: 5\n",
      "Enter the second number: 2\n",
      "Enter the Operator(+, -, *, /): +\n"
     ]
    },
    {
     "name": "stdout",
     "output_type": "stream",
     "text": [
      "7\n"
     ]
    }
   ],
   "source": [
    "num1 = int(input(\"Enter the first number:\"))\n",
    "num2 = int(input(\"Enter the second number:\"))\n",
    "\n",
    "list1 = [\"+\", \"-\", \"*\", \"/\"]\n",
    "\n",
    "choice = input(\"Enter the Operator(+, -, *, /):\")\n",
    "if choice == \"+\":\n",
    "    print(num1+num2)\n",
    "elif choice == \"-\":\n",
    "    print(num1-num2)\n",
    "elif choice == \"*\":\n",
    "    print(num1*num2)\n",
    "elif choice == \"/\":\n",
    "    print(num1/num2)\n",
    "else:\n",
    "    print(\"Enter a correct Input\")"
   ]
  },
  {
   "cell_type": "markdown",
   "id": "60d3a769-636f-457c-a7a8-0b36783e4642",
   "metadata": {},
   "source": [
    "### Displaying a Calendar"
   ]
  },
  {
   "cell_type": "code",
   "execution_count": 16,
   "id": "7d42150a-0f46-4026-b8a2-0e801c8548cd",
   "metadata": {},
   "outputs": [
    {
     "name": "stdin",
     "output_type": "stream",
     "text": [
      "Enter the Year: 2002\n",
      "Enter the Month: 8\n"
     ]
    },
    {
     "name": "stdout",
     "output_type": "stream",
     "text": [
      "    August 2002\n",
      "Mo Tu We Th Fr Sa Su\n",
      "          1  2  3  4\n",
      " 5  6  7  8  9 10 11\n",
      "12 13 14 15 16 17 18\n",
      "19 20 21 22 23 24 25\n",
      "26 27 28 29 30 31\n",
      "\n"
     ]
    }
   ],
   "source": [
    "import calendar\n",
    "\n",
    "year = int(input(\"Enter the Year:\"))\n",
    "month = int(input(\"Enter the Month:\"))\n",
    "\n",
    "calendar = calendar.month(year, month)\n",
    "print(calendar)"
   ]
  },
  {
   "cell_type": "code",
   "execution_count": null,
   "id": "2fd788bf-d84d-4fa5-bcac-5bcfed3ed1fd",
   "metadata": {},
   "outputs": [],
   "source": []
  }
 ],
 "metadata": {
  "kernelspec": {
   "display_name": "Python 3 (ipykernel)",
   "language": "python",
   "name": "python3"
  },
  "language_info": {
   "codemirror_mode": {
    "name": "ipython",
    "version": 3
   },
   "file_extension": ".py",
   "mimetype": "text/x-python",
   "name": "python",
   "nbconvert_exporter": "python",
   "pygments_lexer": "ipython3",
   "version": "3.13.5"
  }
 },
 "nbformat": 4,
 "nbformat_minor": 5
}
