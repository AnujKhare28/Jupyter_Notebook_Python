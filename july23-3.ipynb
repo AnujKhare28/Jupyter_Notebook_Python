{
 "cells": [
  {
   "cell_type": "markdown",
   "id": "5aabc476-e544-4186-ac13-a956c87324e4",
   "metadata": {},
   "source": [
    "### Shuffle a List"
   ]
  },
  {
   "cell_type": "code",
   "execution_count": 6,
   "id": "91600de7-b2dc-4ec0-b0a4-cb1274bb8b63",
   "metadata": {},
   "outputs": [
    {
     "name": "stdout",
     "output_type": "stream",
     "text": [
      "[5, 1, 2, 3, 6, 4]\n"
     ]
    }
   ],
   "source": [
    "import random as rd\n",
    "\n",
    "lst = [1,2,3,4,5,6]\n",
    "\n",
    "rd.shuffle(lst)\n",
    "print(lst)"
   ]
  },
  {
   "cell_type": "markdown",
   "id": "900ea752-a7cd-4940-9080-deedb6b3d18e",
   "metadata": {},
   "source": [
    "### Permutation"
   ]
  },
  {
   "cell_type": "code",
   "execution_count": 17,
   "id": "81cbd267-0e11-473d-8fd0-902e300ba734",
   "metadata": {},
   "outputs": [
    {
     "name": "stdout",
     "output_type": "stream",
     "text": [
      "('A', 'B')\n",
      "('A', 'C')\n",
      "('A', 'D')\n",
      "('B', 'A')\n",
      "('B', 'C')\n",
      "('B', 'D')\n",
      "('C', 'A')\n",
      "('C', 'B')\n",
      "('C', 'D')\n",
      "('D', 'A')\n",
      "('D', 'B')\n",
      "('D', 'C')\n"
     ]
    }
   ],
   "source": [
    "import itertools as it\n",
    "\n",
    "lst = ['A','B','C','D']\n",
    "\n",
    "perms = it.permutations(lst, r=2)\n",
    "\n",
    "perms_lst = list(perms)\n",
    "\n",
    "for t in perms_lst: \n",
    "    print(t)"
   ]
  },
  {
   "cell_type": "markdown",
   "id": "8850a878-da6b-4036-b607-1c1eafd9b056",
   "metadata": {},
   "source": [
    "### Combination"
   ]
  },
  {
   "cell_type": "code",
   "execution_count": 19,
   "id": "10edaa97-361f-46e3-b631-8ff89cf46d73",
   "metadata": {},
   "outputs": [
    {
     "name": "stdout",
     "output_type": "stream",
     "text": [
      "('A', 'B')\n",
      "('A', 'C')\n",
      "('A', 'D')\n",
      "('B', 'C')\n",
      "('B', 'D')\n",
      "('C', 'D')\n"
     ]
    }
   ],
   "source": [
    "com = it.combinations(lst , r = 2)\n",
    "com_lst = list(com)\n",
    "\n",
    "for c in com_lst:\n",
    "    print(c)"
   ]
  },
  {
   "cell_type": "code",
   "execution_count": null,
   "id": "30d6d54f-4e59-4dca-a090-1c2a10192d4c",
   "metadata": {},
   "outputs": [],
   "source": []
  }
 ],
 "metadata": {
  "kernelspec": {
   "display_name": "Python 3 (ipykernel)",
   "language": "python",
   "name": "python3"
  },
  "language_info": {
   "codemirror_mode": {
    "name": "ipython",
    "version": 3
   },
   "file_extension": ".py",
   "mimetype": "text/x-python",
   "name": "python",
   "nbconvert_exporter": "python",
   "pygments_lexer": "ipython3",
   "version": "3.13.5"
  }
 },
 "nbformat": 4,
 "nbformat_minor": 5
}
