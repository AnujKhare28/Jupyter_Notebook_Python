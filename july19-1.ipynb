{
 "cells": [
  {
   "cell_type": "code",
   "execution_count": 5,
   "id": "f1765f32-e645-447d-96b1-105ffd800e57",
   "metadata": {},
   "outputs": [
    {
     "name": "stdin",
     "output_type": "stream",
     "text": [
      "Enter your move(Rock, Paper, Scissor):  Paper\n"
     ]
    },
    {
     "name": "stdout",
     "output_type": "stream",
     "text": [
      "User choice: Paper, Computer Choice: Scissor\n",
      "Scissor cuts Paper: Computer Wins!!!\n"
     ]
    }
   ],
   "source": [
    "import random\n",
    "\n",
    "item_list = [\"Rock\", \"Paper\", \"Scissor\"]\n",
    "\n",
    "user_Choice = input(\"Enter your move(Rock, Paper, Scissor): \")\n",
    "comp_Choice = random.choice(item_list)\n",
    "\n",
    "print(f\"User choice: {user_Choice}, Computer Choice: {comp_Choice}\")\n",
    "\n",
    "if user_Choice == comp_Choice:\n",
    "    print(\"Both chooses same: Match tie\")\n",
    "elif user_Choice == \"Rock\":\n",
    "    if comp_Choice == \"Paper\":\n",
    "        print(\"Paper covers Rock : Computer Wins!!!\")\n",
    "    else:\n",
    "        print(\"Rock Smashes Scissor: You Win!!!\")\n",
    "elif user_Choice == \"Paper\":\n",
    "    if comp_Choice == \"Scissor\":\n",
    "        print(\"Scissor cuts Paper: Computer Wins!!!\")\n",
    "    else:\n",
    "        print(\"Paper covers Rock: You Wins!!!\")\n",
    "elif user_Choice == \"Scissor\":\n",
    "    if comp_Choice == \"Paper\":\n",
    "        print(\"Scissor cuts Paper: You Wins!!!\")\n",
    "    else:\n",
    "        print(\"Rock Smashes Scissor: Computer Win!!!\")"
   ]
  }
 ],
 "metadata": {
  "kernelspec": {
   "display_name": "Python 3 (ipykernel)",
   "language": "python",
   "name": "python3"
  },
  "language_info": {
   "codemirror_mode": {
    "name": "ipython",
    "version": 3
   },
   "file_extension": ".py",
   "mimetype": "text/x-python",
   "name": "python",
   "nbconvert_exporter": "python",
   "pygments_lexer": "ipython3",
   "version": "3.13.5"
  }
 },
 "nbformat": 4,
 "nbformat_minor": 5
}
