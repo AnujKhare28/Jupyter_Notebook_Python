{
 "cells": [
  {
   "cell_type": "markdown",
   "id": "a86ceef9-be58-42ab-8856-ad004dd9d6c3",
   "metadata": {},
   "source": [
    "### Set operations"
   ]
  },
  {
   "cell_type": "code",
   "execution_count": 3,
   "id": "93d63b1d-7d8c-43ca-ab3b-a80439ef86b5",
   "metadata": {},
   "outputs": [
    {
     "name": "stdout",
     "output_type": "stream",
     "text": [
      "The union is  {1, 2, 3, 4, 5, 6, 7, 8, 9}\n",
      "The intersection is  {2, 3}\n",
      "The difference is  {1, 4, 9}\n",
      "The symmetric difference is  {1, 4, 5, 6, 7, 8, 9}\n"
     ]
    }
   ],
   "source": [
    "A = {1,2,3,4,9}\n",
    "B = {3,6,5,7,8,2}\n",
    "\n",
    "print(\"The union is \", A | B)\n",
    "print(\"The intersection is \", A & B)\n",
    "print(\"The difference is \", A - B)\n",
    "print(\"The symmetric difference is \", A ^ B)\n"
   ]
  },
  {
   "cell_type": "code",
   "execution_count": null,
   "id": "43de8b94-ab56-4a32-a811-97f70a28c85b",
   "metadata": {},
   "outputs": [],
   "source": []
  }
 ],
 "metadata": {
  "kernelspec": {
   "display_name": "Python 3 (ipykernel)",
   "language": "python",
   "name": "python3"
  },
  "language_info": {
   "codemirror_mode": {
    "name": "ipython",
    "version": 3
   },
   "file_extension": ".py",
   "mimetype": "text/x-python",
   "name": "python",
   "nbconvert_exporter": "python",
   "pygments_lexer": "ipython3",
   "version": "3.13.5"
  }
 },
 "nbformat": 4,
 "nbformat_minor": 5
}
