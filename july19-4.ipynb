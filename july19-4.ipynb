{
 "cells": [
  {
   "cell_type": "markdown",
   "id": "2dea5c88-00be-43ff-9318-404ece1d9cca",
   "metadata": {},
   "source": [
    "### Card Number"
   ]
  },
  {
   "cell_type": "code",
   "execution_count": 4,
   "id": "9117df46-b197-49ac-82c9-22fcb8fe8165",
   "metadata": {},
   "outputs": [
    {
     "name": "stdin",
     "output_type": "stream",
     "text": [
      "Enter your debit card number(after evrey 4 digit give space): 5246 8957 7456 4856\n"
     ]
    },
    {
     "name": "stdout",
     "output_type": "stream",
     "text": [
      "XXXX XXXX XXXX 4856\n"
     ]
    }
   ],
   "source": [
    "a = input(\"Enter your debit card number(after evrey 4 digit give space):\")\n",
    "b = a[15:]\n",
    "four = 'X' * 4 + ' '\n",
    "hidden_number = four * 3 + b\n",
    "print(hidden_number)\n"
   ]
  },
  {
   "cell_type": "markdown",
   "id": "545564cb-eedf-4d37-a243-89055db84f4c",
   "metadata": {},
   "source": [
    "### URL Parsing"
   ]
  },
  {
   "cell_type": "code",
   "execution_count": 10,
   "id": "c5a9a415-0799-49df-b205-09c76bafa724",
   "metadata": {},
   "outputs": [
    {
     "name": "stdin",
     "output_type": "stream",
     "text": [
      "Enter the URL: https://www.youtube.com/feed/history\n"
     ]
    },
    {
     "name": "stdout",
     "output_type": "stream",
     "text": [
      "https\n",
      "youtube\n",
      "/feed/history\n"
     ]
    }
   ],
   "source": [
    "url = input(\"Enter the URL:\")\n",
    "protocol = url[:url.find(':')]\n",
    "dot1 = url.find('.')\n",
    "dot2 = url. find('.', dot1 + 1)\n",
    "domain = url[dot1 + 1 :dot2]\n",
    "page = url[url.find('/', dot2):]\n",
    "print(protocol)\n",
    "print(domain)\n",
    "print(page)"
   ]
  }
 ],
 "metadata": {
  "kernelspec": {
   "display_name": "Python 3 (ipykernel)",
   "language": "python",
   "name": "python3"
  },
  "language_info": {
   "codemirror_mode": {
    "name": "ipython",
    "version": 3
   },
   "file_extension": ".py",
   "mimetype": "text/x-python",
   "name": "python",
   "nbconvert_exporter": "python",
   "pygments_lexer": "ipython3",
   "version": "3.13.5"
  }
 },
 "nbformat": 4,
 "nbformat_minor": 5
}
