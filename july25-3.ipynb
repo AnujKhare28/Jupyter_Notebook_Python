{
 "cells": [
  {
   "cell_type": "markdown",
   "id": "a3fdf1bf-c336-4801-8433-f3525e96407c",
   "metadata": {},
   "source": [
    "### Login Tracker"
   ]
  },
  {
   "cell_type": "code",
   "execution_count": 10,
   "id": "192751e9-b552-4313-916e-ba3ac9aa696c",
   "metadata": {},
   "outputs": [
    {
     "name": "stdout",
     "output_type": "stream",
     "text": [
      "bob : 1 logins\n",
      "john : 3 logins\n",
      "alex : 3 logins\n",
      "alice : 2 logins\n",
      "charlie : 1 logins\n"
     ]
    }
   ],
   "source": [
    "users = ['bob','john','alex','alice','charlie','john','alex','alice','john','alex']\n",
    "\n",
    "login = {}\n",
    "\n",
    "for i in users:\n",
    "    if i in login:\n",
    "        login[i] += 1\n",
    "    else:\n",
    "        login[i] = 1\n",
    "\n",
    "for user, count in login.items(): \n",
    "    print(f\"{user} : {count} logins\")"
   ]
  },
  {
   "cell_type": "markdown",
   "id": "7de9c960-7893-405e-8106-affb1ec361ad",
   "metadata": {},
   "source": [
    "### Invert a Dictionary "
   ]
  },
  {
   "cell_type": "code",
   "execution_count": 12,
   "id": "5a2a7149-8698-4c92-b4c0-711dbd489b44",
   "metadata": {},
   "outputs": [
    {
     "name": "stdout",
     "output_type": "stream",
     "text": [
      "{1: {'c', 'a'}, 2: {'b', 'f', 'd'}, 3: {'e'}}\n"
     ]
    }
   ],
   "source": [
    "d = {'a': 1, 'b': 2, 'c': 1, 'd': 2, 'e': 3, 'f': 2}\n",
    "inverted = {}\n",
    "\n",
    "for key, value in d.items(): \n",
    "    if value not in inverted: \n",
    "        inverted[value] = {key}\n",
    "    else:\n",
    "        inverted[value].add(key)\n",
    "print(inverted)"
   ]
  },
  {
   "cell_type": "markdown",
   "id": "2ee12262-9437-4a12-a722-adcbeb3d28f2",
   "metadata": {},
   "source": [
    "### Isomorphic Strings"
   ]
  },
  {
   "cell_type": "code",
   "execution_count": 15,
   "id": "a3b8e958-62ff-408c-9ea6-a163815c2e85",
   "metadata": {},
   "outputs": [
    {
     "name": "stdout",
     "output_type": "stream",
     "text": [
      "Isomorphic\n"
     ]
    }
   ],
   "source": [
    "str1 = 'paper'\n",
    "str2 = 'title'\n",
    "\n",
    "flag = True\n",
    "\n",
    "if len(str1) != len(str2):\n",
    "    flag =False\n",
    "else:\n",
    "    map1 , map2 = {}, {}\n",
    "    for c1, c2 in zip(str1, str2):\n",
    "        if c1 in map1:\n",
    "            if map1[c1] != c2:\n",
    "                flag = False\n",
    "        else: \n",
    "            map1[c1] = c2 \n",
    "\n",
    "        if c2 in map2:\n",
    "            if map2[c2] != c1:\n",
    "                flag = False\n",
    "        else: \n",
    "            map2[c2] = c1\n",
    "\n",
    "if flag: \n",
    "    print(\"Isomorphic\")\n",
    "else:\n",
    "    print(\"Not Isomorphic\")    "
   ]
  },
  {
   "cell_type": "markdown",
   "id": "30434e47-8147-4bde-a4b4-1e916d3a9da1",
   "metadata": {},
   "source": [
    "### Nested Dictionary"
   ]
  },
  {
   "cell_type": "code",
   "execution_count": 2,
   "id": "77bac922-3769-4fa1-b13a-17f5791feb7c",
   "metadata": {},
   "outputs": [
    {
     "name": "stdout",
     "output_type": "stream",
     "text": [
      "Dictionaries:\n",
      "\n",
      "name\n",
      "James      : [['James', 25, 'NY']]\n",
      "Kiran      : [['Kiran', 27, 'DEL']]\n",
      "Smith      : [['Smith', 30, 'PAR']]\n",
      "Raj        : [['Raj', 28, 'DEL']]\n",
      "\n",
      "age\n",
      "25         : [['James', 25, 'NY']]\n",
      "27         : [['Kiran', 27, 'DEL']]\n",
      "30         : [['Smith', 30, 'PAR']]\n",
      "28         : [['Raj', 28, 'DEL']]\n",
      "\n",
      "city\n",
      "NY         : [['James', 25, 'NY']]\n",
      "DEL        : [['Kiran', 27, 'DEL'], ['Raj', 28, 'DEL']]\n",
      "PAR        : [['Smith', 30, 'PAR']]\n"
     ]
    }
   ],
   "source": [
    "header = ['name', 'age', 'city']\n",
    "data = [['James', 25, 'NY'], ['Kiran', 27, 'DEL'],['Smith', 30, 'PAR'], ['Raj', 28, 'DEL']]\n",
    "\n",
    "result = []\n",
    "\n",
    "lenght = len(header)\n",
    "\n",
    "for i in range(lenght):\n",
    "    newDict = {}\n",
    "    for row in data:\n",
    "        if row[i] not in newDict: \n",
    "            newDict[row[i]] = [row]\n",
    "        else:\n",
    "            newDict[row[i]].append(row)\n",
    "    result.append(newDict)\n",
    "\n",
    "print(\"Dictionaries:\")\n",
    "for i in range(len(header)):\n",
    "    print('\\n'+ header[i])\n",
    "    for key, value in result[i].items(): \n",
    "        print(f\"{key:<10} : {value}\")"
   ]
  },
  {
   "cell_type": "markdown",
   "id": "286c68d1-9f96-42f7-b4e6-bbb84a0e013d",
   "metadata": {},
   "source": [
    "### Dynamic Key Generation"
   ]
  },
  {
   "cell_type": "code",
   "execution_count": 3,
   "id": "6905c0ce-aad5-4426-931b-934fd2104276",
   "metadata": {},
   "outputs": [
    {
     "name": "stdout",
     "output_type": "stream",
     "text": [
      "Item Data:\n",
      "bd0220 : ['laptop', 1200]\n",
      "db0304 : ['mouse', 20]\n",
      "c2f82e : ['keyboard', 30]\n",
      "56831a : ['tablet', 200]\n"
     ]
    }
   ],
   "source": [
    "import uuid\n",
    "\n",
    "items = [['laptop', 1200], ['mouse', 20], ['keyboard', 30], ['tablet', 200]]\n",
    "\n",
    "item_data = {}\n",
    "\n",
    "for item in items:\n",
    "    id = uuid.uuid5(uuid.NAMESPACE_OID, item[0])\n",
    "    key = id.hex[:6]\n",
    "    item_data[key] = item \n",
    "\n",
    "print('Item Data:')\n",
    "for k, v in item_data.items(): \n",
    "    print(f\"{k} : {v}\")"
   ]
  },
  {
   "cell_type": "code",
   "execution_count": null,
   "id": "983919ef-0733-491e-ba33-fe6ef63fd5df",
   "metadata": {},
   "outputs": [],
   "source": []
  }
 ],
 "metadata": {
  "kernelspec": {
   "display_name": "Python 3 (ipykernel)",
   "language": "python",
   "name": "python3"
  },
  "language_info": {
   "codemirror_mode": {
    "name": "ipython",
    "version": 3
   },
   "file_extension": ".py",
   "mimetype": "text/x-python",
   "name": "python",
   "nbconvert_exporter": "python",
   "pygments_lexer": "ipython3",
   "version": "3.13.5"
  }
 },
 "nbformat": 4,
 "nbformat_minor": 5
}
