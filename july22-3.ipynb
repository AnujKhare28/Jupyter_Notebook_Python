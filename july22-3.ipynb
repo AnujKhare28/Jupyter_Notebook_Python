{
 "cells": [
  {
   "cell_type": "markdown",
   "id": "255671b6-26c8-435c-a6f6-b645bfa40356",
   "metadata": {},
   "source": [
    "### Transpose of a Matrics"
   ]
  },
  {
   "cell_type": "code",
   "execution_count": 6,
   "id": "8533141c-8ab1-44fd-bed2-5b92ba297596",
   "metadata": {},
   "outputs": [
    {
     "name": "stdout",
     "output_type": "stream",
     "text": [
      "[1, 4]\n",
      "[2, 5]\n",
      "[3, 6]\n"
     ]
    }
   ],
   "source": [
    "A = [[1,2,3],\n",
    "    [4,5,6]]\n",
    "T = [[0,0],\n",
    "    [0,0],\n",
    "    [0,0]]\n",
    "\n",
    "for i in range(len(A)):\n",
    "    for j in range(len(A[0])):\n",
    "        T[j][i] = A[i][j]\n",
    "for i in T:\n",
    "    print(i)"
   ]
  },
  {
   "cell_type": "markdown",
   "id": "1ae16e2b-1e7c-41fe-bb80-5b56171488f7",
   "metadata": {},
   "source": [
    "### By list comprehension"
   ]
  },
  {
   "cell_type": "code",
   "execution_count": 7,
   "id": "dc4c2961-ffd4-46fb-a260-0b7a895c4de6",
   "metadata": {},
   "outputs": [
    {
     "name": "stdout",
     "output_type": "stream",
     "text": [
      "[1, 4]\n",
      "[2, 5]\n",
      "[3, 6]\n"
     ]
    }
   ],
   "source": [
    "A = [[1,2,3],\n",
    "    [4,5,6]]\n",
    "\n",
    "T = [[A[j][i] for j in range(len(A))]for i in range(len(A[0]))]\n",
    "\n",
    "for i in T:\n",
    "    print(i)"
   ]
  },
  {
   "cell_type": "markdown",
   "id": "391ef4f6-047d-4434-b0b8-8c1837444358",
   "metadata": {},
   "source": [
    "### Matrics Multiplication"
   ]
  },
  {
   "cell_type": "code",
   "execution_count": 12,
   "id": "01e4ca23-623f-4038-ae72-466f3889dc17",
   "metadata": {},
   "outputs": [
    {
     "name": "stdout",
     "output_type": "stream",
     "text": [
      "[19, 15, 19]\n",
      "[43, 36, 43]\n",
      "[67, 57, 67]\n"
     ]
    }
   ],
   "source": [
    "A = [[1,2,3],\n",
    "    [4,5,6],\n",
    "    [7,8,9]]\n",
    "\n",
    "B = [[1,2,1],\n",
    "    [3,2,3],\n",
    "    [4,3,4]]\n",
    "result = [[0,0,0],\n",
    "          [0,0,0],\n",
    "          [0,0,0]]\n",
    "for i in range(len(A)):\n",
    "    for j in range(len(B[0])):\n",
    "        for k in range(len(B)):\n",
    "            result[i][j] += A[i][k] * B[k][j]\n",
    "for i in result:\n",
    "    print(i)"
   ]
  },
  {
   "cell_type": "code",
   "execution_count": null,
   "id": "a3d77519-47d5-40d7-9a15-ff7d8560c293",
   "metadata": {},
   "outputs": [],
   "source": []
  }
 ],
 "metadata": {
  "kernelspec": {
   "display_name": "Python 3 (ipykernel)",
   "language": "python",
   "name": "python3"
  },
  "language_info": {
   "codemirror_mode": {
    "name": "ipython",
    "version": 3
   },
   "file_extension": ".py",
   "mimetype": "text/x-python",
   "name": "python",
   "nbconvert_exporter": "python",
   "pygments_lexer": "ipython3",
   "version": "3.13.5"
  }
 },
 "nbformat": 4,
 "nbformat_minor": 5
}
