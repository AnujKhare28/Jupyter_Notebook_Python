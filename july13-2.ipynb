{
 "cells": [
  {
   "cell_type": "markdown",
   "id": "5ef03e0e-3a79-44e1-86a8-b02858f68937",
   "metadata": {},
   "source": [
    "### Palindrome "
   ]
  },
  {
   "cell_type": "code",
   "execution_count": null,
   "id": "3679b512-9c1b-456e-9710-cb7afe252cb0",
   "metadata": {},
   "outputs": [],
   "source": [
    "n = n = int(input(\"Enter a number:\"))\n",
    "m = n\n",
    "rev = 0\n",
    "\n",
    "while n > 0:\n",
    "    r = n % 10\n",
    "    rev = rev * 10 + r\n",
    "    n = n // 10\n",
    "if m == rev:\n",
    "    print(\"Palindrome\")\n",
    "else:\n",
    "    print(\"Not a palindrome\")"
   ]
  }
 ],
 "metadata": {
  "kernelspec": {
   "display_name": "Python 3 (ipykernel)",
   "language": "python",
   "name": "python3"
  },
  "language_info": {
   "codemirror_mode": {
    "name": "ipython",
    "version": 3
   },
   "file_extension": ".py",
   "mimetype": "text/x-python",
   "name": "python",
   "nbconvert_exporter": "python",
   "pygments_lexer": "ipython3",
   "version": "3.13.5"
  }
 },
 "nbformat": 4,
 "nbformat_minor": 5
}
