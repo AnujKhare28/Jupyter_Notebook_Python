{
 "cells": [
  {
   "cell_type": "markdown",
   "id": "4e9f00c5-b2f7-4609-876d-d9a1eb40e4d9",
   "metadata": {},
   "source": [
    "### Shuffle Deck of Cards"
   ]
  },
  {
   "cell_type": "code",
   "execution_count": 2,
   "id": "ea6ca3a9-bfab-4792-99ef-f621b44f6ea4",
   "metadata": {},
   "outputs": [
    {
     "name": "stdin",
     "output_type": "stream",
     "text": [
      "Enter the number of cards you want: 10\n"
     ]
    },
    {
     "name": "stdout",
     "output_type": "stream",
     "text": [
      "6 of Heart\n",
      "12 of Spade\n",
      "13 of Diamond\n",
      "11 of Diamond\n",
      "10 of Heart\n",
      "1 of Heart\n",
      "3 of Spade\n",
      "13 of Spade\n",
      "3 of Heart\n",
      "7 of Spade\n"
     ]
    }
   ],
   "source": [
    "import random, itertools\n",
    "\n",
    "deck = list(itertools.product(range(1,14),['Spade','Club','Heart','Diamond']))\n",
    "\n",
    "random.shuffle(deck)\n",
    "\n",
    "a = int(input('Enter the number of cards you want:'))\n",
    "for i in range(a):\n",
    "    print(deck[i][0],'of',deck[i][1])"
   ]
  },
  {
   "cell_type": "code",
   "execution_count": null,
   "id": "2f897e0f-3489-46cc-9c12-7f126b1006c9",
   "metadata": {},
   "outputs": [],
   "source": []
  }
 ],
 "metadata": {
  "kernelspec": {
   "display_name": "Python 3 (ipykernel)",
   "language": "python",
   "name": "python3"
  },
  "language_info": {
   "codemirror_mode": {
    "name": "ipython",
    "version": 3
   },
   "file_extension": ".py",
   "mimetype": "text/x-python",
   "name": "python",
   "nbconvert_exporter": "python",
   "pygments_lexer": "ipython3",
   "version": "3.13.5"
  }
 },
 "nbformat": 4,
 "nbformat_minor": 5
}
