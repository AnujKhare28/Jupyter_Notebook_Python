{
 "cells": [
  {
   "cell_type": "code",
   "execution_count": 13,
   "id": "45e445a9-916d-496b-abd6-666548899181",
   "metadata": {},
   "outputs": [
    {
     "name": "stdin",
     "output_type": "stream",
     "text": [
      "Enter a odd number: 7\n"
     ]
    },
    {
     "name": "stdout",
     "output_type": "stream",
     "text": [
      "      H      \n",
      "     HHH     \n",
      "    HHHHH    \n",
      "   HHHHHHH   \n",
      "  HHHHHHHHH  \n",
      " HHHHHHHHHHH \n",
      "HHHHHHHHHHHHH\n",
      "   HHHHHHH                     HHHHHHH                  \n",
      "   HHHHHHH                     HHHHHHH                  \n",
      "   HHHHHHH                     HHHHHHH                  \n",
      "   HHHHHHH                     HHHHHHH                  \n",
      "   HHHHHHH                     HHHHHHH                  \n",
      "   HHHHHHH                     HHHHHHH                  \n",
      "   HHHHHHH                     HHHHHHH                  \n",
      "   HHHHHHH                     HHHHHHH                  \n",
      "   HHHHHHHHHHHHHHHHHHHHHHHHHHHHHHHHHHH    \n",
      "   HHHHHHHHHHHHHHHHHHHHHHHHHHHHHHHHHHH    \n",
      "   HHHHHHHHHHHHHHHHHHHHHHHHHHHHHHHHHHH    \n",
      "   HHHHHHHHHHHHHHHHHHHHHHHHHHHHHHHHHHH    \n",
      "   HHHHHHH                     HHHHHHH                  \n",
      "   HHHHHHH                     HHHHHHH                  \n",
      "   HHHHHHH                     HHHHHHH                  \n",
      "   HHHHHHH                     HHHHHHH                  \n",
      "   HHHHHHH                     HHHHHHH                  \n",
      "   HHHHHHH                     HHHHHHH                  \n",
      "   HHHHHHH                     HHHHHHH                  \n",
      "   HHHHHHH                     HHHHHHH                  \n",
      "                            HHHHHHHHHHHHH \n",
      "                             HHHHHHHHHHH  \n",
      "                              HHHHHHHHH   \n",
      "                               HHHHHHH    \n",
      "                                HHHHH     \n",
      "                                 HHH      \n",
      "                                  H       \n"
     ]
    }
   ],
   "source": [
    "thickness = int(input(\"Enter a odd number:\")) \n",
    "c = 'H'\n",
    "\n",
    "for i in range(thickness):\n",
    "    print((c*i).rjust(thickness-1)+c+(c*i).ljust(thickness-1))\n",
    "\n",
    "for i in range(thickness+1):\n",
    "    print((c*thickness).center(thickness*2)+(c*thickness).center(thickness*6))\n",
    "\n",
    "for i in range((thickness+1)//2):\n",
    "    print((c*thickness*5).center(thickness*6))    \n",
    "\n",
    "for i in range(thickness+1):\n",
    "    print((c*thickness).center(thickness*2)+(c*thickness).center(thickness*6))    \n",
    "\n",
    "for i in range(thickness):\n",
    "    print(((c*(thickness-i-1)).rjust(thickness)+c+(c*(thickness-i-1)).ljust(thickness)).rjust(thickness*6))"
   ]
  },
  {
   "cell_type": "code",
   "execution_count": 14,
   "id": "5313614c-6552-4d4d-b76b-66f594f12f35",
   "metadata": {},
   "outputs": [
    {
     "name": "stdin",
     "output_type": "stream",
     "text": [
      " ABCDEFGHIJKLIMNOQRSTUVWXYZ\n",
      " 4\n"
     ]
    },
    {
     "name": "stdout",
     "output_type": "stream",
     "text": [
      "ABCD\n",
      "EFGH\n",
      "IJKL\n",
      "IMNO\n",
      "QRST\n",
      "UVWX\n",
      "YZ\n"
     ]
    }
   ],
   "source": [
    "import textwrap\n",
    "\n",
    "def wrap(string, max_width):\n",
    "    for i in range(0,len(string) + 1, max_width):\n",
    "        chunk = string[i:i + max_width]\n",
    "        if len(chunk) == max_width:\n",
    "            print(chunk)\n",
    "        else:\n",
    "            return chunk\n",
    "\n",
    "if __name__ == '__main__':\n",
    "    string, max_width = input(), int(input())\n",
    "    result = wrap(string, max_width)\n",
    "    print(result)"
   ]
  },
  {
   "cell_type": "code",
   "execution_count": null,
   "id": "fcb8d19f-afa4-4c68-be41-82f0555ce2c4",
   "metadata": {},
   "outputs": [],
   "source": []
  }
 ],
 "metadata": {
  "kernelspec": {
   "display_name": "Python 3 (ipykernel)",
   "language": "python",
   "name": "python3"
  },
  "language_info": {
   "codemirror_mode": {
    "name": "ipython",
    "version": 3
   },
   "file_extension": ".py",
   "mimetype": "text/x-python",
   "name": "python",
   "nbconvert_exporter": "python",
   "pygments_lexer": "ipython3",
   "version": "3.13.5"
  }
 },
 "nbformat": 4,
 "nbformat_minor": 5
}
