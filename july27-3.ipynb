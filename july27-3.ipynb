{
 "cells": [
  {
   "cell_type": "markdown",
   "id": "8d3fb38d-80a1-4a7a-8106-cb1451df6851",
   "metadata": {},
   "source": [
    "### Account Withdrawal"
   ]
  },
  {
   "cell_type": "code",
   "execution_count": 1,
   "id": "514c0943-2b3a-4c49-a60f-8a26c8dd1435",
   "metadata": {},
   "outputs": [
    {
     "name": "stdin",
     "output_type": "stream",
     "text": [
      "Enter Amount: 4563\n"
     ]
    },
    {
     "name": "stdout",
     "output_type": "stream",
     "text": [
      "Withdrawal successful\n",
      "Remaining balance: 5437\n"
     ]
    }
   ],
   "source": [
    "class InsufficientFundsError(Exception): \n",
    "    pass\n",
    "\n",
    "def withdraw(balance, amount): \n",
    "    if amount > balance: \n",
    "        raise InsufficientFundsError('Not enough funds')\n",
    "    return balance - amount\n",
    "\n",
    "balance = 10000\n",
    "amount = int(input('Enter Amount:'))\n",
    "\n",
    "try: \n",
    "    balance = withdraw(balance, amount)\n",
    "    print('Withdrawal successful')\n",
    "    print('Remaining balance:', balance)\n",
    "except InsufficientFundsError as e:\n",
    "    print(e)"
   ]
  },
  {
   "cell_type": "code",
   "execution_count": 2,
   "id": "d4bcb6fc-8ebb-47e4-bb99-c8e163d031b3",
   "metadata": {},
   "outputs": [
    {
     "name": "stdin",
     "output_type": "stream",
     "text": [
      "Enter Amount: 11000\n"
     ]
    },
    {
     "name": "stdout",
     "output_type": "stream",
     "text": [
      "Not enough funds\n"
     ]
    }
   ],
   "source": [
    "class InsufficientFundsError(Exception): \n",
    "    pass\n",
    "\n",
    "def withdraw(balance, amount): \n",
    "    if amount > balance: \n",
    "        raise InsufficientFundsError('Not enough funds')\n",
    "    return balance - amount\n",
    "\n",
    "balance = 10000\n",
    "amount = int(input('Enter Amount:'))\n",
    "\n",
    "try: \n",
    "    balance = withdraw(balance, amount)\n",
    "    print('Withdrawal successful')\n",
    "    print('Remaining balance:', balance)\n",
    "except InsufficientFundsError as e:\n",
    "    print(e)"
   ]
  },
  {
   "cell_type": "code",
   "execution_count": null,
   "id": "7254fccf-3369-47f7-9084-099c1482bfa2",
   "metadata": {},
   "outputs": [],
   "source": []
  }
 ],
 "metadata": {
  "kernelspec": {
   "display_name": "Python 3 (ipykernel)",
   "language": "python",
   "name": "python3"
  },
  "language_info": {
   "codemirror_mode": {
    "name": "ipython",
    "version": 3
   },
   "file_extension": ".py",
   "mimetype": "text/x-python",
   "name": "python",
   "nbconvert_exporter": "python",
   "pygments_lexer": "ipython3",
   "version": "3.13.5"
  }
 },
 "nbformat": 4,
 "nbformat_minor": 5
}
