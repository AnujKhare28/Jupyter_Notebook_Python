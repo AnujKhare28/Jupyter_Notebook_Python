{
 "cells": [
  {
   "cell_type": "markdown",
   "id": "190addc1-ac6e-47fa-8ac2-8203dafd4b0e",
   "metadata": {},
   "source": [
    "#### Pythagoras"
   ]
  },
  {
   "cell_type": "code",
   "execution_count": 4,
   "id": "46ea88b3-ae78-47ed-819f-46b9c98e75f7",
   "metadata": {},
   "outputs": [
    {
     "name": "stdin",
     "output_type": "stream",
     "text": [
      "Enter the Opposite side of the right angle triangle:  3\n",
      "Enter the adjacent side of the right angle triangle:  4\n"
     ]
    },
    {
     "name": "stdout",
     "output_type": "stream",
     "text": [
      "The Hypotenuse of the Triangle is:  5.0\n"
     ]
    }
   ],
   "source": [
    "opp_side = float(input(\"Enter the Opposite side of the right angle triangle: \"))\n",
    "adj_side = float(input(\"Enter the adjacent side of the right angle triangle: \"))\n",
    "\n",
    "hyp = ((opp_side**2) + (adj_side**2))**0.5\n",
    "print(\"The Hypotenuse of the Triangle is: \", hyp)"
   ]
  },
  {
   "cell_type": "markdown",
   "id": "8a92d1a2-4826-4178-8d15-5994c8aeaa43",
   "metadata": {},
   "source": [
    "#### Arithmetic Progression"
   ]
  },
  {
   "cell_type": "code",
   "execution_count": 5,
   "id": "e5aa01a4-3743-474a-9745-dc0498da991a",
   "metadata": {},
   "outputs": [
    {
     "name": "stdin",
     "output_type": "stream",
     "text": [
      "Enter the third term of the series:  3\n",
      "Enter third last term:  6\n",
      "Sum of the series:  36\n"
     ]
    },
    {
     "name": "stdout",
     "output_type": "stream",
     "text": [
      "Length of the series:  8\n",
      "Series: \n",
      "1 2 3 4 5 6 7 8 "
     ]
    }
   ],
   "source": [
    "tn = int(input(\"Enter the third term of the series: \"))\n",
    "tltn = int(input(\"Enter third last term: \"))\n",
    "s_sum = int(input(\"Sum of the series: \"))\n",
    "\n",
    "n = int(2 * s_sum / (tn + tltn))\n",
    "print (\"Length of the series: \", n)\n",
    "\n",
    "if n - 5 == 0:\n",
    "    d = (s_sum - 3 * tn)\n",
    "else:\n",
    "    d = (tltn - tn) / (n - 5)\n",
    "\n",
    "a = tn - 2 * d\n",
    "j = 0\n",
    "\n",
    "print(\"Series: \")\n",
    "for j in range(n - 1):\n",
    "    print(int(a), end = \" \")\n",
    "    a += d\n",
    "print (int(a), end = \" \")"
   ]
  },
  {
   "cell_type": "code",
   "execution_count": null,
   "id": "5b46e692-7d01-4df3-a629-aee851b9afd0",
   "metadata": {},
   "outputs": [],
   "source": []
  }
 ],
 "metadata": {
  "kernelspec": {
   "display_name": "Python 3 (ipykernel)",
   "language": "python",
   "name": "python3"
  },
  "language_info": {
   "codemirror_mode": {
    "name": "ipython",
    "version": 3
   },
   "file_extension": ".py",
   "mimetype": "text/x-python",
   "name": "python",
   "nbconvert_exporter": "python",
   "pygments_lexer": "ipython3",
   "version": "3.13.5"
  }
 },
 "nbformat": 4,
 "nbformat_minor": 5
}
