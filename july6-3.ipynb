{
 "cells": [
  {
   "cell_type": "code",
   "execution_count": null,
   "id": "565a8d03-e9ee-4e5b-94e8-f5bce50235f4",
   "metadata": {},
   "outputs": [],
   "source": [
    "n = int (input(\"Enter the Number: \"))\n",
    "for i in range (1,11):\n",
    "    print (n,\"X\",i,\"=\",n*i)"
   ]
  },
  {
   "cell_type": "code",
   "execution_count": null,
   "id": "53c7b59e-0ad1-44dc-833c-6a0e145ca534",
   "metadata": {},
   "outputs": [],
   "source": []
  }
 ],
 "metadata": {
  "kernelspec": {
   "display_name": "Python 3 (ipykernel)",
   "language": "python",
   "name": "python3"
  },
  "language_info": {
   "codemirror_mode": {
    "name": "ipython",
    "version": 3
   },
   "file_extension": ".py",
   "mimetype": "text/x-python",
   "name": "python",
   "nbconvert_exporter": "python",
   "pygments_lexer": "ipython3",
   "version": "3.13.5"
  }
 },
 "nbformat": 4,
 "nbformat_minor": 5
}
