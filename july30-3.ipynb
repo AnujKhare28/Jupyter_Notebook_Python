{
 "cells": [
  {
   "cell_type": "code",
   "execution_count": 1,
   "id": "4021014b-8f48-4d98-81d1-187b932fb4b7",
   "metadata": {},
   "outputs": [],
   "source": [
    "import numpy as np "
   ]
  },
  {
   "cell_type": "code",
   "execution_count": 2,
   "id": "699f58ee-76fb-4144-9ddb-3f91d96a4e54",
   "metadata": {},
   "outputs": [
    {
     "name": "stdout",
     "output_type": "stream",
     "text": [
      "[False False  True False  True False]\n"
     ]
    }
   ],
   "source": [
    "arr = np.array([1,2, np.nan, 4, np.nan, 6])\n",
    "print(np.isnan(arr))"
   ]
  },
  {
   "cell_type": "code",
   "execution_count": 3,
   "id": "eac0a1d6-a947-407f-9167-2b4fb71ba983",
   "metadata": {},
   "outputs": [
    {
     "name": "stdout",
     "output_type": "stream",
     "text": [
      "[1. 2. 0. 4. 0. 6.]\n"
     ]
    }
   ],
   "source": [
    "clean = np.nan_to_num(arr)\n",
    "print(clean)"
   ]
  },
  {
   "cell_type": "code",
   "execution_count": 4,
   "id": "a7cd954d-b083-4940-992d-5a688d3ac57e",
   "metadata": {},
   "outputs": [
    {
     "name": "stdout",
     "output_type": "stream",
     "text": [
      "[ 1.  2. 10.  4. 10.  6.]\n"
     ]
    }
   ],
   "source": [
    "clean2 = np.nan_to_num(arr, nan=10)\n",
    "print(clean2)"
   ]
  },
  {
   "cell_type": "code",
   "execution_count": 5,
   "id": "f229ce86-ba19-4271-9fe8-8e81daef7ee2",
   "metadata": {},
   "outputs": [
    {
     "name": "stdout",
     "output_type": "stream",
     "text": [
      "[False False  True False  True False]\n"
     ]
    }
   ],
   "source": [
    "arr1 = np.array([1,2, np.inf, 4, -np.inf, 6])\n",
    "print(np.isinf(arr1))"
   ]
  },
  {
   "cell_type": "code",
   "execution_count": 6,
   "id": "cd40e7b4-19be-4349-943d-595cc4d620cb",
   "metadata": {},
   "outputs": [
    {
     "name": "stdout",
     "output_type": "stream",
     "text": [
      "[  1.   2.  10.   4. -10.   6.]\n"
     ]
    }
   ],
   "source": [
    "cleaned = np.nan_to_num(arr1, posinf=10, neginf=-10)\n",
    "print(cleaned)"
   ]
  },
  {
   "cell_type": "code",
   "execution_count": null,
   "id": "94c761ca-854a-4aa4-9b46-b1cbfc767a15",
   "metadata": {},
   "outputs": [],
   "source": []
  }
 ],
 "metadata": {
  "kernelspec": {
   "display_name": "Python 3 (ipykernel)",
   "language": "python",
   "name": "python3"
  },
  "language_info": {
   "codemirror_mode": {
    "name": "ipython",
    "version": 3
   },
   "file_extension": ".py",
   "mimetype": "text/x-python",
   "name": "python",
   "nbconvert_exporter": "python",
   "pygments_lexer": "ipython3",
   "version": "3.13.5"
  }
 },
 "nbformat": 4,
 "nbformat_minor": 5
}
