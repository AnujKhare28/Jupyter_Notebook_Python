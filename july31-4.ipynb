{
 "cells": [
  {
   "cell_type": "markdown",
   "id": "b32f46da-4016-4184-be9a-f087b5d8295d",
   "metadata": {},
   "source": [
    "### Filling Diagonal values"
   ]
  },
  {
   "cell_type": "code",
   "execution_count": 1,
   "id": "97829ec0-da8c-4c86-bdfb-b0c95f701463",
   "metadata": {},
   "outputs": [],
   "source": [
    "import numpy as np"
   ]
  },
  {
   "cell_type": "code",
   "execution_count": 8,
   "id": "59640029-33d8-4d9c-a580-b3f5d9d3970e",
   "metadata": {},
   "outputs": [],
   "source": [
    "arr = np.array([[9,8],[6,7]])"
   ]
  },
  {
   "cell_type": "code",
   "execution_count": 9,
   "id": "f639ed9d-9364-4839-b7fa-88a19f8a941b",
   "metadata": {},
   "outputs": [
    {
     "data": {
      "text/plain": [
       "array([[9, 8],\n",
       "       [6, 7]])"
      ]
     },
     "execution_count": 9,
     "metadata": {},
     "output_type": "execute_result"
    }
   ],
   "source": [
    "arr"
   ]
  },
  {
   "cell_type": "code",
   "execution_count": 4,
   "id": "97066198-803b-42f7-9d09-35bf4203df3c",
   "metadata": {},
   "outputs": [],
   "source": [
    "x = 5"
   ]
  },
  {
   "cell_type": "code",
   "execution_count": 7,
   "id": "b4a1aa54-6207-417a-9cb2-36b406fdb6cc",
   "metadata": {},
   "outputs": [
    {
     "name": "stdout",
     "output_type": "stream",
     "text": [
      "[[5 8]\n",
      " [6 5]]\n"
     ]
    }
   ],
   "source": [
    "### 1 way \n",
    "\n",
    "for i in range(len(arr)):\n",
    "    for j in range(len(arr[i])):\n",
    "        if i == j :\n",
    "            arr[i][j] =5\n",
    "print(arr)"
   ]
  },
  {
   "cell_type": "code",
   "execution_count": 10,
   "id": "d156c4b6-5ea6-415c-89bf-8d6a4a7f4e4e",
   "metadata": {},
   "outputs": [
    {
     "data": {
      "text/plain": [
       "array([[9, 8],\n",
       "       [6, 7]])"
      ]
     },
     "execution_count": 10,
     "metadata": {},
     "output_type": "execute_result"
    }
   ],
   "source": [
    "# 2 Way\n",
    "\n",
    "arr"
   ]
  },
  {
   "cell_type": "code",
   "execution_count": 12,
   "id": "6435c3bb-1c97-4596-bc95-b547e3819fa7",
   "metadata": {},
   "outputs": [
    {
     "name": "stdout",
     "output_type": "stream",
     "text": [
      "[[5 8]\n",
      " [6 5]]\n"
     ]
    }
   ],
   "source": [
    "np.fill_diagonal(arr,x)\n",
    "print(arr)"
   ]
  },
  {
   "cell_type": "markdown",
   "id": "efc267bc-84f0-43c7-a5d5-9ffcc694e4d3",
   "metadata": {},
   "source": [
    "### Checking and Filling number"
   ]
  },
  {
   "cell_type": "code",
   "execution_count": 15,
   "id": "80c628ba-669f-4656-adf4-8b828b6ec288",
   "metadata": {},
   "outputs": [
    {
     "name": "stdout",
     "output_type": "stream",
     "text": [
      "[ 12  23 -43  24  -8  76 -56  66  88  -3]\n"
     ]
    }
   ],
   "source": [
    "arr1 = np.array([12,23,-43,24,-8,76,-56,66,88,-3])\n",
    "print(arr1)"
   ]
  },
  {
   "cell_type": "code",
   "execution_count": 17,
   "id": "4c4e1001-a4cf-43a4-8d82-c41e15aa3cbf",
   "metadata": {},
   "outputs": [
    {
     "data": {
      "text/plain": [
       "array([ True, False, False,  True, False, False, False,  True, False,\n",
       "       False])"
      ]
     },
     "execution_count": 17,
     "metadata": {},
     "output_type": "execute_result"
    }
   ],
   "source": [
    "np.isin(arr1, [12,66,24])"
   ]
  },
  {
   "cell_type": "code",
   "execution_count": 20,
   "id": "8bbbaded-04de-4f20-8ed7-7b909ffabc8e",
   "metadata": {},
   "outputs": [
    {
     "data": {
      "text/plain": [
       "array([-43,  -8, -56,  -3])"
      ]
     },
     "execution_count": 20,
     "metadata": {},
     "output_type": "execute_result"
    }
   ],
   "source": [
    "arr1[arr1 < 0]"
   ]
  },
  {
   "cell_type": "code",
   "execution_count": null,
   "id": "e666834c-3a9f-4662-a46a-11c80e7d7d98",
   "metadata": {},
   "outputs": [],
   "source": [
    "arr1[arr1 < 0]\n"
   ]
  }
 ],
 "metadata": {
  "kernelspec": {
   "display_name": "Python 3 (ipykernel)",
   "language": "python",
   "name": "python3"
  },
  "language_info": {
   "codemirror_mode": {
    "name": "ipython",
    "version": 3
   },
   "file_extension": ".py",
   "mimetype": "text/x-python",
   "name": "python",
   "nbconvert_exporter": "python",
   "pygments_lexer": "ipython3",
   "version": "3.13.5"
  }
 },
 "nbformat": 4,
 "nbformat_minor": 5
}
