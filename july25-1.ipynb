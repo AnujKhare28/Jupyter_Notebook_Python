{
 "cells": [
  {
   "cell_type": "markdown",
   "id": "96d2fb4e-ead9-4c93-bf04-0ae6872b8f4f",
   "metadata": {},
   "source": [
    "## Creating Dictonary using List Compresension"
   ]
  },
  {
   "cell_type": "markdown",
   "id": "7f81ad83-4c55-4bf2-b661-a921adf3f1ca",
   "metadata": {},
   "source": [
    "#### Iterables"
   ]
  },
  {
   "cell_type": "code",
   "execution_count": 1,
   "id": "a08038e6-f123-42f7-84e8-e5eaf30a7f16",
   "metadata": {},
   "outputs": [],
   "source": [
    "l1 = [(1,'One'),(2,'Two'),(3,'Three'),(4,'Four')]\n",
    "\n",
    "d1 = {x : y for x,y in l1}"
   ]
  },
  {
   "cell_type": "code",
   "execution_count": 2,
   "id": "5d75dfd6-edec-497a-97f2-0a801d9f45e9",
   "metadata": {},
   "outputs": [
    {
     "data": {
      "text/plain": [
       "{1: 'One', 2: 'Two', 3: 'Three', 4: 'Four'}"
      ]
     },
     "execution_count": 2,
     "metadata": {},
     "output_type": "execute_result"
    }
   ],
   "source": [
    "d1"
   ]
  },
  {
   "cell_type": "markdown",
   "id": "bd4b9d7d-72ae-40d1-a119-6c118073b306",
   "metadata": {},
   "source": [
    "#### Zip Function"
   ]
  },
  {
   "cell_type": "code",
   "execution_count": 5,
   "id": "93e5b9b3-1804-40f7-ab59-b09d64944e2f",
   "metadata": {},
   "outputs": [],
   "source": [
    "l1 = [1,2,3,4]\n",
    "l2 = ['One','Two','Three','Four']\n",
    "\n",
    "d2 = {x : y for x,y in zip(l1, l2)}"
   ]
  },
  {
   "cell_type": "code",
   "execution_count": 6,
   "id": "87eb6a54-acfb-4cc1-a577-ebcd66577007",
   "metadata": {},
   "outputs": [
    {
     "data": {
      "text/plain": [
       "{1: 'One', 2: 'Two', 3: 'Three', 4: 'Four'}"
      ]
     },
     "execution_count": 6,
     "metadata": {},
     "output_type": "execute_result"
    }
   ],
   "source": [
    "d2"
   ]
  },
  {
   "cell_type": "markdown",
   "id": "d9dfc4a4-01b0-4b80-b882-d0246419a37e",
   "metadata": {},
   "source": [
    "#### Enumerate Function"
   ]
  },
  {
   "cell_type": "code",
   "execution_count": 7,
   "id": "1d0976f3-5801-4713-b6c5-1c5c4ca4894a",
   "metadata": {},
   "outputs": [],
   "source": [
    "l3 = ['One','Two','Three','Four']\n",
    "\n",
    "d3 = {x : y for x,y in enumerate(l3, start=1)}"
   ]
  },
  {
   "cell_type": "code",
   "execution_count": 8,
   "id": "b7c908b3-5ad0-4d1b-9075-7c50c38f197d",
   "metadata": {},
   "outputs": [
    {
     "data": {
      "text/plain": [
       "{1: 'One', 2: 'Two', 3: 'Three', 4: 'Four'}"
      ]
     },
     "execution_count": 8,
     "metadata": {},
     "output_type": "execute_result"
    }
   ],
   "source": [
    "d3"
   ]
  },
  {
   "cell_type": "markdown",
   "id": "c200197f-3077-4647-82d6-5b828044717f",
   "metadata": {},
   "source": [
    "## Dictonary Methods"
   ]
  },
  {
   "cell_type": "code",
   "execution_count": 9,
   "id": "54051c78-c95f-4a36-b3ed-3eb59a3f3240",
   "metadata": {},
   "outputs": [],
   "source": [
    "d = {1: 'One', 2: 'Two', 3: 'Three', 4: 'Four'}"
   ]
  },
  {
   "cell_type": "code",
   "execution_count": 10,
   "id": "3a2ab426-e2ba-40e9-be45-a25a3fb5a7c0",
   "metadata": {},
   "outputs": [
    {
     "name": "stdout",
     "output_type": "stream",
     "text": [
      "1 One\n",
      "2 Two\n",
      "3 Three\n",
      "4 Four\n"
     ]
    }
   ],
   "source": [
    "for i in d:\n",
    "    print(i, d[i])"
   ]
  },
  {
   "cell_type": "code",
   "execution_count": 11,
   "id": "39a4f7f8-f718-4925-a263-b9eb7dc5abab",
   "metadata": {},
   "outputs": [
    {
     "data": {
      "text/plain": [
       "dict_keys([1, 2, 3, 4])"
      ]
     },
     "execution_count": 11,
     "metadata": {},
     "output_type": "execute_result"
    }
   ],
   "source": [
    "d.keys()"
   ]
  },
  {
   "cell_type": "code",
   "execution_count": 12,
   "id": "1f148a60-55e7-40ed-8bc6-6267ba367512",
   "metadata": {},
   "outputs": [
    {
     "name": "stdout",
     "output_type": "stream",
     "text": [
      "1\n",
      "2\n",
      "3\n",
      "4\n"
     ]
    }
   ],
   "source": [
    "for x in d.keys():\n",
    "    print(x)"
   ]
  },
  {
   "cell_type": "code",
   "execution_count": 13,
   "id": "3a839042-b76d-44f9-8cc5-d7c5c4258dc1",
   "metadata": {},
   "outputs": [
    {
     "data": {
      "text/plain": [
       "dict_values(['One', 'Two', 'Three', 'Four'])"
      ]
     },
     "execution_count": 13,
     "metadata": {},
     "output_type": "execute_result"
    }
   ],
   "source": [
    "d.values()"
   ]
  },
  {
   "cell_type": "code",
   "execution_count": 14,
   "id": "31f48673-d7b6-4852-83ac-6420462c64f7",
   "metadata": {},
   "outputs": [
    {
     "name": "stdout",
     "output_type": "stream",
     "text": [
      "One\n",
      "Two\n",
      "Three\n",
      "Four\n"
     ]
    }
   ],
   "source": [
    "for x in d.values():\n",
    "    print(x)"
   ]
  },
  {
   "cell_type": "code",
   "execution_count": 15,
   "id": "305070c2-46cd-4d28-b7e1-4768b804bba2",
   "metadata": {},
   "outputs": [
    {
     "data": {
      "text/plain": [
       "dict_items([(1, 'One'), (2, 'Two'), (3, 'Three'), (4, 'Four')])"
      ]
     },
     "execution_count": 15,
     "metadata": {},
     "output_type": "execute_result"
    }
   ],
   "source": [
    "d.items()"
   ]
  },
  {
   "cell_type": "code",
   "execution_count": 16,
   "id": "1aeddbb9-e66d-4fae-babe-46cff5d5eb85",
   "metadata": {},
   "outputs": [
    {
     "name": "stdout",
     "output_type": "stream",
     "text": [
      "1 One\n",
      "2 Two\n",
      "3 Three\n",
      "4 Four\n"
     ]
    }
   ],
   "source": [
    "for x,y in d.items():\n",
    "    print(x,y)"
   ]
  },
  {
   "cell_type": "code",
   "execution_count": 17,
   "id": "76835278-6764-416f-ba10-abce24d1a06a",
   "metadata": {},
   "outputs": [
    {
     "data": {
      "text/plain": [
       "'Four'"
      ]
     },
     "execution_count": 17,
     "metadata": {},
     "output_type": "execute_result"
    }
   ],
   "source": [
    "d.get(4)"
   ]
  },
  {
   "cell_type": "code",
   "execution_count": 18,
   "id": "f3d658a1-4713-4445-8912-e5b7bd93a157",
   "metadata": {},
   "outputs": [
    {
     "data": {
      "text/plain": [
       "'Missing'"
      ]
     },
     "execution_count": 18,
     "metadata": {},
     "output_type": "execute_result"
    }
   ],
   "source": [
    "d.get(5, 'Missing')"
   ]
  },
  {
   "cell_type": "code",
   "execution_count": 19,
   "id": "cdec012d-0989-4400-979f-73015c481dd8",
   "metadata": {},
   "outputs": [
    {
     "data": {
      "text/plain": [
       "'Undefined'"
      ]
     },
     "execution_count": 19,
     "metadata": {},
     "output_type": "execute_result"
    }
   ],
   "source": [
    "d.setdefault(5, 'Undefined')"
   ]
  },
  {
   "cell_type": "code",
   "execution_count": 20,
   "id": "86714d72-9a58-405e-81b0-190f12b47972",
   "metadata": {},
   "outputs": [
    {
     "data": {
      "text/plain": [
       "{1: 'One', 2: 'Two', 3: 'Three', 4: 'Four', 5: 'Undefined'}"
      ]
     },
     "execution_count": 20,
     "metadata": {},
     "output_type": "execute_result"
    }
   ],
   "source": [
    "d"
   ]
  }
 ],
 "metadata": {
  "kernelspec": {
   "display_name": "Python 3 (ipykernel)",
   "language": "python",
   "name": "python3"
  },
  "language_info": {
   "codemirror_mode": {
    "name": "ipython",
    "version": 3
   },
   "file_extension": ".py",
   "mimetype": "text/x-python",
   "name": "python",
   "nbconvert_exporter": "python",
   "pygments_lexer": "ipython3",
   "version": "3.13.5"
  }
 },
 "nbformat": 4,
 "nbformat_minor": 5
}
