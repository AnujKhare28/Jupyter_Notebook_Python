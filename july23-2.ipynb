{
 "cells": [
  {
   "cell_type": "markdown",
   "id": "618032db-03a7-4a41-877a-beda033d6468",
   "metadata": {},
   "source": [
    "### Checking a list is palindrome"
   ]
  },
  {
   "cell_type": "code",
   "execution_count": 11,
   "id": "396e986d-b1c3-406d-b9ec-0a4503bcee84",
   "metadata": {},
   "outputs": [
    {
     "name": "stdin",
     "output_type": "stream",
     "text": [
      " 4 4 3 2 3 4 4\n"
     ]
    },
    {
     "name": "stdout",
     "output_type": "stream",
     "text": [
      "[4, 4, 3, 2, 3, 4, 4]\n",
      "[4, 4, 3, 2, 3, 4, 4]\n",
      "Palindrome\n"
     ]
    }
   ],
   "source": [
    "l = input()\n",
    "l = l.split()\n",
    "l = [int(x) for x in l]\n",
    "print(l)\n",
    "l2 = l[::-1]\n",
    "print(l2)\n",
    "if l == l2:\n",
    "    print(\"Palindrome\")\n",
    "else:\n",
    "    print(\"Not Palindrome\")"
   ]
  },
  {
   "cell_type": "code",
   "execution_count": 12,
   "id": "33431956-9276-4fd5-adb5-3c033ebccdbf",
   "metadata": {},
   "outputs": [
    {
     "name": "stdin",
     "output_type": "stream",
     "text": [
      " 4 4 3 2 3 2 4 4\n"
     ]
    },
    {
     "name": "stdout",
     "output_type": "stream",
     "text": [
      "[4, 4, 3, 2, 3, 2, 4, 4]\n",
      "[4, 4, 2, 3, 2, 3, 4, 4]\n",
      "Not Palindrome\n"
     ]
    }
   ],
   "source": [
    "l = input()\n",
    "l = l.split()\n",
    "l = [int(x) for x in l]\n",
    "print(l)\n",
    "l2 = l[::-1]\n",
    "print(l2)\n",
    "if l == l2:\n",
    "    print(\"Palindrome\")\n",
    "else:\n",
    "    print(\"Not Palindrome\")"
   ]
  },
  {
   "cell_type": "markdown",
   "id": "1f969104-d66d-4fcf-8b5a-baff5a44fd03",
   "metadata": {},
   "source": [
    "### Rotating a list"
   ]
  },
  {
   "cell_type": "code",
   "execution_count": 22,
   "id": "bd312452-d75b-47ea-b467-f685db3fbe78",
   "metadata": {},
   "outputs": [
    {
     "name": "stdin",
     "output_type": "stream",
     "text": [
      " 2\n"
     ]
    },
    {
     "name": "stdout",
     "output_type": "stream",
     "text": [
      "[6, 7, 9, 3, 5, 7, 3, 2, 1, 3, 4]\n"
     ]
    }
   ],
   "source": [
    "n = int(input())\n",
    "l = [3,4,6,7,9,3,5,7,3,2,1]\n",
    "l2 = l[n:]+l[:n]\n",
    "print(l2)"
   ]
  },
  {
   "cell_type": "code",
   "execution_count": null,
   "id": "3a30bb50-395a-4dd3-b5de-24ad6026bde8",
   "metadata": {},
   "outputs": [],
   "source": []
  }
 ],
 "metadata": {
  "kernelspec": {
   "display_name": "Python 3 (ipykernel)",
   "language": "python",
   "name": "python3"
  },
  "language_info": {
   "codemirror_mode": {
    "name": "ipython",
    "version": 3
   },
   "file_extension": ".py",
   "mimetype": "text/x-python",
   "name": "python",
   "nbconvert_exporter": "python",
   "pygments_lexer": "ipython3",
   "version": "3.13.5"
  }
 },
 "nbformat": 4,
 "nbformat_minor": 5
}
