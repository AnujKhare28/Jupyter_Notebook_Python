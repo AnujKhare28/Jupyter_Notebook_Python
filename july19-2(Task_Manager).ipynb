{
 "cells": [
  {
   "cell_type": "markdown",
   "id": "f89fb864-70b7-4a1c-882d-a2cca0dda78a",
   "metadata": {},
   "source": [
    "### Task Manager"
   ]
  },
  {
   "cell_type": "code",
   "execution_count": null,
   "id": "1d81e122-7aae-4a31-8532-7df7b5919521",
   "metadata": {},
   "outputs": [
    {
     "name": "stdout",
     "output_type": "stream",
     "text": [
      "WELCOME TO THE TASK MANAGEMENT APP\n"
     ]
    },
    {
     "name": "stdin",
     "output_type": "stream",
     "text": [
      "Enter how many task you want to add:  2\n",
      "Enter Task 1:  coding\n",
      "Enter Task 2:  running\n"
     ]
    },
    {
     "name": "stdout",
     "output_type": "stream",
     "text": [
      "Today's Task are \n",
      " ['coding', 'running']\n"
     ]
    }
   ],
   "source": [
    "def task():\n",
    "    tasks = []\n",
    "    print(\"WELCOME TO THE TASK MANAGEMENT APP\")\n",
    "\n",
    "    total_task = int(input(\"Enter how many task you want to add: \"))\n",
    "    for i in range(1, total_task+1):\n",
    "        task_name = input(f\"Enter Task {i}: \")\n",
    "        tasks.append(task_name)\n",
    "\n",
    "    print(f\"Today's Task are \\n {tasks}\")\n",
    "\n",
    "    while True:\n",
    "        operation = int(input(\"Enter 1-Add\\n2-Update\\n3-Delete\\n4-View\\n5-Exit/Stop\"))\n",
    "        if operation == 1:\n",
    "            add = input(\"Enter task you want to add: \")\n",
    "            tasks.append(add)\n",
    "            print(f\"Task {add} has been Successfully added...\")\n",
    "\n",
    "        elif operation == 2:\n",
    "            updated_val = input(\"Enter the task you want to update: \")\n",
    "            if updated_val in tasks:\n",
    "                up = input(\"Enter new Task:\")\n",
    "                ind = tasks.index(updated_val)\n",
    "                tasks[ind] = up\n",
    "                print(f\"Updated task {up}\")\n",
    "        elif operation == 3:\n",
    "            del_val = input(\"Which task you want to Delete: \")\n",
    "            if del_val in tasks:\n",
    "                ind = tasks.index(del_val)\n",
    "                del tasks[ind]\n",
    "                print(f\"Task {del_val} has been deleted...\")\n",
    "\n",
    "        elif operation == 4:\n",
    "            print(f\"Total Tasks: {tasks}\")\n",
    "\n",
    "        elif operation == 5:\n",
    "            print(\"Closing the program...\")\n",
    "            break\n",
    "        else:\n",
    "            print(\"Invalid Input\")\n",
    "\n",
    "task()"
   ]
  },
  {
   "cell_type": "code",
   "execution_count": null,
   "id": "1565c608-74ec-4b0c-8b2c-e06ff53ae20c",
   "metadata": {},
   "outputs": [],
   "source": []
  }
 ],
 "metadata": {
  "kernelspec": {
   "display_name": "Python 3 (ipykernel)",
   "language": "python",
   "name": "python3"
  },
  "language_info": {
   "codemirror_mode": {
    "name": "ipython",
    "version": 3
   },
   "file_extension": ".py",
   "mimetype": "text/x-python",
   "name": "python",
   "nbconvert_exporter": "python",
   "pygments_lexer": "ipython3",
   "version": "3.13.5"
  }
 },
 "nbformat": 4,
 "nbformat_minor": 5
}
