{
 "cells": [
  {
   "cell_type": "markdown",
   "id": "89e68632-243c-423a-86b4-1f55fabd11c1",
   "metadata": {},
   "source": [
    "### Weekly Wages"
   ]
  },
  {
   "cell_type": "code",
   "execution_count": 4,
   "id": "a1b902e8-52d1-42c5-8022-cd8d6add5f1a",
   "metadata": {},
   "outputs": [
    {
     "name": "stdin",
     "output_type": "stream",
     "text": [
      "Enter the hours of work in the week: 8 7 9 6 4 6\n",
      "Enter the hourly Wage: 12\n"
     ]
    },
    {
     "name": "stdout",
     "output_type": "stream",
     "text": [
      "480\n"
     ]
    }
   ],
   "source": [
    "hours = input(\"Enter the hours of work in the week:\")\n",
    "wage = int(input(\"Enter the hourly Wage:\"))\n",
    "\n",
    "hours = hours.split()\n",
    "\n",
    "week_hours = [int(x) for x in hours]\n",
    "\n",
    "total_hrs = sum(week_hours)\n",
    "\n",
    "if total_hrs <= 40:\n",
    "    tot_wage = total_hrs*wage\n",
    "else:\n",
    "    overtime = total_hrs - 40\n",
    "    tot_wage = 40*wage + overtime*wage*1.5\n",
    "print(tot_wage)"
   ]
  },
  {
   "cell_type": "markdown",
   "id": "3301a079-4e18-42a2-98a8-f0357a0e4a3b",
   "metadata": {},
   "source": [
    "### Removing duplicates"
   ]
  },
  {
   "cell_type": "code",
   "execution_count": 7,
   "id": "739085ea-130d-4cb8-850c-12d9b62695fe",
   "metadata": {},
   "outputs": [
    {
     "name": "stdout",
     "output_type": "stream",
     "text": [
      "[1, 3, 4, 5, 6, 7, 8, 9]\n"
     ]
    }
   ],
   "source": [
    "l = [1,3,4,5,6,3,7,5,3,4,8,9,8,7,4,3]\n",
    "r = []\n",
    "\n",
    "for i in range(len(l)):\n",
    "    if l[i] not in r:\n",
    "        r.append(l[i])\n",
    "print(r)"
   ]
  },
  {
   "cell_type": "markdown",
   "id": "c6e59bfa-ebc6-4dc9-8e4d-66973aa1796d",
   "metadata": {},
   "source": [
    "### Odd and Even List "
   ]
  },
  {
   "cell_type": "code",
   "execution_count": 15,
   "id": "45129c77-67a2-4c71-a993-9b7514c3273d",
   "metadata": {},
   "outputs": [],
   "source": [
    "l2 = [4,6,7,3,2,7,7,9,2,3,3,9,8,6,5,3,1,2,4,5,7,8]\n",
    "odd =[]\n",
    "even = []\n",
    "odd = [i for i in l2 if i%2 != 0]\n",
    "even = [i for i in l2 if i%2 == 0]\n"
   ]
  },
  {
   "cell_type": "code",
   "execution_count": 16,
   "id": "a6d191e6-c8ec-435f-a4e3-f5aa39d3b813",
   "metadata": {},
   "outputs": [
    {
     "data": {
      "text/plain": [
       "[7, 3, 7, 7, 9, 3, 3, 9, 5, 3, 1, 5, 7]"
      ]
     },
     "execution_count": 16,
     "metadata": {},
     "output_type": "execute_result"
    }
   ],
   "source": [
    "odd"
   ]
  },
  {
   "cell_type": "code",
   "execution_count": 17,
   "id": "bb72a45a-6e23-44d3-806d-7f80f1256e54",
   "metadata": {},
   "outputs": [
    {
     "data": {
      "text/plain": [
       "[4, 6, 2, 2, 8, 6, 2, 4, 8]"
      ]
     },
     "execution_count": 17,
     "metadata": {},
     "output_type": "execute_result"
    }
   ],
   "source": [
    "even"
   ]
  },
  {
   "cell_type": "code",
   "execution_count": null,
   "id": "6f07b41f-804c-4867-80c4-57c605443b04",
   "metadata": {},
   "outputs": [],
   "source": []
  }
 ],
 "metadata": {
  "kernelspec": {
   "display_name": "Python 3 (ipykernel)",
   "language": "python",
   "name": "python3"
  },
  "language_info": {
   "codemirror_mode": {
    "name": "ipython",
    "version": 3
   },
   "file_extension": ".py",
   "mimetype": "text/x-python",
   "name": "python",
   "nbconvert_exporter": "python",
   "pygments_lexer": "ipython3",
   "version": "3.13.5"
  }
 },
 "nbformat": 4,
 "nbformat_minor": 5
}
