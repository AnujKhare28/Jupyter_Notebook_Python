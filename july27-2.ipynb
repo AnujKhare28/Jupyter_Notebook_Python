{
 "cells": [
  {
   "cell_type": "markdown",
   "id": "0b2c4bfe-36bb-4dee-a771-01aeb86019cf",
   "metadata": {},
   "source": [
    "### Validate Work Age"
   ]
  },
  {
   "cell_type": "code",
   "execution_count": 1,
   "id": "22d05fe1-cf72-4853-a8bb-5f35591b1b7b",
   "metadata": {},
   "outputs": [
    {
     "name": "stdin",
     "output_type": "stream",
     "text": [
      "Enter Name: Anuj\n",
      "Enter Age: 23\n"
     ]
    },
    {
     "name": "stdout",
     "output_type": "stream",
     "text": [
      "You can join Work\n"
     ]
    }
   ],
   "source": [
    "class InvalidAgeError(Exception):\n",
    "    pass\n",
    "\n",
    "def validate_age(age):\n",
    "    if age >= 18 and age <= 60: \n",
    "        return True\n",
    "    else:\n",
    "        raise InvalidAgeError('Age should be between 18-60')\n",
    "\n",
    "name = input(\"Enter Name:\")\n",
    "age = int(input('Enter Age:'))\n",
    "\n",
    "try:\n",
    "    validate_age(age)\n",
    "    print('You can join Work')\n",
    "except InvalidAgeError as e:\n",
    "    print(e)"
   ]
  },
  {
   "cell_type": "code",
   "execution_count": 2,
   "id": "4bedc4d1-3081-48f1-bd72-ea6e1dcee7a2",
   "metadata": {},
   "outputs": [
    {
     "name": "stdin",
     "output_type": "stream",
     "text": [
      "Enter Name: Krishna\n",
      "Enter Age: 16\n"
     ]
    },
    {
     "name": "stdout",
     "output_type": "stream",
     "text": [
      "Age should be between 18-60\n"
     ]
    }
   ],
   "source": [
    "class InvalidAgeError(Exception):\n",
    "    pass\n",
    "\n",
    "def validate_age(age):\n",
    "    if age >= 18 and age <= 60: \n",
    "        return True\n",
    "    else:\n",
    "        raise InvalidAgeError('Age should be between 18-60')\n",
    "\n",
    "name = input(\"Enter Name:\")\n",
    "age = int(input('Enter Age:'))\n",
    "\n",
    "try:\n",
    "    validate_age(age)\n",
    "    print('You can join Work')\n",
    "except InvalidAgeError as e:\n",
    "    print(e)"
   ]
  },
  {
   "cell_type": "code",
   "execution_count": null,
   "id": "2fa058e5-abdb-46b4-b7fe-0fc13b19a786",
   "metadata": {},
   "outputs": [],
   "source": []
  }
 ],
 "metadata": {
  "kernelspec": {
   "display_name": "Python 3 (ipykernel)",
   "language": "python",
   "name": "python3"
  },
  "language_info": {
   "codemirror_mode": {
    "name": "ipython",
    "version": 3
   },
   "file_extension": ".py",
   "mimetype": "text/x-python",
   "name": "python",
   "nbconvert_exporter": "python",
   "pygments_lexer": "ipython3",
   "version": "3.13.5"
  }
 },
 "nbformat": 4,
 "nbformat_minor": 5
}
