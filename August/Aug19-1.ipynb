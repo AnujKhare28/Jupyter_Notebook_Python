{
 "cells": [
  {
   "cell_type": "code",
   "execution_count": 6,
   "id": "4335bb27-907e-4eb0-a29e-e461803474fe",
   "metadata": {},
   "outputs": [],
   "source": [
    "def bim(): \n",
    "    h = float(input(\"Enter height in meter\"))\n",
    "    w = float(input(\"Enter weight in kgs:\"))\n",
    "    bmi = weight / (h**2)"
   ]
  },
  {
   "cell_type": "code",
   "execution_count": 7,
   "id": "0773147c-a107-4c17-a2dc-653436dba90e",
   "metadata": {},
   "outputs": [
    {
     "name": "stdin",
     "output_type": "stream",
     "text": [
      "Enter height in meter 1.84\n",
      "Enter weight in kgs: 68\n"
     ]
    },
    {
     "name": "stdout",
     "output_type": "stream",
     "text": [
      "BMI: 20.085066162570886\n"
     ]
    }
   ],
   "source": [
    "bmi()"
   ]
  },
  {
   "cell_type": "code",
   "execution_count": null,
   "id": "deca936f-8c73-4108-9002-38e01cf51537",
   "metadata": {},
   "outputs": [],
   "source": []
  }
 ],
 "metadata": {
  "kernelspec": {
   "display_name": "Python 3 (ipykernel)",
   "language": "python",
   "name": "python3"
  },
  "language_info": {
   "codemirror_mode": {
    "name": "ipython",
    "version": 3
   },
   "file_extension": ".py",
   "mimetype": "text/x-python",
   "name": "python",
   "nbconvert_exporter": "python",
   "pygments_lexer": "ipython3",
   "version": "3.13.5"
  }
 },
 "nbformat": 4,
 "nbformat_minor": 5
}
