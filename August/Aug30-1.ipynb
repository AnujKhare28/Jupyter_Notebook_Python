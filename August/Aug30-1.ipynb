{
 "cells": [
  {
   "cell_type": "code",
   "execution_count": 2,
   "id": "d01dc7f2-b659-43dd-9d02-b0c246619018",
   "metadata": {},
   "outputs": [
    {
     "name": "stdin",
     "output_type": "stream",
     "text": [
      " 08 28 2002\n"
     ]
    },
    {
     "name": "stdout",
     "output_type": "stream",
     "text": [
      "WEDNESDAY\n"
     ]
    }
   ],
   "source": [
    "import calendar  as cl \n",
    "\n",
    "m, d , y = map(int, input().split())\n",
    "\n",
    "day = cl.weekday(y,m,d)\n",
    "\n",
    "if day == 0: \n",
    "    print('MONDAY')\n",
    "elif day == 1:\n",
    "    print('TUESDAY')\n",
    "elif day == 2:\n",
    "    print('WEDNESDAY')\n",
    "elif day == 3:\n",
    "    print('THURSDAY')\n",
    "elif day == 4:\n",
    "    print('FRIDAY')\n",
    "elif day == 5:\n",
    "    print('SATURDAY')\n",
    "elif day == 6:\n",
    "    print('SUNDAY')"
   ]
  },
  {
   "cell_type": "code",
   "execution_count": null,
   "id": "8dafe1cb-f8d7-4a72-903c-3ed7e4dfeba7",
   "metadata": {},
   "outputs": [],
   "source": []
  }
 ],
 "metadata": {
  "kernelspec": {
   "display_name": "Python 3 (ipykernel)",
   "language": "python",
   "name": "python3"
  },
  "language_info": {
   "codemirror_mode": {
    "name": "ipython",
    "version": 3
   },
   "file_extension": ".py",
   "mimetype": "text/x-python",
   "name": "python",
   "nbconvert_exporter": "python",
   "pygments_lexer": "ipython3",
   "version": "3.13.5"
  }
 },
 "nbformat": 4,
 "nbformat_minor": 5
}
