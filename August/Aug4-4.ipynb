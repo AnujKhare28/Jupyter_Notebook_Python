{
 "cells": [
  {
   "cell_type": "code",
   "execution_count": 11,
   "id": "0c1a7ef4-c1d7-466b-84a7-a1aade9aa42c",
   "metadata": {},
   "outputs": [
    {
     "name": "stdout",
     "output_type": "stream",
     "text": [
      "7 Swarali\n"
     ]
    }
   ],
   "source": [
    "l = ['Anuj','Anubhav','Ankit', 'Swarali','Mitthu','Ajay']\n",
    "\n",
    "lt = []\n",
    "for i in l:\n",
    "   lt.append((len(i),i))\n",
    "lt.sort()\n",
    "print(lt[-1][0],lt[-1][1])"
   ]
  },
  {
   "cell_type": "code",
   "execution_count": 25,
   "id": "d61f9d4c-4e99-454e-93e4-544b7b589f83",
   "metadata": {},
   "outputs": [],
   "source": [
    "s = 'BackendWebdevelopment'\n",
    "s1 = ''\n",
    "for i in range(len(s)):\n",
    "    if i % 2 != 0:\n",
    "        s1 = s1 + s[i]"
   ]
  },
  {
   "cell_type": "code",
   "execution_count": 26,
   "id": "86fca44e-4fc0-4c32-8c64-f14262e67198",
   "metadata": {},
   "outputs": [
    {
     "data": {
      "text/plain": [
       "'aknWbeeomn'"
      ]
     },
     "execution_count": 26,
     "metadata": {},
     "output_type": "execute_result"
    }
   ],
   "source": [
    "s1"
   ]
  },
  {
   "cell_type": "code",
   "execution_count": null,
   "id": "d9cd39ca-97ff-4304-89ee-9f41cf7a0edd",
   "metadata": {},
   "outputs": [],
   "source": []
  }
 ],
 "metadata": {
  "kernelspec": {
   "display_name": "Python 3 (ipykernel)",
   "language": "python",
   "name": "python3"
  },
  "language_info": {
   "codemirror_mode": {
    "name": "ipython",
    "version": 3
   },
   "file_extension": ".py",
   "mimetype": "text/x-python",
   "name": "python",
   "nbconvert_exporter": "python",
   "pygments_lexer": "ipython3",
   "version": "3.13.5"
  }
 },
 "nbformat": 4,
 "nbformat_minor": 5
}
