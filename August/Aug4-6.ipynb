{
 "cells": [
  {
   "cell_type": "markdown",
   "id": "3d3bb094-1cbd-4056-afb2-0727a6674056",
   "metadata": {},
   "source": [
    "### 10 zeros, 10 ones and 10 fives"
   ]
  },
  {
   "cell_type": "code",
   "execution_count": 1,
   "id": "556bfb84-c5d2-4446-a979-eae374ea8832",
   "metadata": {},
   "outputs": [],
   "source": [
    "import numpy as np"
   ]
  },
  {
   "cell_type": "code",
   "execution_count": 2,
   "id": "acc5e6b2-7f1e-4572-9b8c-88cfc1031469",
   "metadata": {},
   "outputs": [],
   "source": [
    "arr1 = np.zeros(10)"
   ]
  },
  {
   "cell_type": "code",
   "execution_count": 3,
   "id": "2f30c96e-bca1-4182-8188-51150a983d1b",
   "metadata": {},
   "outputs": [
    {
     "data": {
      "text/plain": [
       "array([0., 0., 0., 0., 0., 0., 0., 0., 0., 0.])"
      ]
     },
     "execution_count": 3,
     "metadata": {},
     "output_type": "execute_result"
    }
   ],
   "source": [
    "arr1"
   ]
  },
  {
   "cell_type": "code",
   "execution_count": 4,
   "id": "e31a5dbd-66d6-41b8-a859-b64e3caccbf6",
   "metadata": {},
   "outputs": [],
   "source": [
    "arr2 = np.ones(10)"
   ]
  },
  {
   "cell_type": "code",
   "execution_count": 5,
   "id": "edaa1644-9ac5-408c-9bf9-784a0c57c17e",
   "metadata": {},
   "outputs": [
    {
     "data": {
      "text/plain": [
       "array([1., 1., 1., 1., 1., 1., 1., 1., 1., 1.])"
      ]
     },
     "execution_count": 5,
     "metadata": {},
     "output_type": "execute_result"
    }
   ],
   "source": [
    "arr2"
   ]
  },
  {
   "cell_type": "code",
   "execution_count": 6,
   "id": "aa3dc24b-edbe-4ade-9973-d2278c4d7abd",
   "metadata": {},
   "outputs": [],
   "source": [
    "arr3 = arr2 * 5"
   ]
  },
  {
   "cell_type": "code",
   "execution_count": 7,
   "id": "c2aa0bad-2717-4845-a3f2-3eb257c33147",
   "metadata": {},
   "outputs": [
    {
     "data": {
      "text/plain": [
       "array([5., 5., 5., 5., 5., 5., 5., 5., 5., 5.])"
      ]
     },
     "execution_count": 7,
     "metadata": {},
     "output_type": "execute_result"
    }
   ],
   "source": [
    "arr3"
   ]
  },
  {
   "cell_type": "markdown",
   "id": "8ced7c4a-2aeb-4349-a5be-d2838a252c20",
   "metadata": {},
   "source": [
    "### Random sequences"
   ]
  },
  {
   "cell_type": "code",
   "execution_count": 8,
   "id": "78254d4a-ea8a-46f0-a7d8-4dfe8d45fabe",
   "metadata": {},
   "outputs": [
    {
     "data": {
      "text/plain": [
       "array([1, 2, 3])"
      ]
     },
     "execution_count": 8,
     "metadata": {},
     "output_type": "execute_result"
    }
   ],
   "source": [
    "a = np.array([1,2,3])\n",
    "a"
   ]
  },
  {
   "cell_type": "code",
   "execution_count": 11,
   "id": "1399efa0-8a89-45ab-b1d1-bb36d2f8751f",
   "metadata": {},
   "outputs": [
    {
     "data": {
      "text/plain": [
       "array([1, 1, 1, 2, 2, 2, 3, 3, 3])"
      ]
     },
     "execution_count": 11,
     "metadata": {},
     "output_type": "execute_result"
    }
   ],
   "source": [
    "b = np.repeat(a,3)\n",
    "b"
   ]
  },
  {
   "cell_type": "code",
   "execution_count": 12,
   "id": "59bde872-2e02-41ad-b585-45d5598f4cb7",
   "metadata": {},
   "outputs": [
    {
     "data": {
      "text/plain": [
       "array([1, 2, 3, 1, 2, 3, 1, 2, 3])"
      ]
     },
     "execution_count": 12,
     "metadata": {},
     "output_type": "execute_result"
    }
   ],
   "source": [
    "c = np.tile(a,3)\n",
    "c"
   ]
  },
  {
   "cell_type": "code",
   "execution_count": 13,
   "id": "6cd9ddfd-653b-4d6f-97a1-3a5c51cd6315",
   "metadata": {},
   "outputs": [
    {
     "data": {
      "text/plain": [
       "array([1, 1, 1, 2, 2, 2, 3, 3, 3, 1, 2, 3, 1, 2, 3, 1, 2, 3])"
      ]
     },
     "execution_count": 13,
     "metadata": {},
     "output_type": "execute_result"
    }
   ],
   "source": [
    "np.concatenate([b,c])"
   ]
  },
  {
   "cell_type": "markdown",
   "id": "ca16f932-a044-400f-9897-fcb0a3ff8def",
   "metadata": {},
   "source": [
    "### Get the memory size"
   ]
  },
  {
   "cell_type": "code",
   "execution_count": 14,
   "id": "053f09f7-4817-4736-bd55-708c3f9480c7",
   "metadata": {},
   "outputs": [],
   "source": [
    "my_arr = np.array([1,7,13,105])"
   ]
  },
  {
   "cell_type": "code",
   "execution_count": 15,
   "id": "a534f1f4-2e2e-4348-9349-0f614a2b8bef",
   "metadata": {},
   "outputs": [
    {
     "name": "stdout",
     "output_type": "stream",
     "text": [
      "[  1   7  13 105]\n"
     ]
    }
   ],
   "source": [
    "print(my_arr)"
   ]
  },
  {
   "cell_type": "code",
   "execution_count": 16,
   "id": "0e706ecd-3e86-4796-a05d-c3ad4764fdfe",
   "metadata": {},
   "outputs": [
    {
     "data": {
      "text/plain": [
       "8"
      ]
     },
     "execution_count": 16,
     "metadata": {},
     "output_type": "execute_result"
    }
   ],
   "source": [
    "my_arr.itemsize"
   ]
  },
  {
   "cell_type": "code",
   "execution_count": 17,
   "id": "f9b95989-449b-4bbe-be2b-d903049d7dad",
   "metadata": {},
   "outputs": [
    {
     "data": {
      "text/plain": [
       "4"
      ]
     },
     "execution_count": 17,
     "metadata": {},
     "output_type": "execute_result"
    }
   ],
   "source": [
    "my_arr.size"
   ]
  },
  {
   "cell_type": "code",
   "execution_count": null,
   "id": "45ac62f0-cb75-4a50-bc2a-edd47fe8b26b",
   "metadata": {},
   "outputs": [],
   "source": []
  }
 ],
 "metadata": {
  "kernelspec": {
   "display_name": "Python 3 (ipykernel)",
   "language": "python",
   "name": "python3"
  },
  "language_info": {
   "codemirror_mode": {
    "name": "ipython",
    "version": 3
   },
   "file_extension": ".py",
   "mimetype": "text/x-python",
   "name": "python",
   "nbconvert_exporter": "python",
   "pygments_lexer": "ipython3",
   "version": "3.13.5"
  }
 },
 "nbformat": 4,
 "nbformat_minor": 5
}
