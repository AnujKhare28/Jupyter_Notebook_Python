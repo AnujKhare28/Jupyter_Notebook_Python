{
 "cells": [
  {
   "cell_type": "code",
   "execution_count": 2,
   "id": "9b5eac9e-d661-477f-948f-1775bdab300d",
   "metadata": {},
   "outputs": [
    {
     "name": "stdout",
     "output_type": "stream",
     "text": [
      "Enter three numbers\n"
     ]
    },
    {
     "name": "stdin",
     "output_type": "stream",
     "text": [
      " 5\n",
      " 4\n",
      " 8\n"
     ]
    },
    {
     "name": "stdout",
     "output_type": "stream",
     "text": [
      "8is largest\n"
     ]
    }
   ],
   "source": [
    "print(\"Enter three numbers\")\n",
    "num1 = int (input())\n",
    "num2 = int (input())\n",
    "num3 = int (input())\n",
    "\n",
    "if (num1 > num2) and (num1 > num3):\n",
    "    print (f\"{num1}is largest\")\n",
    "elif (num2 > num1) and (num2 > num3):\n",
    "    print (f\"{num2}is largest\")\n",
    "else:\n",
    "    print (f\"{num3}is largest\")"
   ]
  },
  {
   "cell_type": "code",
   "execution_count": 3,
   "id": "8050bb3c-48e4-439e-b66c-964e8f4d4691",
   "metadata": {},
   "outputs": [
    {
     "name": "stdin",
     "output_type": "stream",
     "text": [
      "Enter a number:  5\n"
     ]
    },
    {
     "name": "stdout",
     "output_type": "stream",
     "text": [
      "The Factorail of the 5 is 120\n"
     ]
    }
   ],
   "source": [
    "num = int(input(\"Enter a number: \"))\n",
    "\n",
    "fact = 1\n",
    "\n",
    "if num < 0 :\n",
    "    print (\"Factorial of negative no. does not exist\")\n",
    "if num == 0 :\n",
    "    print (\"Factorial of Zero is 1\")\n",
    "if num > 0 :\n",
    "    for i in range (1, num + 1):\n",
    "        fact = fact * i\n",
    "print (f\"The Factorail of the {num} is {fact}\")"
   ]
  },
  {
   "cell_type": "code",
   "execution_count": null,
   "id": "da630034-46a9-4aea-af55-3bf11c10779a",
   "metadata": {},
   "outputs": [],
   "source": []
  }
 ],
 "metadata": {
  "kernelspec": {
   "display_name": "Python 3 (ipykernel)",
   "language": "python",
   "name": "python3"
  },
  "language_info": {
   "codemirror_mode": {
    "name": "ipython",
    "version": 3
   },
   "file_extension": ".py",
   "mimetype": "text/x-python",
   "name": "python",
   "nbconvert_exporter": "python",
   "pygments_lexer": "ipython3",
   "version": "3.13.5"
  }
 },
 "nbformat": 4,
 "nbformat_minor": 5
}
