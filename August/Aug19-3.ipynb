{
 "cells": [
  {
   "cell_type": "code",
   "execution_count": 1,
   "id": "1d283e6a-e963-4b7a-bddf-203dd16cae6f",
   "metadata": {},
   "outputs": [
    {
     "name": "stdout",
     "output_type": "stream",
     "text": [
      "30 + 20 = 50\n",
      "30 - 20 = 10\n",
      "30 * 20 = 600\n",
      "30 / 20 = 1.5\n"
     ]
    }
   ],
   "source": [
    "\n",
    "x, y = 30, 20\n",
    "print('%s + %s = %s' % (x, y, x+y))\n",
    "print('%s - %s = %s' % (x, y, x-y))\n",
    "print('%s * %s = %s' % (x, y, x*y))\n",
    "print('%s / %s = %s' % (x, y, x/y))"
   ]
  },
  {
   "cell_type": "code",
   "execution_count": null,
   "id": "19d589e9-dacd-4f82-83b1-7185b010c545",
   "metadata": {},
   "outputs": [],
   "source": []
  }
 ],
 "metadata": {
  "kernelspec": {
   "display_name": "Python 3 (ipykernel)",
   "language": "python",
   "name": "python3"
  },
  "language_info": {
   "codemirror_mode": {
    "name": "ipython",
    "version": 3
   },
   "file_extension": ".py",
   "mimetype": "text/x-python",
   "name": "python",
   "nbconvert_exporter": "python",
   "pygments_lexer": "ipython3",
   "version": "3.13.5"
  }
 },
 "nbformat": 4,
 "nbformat_minor": 5
}
