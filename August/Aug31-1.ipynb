{
 "cells": [
  {
   "cell_type": "code",
   "execution_count": 17,
   "id": "a298e2dd-acfb-4de5-b3b2-1db3e8fa1f4a",
   "metadata": {},
   "outputs": [],
   "source": [
    "def leaders(arr): \n",
    "    result = []\n",
    "    n = len(arr)\n",
    "\n",
    "    for i in range(n): \n",
    "\n",
    "        for j in range(i + 1, n):\n",
    "            if arr[i] < arr[j]: \n",
    "                break\n",
    "        else: \n",
    "            result.append(arr[i])\n",
    "    return result"
   ]
  },
  {
   "cell_type": "code",
   "execution_count": 18,
   "id": "8cb632a2-baaf-430c-8652-f87bc97f4cad",
   "metadata": {},
   "outputs": [
    {
     "name": "stdout",
     "output_type": "stream",
     "text": [
      "17 5 2\n"
     ]
    }
   ],
   "source": [
    "arr = [16,17,4,3,5,2]\n",
    "\n",
    "result = leaders(arr)\n",
    "print(' '.join(map(str, result)))"
   ]
  }
 ],
 "metadata": {
  "kernelspec": {
   "display_name": "Python 3 (ipykernel)",
   "language": "python",
   "name": "python3"
  },
  "language_info": {
   "codemirror_mode": {
    "name": "ipython",
    "version": 3
   },
   "file_extension": ".py",
   "mimetype": "text/x-python",
   "name": "python",
   "nbconvert_exporter": "python",
   "pygments_lexer": "ipython3",
   "version": "3.13.5"
  }
 },
 "nbformat": 4,
 "nbformat_minor": 5
}
