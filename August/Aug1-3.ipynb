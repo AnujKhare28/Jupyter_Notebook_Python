{
 "cells": [
  {
   "cell_type": "markdown",
   "id": "628fb19b-7844-4f7f-909a-f593e7fb2ffc",
   "metadata": {},
   "source": [
    "### Area of Circle"
   ]
  },
  {
   "cell_type": "code",
   "execution_count": 1,
   "id": "2cfec57c-b280-486d-8573-96ba34c44885",
   "metadata": {},
   "outputs": [
    {
     "name": "stdout",
     "output_type": "stream",
     "text": [
      "153.93804002589985\n",
      "43.982297150257104\n"
     ]
    }
   ],
   "source": [
    "import math\n",
    "\n",
    "class Circle: \n",
    "    def __init__(self, r): \n",
    "        self.r = r\n",
    "\n",
    "    def area(self): \n",
    "        return math.pi * self.r * self.r\n",
    "\n",
    "    def perimeter(self): \n",
    "        return 2 * math.pi * self.r\n",
    "\n",
    "c1 = Circle(7)\n",
    "print(c1.area())\n",
    "print(c1.perimeter())"
   ]
  },
  {
   "cell_type": "markdown",
   "id": "a4a89c96-2288-4fd2-bb79-3c94dbc6bc68",
   "metadata": {},
   "source": [
    "### Employee Details"
   ]
  },
  {
   "cell_type": "code",
   "execution_count": 3,
   "id": "cbd4d953-7d5f-4b7a-b5ed-4c248b5cf0fd",
   "metadata": {},
   "outputs": [
    {
     "name": "stdout",
     "output_type": "stream",
     "text": [
      "Name: Anuj\n",
      "Eid: e101\n",
      "Designation: Software Engineer\n",
      "Salary: 80000\n",
      " \n",
      "Name: Anubhav\n",
      "Eid: e102\n",
      "Designation: Sales Manager\n",
      "Salary: 120000\n"
     ]
    }
   ],
   "source": [
    "class Employee: \n",
    "\n",
    "    employee_count = 101\n",
    "    def __init__(self, name, desgin, sal): \n",
    "        self.name = name\n",
    "        self.designation = desgin\n",
    "        self.salary = sal\n",
    "        self.eid = 'e' + str(Employee.employee_count)\n",
    "        Employee.employee_count += 1\n",
    "\n",
    "    def show_details (self): \n",
    "        print('Name:', self.name)\n",
    "        print('Eid:', self.eid)\n",
    "        print('Designation:', self.designation)\n",
    "        print('Salary:', self.salary)\n",
    "\n",
    "    @classmethod\n",
    "    def total_emp(cls):\n",
    "        return cls.employee_count - 101\n",
    "\n",
    "e1 = Employee('Anuj', 'Software Engineer', 80000)\n",
    "e2 = Employee('Anubhav', 'Sales Manager', 120000)\n",
    "\n",
    "e1.show_details()\n",
    "print(' ')\n",
    "e2.show_details()"
   ]
  },
  {
   "cell_type": "code",
   "execution_count": null,
   "id": "cac08ce8-2caa-4e7e-8735-d3ad99aad9c4",
   "metadata": {},
   "outputs": [],
   "source": []
  }
 ],
 "metadata": {
  "kernelspec": {
   "display_name": "Python 3 (ipykernel)",
   "language": "python",
   "name": "python3"
  },
  "language_info": {
   "codemirror_mode": {
    "name": "ipython",
    "version": 3
   },
   "file_extension": ".py",
   "mimetype": "text/x-python",
   "name": "python",
   "nbconvert_exporter": "python",
   "pygments_lexer": "ipython3",
   "version": "3.13.5"
  }
 },
 "nbformat": 4,
 "nbformat_minor": 5
}
