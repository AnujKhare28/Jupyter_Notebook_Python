{
 "cells": [
  {
   "cell_type": "code",
   "execution_count": null,
   "id": "1b320fad-bb24-4167-b00e-d040f9548f3b",
   "metadata": {},
   "outputs": [],
   "source": []
  }
 ],
 "metadata": {
  "kernelspec": {
   "display_name": "",
   "name": ""
  },
  "language_info": {
   "name": ""
  }
 },
 "nbformat": 4,
 "nbformat_minor": 5
}
