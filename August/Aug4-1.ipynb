{
 "cells": [
  {
   "cell_type": "markdown",
   "id": "9ba6ad85-d6e5-4cfd-ae79-528c4297dc5a",
   "metadata": {},
   "source": [
    "### Strings"
   ]
  },
  {
   "cell_type": "code",
   "execution_count": 1,
   "id": "d6e84eb0-fae1-4b0b-b4de-72967de3d6e0",
   "metadata": {},
   "outputs": [],
   "source": [
    "s = 'Anuj Khare'"
   ]
  },
  {
   "cell_type": "code",
   "execution_count": 2,
   "id": "29d16882-13c0-4b6d-8e45-940ec62003b6",
   "metadata": {},
   "outputs": [
    {
     "data": {
      "text/plain": [
       "10"
      ]
     },
     "execution_count": 2,
     "metadata": {},
     "output_type": "execute_result"
    }
   ],
   "source": [
    "len(s)"
   ]
  },
  {
   "cell_type": "code",
   "execution_count": 4,
   "id": "bb5d63c4-b740-4717-a467-979c1854f153",
   "metadata": {},
   "outputs": [
    {
     "data": {
      "text/plain": [
       "'Anuj khare'"
      ]
     },
     "execution_count": 4,
     "metadata": {},
     "output_type": "execute_result"
    }
   ],
   "source": [
    "s.capitalize()"
   ]
  },
  {
   "cell_type": "code",
   "execution_count": 5,
   "id": "86ee6031-afc0-4c2e-9119-0d4d3cf262a8",
   "metadata": {},
   "outputs": [
    {
     "data": {
      "text/plain": [
       "'anuj khare'"
      ]
     },
     "execution_count": 5,
     "metadata": {},
     "output_type": "execute_result"
    }
   ],
   "source": [
    "s.casefold()"
   ]
  },
  {
   "cell_type": "code",
   "execution_count": 6,
   "id": "259683e7-64c0-49f2-9fee-ffc64f6ac11f",
   "metadata": {},
   "outputs": [
    {
     "data": {
      "text/plain": [
       "8"
      ]
     },
     "execution_count": 6,
     "metadata": {},
     "output_type": "execute_result"
    }
   ],
   "source": [
    "s.find('r')"
   ]
  },
  {
   "cell_type": "code",
   "execution_count": 7,
   "id": "b84dc712-6b6c-465e-bbca-f9198e597372",
   "metadata": {},
   "outputs": [
    {
     "data": {
      "text/plain": [
       "'ANUJ KHARE'"
      ]
     },
     "execution_count": 7,
     "metadata": {},
     "output_type": "execute_result"
    }
   ],
   "source": [
    "s.upper()"
   ]
  },
  {
   "cell_type": "code",
   "execution_count": 8,
   "id": "474bf2ce-2b61-403b-974f-d840c206c976",
   "metadata": {},
   "outputs": [
    {
     "data": {
      "text/plain": [
       "'anuj khare'"
      ]
     },
     "execution_count": 8,
     "metadata": {},
     "output_type": "execute_result"
    }
   ],
   "source": [
    "s.lower()"
   ]
  },
  {
   "cell_type": "code",
   "execution_count": 9,
   "id": "b927b75e-6c69-453a-823c-5a23c0e9bac0",
   "metadata": {},
   "outputs": [
    {
     "data": {
      "text/plain": [
       "'Anuj Khare'"
      ]
     },
     "execution_count": 9,
     "metadata": {},
     "output_type": "execute_result"
    }
   ],
   "source": [
    "s.title()"
   ]
  },
  {
   "cell_type": "code",
   "execution_count": 10,
   "id": "a5ebbd4e-8c85-434c-b8c9-ce2c200929af",
   "metadata": {},
   "outputs": [
    {
     "name": "stdout",
     "output_type": "stream",
     "text": [
      "{'A': 1, 'n': 1, 'u': 1, 'j': 1, ' ': 1, 'K': 1, 'h': 1, 'a': 1, 'r': 1, 'e': 1}\n"
     ]
    }
   ],
   "source": [
    "s2 = 'i am in pune mahara'\n",
    "dict = {}\n",
    "\n",
    "for n in s:\n",
    "    keys = dict.keys()\n",
    "\n",
    "    if n in keys:\n",
    "\n",
    "        dict[n] += 1\n",
    "\n",
    "    else:\n",
    "\n",
    "        dict[n] = 1\n",
    "print(dict)"
   ]
  },
  {
   "cell_type": "code",
   "execution_count": null,
   "id": "84098299-db64-4c6a-a90c-6d3e71835d1a",
   "metadata": {},
   "outputs": [],
   "source": []
  }
 ],
 "metadata": {
  "kernelspec": {
   "display_name": "Python 3 (ipykernel)",
   "language": "python",
   "name": "python3"
  },
  "language_info": {
   "codemirror_mode": {
    "name": "ipython",
    "version": 3
   },
   "file_extension": ".py",
   "mimetype": "text/x-python",
   "name": "python",
   "nbconvert_exporter": "python",
   "pygments_lexer": "ipython3",
   "version": "3.13.5"
  }
 },
 "nbformat": 4,
 "nbformat_minor": 5
}
