{
 "cells": [
  {
   "cell_type": "code",
   "execution_count": 4,
   "id": "965598e4-732c-4a1a-a91a-ea853adfe1d6",
   "metadata": {},
   "outputs": [
    {
     "name": "stdin",
     "output_type": "stream",
     "text": [
      "Enter any thing: anujkhare\n"
     ]
    },
    {
     "name": "stdout",
     "output_type": "stream",
     "text": [
      "anre\n"
     ]
    }
   ],
   "source": [
    "s = input('Enter any thing:')\n",
    "\n",
    "if len(s) > 2:\n",
    "    s1 = s[0:2]\n",
    "    s2 = s[(len(s)-2):]\n",
    "    print(s1 + s2)  \n",
    "elif len(s) == 2: \n",
    "    print(s*2)\n",
    "else: \n",
    "    print()"
   ]
  },
  {
   "cell_type": "code",
   "execution_count": 5,
   "id": "e9ff9410-50dd-4238-87c0-38cd594af4f6",
   "metadata": {},
   "outputs": [
    {
     "name": "stdin",
     "output_type": "stream",
     "text": [
      "Enter any thing: AK\n"
     ]
    },
    {
     "name": "stdout",
     "output_type": "stream",
     "text": [
      "AKAK\n"
     ]
    }
   ],
   "source": [
    "s = input('Enter any thing:')\n",
    "\n",
    "if len(s) > 2:\n",
    "    s1 = s[0:2]\n",
    "    s2 = s[(len(s)-2):]\n",
    "    print(s1 + s2)  \n",
    "elif len(s) == 2: \n",
    "    print(s*2)\n",
    "else: \n",
    "    print()"
   ]
  },
  {
   "cell_type": "code",
   "execution_count": 6,
   "id": "1ab5d030-cc31-4cae-9dac-70b2ef0a38fb",
   "metadata": {},
   "outputs": [
    {
     "name": "stdin",
     "output_type": "stream",
     "text": [
      "Enter any thing: d\n"
     ]
    },
    {
     "name": "stdout",
     "output_type": "stream",
     "text": [
      "\n"
     ]
    }
   ],
   "source": [
    "s = input('Enter any thing:')\n",
    "\n",
    "if len(s) > 2:\n",
    "    s1 = s[0:2]\n",
    "    s2 = s[(len(s)-2):]\n",
    "    print(s1 + s2)  \n",
    "elif len(s) == 2: \n",
    "    print(s*2)\n",
    "else: \n",
    "    print()"
   ]
  },
  {
   "cell_type": "code",
   "execution_count": 7,
   "id": "6484629d-9df3-4154-8deb-83069c9b7ff8",
   "metadata": {},
   "outputs": [
    {
     "name": "stdin",
     "output_type": "stream",
     "text": [
      " anujkhare\n"
     ]
    },
    {
     "name": "stdout",
     "output_type": "stream",
     "text": [
      "anujkh$re\n"
     ]
    }
   ],
   "source": [
    "str1 = input()\n",
    "\n",
    "char = str1[0]\n",
    "\n",
    "str1 = str1.replace(char, '$')\n",
    "\n",
    "str1 = char + str1[1:]\n",
    "\n",
    "print(str1)"
   ]
  },
  {
   "cell_type": "code",
   "execution_count": null,
   "id": "b1e950fc-a841-49f3-b05a-7b1b9cbaabef",
   "metadata": {},
   "outputs": [],
   "source": []
  }
 ],
 "metadata": {
  "kernelspec": {
   "display_name": "Python 3 (ipykernel)",
   "language": "python",
   "name": "python3"
  },
  "language_info": {
   "codemirror_mode": {
    "name": "ipython",
    "version": 3
   },
   "file_extension": ".py",
   "mimetype": "text/x-python",
   "name": "python",
   "nbconvert_exporter": "python",
   "pygments_lexer": "ipython3",
   "version": "3.13.5"
  }
 },
 "nbformat": 4,
 "nbformat_minor": 5
}
