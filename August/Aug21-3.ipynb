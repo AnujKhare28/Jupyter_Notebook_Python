{
 "cells": [
  {
   "cell_type": "code",
   "execution_count": 3,
   "id": "3719ad40-6cf4-4f83-b2b1-c72ac44b7abe",
   "metadata": {},
   "outputs": [],
   "source": [
    "def fact(n): \n",
    "    fact = 1\n",
    "    if n < 0 :\n",
    "        print(\"Enter a positive number\")\n",
    "    elif n == 0: \n",
    "        print('The factorial is 0 is 1')\n",
    "    else: \n",
    "        for i in range(1, n +1): \n",
    "            fact = fact *i\n",
    "        print(\"The Factorial of\", n, \"is\", fact)"
   ]
  },
  {
   "cell_type": "code",
   "execution_count": 4,
   "id": "6389c6a0-6df0-48b8-8aac-b7f98a999250",
   "metadata": {},
   "outputs": [
    {
     "name": "stdin",
     "output_type": "stream",
     "text": [
      " 5\n"
     ]
    },
    {
     "name": "stdout",
     "output_type": "stream",
     "text": [
      "The Factorial of 5 is 120\n"
     ]
    }
   ],
   "source": [
    "n = int(input())\n",
    "fact(n)"
   ]
  },
  {
   "cell_type": "code",
   "execution_count": null,
   "id": "db9da0cf-447c-48da-93f2-2b1fe5ac0cda",
   "metadata": {},
   "outputs": [],
   "source": []
  }
 ],
 "metadata": {
  "kernelspec": {
   "display_name": "Python 3 (ipykernel)",
   "language": "python",
   "name": "python3"
  },
  "language_info": {
   "codemirror_mode": {
    "name": "ipython",
    "version": 3
   },
   "file_extension": ".py",
   "mimetype": "text/x-python",
   "name": "python",
   "nbconvert_exporter": "python",
   "pygments_lexer": "ipython3",
   "version": "3.13.5"
  }
 },
 "nbformat": 4,
 "nbformat_minor": 5
}
