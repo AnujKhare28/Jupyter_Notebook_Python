{
 "cells": [
  {
   "cell_type": "markdown",
   "id": "51a065c0-77cc-41f4-806c-c4b118d884b0",
   "metadata": {},
   "source": [
    "### Remove single dimension "
   ]
  },
  {
   "cell_type": "code",
   "execution_count": 1,
   "id": "91a4d73f-ee91-4449-a820-5d75554f1594",
   "metadata": {},
   "outputs": [],
   "source": [
    "import numpy as np"
   ]
  },
  {
   "cell_type": "code",
   "execution_count": 2,
   "id": "0fca902f-6be7-4d55-960f-c423afe003c2",
   "metadata": {},
   "outputs": [],
   "source": [
    "arr = np.array([[[2,3,4],[6,5,4]]])"
   ]
  },
  {
   "cell_type": "code",
   "execution_count": 4,
   "id": "9ecef936-2d03-4813-a1e0-8408e828c943",
   "metadata": {},
   "outputs": [
    {
     "name": "stdout",
     "output_type": "stream",
     "text": [
      "[[[2 3 4]\n",
      "  [6 5 4]]]\n"
     ]
    }
   ],
   "source": [
    "print(arr)"
   ]
  },
  {
   "cell_type": "code",
   "execution_count": 5,
   "id": "f3c438fe-ef16-491c-9c6d-8a4eb25625e6",
   "metadata": {},
   "outputs": [
    {
     "data": {
      "text/plain": [
       "(1, 2, 3)"
      ]
     },
     "execution_count": 5,
     "metadata": {},
     "output_type": "execute_result"
    }
   ],
   "source": [
    "arr.shape"
   ]
  },
  {
   "cell_type": "code",
   "execution_count": 6,
   "id": "4bf35b33-0b55-4a8c-8e05-177b01bb0f8e",
   "metadata": {},
   "outputs": [],
   "source": [
    "arr = np.squeeze(arr)"
   ]
  },
  {
   "cell_type": "code",
   "execution_count": 7,
   "id": "44a9ec1d-5fd8-4575-8d02-3b2503529205",
   "metadata": {},
   "outputs": [
    {
     "data": {
      "text/plain": [
       "(2, 3)"
      ]
     },
     "execution_count": 7,
     "metadata": {},
     "output_type": "execute_result"
    }
   ],
   "source": [
    "arr.shape"
   ]
  },
  {
   "cell_type": "code",
   "execution_count": 9,
   "id": "9dbc76c4-2a6d-4ba4-850e-6192b43bd583",
   "metadata": {},
   "outputs": [
    {
     "name": "stdout",
     "output_type": "stream",
     "text": [
      "[[2 3 4]\n",
      " [6 5 4]]\n"
     ]
    }
   ],
   "source": [
    "print(arr)"
   ]
  },
  {
   "cell_type": "code",
   "execution_count": 10,
   "id": "8a4decc6-81f6-4494-a88a-fd6cbc7e2266",
   "metadata": {},
   "outputs": [
    {
     "data": {
      "text/plain": [
       "True"
      ]
     },
     "execution_count": 10,
     "metadata": {},
     "output_type": "execute_result"
    }
   ],
   "source": [
    "3 in arr"
   ]
  }
 ],
 "metadata": {
  "kernelspec": {
   "display_name": "Python 3 (ipykernel)",
   "language": "python",
   "name": "python3"
  },
  "language_info": {
   "codemirror_mode": {
    "name": "ipython",
    "version": 3
   },
   "file_extension": ".py",
   "mimetype": "text/x-python",
   "name": "python",
   "nbconvert_exporter": "python",
   "pygments_lexer": "ipython3",
   "version": "3.13.5"
  }
 },
 "nbformat": 4,
 "nbformat_minor": 5
}
