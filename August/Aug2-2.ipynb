{
 "cells": [
  {
   "cell_type": "markdown",
   "id": "d2d36302-3d83-43c4-ac9d-c73a2fbc7b54",
   "metadata": {},
   "source": [
    "### Bank Account"
   ]
  },
  {
   "cell_type": "code",
   "execution_count": 12,
   "id": "2af278c2-7ae5-4b5c-a858-3cb6465e7048",
   "metadata": {},
   "outputs": [],
   "source": [
    "class MinimumBalanceError(Exception): \n",
    "    pass\n",
    "\n",
    "class Account: \n",
    "    AccNumber = 1001\n",
    "\n",
    "    def __init__(self, name, balance=1000): \n",
    "\n",
    "        if balance < 1000:\n",
    "            raise MinimumBalanceError('Account Cannot be Created')\n",
    "        self.name = name\n",
    "        self.balance = balance\n",
    "        self.account_number = Account.AccNumber\n",
    "        Account.AccNumber += 1\n",
    "\n",
    "    def deposite(self, amt): \n",
    "        self.balance += amt\n",
    "\n",
    "    def withdraw(self, amt): \n",
    "        if self.balance - amt < 1000: \n",
    "            raise MinimumBalanceError('Amount cannot be withdrawn')\n",
    "        self.balance -= amt\n",
    "\n",
    "    def show_details(self):\n",
    "        print(\"Account Number\", self.account_number)\n",
    "        print(\"Name\", self.name)\n",
    "        print(\"Balance\", self.balance)"
   ]
  },
  {
   "cell_type": "code",
   "execution_count": 13,
   "id": "8655f0a3-c7f3-4bd2-9227-b113798163c8",
   "metadata": {},
   "outputs": [
    {
     "name": "stdout",
     "output_type": "stream",
     "text": [
      "Account Number 1001\n",
      "Name Anuj\n",
      "Balance 2000\n"
     ]
    }
   ],
   "source": [
    "a1 = Account('Anuj', 2000)\n",
    "a1.show_details()"
   ]
  },
  {
   "cell_type": "code",
   "execution_count": 14,
   "id": "be74d217-a25c-4f87-aa59-90f2d06e48b3",
   "metadata": {},
   "outputs": [
    {
     "name": "stdout",
     "output_type": "stream",
     "text": [
      "Account Number 1002\n",
      "Name Anubhav\n",
      "Balance 4000\n"
     ]
    }
   ],
   "source": [
    "a2 = Account('Anubhav', 4000)\n",
    "a2.show_details()"
   ]
  },
  {
   "cell_type": "code",
   "execution_count": 15,
   "id": "38baf426-95f8-404f-ba97-01a588943810",
   "metadata": {},
   "outputs": [
    {
     "name": "stdout",
     "output_type": "stream",
     "text": [
      "Account Number 1001\n",
      "Name Anuj\n",
      "Balance 3000\n"
     ]
    }
   ],
   "source": [
    "a1.deposite(1000)\n",
    "a1.show_details()"
   ]
  },
  {
   "cell_type": "code",
   "execution_count": null,
   "id": "a464f475-d2c9-476d-bdec-8b57e14e1376",
   "metadata": {},
   "outputs": [],
   "source": [
    "a1.withdraw(500)\n",
    "a1.show_details"
   ]
  }
 ],
 "metadata": {
  "kernelspec": {
   "display_name": "Python 3 (ipykernel)",
   "language": "python",
   "name": "python3"
  },
  "language_info": {
   "codemirror_mode": {
    "name": "ipython",
    "version": 3
   },
   "file_extension": ".py",
   "mimetype": "text/x-python",
   "name": "python",
   "nbconvert_exporter": "python",
   "pygments_lexer": "ipython3",
   "version": "3.13.5"
  }
 },
 "nbformat": 4,
 "nbformat_minor": 5
}
