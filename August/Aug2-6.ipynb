{
 "cells": [
  {
   "cell_type": "markdown",
   "id": "0a1f82c7-b242-49cc-9151-e756e2030cd1",
   "metadata": {},
   "source": [
    "### Polymorphism"
   ]
  },
  {
   "cell_type": "code",
   "execution_count": 2,
   "id": "ebf247e9-a24c-407c-975c-a7daaf05f3f5",
   "metadata": {},
   "outputs": [],
   "source": [
    "class Cat: \n",
    "\n",
    "    def __init__(self, name,age): \n",
    "        self.name = name\n",
    "        self.age = age\n",
    "\n",
    "    def info(self): \n",
    "        print('My name is '+self.name+'. My age is '+ str(self.age))\n",
    "\n",
    "    def make_sound(self): \n",
    "        print('Mew Mew')\n",
    "\n",
    "class Dog: \n",
    "\n",
    "    def __init__(self, name,age): \n",
    "        self.name = name\n",
    "        self.age = age\n",
    "\n",
    "    def info(self): \n",
    "        print('My name is '+self.name+'. My age is '+ str(self.age))\n",
    "\n",
    "    def make_sound(self): \n",
    "        print('Bow Bow')\n",
    "\n",
    "def my_pet(pet): \n",
    "    pet.info()\n",
    "    pet.make_sound()"
   ]
  },
  {
   "cell_type": "code",
   "execution_count": 5,
   "id": "99f18c00-ee12-4a4a-a005-b24eb7b2699b",
   "metadata": {},
   "outputs": [
    {
     "name": "stdout",
     "output_type": "stream",
     "text": [
      "My name is Kitty. My age is 2\n",
      "Mew Mew\n"
     ]
    }
   ],
   "source": [
    "c = Cat('Kitty', 2)\n",
    "d = Dog('Sheru', 3)\n",
    "\n",
    "my_pet(c)"
   ]
  },
  {
   "cell_type": "code",
   "execution_count": 4,
   "id": "efddd316-950e-4168-8cc6-3e5602e4efaa",
   "metadata": {},
   "outputs": [
    {
     "name": "stdout",
     "output_type": "stream",
     "text": [
      "My name is Sheru. My age is 3\n",
      "Bow Bow\n"
     ]
    }
   ],
   "source": [
    "my_pet(d)"
   ]
  },
  {
   "cell_type": "markdown",
   "id": "57d9d4b1-cec7-4962-b8ea-29c1dde51cee",
   "metadata": {},
   "source": [
    "### Operator Overloading"
   ]
  },
  {
   "cell_type": "code",
   "execution_count": 9,
   "id": "7f992189-7eb7-4089-a33d-7db462991dfa",
   "metadata": {},
   "outputs": [],
   "source": [
    "class Angle: \n",
    "\n",
    "    def __init__(self, deg):\n",
    "        self.degree = deg\n",
    "\n",
    "    def __add__(self,ang):\n",
    "        sum = Angle(self.degree + ang.degree)\n",
    "        return sum\n",
    "\n",
    "    def __str__(self):\n",
    "        return 'Degree: ' + str(self.degree)"
   ]
  },
  {
   "cell_type": "code",
   "execution_count": 10,
   "id": "077054be-ccdd-4f8c-a0c7-77467c2e70df",
   "metadata": {},
   "outputs": [
    {
     "name": "stdout",
     "output_type": "stream",
     "text": [
      "Degree: 75\n"
     ]
    }
   ],
   "source": [
    "a1 = Angle(30)\n",
    "a2 = Angle(45)\n",
    "\n",
    "a3 = a1 + a2\n",
    "\n",
    "print(a3)"
   ]
  }
 ],
 "metadata": {
  "kernelspec": {
   "display_name": "Python 3 (ipykernel)",
   "language": "python",
   "name": "python3"
  },
  "language_info": {
   "codemirror_mode": {
    "name": "ipython",
    "version": 3
   },
   "file_extension": ".py",
   "mimetype": "text/x-python",
   "name": "python",
   "nbconvert_exporter": "python",
   "pygments_lexer": "ipython3",
   "version": "3.13.5"
  }
 },
 "nbformat": 4,
 "nbformat_minor": 5
}
