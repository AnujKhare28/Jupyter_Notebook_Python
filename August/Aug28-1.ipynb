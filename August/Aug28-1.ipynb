{
 "cells": [
  {
   "cell_type": "code",
   "execution_count": 5,
   "id": "f0456649-9dc7-46fb-a8c0-81db0dfaa814",
   "metadata": {},
   "outputs": [],
   "source": [
    " def fibonacci(n): \n",
    "     fib = [0, 1]\n",
    "     while len(fib) < n: \n",
    "         fib.append(fib[-1] + fib[-2])\n",
    "     return fib"
   ]
  },
  {
   "cell_type": "code",
   "execution_count": 6,
   "id": "f75f2d62-e705-46c8-b353-4f4e2c033eae",
   "metadata": {},
   "outputs": [
    {
     "name": "stdout",
     "output_type": "stream",
     "text": [
      "[0, 1, 1, 2, 3, 5, 8, 13, 21, 34]\n"
     ]
    }
   ],
   "source": [
    "n = 10\n",
    "print(fibonacci(n))"
   ]
  },
  {
   "cell_type": "code",
   "execution_count": null,
   "id": "ce195074-9fc7-4050-b01a-4d843369d3c0",
   "metadata": {},
   "outputs": [],
   "source": []
  }
 ],
 "metadata": {
  "kernelspec": {
   "display_name": "Python 3 (ipykernel)",
   "language": "python",
   "name": "python3"
  },
  "language_info": {
   "codemirror_mode": {
    "name": "ipython",
    "version": 3
   },
   "file_extension": ".py",
   "mimetype": "text/x-python",
   "name": "python",
   "nbconvert_exporter": "python",
   "pygments_lexer": "ipython3",
   "version": "3.13.5"
  }
 },
 "nbformat": 4,
 "nbformat_minor": 5
}
