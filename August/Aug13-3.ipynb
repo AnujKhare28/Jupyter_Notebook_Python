{
 "cells": [
  {
   "cell_type": "code",
   "execution_count": 4,
   "id": "f94eea33-8cda-453f-b2b2-02596b930dad",
   "metadata": {},
   "outputs": [
    {
     "name": "stdin",
     "output_type": "stream",
     "text": [
      " 8\n"
     ]
    },
    {
     "name": "stdout",
     "output_type": "stream",
     "text": [
      "Even\n"
     ]
    }
   ],
   "source": [
    "n = int(input())\n",
    "\n",
    "if n % 2==0: \n",
    "    print('Even')\n",
    "else: \n",
    "    print('Odd')"
   ]
  },
  {
   "cell_type": "code",
   "execution_count": null,
   "id": "e83c1aaa-71d4-4188-95b9-8d7716486f48",
   "metadata": {},
   "outputs": [],
   "source": []
  }
 ],
 "metadata": {
  "kernelspec": {
   "display_name": "Python 3 (ipykernel)",
   "language": "python",
   "name": "python3"
  },
  "language_info": {
   "codemirror_mode": {
    "name": "ipython",
    "version": 3
   },
   "file_extension": ".py",
   "mimetype": "text/x-python",
   "name": "python",
   "nbconvert_exporter": "python",
   "pygments_lexer": "ipython3",
   "version": "3.13.5"
  }
 },
 "nbformat": 4,
 "nbformat_minor": 5
}
