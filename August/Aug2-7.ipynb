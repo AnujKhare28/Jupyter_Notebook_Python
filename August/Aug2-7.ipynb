{
 "cells": [
  {
   "cell_type": "markdown",
   "id": "b3604a59-e5ef-4c84-b473-b01bf1802577",
   "metadata": {},
   "source": [
    "### Method Overriding"
   ]
  },
  {
   "cell_type": "code",
   "execution_count": 1,
   "id": "393dff1a-2b7c-49b9-b3ac-b8ed95c79428",
   "metadata": {},
   "outputs": [],
   "source": [
    "import math\n",
    "\n",
    "class Shape: \n",
    "\n",
    "    def __init__(self, name): \n",
    "        self.name = name\n",
    "\n",
    "    def area(self): \n",
    "        pass\n",
    "\n",
    "class Rectangle(Shape): \n",
    "\n",
    "    def __init__(self, len, bre): \n",
    "        self.lenght = len\n",
    "        self.breadth = bre\n",
    "\n",
    "    def area(self): \n",
    "        return self.lenght * self.breadth\n",
    "\n",
    "class Circle(Shape): \n",
    "\n",
    "    def __init__(self, rad): \n",
    "        self.radius = rad\n",
    "\n",
    "    def area(self): \n",
    "        return math.pi * (self.radius ** 2)"
   ]
  },
  {
   "cell_type": "code",
   "execution_count": 2,
   "id": "928e282f-9937-400d-999a-83efa1278e6b",
   "metadata": {},
   "outputs": [
    {
     "data": {
      "text/plain": [
       "50"
      ]
     },
     "execution_count": 2,
     "metadata": {},
     "output_type": "execute_result"
    }
   ],
   "source": [
    "r = Rectangle(10,5)\n",
    "r.area()"
   ]
  },
  {
   "cell_type": "code",
   "execution_count": 3,
   "id": "2ef40ec1-13e6-4ddd-84f0-99608f53f688",
   "metadata": {},
   "outputs": [
    {
     "data": {
      "text/plain": [
       "314.1592653589793"
      ]
     },
     "execution_count": 3,
     "metadata": {},
     "output_type": "execute_result"
    }
   ],
   "source": [
    "c = Circle(10)\n",
    "c.area()"
   ]
  }
 ],
 "metadata": {
  "kernelspec": {
   "display_name": "Python 3 (ipykernel)",
   "language": "python",
   "name": "python3"
  },
  "language_info": {
   "codemirror_mode": {
    "name": "ipython",
    "version": 3
   },
   "file_extension": ".py",
   "mimetype": "text/x-python",
   "name": "python",
   "nbconvert_exporter": "python",
   "pygments_lexer": "ipython3",
   "version": "3.13.5"
  }
 },
 "nbformat": 4,
 "nbformat_minor": 5
}
