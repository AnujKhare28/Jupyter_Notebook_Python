{
 "cells": [
  {
   "cell_type": "code",
   "execution_count": 2,
   "id": "c8a945de-3f39-4de0-8fba-27ae67a7c640",
   "metadata": {},
   "outputs": [
    {
     "name": "stdin",
     "output_type": "stream",
     "text": [
      " 5 2\n",
      " a\n",
      " a\n",
      " b\n",
      " a\n",
      " b\n",
      " a\n"
     ]
    },
    {
     "name": "stdout",
     "output_type": "stream",
     "text": [
      "1 2 4\n"
     ]
    },
    {
     "name": "stdin",
     "output_type": "stream",
     "text": [
      " b\n"
     ]
    },
    {
     "name": "stdout",
     "output_type": "stream",
     "text": [
      "3 5\n"
     ]
    }
   ],
   "source": [
    "from collections import defaultdict\n",
    "\n",
    "n, m = input().split()\n",
    "d = defaultdict(list)\n",
    "\n",
    "for i in range(0, int(n)):\n",
    "    d[input()].append(i+1)\n",
    "\n",
    "for i in range(0, int(m)):\n",
    "    item = input()\n",
    "    if len(d[item]) == 0:\n",
    "        print(-1)\n",
    "    else:\n",
    "        print(*d[item])"
   ]
  },
  {
   "cell_type": "code",
   "execution_count": null,
   "id": "e2f5b841-be35-4ff7-bd16-abd045fdc893",
   "metadata": {},
   "outputs": [],
   "source": []
  }
 ],
 "metadata": {
  "kernelspec": {
   "display_name": "Python 3 (ipykernel)",
   "language": "python",
   "name": "python3"
  },
  "language_info": {
   "codemirror_mode": {
    "name": "ipython",
    "version": 3
   },
   "file_extension": ".py",
   "mimetype": "text/x-python",
   "name": "python",
   "nbconvert_exporter": "python",
   "pygments_lexer": "ipython3",
   "version": "3.13.5"
  }
 },
 "nbformat": 4,
 "nbformat_minor": 5
}
