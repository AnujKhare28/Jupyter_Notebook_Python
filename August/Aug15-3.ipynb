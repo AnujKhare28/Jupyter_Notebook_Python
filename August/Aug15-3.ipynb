{
 "cells": [
  {
   "cell_type": "code",
   "execution_count": 1,
   "id": "167d7c50-8a37-4003-982e-f7e204fdccaf",
   "metadata": {},
   "outputs": [
    {
     "name": "stdin",
     "output_type": "stream",
     "text": [
      "Enter a Number:  8\n"
     ]
    },
    {
     "name": "stdout",
     "output_type": "stream",
     "text": [
      "0\n",
      "1\n",
      "1\n",
      "2\n",
      "3\n",
      "5\n",
      "8\n",
      "13\n",
      "21\n",
      "34\n"
     ]
    }
   ],
   "source": [
    "num = int (input(\"Enter a Number: \"))\n",
    "a = 0\n",
    "b = 1\n",
    "\n",
    "if num == 0:\n",
    "    print (a)\n",
    "else:\n",
    "    print (a)\n",
    "    print (b)\n",
    "    for i in range (1 , num + 1):\n",
    "        c = a + b\n",
    "        a = b\n",
    "        b = c\n",
    "        print (c)"
   ]
  },
  {
   "cell_type": "code",
   "execution_count": 2,
   "id": "a460b3d6-d888-41c8-ad33-0ebd7f54df4f",
   "metadata": {},
   "outputs": [
    {
     "name": "stdin",
     "output_type": "stream",
     "text": [
      "Enter a positive number: 8\n"
     ]
    },
    {
     "name": "stdout",
     "output_type": "stream",
     "text": [
      "36\n"
     ]
    }
   ],
   "source": [
    "num = int (input(\"Enter a positive number:\"))\n",
    "\n",
    "if num < 0:\n",
    "    print (\"Number is not Positive, please enter a positive number\")\n",
    "else:\n",
    "    sum = 0\n",
    "    while num > 0:\n",
    "        sum += num\n",
    "        num -= 1\n",
    "print(sum)"
   ]
  }
 ],
 "metadata": {
  "kernelspec": {
   "display_name": "Python 3 (ipykernel)",
   "language": "python",
   "name": "python3"
  },
  "language_info": {
   "codemirror_mode": {
    "name": "ipython",
    "version": 3
   },
   "file_extension": ".py",
   "mimetype": "text/x-python",
   "name": "python",
   "nbconvert_exporter": "python",
   "pygments_lexer": "ipython3",
   "version": "3.13.5"
  }
 },
 "nbformat": 4,
 "nbformat_minor": 5
}
