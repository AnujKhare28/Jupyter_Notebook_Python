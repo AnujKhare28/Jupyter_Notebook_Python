{
 "cells": [
  {
   "cell_type": "code",
   "execution_count": null,
   "id": "fd848be5-2017-4bc5-9233-c62a39825574",
   "metadata": {},
   "outputs": [],
   "source": [
    "class Calculator: \n",
    "\n",
    "    @staticmethod\n",
    "    def add(a,b): \n",
    "        return a + b\n",
    "\n",
    "    @staticmethod\n",
    "    def sub(a,b): \n",
    "        return a - b\n",
    "\n",
    "    @staticmethod\n",
    "    def mul(a,b): \n",
    "        return a * b\n",
    "\n",
    "    @staticmethod\n",
    "    def div(a,b): \n",
    "        return a / b\n",
    "\n",
    "x = 10\n",
    "y = 2"
   ]
  }
 ],
 "metadata": {
  "kernelspec": {
   "display_name": "Python 3 (ipykernel)",
   "language": "python",
   "name": "python3"
  },
  "language_info": {
   "codemirror_mode": {
    "name": "ipython",
    "version": 3
   },
   "file_extension": ".py",
   "mimetype": "text/x-python",
   "name": "python",
   "nbconvert_exporter": "python",
   "pygments_lexer": "ipython3",
   "version": "3.13.5"
  }
 },
 "nbformat": 4,
 "nbformat_minor": 5
}
