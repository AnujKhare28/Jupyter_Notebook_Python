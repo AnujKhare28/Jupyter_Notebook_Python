{
 "cells": [
  {
   "cell_type": "code",
   "execution_count": 3,
   "id": "ebee89e2-2470-4d09-87db-e8ceff1f32f0",
   "metadata": {},
   "outputs": [
    {
     "name": "stdout",
     "output_type": "stream",
     "text": [
      "xyc\n",
      "abz\n"
     ]
    }
   ],
   "source": [
    "str1 = 'abc'\n",
    "str2 = 'xyz'\n",
    "\n",
    "temp = str1[:2]\n",
    "temp1 = str2[:2]\n",
    "\n",
    "s1 = temp1 + str1[2:3] \n",
    "s2 = temp + str2[2:3]\n",
    "\n",
    "print(s1)\n",
    "print(s2)"
   ]
  },
  {
   "cell_type": "code",
   "execution_count": 14,
   "id": "61e2ed48-aa45-465b-94ed-a2b4e43e0d76",
   "metadata": {},
   "outputs": [
    {
     "name": "stdin",
     "output_type": "stream",
     "text": [
      " string\n"
     ]
    },
    {
     "name": "stdout",
     "output_type": "stream",
     "text": [
      "stringly\n"
     ]
    }
   ],
   "source": [
    "s =  input()\n",
    "\n",
    "if len(s) > 2:\n",
    "    \n",
    "    if s[-3:] == 'ing':\n",
    "        s = s + 'ly'\n",
    "elif s[-2:] == 'ly':\n",
    "    s = s + 'ing'\n",
    "else:\n",
    "    s = s + 'ing'\n",
    "print(s)"
   ]
  },
  {
   "cell_type": "code",
   "execution_count": 16,
   "id": "b733d06a-4a6d-4afa-b5fe-e02b09d76bbb",
   "metadata": {},
   "outputs": [
    {
     "name": "stdin",
     "output_type": "stream",
     "text": [
      " fly\n"
     ]
    },
    {
     "name": "stdout",
     "output_type": "stream",
     "text": [
      "flying\n"
     ]
    }
   ],
   "source": [
    "s =  input()\n",
    "\n",
    "if len(s) > 2:\n",
    "    \n",
    "    if s[-3:] == 'ing':\n",
    "        s = s + 'ly'\n",
    "    if s[-2:] == 'ly':\n",
    "        s = s + 'ing'\n",
    "else:\n",
    "    s = s + 'ing'\n",
    "print(s)"
   ]
  },
  {
   "cell_type": "code",
   "execution_count": 18,
   "id": "2a266593-f09c-4b3f-9cd7-c553ed644823",
   "metadata": {},
   "outputs": [
    {
     "name": "stdin",
     "output_type": "stream",
     "text": [
      " eat\n"
     ]
    },
    {
     "name": "stdout",
     "output_type": "stream",
     "text": [
      "eating\n"
     ]
    }
   ],
   "source": [
    "s =  input()\n",
    "\n",
    "if len(s) > 2:\n",
    "    \n",
    "    if s[-3:] == 'ing':\n",
    "        s = s + 'ly'\n",
    "    if s[-2:] == 'ly':\n",
    "        s = s + 'ing'\n",
    "    else:\n",
    "        s = s + 'ing'\n",
    "print(s)"
   ]
  }
 ],
 "metadata": {
  "kernelspec": {
   "display_name": "Python 3 (ipykernel)",
   "language": "python",
   "name": "python3"
  },
  "language_info": {
   "codemirror_mode": {
    "name": "ipython",
    "version": 3
   },
   "file_extension": ".py",
   "mimetype": "text/x-python",
   "name": "python",
   "nbconvert_exporter": "python",
   "pygments_lexer": "ipython3",
   "version": "3.13.5"
  }
 },
 "nbformat": 4,
 "nbformat_minor": 5
}
