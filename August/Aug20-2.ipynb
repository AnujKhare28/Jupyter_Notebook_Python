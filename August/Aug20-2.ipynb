{
 "cells": [
  {
   "cell_type": "code",
   "execution_count": 1,
   "id": "1ff59c1e-7f63-49a9-8c4a-ab137b3628fe",
   "metadata": {},
   "outputs": [],
   "source": [
    "import numpy as np \n",
    "import pandas as pd \n",
    "import seaborn as sns"
   ]
  },
  {
   "cell_type": "code",
   "execution_count": 2,
   "id": "9d6dc0d8-798a-4709-8866-cffc1f1ed1b7",
   "metadata": {},
   "outputs": [],
   "source": [
    "df = pd.read_csv('top-5000-youtube-channels.csv')"
   ]
  },
  {
   "cell_type": "code",
   "execution_count": 17,
   "id": "b3e23446-111c-49dd-9486-34f75edaab25",
   "metadata": {},
   "outputs": [
    {
     "data": {
      "text/plain": [
       "Rank             object\n",
       "Grade            object\n",
       "Channel name     object\n",
       "Video Uploads    object\n",
       "Subscribers      object\n",
       "Video views       int64\n",
       "dtype: object"
      ]
     },
     "execution_count": 17,
     "metadata": {},
     "output_type": "execute_result"
    }
   ],
   "source": [
    "df.dtypes"
   ]
  },
  {
   "cell_type": "code",
   "execution_count": 19,
   "id": "82f6be7b-b304-4d7a-abe2-cc2175ed1191",
   "metadata": {},
   "outputs": [],
   "source": [
    "df['Rank'] = df['Rank'].str[0:-2]"
   ]
  },
  {
   "cell_type": "code",
   "execution_count": 20,
   "id": "f1283e0f-b4cb-4d2a-989b-86959e923d78",
   "metadata": {},
   "outputs": [
    {
     "data": {
      "text/plain": [
       "0           1\n",
       "1           2\n",
       "2           3\n",
       "3           4\n",
       "4           5\n",
       "        ...  \n",
       "4995    4,996\n",
       "4996    4,997\n",
       "4997    4,998\n",
       "4998    4,999\n",
       "4999    5,000\n",
       "Name: Rank, Length: 4610, dtype: object"
      ]
     },
     "execution_count": 20,
     "metadata": {},
     "output_type": "execute_result"
    }
   ],
   "source": [
    "df['Rank']"
   ]
  },
  {
   "cell_type": "code",
   "execution_count": 24,
   "id": "9e04b0c2-6701-4f8d-b73c-f184b8e40725",
   "metadata": {},
   "outputs": [],
   "source": [
    "df['Rank'] = df['Rank'].str.replace(',','').astype('int')"
   ]
  },
  {
   "cell_type": "code",
   "execution_count": 25,
   "id": "e1300b9c-c0a7-4db9-9676-12fa32277262",
   "metadata": {},
   "outputs": [
    {
     "data": {
      "text/plain": [
       "0          1\n",
       "1          2\n",
       "2          3\n",
       "3          4\n",
       "4          5\n",
       "        ... \n",
       "4995    4996\n",
       "4996    4997\n",
       "4997    4998\n",
       "4998    4999\n",
       "4999    5000\n",
       "Name: Rank, Length: 4610, dtype: int64"
      ]
     },
     "execution_count": 25,
     "metadata": {},
     "output_type": "execute_result"
    }
   ],
   "source": [
    "df['Rank']"
   ]
  },
  {
   "cell_type": "code",
   "execution_count": 23,
   "id": "0119adda-e23e-4552-b5bb-39ec08de2fbc",
   "metadata": {},
   "outputs": [
    {
     "data": {
      "text/plain": [
       "0          1\n",
       "1          2\n",
       "2          3\n",
       "3          4\n",
       "4          5\n",
       "        ... \n",
       "4995    4996\n",
       "4996    4997\n",
       "4997    4998\n",
       "4998    4999\n",
       "4999    5000\n",
       "Name: Rank, Length: 4610, dtype: int64"
      ]
     },
     "execution_count": 23,
     "metadata": {},
     "output_type": "execute_result"
    }
   ],
   "source": [
    "df['Rank']"
   ]
  },
  {
   "cell_type": "code",
   "execution_count": 26,
   "id": "6e257192-1ea0-4fc3-bfb2-b9ce3cdb3631",
   "metadata": {},
   "outputs": [
    {
     "data": {
      "text/plain": [
       "Rank              int64\n",
       "Grade            object\n",
       "Channel name     object\n",
       "Video Uploads    object\n",
       "Subscribers      object\n",
       "Video views       int64\n",
       "dtype: object"
      ]
     },
     "execution_count": 26,
     "metadata": {},
     "output_type": "execute_result"
    }
   ],
   "source": [
    "df.dtypes"
   ]
  },
  {
   "cell_type": "code",
   "execution_count": 27,
   "id": "13f64d78-73eb-444c-8d80-3cecbf84b277",
   "metadata": {},
   "outputs": [],
   "source": [
    "df['Video Uploads'] = df['Video Uploads'].astype('int')\n",
    "df['Subscribers'] = df['Subscribers'].astype('int')"
   ]
  },
  {
   "cell_type": "code",
   "execution_count": 28,
   "id": "a5106bbc-4bc0-483a-8d0d-e7e1d8f2c1df",
   "metadata": {},
   "outputs": [
    {
     "data": {
      "text/plain": [
       "Rank              int64\n",
       "Grade            object\n",
       "Channel name     object\n",
       "Video Uploads     int64\n",
       "Subscribers       int64\n",
       "Video views       int64\n",
       "dtype: object"
      ]
     },
     "execution_count": 28,
     "metadata": {},
     "output_type": "execute_result"
    }
   ],
   "source": [
    "df.dtypes"
   ]
  },
  {
   "cell_type": "code",
   "execution_count": 29,
   "id": "0bb67ea9-13d3-4e93-94f0-464365706eb4",
   "metadata": {},
   "outputs": [
    {
     "data": {
      "text/plain": [
       "array(['A++ ', 'A+ ', 'A ', 'A- ', 'B+ '], dtype=object)"
      ]
     },
     "execution_count": 29,
     "metadata": {},
     "output_type": "execute_result"
    }
   ],
   "source": [
    "df['Grade'].unique()"
   ]
  },
  {
   "cell_type": "code",
   "execution_count": 30,
   "id": "b6de2acd-bc97-4743-ba77-c837a08ebfdf",
   "metadata": {},
   "outputs": [],
   "source": [
    "df['Grade'] = df['Grade'].map({'A++ ':5, 'A+ ':4, 'A ':3, 'A- ':2, 'B+ ':1})"
   ]
  },
  {
   "cell_type": "code",
   "execution_count": 31,
   "id": "eb892f2b-8f27-4aac-b78a-7049d0527025",
   "metadata": {},
   "outputs": [
    {
     "data": {
      "text/plain": [
       "array([5, 4, 3, 2, 1])"
      ]
     },
     "execution_count": 31,
     "metadata": {},
     "output_type": "execute_result"
    }
   ],
   "source": [
    "df['Grade'].unique()"
   ]
  }
 ],
 "metadata": {
  "kernelspec": {
   "display_name": "Python 3 (ipykernel)",
   "language": "python",
   "name": "python3"
  },
  "language_info": {
   "codemirror_mode": {
    "name": "ipython",
    "version": 3
   },
   "file_extension": ".py",
   "mimetype": "text/x-python",
   "name": "python",
   "nbconvert_exporter": "python",
   "pygments_lexer": "ipython3",
   "version": "3.13.5"
  }
 },
 "nbformat": 4,
 "nbformat_minor": 5
}
