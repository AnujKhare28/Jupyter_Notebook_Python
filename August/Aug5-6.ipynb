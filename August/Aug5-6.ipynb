{
 "cells": [
  {
   "cell_type": "code",
   "execution_count": 10,
   "id": "f6493043-6fb1-4990-bc29-e91acf271b11",
   "metadata": {},
   "outputs": [
    {
     "name": "stdin",
     "output_type": "stream",
     "text": [
      " 7\n"
     ]
    },
    {
     "name": "stdout",
     "output_type": "stream",
     "text": [
      "Binary form of 7 is 111\n"
     ]
    }
   ],
   "source": [
    "n = int(input())\n",
    "m = n\n",
    "pow = 0\n",
    "binNum = 0\n",
    "\n",
    "while n>0 :\n",
    "    rem = n % 2\n",
    "    binNum = binNum + rem * (10 ** pow)\n",
    "    pow += 1\n",
    "    n = n//2\n",
    "print(f\"Binary form of {m} is {binNum}\")"
   ]
  }
 ],
 "metadata": {
  "kernelspec": {
   "display_name": "Python 3 (ipykernel)",
   "language": "python",
   "name": "python3"
  },
  "language_info": {
   "codemirror_mode": {
    "name": "ipython",
    "version": 3
   },
   "file_extension": ".py",
   "mimetype": "text/x-python",
   "name": "python",
   "nbconvert_exporter": "python",
   "pygments_lexer": "ipython3",
   "version": "3.13.5"
  }
 },
 "nbformat": 4,
 "nbformat_minor": 5
}
