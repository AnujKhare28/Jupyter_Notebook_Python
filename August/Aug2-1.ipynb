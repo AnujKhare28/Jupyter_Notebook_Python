{
 "cells": [
  {
   "cell_type": "markdown",
   "id": "5aa55671-860b-4517-ac7e-25a123ba11b4",
   "metadata": {},
   "source": [
    "### Customer Number"
   ]
  },
  {
   "cell_type": "code",
   "execution_count": 1,
   "id": "ab164c8e-e147-4ccd-87e3-b20bebfabecc",
   "metadata": {},
   "outputs": [],
   "source": [
    "class Customer: \n",
    "\n",
    "    def __init__(self, name, phoneno): \n",
    "        self.name = name\n",
    "        self. phoneno = phoneno\n",
    "\n",
    "    def get_name(self) :\n",
    "        return self.name\n",
    "\n",
    "    def get_phone(self): \n",
    "        return self.phoneno\n",
    "\n",
    "    def set_phoneno(self, ph): \n",
    "        self.phoneno = ph"
   ]
  },
  {
   "cell_type": "code",
   "execution_count": 2,
   "id": "7f966513-55dc-45d5-9739-6bbc527aaf66",
   "metadata": {},
   "outputs": [
    {
     "name": "stdout",
     "output_type": "stream",
     "text": [
      "Name : Jhon\n",
      "Phone no. : 9865347623\n",
      "\n",
      "Name : Jhon\n",
      "Phone no. : 7834349867\n"
     ]
    }
   ],
   "source": [
    "c1 = Customer('Jhon', 9865347623)\n",
    "\n",
    "print(\"Name :\", c1.get_name())\n",
    "print(\"Phone no. :\", c1.get_phone())\n",
    "\n",
    "print('')\n",
    "\n",
    "c1.set_phoneno(7834349867)\n",
    "print(\"Name :\", c1.get_name())\n",
    "print(\"Phone no. :\", c1.get_phone())"
   ]
  },
  {
   "cell_type": "markdown",
   "id": "51ca9ec7-b0e8-474c-8e9e-882c0aaad082",
   "metadata": {},
   "source": [
    "### Currency Converter"
   ]
  },
  {
   "cell_type": "code",
   "execution_count": 7,
   "id": "9c077ff9-1bd1-40d8-9319-75c5065406d1",
   "metadata": {},
   "outputs": [],
   "source": [
    "class CurrencyConverter: \n",
    "\n",
    "    def __init__(self, name, rate): \n",
    "        self.currency = name\n",
    "        self.rate = rate\n",
    "\n",
    "    def get_currency(self): \n",
    "        return self.currency\n",
    "\n",
    "    def get_rate(self): \n",
    "        return self.rate\n",
    "\n",
    "    def set_currency(self, name): \n",
    "        self.currency = name\n",
    "\n",
    "    def set_rate(self, rate): \n",
    "        self.rate = rate\n",
    "\n",
    "    def convert(self, amount):\n",
    "        return self.currency + ' conversion is ' + str(self.rate * amount)"
   ]
  },
  {
   "cell_type": "code",
   "execution_count": 8,
   "id": "3da1421d-dbb0-4b83-9634-af1678a6c824",
   "metadata": {},
   "outputs": [
    {
     "name": "stdout",
     "output_type": "stream",
     "text": [
      "USD conversion is 8500\n",
      "AUD conversion is 6000\n"
     ]
    }
   ],
   "source": [
    "cc = CurrencyConverter('USD', 85)\n",
    "print(cc.convert(100))\n",
    "\n",
    "cc.set_currency('AUD')\n",
    "cc.set_rate(60)\n",
    "\n",
    "print(cc.convert(100))"
   ]
  }
 ],
 "metadata": {
  "kernelspec": {
   "display_name": "Python 3 (ipykernel)",
   "language": "python",
   "name": "python3"
  },
  "language_info": {
   "codemirror_mode": {
    "name": "ipython",
    "version": 3
   },
   "file_extension": ".py",
   "mimetype": "text/x-python",
   "name": "python",
   "nbconvert_exporter": "python",
   "pygments_lexer": "ipython3",
   "version": "3.13.5"
  }
 },
 "nbformat": 4,
 "nbformat_minor": 5
}
