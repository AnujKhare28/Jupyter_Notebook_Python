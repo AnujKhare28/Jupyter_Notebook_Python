{
 "cells": [
  {
   "cell_type": "code",
   "execution_count": 1,
   "id": "be2470ef-2122-49b6-9892-51d5dffa74e1",
   "metadata": {},
   "outputs": [],
   "source": [
    "def sumArr(arr,n,target): \n",
    "    sumMap = {}\n",
    "    curSum = 0\n",
    "    for i in range(n): \n",
    "        curSum += arr[i]\n",
    "        if curSum == target: \n",
    "            print (arr[:i+1])\n",
    "        if curSum - target in sumMap: \n",
    "            startIndex = sumMap[curSum - target]+1\n",
    "            print(arr[startIndex:i])\n",
    "        sumMap[curSum] = i"
   ]
  },
  {
   "cell_type": "code",
   "execution_count": 5,
   "id": "e4ae6b02-05b9-4636-932a-af2860597aa6",
   "metadata": {},
   "outputs": [
    {
     "name": "stdout",
     "output_type": "stream",
     "text": [
      "[2, 3]\n",
      "[2, 3, -5, 6, -1]\n",
      "[6]\n",
      "[3, -5, 6, -1]\n",
      "[-1, 2, 1]\n",
      "None\n"
     ]
    }
   ],
   "source": [
    "target = 5\n",
    "arr = [2,3,-5,6,-1,2,1,3,1]\n",
    "n = 8\n",
    "\n",
    "print(sumArr(arr, n, target))"
   ]
  }
 ],
 "metadata": {
  "kernelspec": {
   "display_name": "Python 3 (ipykernel)",
   "language": "python",
   "name": "python3"
  },
  "language_info": {
   "codemirror_mode": {
    "name": "ipython",
    "version": 3
   },
   "file_extension": ".py",
   "mimetype": "text/x-python",
   "name": "python",
   "nbconvert_exporter": "python",
   "pygments_lexer": "ipython3",
   "version": "3.13.5"
  }
 },
 "nbformat": 4,
 "nbformat_minor": 5
}
