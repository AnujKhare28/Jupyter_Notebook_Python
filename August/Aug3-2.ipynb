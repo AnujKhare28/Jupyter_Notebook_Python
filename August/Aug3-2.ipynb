{
 "cells": [
  {
   "cell_type": "markdown",
   "id": "ce76f019-1fac-431c-9267-88bdf7039c0e",
   "metadata": {},
   "source": [
    "### Calculate sin and cos"
   ]
  },
  {
   "cell_type": "code",
   "execution_count": 1,
   "id": "35b0e23c-e947-478e-980c-ccf3ed0a0184",
   "metadata": {},
   "outputs": [],
   "source": [
    "import numpy as np"
   ]
  },
  {
   "cell_type": "code",
   "execution_count": 2,
   "id": "1fc80764-ce67-470f-8c1b-de41f1b56343",
   "metadata": {},
   "outputs": [],
   "source": [
    "angArr = np.array([0,30,45,60,90])"
   ]
  },
  {
   "cell_type": "code",
   "execution_count": 4,
   "id": "98dcf8dc-763a-4137-90dd-7281571fa838",
   "metadata": {},
   "outputs": [],
   "source": [
    "### degree to radian\n",
    "\n",
    "angArr = angArr * np.pi/180"
   ]
  },
  {
   "cell_type": "code",
   "execution_count": 5,
   "id": "6ffe4c83-fe22-4785-afa7-9398420598c2",
   "metadata": {},
   "outputs": [
    {
     "data": {
      "text/plain": [
       "array([0.        , 0.52359878, 0.78539816, 1.04719755, 1.57079633])"
      ]
     },
     "execution_count": 5,
     "metadata": {},
     "output_type": "execute_result"
    }
   ],
   "source": [
    "angArr"
   ]
  },
  {
   "cell_type": "code",
   "execution_count": 6,
   "id": "344237c1-b3ca-4825-b7cb-0d78ca087c36",
   "metadata": {},
   "outputs": [
    {
     "data": {
      "text/plain": [
       "array([0.        , 0.5       , 0.70710678, 0.8660254 , 1.        ])"
      ]
     },
     "execution_count": 6,
     "metadata": {},
     "output_type": "execute_result"
    }
   ],
   "source": [
    "np.sin(angArr)"
   ]
  },
  {
   "cell_type": "code",
   "execution_count": 7,
   "id": "a54c0adc-5427-4211-b1a1-9f8f4341165a",
   "metadata": {},
   "outputs": [
    {
     "data": {
      "text/plain": [
       "array([1.00000000e+00, 8.66025404e-01, 7.07106781e-01, 5.00000000e-01,\n",
       "       6.12323400e-17])"
      ]
     },
     "execution_count": 7,
     "metadata": {},
     "output_type": "execute_result"
    }
   ],
   "source": [
    "np.cos(angArr)"
   ]
  }
 ],
 "metadata": {
  "kernelspec": {
   "display_name": "Python 3 (ipykernel)",
   "language": "python",
   "name": "python3"
  },
  "language_info": {
   "codemirror_mode": {
    "name": "ipython",
    "version": 3
   },
   "file_extension": ".py",
   "mimetype": "text/x-python",
   "name": "python",
   "nbconvert_exporter": "python",
   "pygments_lexer": "ipython3",
   "version": "3.13.5"
  }
 },
 "nbformat": 4,
 "nbformat_minor": 5
}
