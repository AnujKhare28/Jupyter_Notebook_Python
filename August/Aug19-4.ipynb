{
 "cells": [
  {
   "cell_type": "code",
   "execution_count": 1,
   "id": "1d981def-1ecb-4231-8da8-562fffba9da3",
   "metadata": {},
   "outputs": [
    {
     "name": "stdout",
     "output_type": "stream",
     "text": [
      "3 6 9 2 7 1 8 5 10 4 "
     ]
    }
   ],
   "source": [
    "L = [1,2,3,4,5,6,7,8,9,10]\n",
    "pos = 3-1\n",
    "index = 0\n",
    "new_list = len(L)\n",
    "while new_list > 0: \n",
    "    index = (pos + index) % new_list\n",
    "    print(L.pop(index), end=' ')\n",
    "    new_list -= 1 "
   ]
  },
  {
   "cell_type": "code",
   "execution_count": null,
   "id": "652f7b4b-bb30-473c-bda2-56aa5ab95b86",
   "metadata": {},
   "outputs": [],
   "source": []
  }
 ],
 "metadata": {
  "kernelspec": {
   "display_name": "Python 3 (ipykernel)",
   "language": "python",
   "name": "python3"
  },
  "language_info": {
   "codemirror_mode": {
    "name": "ipython",
    "version": 3
   },
   "file_extension": ".py",
   "mimetype": "text/x-python",
   "name": "python",
   "nbconvert_exporter": "python",
   "pygments_lexer": "ipython3",
   "version": "3.13.5"
  }
 },
 "nbformat": 4,
 "nbformat_minor": 5
}
