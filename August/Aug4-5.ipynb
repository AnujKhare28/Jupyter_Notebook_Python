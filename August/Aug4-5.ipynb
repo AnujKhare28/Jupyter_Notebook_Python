{
 "cells": [
  {
   "cell_type": "code",
   "execution_count": 1,
   "id": "a66d89e1-f443-4bd6-ba79-19a9081b2f0b",
   "metadata": {},
   "outputs": [],
   "source": [
    "import numpy as np"
   ]
  },
  {
   "cell_type": "code",
   "execution_count": 12,
   "id": "7e323680-ab56-45ef-b593-41aa818bb21b",
   "metadata": {},
   "outputs": [],
   "source": [
    "arr1 = np.array([23,12,63,45,76,45,45,56,98])"
   ]
  },
  {
   "cell_type": "code",
   "execution_count": 13,
   "id": "251094b6-82d7-4f2e-8159-3999ec89fd7e",
   "metadata": {},
   "outputs": [
    {
     "name": "stdout",
     "output_type": "stream",
     "text": [
      "[23 12 63 45 76 45 45 56 98]\n"
     ]
    }
   ],
   "source": [
    "print(arr1)"
   ]
  },
  {
   "cell_type": "code",
   "execution_count": 14,
   "id": "aefd3941-c4c7-4c63-87d8-8b55247b6e58",
   "metadata": {},
   "outputs": [],
   "source": [
    "arr2 = np.array([4,5,6])"
   ]
  },
  {
   "cell_type": "code",
   "execution_count": 15,
   "id": "9e6b433c-115c-4e29-b9e5-6d54f1e75203",
   "metadata": {},
   "outputs": [
    {
     "name": "stdout",
     "output_type": "stream",
     "text": [
      "[4 5 6]\n"
     ]
    }
   ],
   "source": [
    "print(arr2)"
   ]
  },
  {
   "cell_type": "code",
   "execution_count": 16,
   "id": "61471c96-1f8c-4387-8afd-a0147763ce9f",
   "metadata": {},
   "outputs": [],
   "source": [
    "arr1.put([1,5,7],arr2)"
   ]
  },
  {
   "cell_type": "code",
   "execution_count": 17,
   "id": "af1e48de-b6e5-4e9c-9330-ae7b2e383e74",
   "metadata": {},
   "outputs": [
    {
     "data": {
      "text/plain": [
       "array([23,  4, 63, 45, 76,  5, 45,  6, 98])"
      ]
     },
     "execution_count": 17,
     "metadata": {},
     "output_type": "execute_result"
    }
   ],
   "source": [
    "arr1"
   ]
  },
  {
   "cell_type": "markdown",
   "id": "524c487b-fc02-4491-89ae-25b97090d3eb",
   "metadata": {},
   "source": [
    "### Deleting and inserting"
   ]
  },
  {
   "cell_type": "code",
   "execution_count": 19,
   "id": "829a4259-572d-4c99-9351-61243a4bf732",
   "metadata": {},
   "outputs": [],
   "source": [
    "array1 = np.array([[1,23,43],[4,5,6],[8,7,5]])"
   ]
  },
  {
   "cell_type": "code",
   "execution_count": 20,
   "id": "098e7656-6407-45f0-8565-01de44002fe6",
   "metadata": {},
   "outputs": [
    {
     "name": "stdout",
     "output_type": "stream",
     "text": [
      "[[ 1 23 43]\n",
      " [ 4  5  6]\n",
      " [ 8  7  5]]\n"
     ]
    }
   ],
   "source": [
    "print(array1)"
   ]
  },
  {
   "cell_type": "code",
   "execution_count": 21,
   "id": "d1811a40-ea9b-4f29-9fba-5ff9eed09cfc",
   "metadata": {},
   "outputs": [],
   "source": [
    "column = np.array([10,20,30])"
   ]
  },
  {
   "cell_type": "code",
   "execution_count": 22,
   "id": "9b2fcc56-6f97-486e-9ffc-84fa9a602d82",
   "metadata": {},
   "outputs": [],
   "source": [
    "array1 = np.delete(array1,1,axis=1)"
   ]
  },
  {
   "cell_type": "code",
   "execution_count": 23,
   "id": "f178cc88-fb88-4253-baab-eb11605fc023",
   "metadata": {},
   "outputs": [
    {
     "data": {
      "text/plain": [
       "array([[ 1, 43],\n",
       "       [ 4,  6],\n",
       "       [ 8,  5]])"
      ]
     },
     "execution_count": 23,
     "metadata": {},
     "output_type": "execute_result"
    }
   ],
   "source": [
    "array1"
   ]
  },
  {
   "cell_type": "code",
   "execution_count": null,
   "id": "9729a703-9318-4adc-8b35-2cb2e601c4e5",
   "metadata": {},
   "outputs": [],
   "source": [
    "np.insert(array1,1,axis=1,)"
   ]
  }
 ],
 "metadata": {
  "kernelspec": {
   "display_name": "Python 3 (ipykernel)",
   "language": "python",
   "name": "python3"
  },
  "language_info": {
   "codemirror_mode": {
    "name": "ipython",
    "version": 3
   },
   "file_extension": ".py",
   "mimetype": "text/x-python",
   "name": "python",
   "nbconvert_exporter": "python",
   "pygments_lexer": "ipython3",
   "version": "3.13.5"
  }
 },
 "nbformat": 4,
 "nbformat_minor": 5
}
