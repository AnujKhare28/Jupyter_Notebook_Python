{
 "cells": [
  {
   "cell_type": "code",
   "execution_count": null,
   "id": "34dbf81d-0665-4d45-b540-5523d6d24063",
   "metadata": {},
   "outputs": [],
   "source": []
  }
 ],
 "metadata": {
  "kernelspec": {
   "display_name": "",
   "name": ""
  },
  "language_info": {
   "name": ""
  }
 },
 "nbformat": 4,
 "nbformat_minor": 5
}
