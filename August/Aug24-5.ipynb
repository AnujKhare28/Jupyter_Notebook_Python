{
 "cells": [
  {
   "cell_type": "code",
   "execution_count": 1,
   "id": "5a3f94a1-fd41-471f-9945-ccc215fdb85c",
   "metadata": {},
   "outputs": [
    {
     "name": "stdin",
     "output_type": "stream",
     "text": [
      " ANUJ 2\n"
     ]
    },
    {
     "name": "stdout",
     "output_type": "stream",
     "text": [
      "AJ\n",
      "AN\n",
      "AU\n",
      "JA\n",
      "JN\n",
      "JU\n",
      "NA\n",
      "NJ\n",
      "NU\n",
      "UA\n",
      "UJ\n",
      "UN\n"
     ]
    }
   ],
   "source": [
    "from itertools import permutations\n",
    "\n",
    "S, k = input().split()\n",
    "permutations = list(permutations(sorted(S), int(k)))\n",
    "perm_list = [''.join(permutation) for permutation in permutations]\n",
    "\n",
    "for perm in perm_list:\n",
    "    print(perm)"
   ]
  },
  {
   "cell_type": "code",
   "execution_count": null,
   "id": "6721355b-f987-4981-b592-a9ed1b2c4b10",
   "metadata": {},
   "outputs": [],
   "source": []
  }
 ],
 "metadata": {
  "kernelspec": {
   "display_name": "Python 3 (ipykernel)",
   "language": "python",
   "name": "python3"
  },
  "language_info": {
   "codemirror_mode": {
    "name": "ipython",
    "version": 3
   },
   "file_extension": ".py",
   "mimetype": "text/x-python",
   "name": "python",
   "nbconvert_exporter": "python",
   "pygments_lexer": "ipython3",
   "version": "3.13.5"
  }
 },
 "nbformat": 4,
 "nbformat_minor": 5
}
