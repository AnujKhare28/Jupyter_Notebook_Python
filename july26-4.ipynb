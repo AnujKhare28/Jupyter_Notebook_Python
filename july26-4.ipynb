{
 "cells": [
  {
   "cell_type": "markdown",
   "id": "8315ea38-955c-4482-8aa3-b7089f9b6db2",
   "metadata": {},
   "source": [
    "### Fibonacci Generator"
   ]
  },
  {
   "cell_type": "code",
   "execution_count": 1,
   "id": "4dc709ca-71e9-49d8-94d8-377addc90d65",
   "metadata": {},
   "outputs": [
    {
     "name": "stdout",
     "output_type": "stream",
     "text": [
      "0,1,1,2,3,5,8,13,21,34,55,"
     ]
    }
   ],
   "source": [
    "def fibo(num): \n",
    "    a, b = 0, 1\n",
    "\n",
    "    for i in range(num+1): \n",
    "        yield a\n",
    "        a, b = b, a+b\n",
    "\n",
    "if __name__ == \"__main__\":\n",
    "\n",
    "    num = 10\n",
    "\n",
    "    for i in fibo(num):\n",
    "        print(i, end= ',')"
   ]
  },
  {
   "cell_type": "markdown",
   "id": "12b55c46-2c6e-4ce3-923c-687595b8ad6b",
   "metadata": {},
   "source": [
    "### Flatten Nested List"
   ]
  },
  {
   "cell_type": "code",
   "execution_count": 6,
   "id": "ec133d62-ed13-4d7a-a01f-9ee0493204f7",
   "metadata": {},
   "outputs": [
    {
     "name": "stdout",
     "output_type": "stream",
     "text": [
      "[1, 2, 3, 4, 5, 6, 3, 4, 5, 8, 9, 9, 8, 2, 5, 6, 9]\n"
     ]
    }
   ],
   "source": [
    "def flat(l):\n",
    "    for ele in l:\n",
    "        if hasattr(ele,'__iter__'):\n",
    "            yield from flat(ele)\n",
    "        else: \n",
    "            yield ele\n",
    "\n",
    "if __name__ == \"__main__\": \n",
    "\n",
    "    lst = [1,2,3,[4,5,6,[3,4,5],8,9],9,8,[2,5,6],9]\n",
    "    flat_lst = []\n",
    "    for i in flat(lst): \n",
    "        flat_lst.append(i)\n",
    "    print(flat_lst)"
   ]
  },
  {
   "cell_type": "markdown",
   "id": "bfd6191b-3baf-4e66-83ab-7b2e8807f30c",
   "metadata": {},
   "source": [
    "### Month Name Generator"
   ]
  },
  {
   "cell_type": "code",
   "execution_count": 7,
   "id": "ee30c4b9-34fc-48c1-ae42-16376b661441",
   "metadata": {},
   "outputs": [],
   "source": [
    "import calendar as cal\n",
    "\n",
    "def next_month(): \n",
    "\n",
    "    count = 1\n",
    "\n",
    "    while True : \n",
    "        name = cal.month_name[count]\n",
    "        yield name\n",
    "\n",
    "        count = count % 12 + 1 \n",
    "\n",
    "m = next_month()"
   ]
  },
  {
   "cell_type": "code",
   "execution_count": 8,
   "id": "2273b67a-cc22-4ac5-9d1f-b9f8cffb903d",
   "metadata": {},
   "outputs": [
    {
     "name": "stdout",
     "output_type": "stream",
     "text": [
      "January\n"
     ]
    }
   ],
   "source": [
    "print(next(m))"
   ]
  },
  {
   "cell_type": "code",
   "execution_count": 9,
   "id": "3c74046b-d8bb-4d0a-a26c-1196632fa1ed",
   "metadata": {},
   "outputs": [
    {
     "name": "stdout",
     "output_type": "stream",
     "text": [
      "February\n"
     ]
    }
   ],
   "source": [
    "print(next(m))"
   ]
  },
  {
   "cell_type": "code",
   "execution_count": 10,
   "id": "27c530b4-4438-4826-8567-04ac6e642e34",
   "metadata": {},
   "outputs": [
    {
     "name": "stdout",
     "output_type": "stream",
     "text": [
      "March\n"
     ]
    }
   ],
   "source": [
    "print(next(m))"
   ]
  },
  {
   "cell_type": "code",
   "execution_count": 11,
   "id": "9bb1b7c1-ebcc-4ba6-9547-e9a54c4086aa",
   "metadata": {},
   "outputs": [
    {
     "name": "stdout",
     "output_type": "stream",
     "text": [
      "April\n"
     ]
    }
   ],
   "source": [
    "print(next(m))"
   ]
  },
  {
   "cell_type": "code",
   "execution_count": 12,
   "id": "74439646-6a6c-4db6-b1ec-2eb291344b7d",
   "metadata": {},
   "outputs": [
    {
     "name": "stdout",
     "output_type": "stream",
     "text": [
      "May\n"
     ]
    }
   ],
   "source": [
    "print(next(m))"
   ]
  },
  {
   "cell_type": "code",
   "execution_count": 13,
   "id": "f4e43c99-3c40-4b0f-b829-521b3a8c9afa",
   "metadata": {},
   "outputs": [
    {
     "name": "stdout",
     "output_type": "stream",
     "text": [
      "June\n"
     ]
    }
   ],
   "source": [
    "print(next(m))"
   ]
  },
  {
   "cell_type": "code",
   "execution_count": 14,
   "id": "f4e204e6-ad41-4894-b494-99aeba74148b",
   "metadata": {},
   "outputs": [
    {
     "name": "stdout",
     "output_type": "stream",
     "text": [
      "July\n"
     ]
    }
   ],
   "source": [
    "print(next(m))"
   ]
  },
  {
   "cell_type": "code",
   "execution_count": 15,
   "id": "7c9aee4a-cf58-4af3-a919-391946596848",
   "metadata": {},
   "outputs": [
    {
     "name": "stdout",
     "output_type": "stream",
     "text": [
      "August\n"
     ]
    }
   ],
   "source": [
    "print(next(m))"
   ]
  },
  {
   "cell_type": "code",
   "execution_count": 16,
   "id": "2390b2bc-54a5-4965-a09e-8639f5764e3a",
   "metadata": {},
   "outputs": [
    {
     "name": "stdout",
     "output_type": "stream",
     "text": [
      "September\n"
     ]
    }
   ],
   "source": [
    "print(next(m))"
   ]
  },
  {
   "cell_type": "code",
   "execution_count": 17,
   "id": "c57e694b-65e7-40af-9ebd-0c08c509d502",
   "metadata": {},
   "outputs": [
    {
     "name": "stdout",
     "output_type": "stream",
     "text": [
      "October\n"
     ]
    }
   ],
   "source": [
    "print(next(m))"
   ]
  },
  {
   "cell_type": "code",
   "execution_count": 18,
   "id": "1118a1dc-5d9a-4956-bfe0-048944b101c3",
   "metadata": {},
   "outputs": [
    {
     "name": "stdout",
     "output_type": "stream",
     "text": [
      "November\n"
     ]
    }
   ],
   "source": [
    "print(next(m))"
   ]
  },
  {
   "cell_type": "code",
   "execution_count": 19,
   "id": "f5720b05-a6f7-4977-914e-cc8bd4a5df97",
   "metadata": {},
   "outputs": [
    {
     "name": "stdout",
     "output_type": "stream",
     "text": [
      "December\n"
     ]
    }
   ],
   "source": [
    "print(next(m))"
   ]
  },
  {
   "cell_type": "code",
   "execution_count": 20,
   "id": "8a5da912-2c30-4042-8764-0d11ee6186bd",
   "metadata": {},
   "outputs": [
    {
     "name": "stdout",
     "output_type": "stream",
     "text": [
      "January\n"
     ]
    }
   ],
   "source": [
    "print(next(m))"
   ]
  }
 ],
 "metadata": {
  "kernelspec": {
   "display_name": "Python 3 (ipykernel)",
   "language": "python",
   "name": "python3"
  },
  "language_info": {
   "codemirror_mode": {
    "name": "ipython",
    "version": 3
   },
   "file_extension": ".py",
   "mimetype": "text/x-python",
   "name": "python",
   "nbconvert_exporter": "python",
   "pygments_lexer": "ipython3",
   "version": "3.13.5"
  }
 },
 "nbformat": 4,
 "nbformat_minor": 5
}
