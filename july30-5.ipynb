{
 "cells": [
  {
   "cell_type": "markdown",
   "id": "da31979f-29e1-40d2-9c7c-64c5b1fdb752",
   "metadata": {},
   "source": [
    "### Multiply String in Numpy`"
   ]
  },
  {
   "cell_type": "code",
   "execution_count": 1,
   "id": "92747783-b14c-40f8-86d6-b01757687b86",
   "metadata": {},
   "outputs": [],
   "source": [
    "import numpy as np"
   ]
  },
  {
   "cell_type": "code",
   "execution_count": 2,
   "id": "fd558d7f-0c49-4c48-95a7-b46978a23d11",
   "metadata": {},
   "outputs": [],
   "source": [
    "arr = np.array(['Apple','Mango','Orange','Banana'])"
   ]
  },
  {
   "cell_type": "code",
   "execution_count": 3,
   "id": "933321f3-f984-45d3-aa2d-99e45b0d69ea",
   "metadata": {},
   "outputs": [
    {
     "name": "stdout",
     "output_type": "stream",
     "text": [
      "['Apple' 'Mango' 'Orange' 'Banana']\n"
     ]
    }
   ],
   "source": [
    "print(arr)"
   ]
  },
  {
   "cell_type": "code",
   "execution_count": 6,
   "id": "a3a89c3a-60f7-4c6a-86e2-795a9329f093",
   "metadata": {},
   "outputs": [],
   "source": [
    "new_arr = np.char.multiply(arr,2)"
   ]
  },
  {
   "cell_type": "code",
   "execution_count": 7,
   "id": "37b4846a-e854-45d9-a123-d75b17aaf585",
   "metadata": {},
   "outputs": [
    {
     "name": "stdout",
     "output_type": "stream",
     "text": [
      "['AppleApple' 'MangoMango' 'OrangeOrange' 'BananaBanana']\n"
     ]
    }
   ],
   "source": [
    "print(new_arr)"
   ]
  },
  {
   "cell_type": "markdown",
   "id": "0eff160e-5461-4516-8299-b5f27c0b7638",
   "metadata": {},
   "source": [
    "### Minimum value along row and column"
   ]
  },
  {
   "cell_type": "code",
   "execution_count": 12,
   "id": "d5a0454b-d0d4-4187-ba8e-e9d362140751",
   "metadata": {},
   "outputs": [
    {
     "name": "stdout",
     "output_type": "stream",
     "text": [
      "[[10 22 45]\n",
      " [ 4  5  6]\n",
      " [ 2  4  8]]\n"
     ]
    }
   ],
   "source": [
    "my_arr = np.array([[10,22,45],[4,5,6],[2,4,8]])\n",
    "print(my_arr)"
   ]
  },
  {
   "cell_type": "code",
   "execution_count": 13,
   "id": "7f166b60-f6b2-471c-b761-a40c4550995d",
   "metadata": {},
   "outputs": [
    {
     "data": {
      "text/plain": [
       "(3, 3)"
      ]
     },
     "execution_count": 13,
     "metadata": {},
     "output_type": "execute_result"
    }
   ],
   "source": [
    "my_arr.shape"
   ]
  },
  {
   "cell_type": "code",
   "execution_count": 15,
   "id": "b367c5bd-7343-4c1f-90af-5c148e2a5a55",
   "metadata": {},
   "outputs": [
    {
     "data": {
      "text/plain": [
       "array([2, 4, 6])"
      ]
     },
     "execution_count": 15,
     "metadata": {},
     "output_type": "execute_result"
    }
   ],
   "source": [
    "np.apply_along_axis(lambda x : np.min(x),arr = my_arr,axis=0)"
   ]
  },
  {
   "cell_type": "code",
   "execution_count": 16,
   "id": "8e724c42-98af-4109-9b00-d31cdd7ee2cb",
   "metadata": {},
   "outputs": [
    {
     "data": {
      "text/plain": [
       "array([10,  4,  2])"
      ]
     },
     "execution_count": 16,
     "metadata": {},
     "output_type": "execute_result"
    }
   ],
   "source": [
    "np.apply_along_axis(lambda x : np.min(x),arr = my_arr,axis=1)"
   ]
  }
 ],
 "metadata": {
  "kernelspec": {
   "display_name": "Python 3 (ipykernel)",
   "language": "python",
   "name": "python3"
  },
  "language_info": {
   "codemirror_mode": {
    "name": "ipython",
    "version": 3
   },
   "file_extension": ".py",
   "mimetype": "text/x-python",
   "name": "python",
   "nbconvert_exporter": "python",
   "pygments_lexer": "ipython3",
   "version": "3.13.5"
  }
 },
 "nbformat": 4,
 "nbformat_minor": 5
}
