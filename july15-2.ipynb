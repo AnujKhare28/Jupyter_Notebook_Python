{
 "cells": [
  {
   "cell_type": "markdown",
   "id": "06a4662f-4681-4e75-b9de-4b610aee0fe9",
   "metadata": {},
   "source": [
    "### Printing the square of a given List"
   ]
  },
  {
   "cell_type": "code",
   "execution_count": 2,
   "id": "cb953a99-db00-4eb2-8fb7-e7a91d1ad7e4",
   "metadata": {},
   "outputs": [
    {
     "name": "stdout",
     "output_type": "stream",
     "text": [
      "Given List: [2, 5, 6, 12]\n",
      "Output List: [4, 25, 36, 144]\n"
     ]
    }
   ],
   "source": [
    "l1 = [2,5,6,12]\n",
    "print(\"Given List:\",l1)\n",
    "l2 = []\n",
    "for i in range(0,len(l1)):\n",
    "    l2.append(l1[i]**2)\n",
    "print(\"Output List:\",l2)"
   ]
  },
  {
   "cell_type": "markdown",
   "id": "004c106d-1466-4b12-a103-46827a51fd0d",
   "metadata": {},
   "source": [
    "### Create 2 list one for even and one for odd from 0 to 151"
   ]
  },
  {
   "cell_type": "code",
   "execution_count": 5,
   "id": "f440fc69-5f9e-4f1c-810e-645d557da31b",
   "metadata": {},
   "outputs": [
    {
     "name": "stdout",
     "output_type": "stream",
     "text": [
      "Even numbers: [2, 4, 6, 8, 10, 12, 14, 16, 18, 20, 22, 24, 26, 28, 30, 32, 34, 36, 38, 40, 42, 44, 46, 48, 50, 52, 54, 56, 58, 60, 62, 64, 66, 68, 70, 72, 74, 76, 78, 80, 82, 84, 86, 88, 90, 92, 94, 96, 98, 100, 102, 104, 106, 108, 110, 112, 114, 116, 118, 120, 122, 124, 126, 128, 130, 132, 134, 136, 138, 140, 142, 144, 146, 148, 150]\n",
      "\n",
      "Odd numbers [1, 3, 5, 7, 9, 11, 13, 15, 17, 19, 21, 23, 25, 27, 29, 31, 33, 35, 37, 39, 41, 43, 45, 47, 49, 51, 53, 55, 57, 59, 61, 63, 65, 67, 69, 71, 73, 75, 77, 79, 81, 83, 85, 87, 89, 91, 93, 95, 97, 99, 101, 103, 105, 107, 109, 111, 113, 115, 117, 119, 121, 123, 125, 127, 129, 131, 133, 135, 137, 139, 141, 143, 145, 147, 149, 151]\n"
     ]
    }
   ],
   "source": [
    "even_list = []\n",
    "odd_list = []\n",
    "\n",
    "for i in range(1, 152):\n",
    "    if i % 2 == 0:\n",
    "        even_list.append(i)\n",
    "    else:\n",
    "        odd_list.append(i)\n",
    "    i = i +1\n",
    "print(\"Even numbers:\",even_list)\n",
    "print(\"\")\n",
    "print(\"Odd numbers\",odd_list)       "
   ]
  },
  {
   "cell_type": "code",
   "execution_count": null,
   "id": "1010f631-a890-4fe5-a003-365ca02f4b50",
   "metadata": {},
   "outputs": [],
   "source": []
  }
 ],
 "metadata": {
  "kernelspec": {
   "display_name": "Python 3 (ipykernel)",
   "language": "python",
   "name": "python3"
  },
  "language_info": {
   "codemirror_mode": {
    "name": "ipython",
    "version": 3
   },
   "file_extension": ".py",
   "mimetype": "text/x-python",
   "name": "python",
   "nbconvert_exporter": "python",
   "pygments_lexer": "ipython3",
   "version": "3.13.5"
  }
 },
 "nbformat": 4,
 "nbformat_minor": 5
}
