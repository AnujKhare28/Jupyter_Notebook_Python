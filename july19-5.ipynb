{
 "cells": [
  {
   "cell_type": "markdown",
   "id": "c0f56e1f-b710-46b6-b53e-233fb5ca2c49",
   "metadata": {},
   "source": [
    "### Palindrome of string"
   ]
  },
  {
   "cell_type": "code",
   "execution_count": 13,
   "id": "fe89ac0e-a09f-4d8c-a678-5775dbcb501b",
   "metadata": {},
   "outputs": [
    {
     "name": "stdin",
     "output_type": "stream",
     "text": [
      "Enter a sentence or word: Race Car\n"
     ]
    },
    {
     "name": "stdout",
     "output_type": "stream",
     "text": [
      "Race Car\n"
     ]
    }
   ],
   "source": [
    "a = input(\"Enter a sentence or word:\")\n",
    "low = a.lower().replace(\" \",\"\")\n",
    "rev = low[::-1]\n",
    "if low == rev:\n",
    "    print(a)\n",
    "else:\n",
    "    print(a+rev)"
   ]
  },
  {
   "cell_type": "code",
   "execution_count": 9,
   "id": "fc2ae616-495f-4a35-95e8-9c01ddbeed92",
   "metadata": {},
   "outputs": [
    {
     "name": "stdin",
     "output_type": "stream",
     "text": [
      "Enter a sentence or word: Python\n"
     ]
    },
    {
     "name": "stdout",
     "output_type": "stream",
     "text": [
      "Pythonnohtyp\n"
     ]
    }
   ],
   "source": [
    "a = input(\"Enter a sentence or word:\")\n",
    "low = a.lower().replace(\" \",\"\")\n",
    "rev = low[::-1]\n",
    "if low == rev:\n",
    "    print(\"Palindrome\")\n",
    "else:\n",
    "    print(a+rev)"
   ]
  }
 ],
 "metadata": {
  "kernelspec": {
   "display_name": "Python 3 (ipykernel)",
   "language": "python",
   "name": "python3"
  },
  "language_info": {
   "codemirror_mode": {
    "name": "ipython",
    "version": 3
   },
   "file_extension": ".py",
   "mimetype": "text/x-python",
   "name": "python",
   "nbconvert_exporter": "python",
   "pygments_lexer": "ipython3",
   "version": "3.13.5"
  }
 },
 "nbformat": 4,
 "nbformat_minor": 5
}
