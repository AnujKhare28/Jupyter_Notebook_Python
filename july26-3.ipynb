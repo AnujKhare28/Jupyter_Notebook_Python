{
 "cells": [
  {
   "cell_type": "markdown",
   "id": "8774cd2f-9d8b-4c52-a37e-e35e9abc2fa6",
   "metadata": {},
   "source": [
    "### Pangram"
   ]
  },
  {
   "cell_type": "code",
   "execution_count": 2,
   "id": "ca7911ab-016b-4370-8d31-73b2930c67a1",
   "metadata": {},
   "outputs": [
    {
     "name": "stdin",
     "output_type": "stream",
     "text": [
      "Enter a Phrase: The quick brown fox jumps over the lazy dog\n"
     ]
    },
    {
     "name": "stdout",
     "output_type": "stream",
     "text": [
      "The input is : The quick brown fox jumps over the lazy dog\n",
      "Its a Pangram\n"
     ]
    }
   ],
   "source": [
    "import re\n",
    "\n",
    "def pangram(phrase): \n",
    "    a = re.sub(r'[^a-zA-Z]','',phrase)\n",
    "    letter = set(a.lower())\n",
    "    if len(letter) == 26:\n",
    "        return \"Its a Pangram\"\n",
    "    else: \n",
    "        return \"Not a Pangram\"\n",
    "\n",
    "phrase = input(\"Enter a Phrase:\")\n",
    "print('The input is :', phrase)\n",
    "print (pangram(phrase))"
   ]
  },
  {
   "cell_type": "markdown",
   "id": "4e1a7d3c-00c8-4ed6-a2cc-6b1d9f8f511c",
   "metadata": {},
   "source": [
    "### Strong Password Checker"
   ]
  },
  {
   "cell_type": "code",
   "execution_count": 3,
   "id": "d7447a81-87c4-48d7-8384-45be0a98cc44",
   "metadata": {},
   "outputs": [],
   "source": [
    "def isStrong(password):\n",
    "    msg = 'Password must contain atleast '\n",
    "\n",
    "    if len(password) < 8: \n",
    "        return False, msg + '8 Character'\n",
    "        \n",
    "    hasUpper = any(c.isupper() for c in password)\n",
    "    hasLower = any(c.islower() for c in password)\n",
    "    hasDigit = any(c.isdigit() for c in password)\n",
    "    specialChar = set('!@#$%^&*-_+=')\n",
    "    hasSpecial = any(c in specialChar for c in password)\n",
    "\n",
    "    if not hasUpper: \n",
    "        return False, msg + 'one uppercase letter'\n",
    "    if not hasLower: \n",
    "        return False, msg + 'one lowercase letter'\n",
    "    if not hasDigit: \n",
    "        return False, msg + 'one digit'\n",
    "    if not hasSpecial: \n",
    "        return False, msg + 'one special character'\n",
    "\n",
    "    return True, \"Your password is strong\""
   ]
  },
  {
   "cell_type": "code",
   "execution_count": 9,
   "id": "e81cf2ff-684b-4f02-b734-4f0c68190927",
   "metadata": {},
   "outputs": [
    {
     "name": "stdin",
     "output_type": "stream",
     "text": [
      "Enter your password: Anujkhare@123\n"
     ]
    },
    {
     "name": "stdout",
     "output_type": "stream",
     "text": [
      "(True, 'Your password is strong')\n"
     ]
    }
   ],
   "source": [
    "password = input(\"Enter your password:\")\n",
    "print(isStrong(password))"
   ]
  },
  {
   "cell_type": "code",
   "execution_count": null,
   "id": "0ad33918-d686-4e17-a87e-7d4301dee291",
   "metadata": {},
   "outputs": [],
   "source": []
  }
 ],
 "metadata": {
  "kernelspec": {
   "display_name": "Python 3 (ipykernel)",
   "language": "python",
   "name": "python3"
  },
  "language_info": {
   "codemirror_mode": {
    "name": "ipython",
    "version": 3
   },
   "file_extension": ".py",
   "mimetype": "text/x-python",
   "name": "python",
   "nbconvert_exporter": "python",
   "pygments_lexer": "ipython3",
   "version": "3.13.5"
  }
 },
 "nbformat": 4,
 "nbformat_minor": 5
}
