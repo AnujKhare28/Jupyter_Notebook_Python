{
 "cells": [
  {
   "cell_type": "markdown",
   "id": "f7127526-6a75-4c96-b9cb-cd9f252e61c5",
   "metadata": {},
   "source": [
    "### Accessing the index of the List"
   ]
  },
  {
   "cell_type": "code",
   "execution_count": 2,
   "id": "4a68064f-986f-4ad0-8bf3-15740e85c969",
   "metadata": {},
   "outputs": [
    {
     "name": "stdout",
     "output_type": "stream",
     "text": [
      "0 23\n",
      "1 45\n",
      "2 67\n",
      "3 87\n",
      "4 98\n",
      "5 22\n",
      "6 43\n",
      "7 54\n",
      "8 65\n"
     ]
    }
   ],
   "source": [
    "l = [23,45,67,87,98,22,43,54,65]\n",
    "\n",
    "for index in range (len(l)):\n",
    "    value = l[index]\n",
    "    print(index, value)"
   ]
  },
  {
   "cell_type": "markdown",
   "id": "1dca898c-4721-486c-b24f-b1c16c0cb69e",
   "metadata": {},
   "source": [
    "### Pattern"
   ]
  },
  {
   "cell_type": "code",
   "execution_count": 14,
   "id": "b9d3b5f5-a702-4a18-b35f-26fbcbc1c827",
   "metadata": {},
   "outputs": [
    {
     "name": "stdout",
     "output_type": "stream",
     "text": [
      "*         \n",
      "* *       \n",
      "*   *     \n",
      "*     *   \n",
      "* * * * * \n"
     ]
    }
   ],
   "source": [
    "for row in range (5):\n",
    "    for col in range(5):\n",
    "        if col == 0 or row == 4 or col == row:\n",
    "            print(\"*\",end = \" \")\n",
    "        else:\n",
    "            print(end = \"  \")\n",
    "    print(\"\")"
   ]
  },
  {
   "cell_type": "code",
   "execution_count": 15,
   "id": "9d59f5b0-2d6d-44ca-8dd2-553d0cb00fc6",
   "metadata": {},
   "outputs": [
    {
     "name": "stdout",
     "output_type": "stream",
     "text": [
      "* * * * * \n",
      "  *     * \n",
      "    *   * \n",
      "      * * \n",
      "        * \n"
     ]
    }
   ],
   "source": [
    "for row in range (5):\n",
    "    for col in range(5):\n",
    "        if col == 4 or row == 0 or col == row:\n",
    "            print(\"*\",end = \" \")\n",
    "        else:\n",
    "            print(end = \"  \")\n",
    "    print(\"\")"
   ]
  },
  {
   "cell_type": "code",
   "execution_count": null,
   "id": "69ecec2c-c135-4404-a7de-80e9f4855983",
   "metadata": {},
   "outputs": [],
   "source": []
  }
 ],
 "metadata": {
  "kernelspec": {
   "display_name": "Python 3 (ipykernel)",
   "language": "python",
   "name": "python3"
  },
  "language_info": {
   "codemirror_mode": {
    "name": "ipython",
    "version": 3
   },
   "file_extension": ".py",
   "mimetype": "text/x-python",
   "name": "python",
   "nbconvert_exporter": "python",
   "pygments_lexer": "ipython3",
   "version": "3.13.5"
  }
 },
 "nbformat": 4,
 "nbformat_minor": 5
}
