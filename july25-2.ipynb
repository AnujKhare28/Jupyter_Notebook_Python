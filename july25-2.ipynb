{
 "cells": [
  {
   "cell_type": "markdown",
   "id": "07d14b28-00fe-4380-91c3-6d75c3f24bdf",
   "metadata": {},
   "source": [
    "## Dictionary Methods"
   ]
  },
  {
   "cell_type": "code",
   "execution_count": 23,
   "id": "531a04e8-1b7d-4046-91a6-c75c06672d6a",
   "metadata": {},
   "outputs": [],
   "source": [
    "d = {1: 'One', 2: 'Two', 3: 'Three', 4: 'Four'}"
   ]
  },
  {
   "cell_type": "code",
   "execution_count": 3,
   "id": "1a355798-cf5c-4fb2-9d6f-600c9e5d8e45",
   "metadata": {},
   "outputs": [],
   "source": [
    "d1 = {5: 'Five'}"
   ]
  },
  {
   "cell_type": "code",
   "execution_count": 4,
   "id": "b9fee3b7-072a-457e-98e0-07f7f7869523",
   "metadata": {},
   "outputs": [],
   "source": [
    "d.update(d1)"
   ]
  },
  {
   "cell_type": "code",
   "execution_count": 5,
   "id": "edba9be4-3a6e-4fe8-991c-4617e3c5cc3f",
   "metadata": {},
   "outputs": [
    {
     "data": {
      "text/plain": [
       "{1: 'One', 2: 'Two', 3: 'Three', 4: 'Four', 5: 'Five'}"
      ]
     },
     "execution_count": 5,
     "metadata": {},
     "output_type": "execute_result"
    }
   ],
   "source": [
    "d"
   ]
  },
  {
   "cell_type": "code",
   "execution_count": 15,
   "id": "e1235d1a-2071-45e3-9bb1-6e1e5ab943d0",
   "metadata": {},
   "outputs": [],
   "source": [
    "l = [1,2,3,4]\n",
    "\n",
    "d2 = dict.fromkeys(l, 'Anuj')"
   ]
  },
  {
   "cell_type": "code",
   "execution_count": 16,
   "id": "87ee1d07-c0af-4f56-a824-7f2bc0098d9b",
   "metadata": {},
   "outputs": [
    {
     "data": {
      "text/plain": [
       "{1: 'Anuj', 2: 'Anuj', 3: 'Anuj', 4: 'Anuj'}"
      ]
     },
     "execution_count": 16,
     "metadata": {},
     "output_type": "execute_result"
    }
   ],
   "source": [
    "d2"
   ]
  },
  {
   "cell_type": "code",
   "execution_count": 17,
   "id": "ac890c28-e768-4d82-a080-ce8e1430eb14",
   "metadata": {},
   "outputs": [],
   "source": [
    "d1 = d.copy()"
   ]
  },
  {
   "cell_type": "code",
   "execution_count": 18,
   "id": "2b7bc509-fae3-4778-8292-678dab4120a8",
   "metadata": {},
   "outputs": [
    {
     "data": {
      "text/plain": [
       "{1: 'One', 2: 'Two', 3: 'Three', 4: 'Four'}"
      ]
     },
     "execution_count": 18,
     "metadata": {},
     "output_type": "execute_result"
    }
   ],
   "source": [
    "d1"
   ]
  },
  {
   "cell_type": "code",
   "execution_count": 21,
   "id": "18d0efbb-b817-4321-a6c6-7220b0bbb6ec",
   "metadata": {},
   "outputs": [
    {
     "data": {
      "text/plain": [
       "'Two'"
      ]
     },
     "execution_count": 21,
     "metadata": {},
     "output_type": "execute_result"
    }
   ],
   "source": [
    "d.pop(2)"
   ]
  },
  {
   "cell_type": "code",
   "execution_count": 22,
   "id": "0ee9dc53-66dc-47d0-91c3-b49c3087c421",
   "metadata": {},
   "outputs": [
    {
     "data": {
      "text/plain": [
       "{1: 'One', 3: 'Three', 4: 'Four'}"
      ]
     },
     "execution_count": 22,
     "metadata": {},
     "output_type": "execute_result"
    }
   ],
   "source": [
    "d"
   ]
  },
  {
   "cell_type": "code",
   "execution_count": 24,
   "id": "b61a4c60-b8c2-4f37-a060-4637157a9eca",
   "metadata": {},
   "outputs": [
    {
     "data": {
      "text/plain": [
       "(4, 'Four')"
      ]
     },
     "execution_count": 24,
     "metadata": {},
     "output_type": "execute_result"
    }
   ],
   "source": [
    "d.popitem()"
   ]
  },
  {
   "cell_type": "code",
   "execution_count": 25,
   "id": "154744e8-bfb6-4eea-98ee-e3479cceb38a",
   "metadata": {},
   "outputs": [
    {
     "data": {
      "text/plain": [
       "{1: 'One', 2: 'Two', 3: 'Three'}"
      ]
     },
     "execution_count": 25,
     "metadata": {},
     "output_type": "execute_result"
    }
   ],
   "source": [
    "d"
   ]
  },
  {
   "cell_type": "code",
   "execution_count": 28,
   "id": "8b7dc9af-3696-4cab-9dca-61a22525d4c3",
   "metadata": {},
   "outputs": [],
   "source": [
    "d.clear()"
   ]
  },
  {
   "cell_type": "code",
   "execution_count": 29,
   "id": "21c6e0bc-babb-4eef-a8bb-dd0ee88a1d4e",
   "metadata": {},
   "outputs": [
    {
     "data": {
      "text/plain": [
       "{}"
      ]
     },
     "execution_count": 29,
     "metadata": {},
     "output_type": "execute_result"
    }
   ],
   "source": [
    "d"
   ]
  },
  {
   "cell_type": "code",
   "execution_count": null,
   "id": "41d76746-ac1b-44ea-93a7-9c135363337d",
   "metadata": {},
   "outputs": [],
   "source": []
  }
 ],
 "metadata": {
  "kernelspec": {
   "display_name": "Python 3 (ipykernel)",
   "language": "python",
   "name": "python3"
  },
  "language_info": {
   "codemirror_mode": {
    "name": "ipython",
    "version": 3
   },
   "file_extension": ".py",
   "mimetype": "text/x-python",
   "name": "python",
   "nbconvert_exporter": "python",
   "pygments_lexer": "ipython3",
   "version": "3.13.5"
  }
 },
 "nbformat": 4,
 "nbformat_minor": 5
}
