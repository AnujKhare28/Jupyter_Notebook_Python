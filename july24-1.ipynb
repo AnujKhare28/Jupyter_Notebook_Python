{
 "cells": [
  {
   "cell_type": "markdown",
   "id": "01585274-2d2b-44d2-a5f7-68c8c4bcff97",
   "metadata": {},
   "source": [
    "### Reversing a String"
   ]
  },
  {
   "cell_type": "code",
   "execution_count": 32,
   "id": "87618491-8f6d-4489-91fe-72f29696aad2",
   "metadata": {},
   "outputs": [
    {
     "name": "stdout",
     "output_type": "stream",
     "text": [
      "machine analytics science data\n"
     ]
    }
   ],
   "source": [
    "s = 'data science analytics machine'\n",
    "\n",
    "l = s.split()\n",
    "l2 = l[::-1]\n",
    "\n",
    "rev_str = ' '.join(l2)\n",
    "print(rev_str)"
   ]
  },
  {
   "cell_type": "code",
   "execution_count": 33,
   "id": "f9abe8dc-d8c5-4d3a-9bab-cd9c00b6d722",
   "metadata": {},
   "outputs": [
    {
     "data": {
      "text/plain": [
       "'KHARE ANUJ'"
      ]
     },
     "execution_count": 33,
     "metadata": {},
     "output_type": "execute_result"
    }
   ],
   "source": [
    "def rev_str(s):\n",
    "    l = s.split()\n",
    "    l2 = l[::-1]\n",
    "\n",
    "    rev_str = ' '.join(l2)\n",
    "    return rev_str\n",
    "rev_str(\"ANUJ KHARE\")"
   ]
  },
  {
   "cell_type": "markdown",
   "id": "5cb1b0f2-0842-4001-8d59-6fa7031470f3",
   "metadata": {},
   "source": [
    "## Even Odd"
   ]
  },
  {
   "cell_type": "code",
   "execution_count": 37,
   "id": "168046ec-0bbb-47bd-b3d7-d2035a2f474a",
   "metadata": {},
   "outputs": [
    {
     "name": "stdout",
     "output_type": "stream",
     "text": [
      "[10, 22, 98, 56, 74, 88]\n",
      "[45, 65, 23, 87]\n"
     ]
    }
   ],
   "source": [
    "num = [10,22,45,65,98,56,74,23,87,88]\n",
    "even = []\n",
    "odd = []\n",
    "for i in num:\n",
    "    if i % 2 == 0:\n",
    "        even.append(i)\n",
    "    else:\n",
    "        odd.append(i)\n",
    "\n",
    "print(even)\n",
    "print(odd)"
   ]
  },
  {
   "cell_type": "markdown",
   "id": "05b44061-f229-4d63-bb21-26ce596c2fe4",
   "metadata": {},
   "source": [
    "### By Function"
   ]
  },
  {
   "cell_type": "code",
   "execution_count": 39,
   "id": "12930a24-db46-4a01-946c-1d427bfb1315",
   "metadata": {},
   "outputs": [
    {
     "name": "stdout",
     "output_type": "stream",
     "text": [
      "[10, 22, 98, 56, 74, 88]\n",
      "[45, 65, 23, 87]\n"
     ]
    }
   ],
   "source": [
    "def evenOdd(num):\n",
    "    even = []\n",
    "    odd = []\n",
    "    for i in num:\n",
    "        if i % 2 == 0:\n",
    "            even.append(i)\n",
    "        else:\n",
    "            odd.append(i)\n",
    "    \n",
    "    print(even)\n",
    "    print(odd)\n",
    "\n",
    "num = [10,22,45,65,98,56,74,23,87,88]\n",
    "evenOdd(num)"
   ]
  },
  {
   "cell_type": "markdown",
   "id": "91853764-2c5f-42d9-b0ef-2c1b148eecfe",
   "metadata": {},
   "source": [
    "### By List Comprehension"
   ]
  },
  {
   "cell_type": "code",
   "execution_count": 43,
   "id": "c5f71183-8807-47f6-9f00-312626d6b866",
   "metadata": {},
   "outputs": [
    {
     "name": "stdout",
     "output_type": "stream",
     "text": [
      "[10, 22, 98, 56, 74, 88]\n",
      "[45, 65, 23, 87]\n"
     ]
    }
   ],
   "source": [
    "num = [10,22,45,65,98,56,74,23,87,88]\n",
    "\n",
    "even = [i for i in num if i % 2 == 0]\n",
    "odd = [i for i in num if i % 2 != 0]\n",
    "print(even)\n",
    "print(odd)"
   ]
  },
  {
   "cell_type": "markdown",
   "id": "5087e1c9-1c97-4dd6-bc03-c5f97346ca29",
   "metadata": {},
   "source": [
    "### By Lambda Function"
   ]
  },
  {
   "cell_type": "code",
   "execution_count": 50,
   "id": "b3bb0dd7-a8fc-46de-8050-9914c0eff2a4",
   "metadata": {},
   "outputs": [
    {
     "name": "stdout",
     "output_type": "stream",
     "text": [
      "[10, 22, 98, 56, 74, 88]\n",
      "[45, 65, 23, 87]\n"
     ]
    }
   ],
   "source": [
    "num = [10,22,45,65,98,56,74,23,87,88]\n",
    "\n",
    "even = list(filter(lambda i: i % 2==0, num))\n",
    "odd = list(filter(lambda i: i % 2!=0, num))\n",
    "\n",
    "print(even)\n",
    "print(odd)"
   ]
  },
  {
   "cell_type": "markdown",
   "id": "c1f7a14a-740e-4078-a6e7-00bec6e965d1",
   "metadata": {},
   "source": [
    "### Factorial"
   ]
  },
  {
   "cell_type": "code",
   "execution_count": 67,
   "id": "528f1e95-fd4c-48e0-8f91-de7a4397f635",
   "metadata": {},
   "outputs": [
    {
     "name": "stdin",
     "output_type": "stream",
     "text": [
      " 5\n"
     ]
    },
    {
     "name": "stdout",
     "output_type": "stream",
     "text": [
      "5 factorial is 120\n"
     ]
    }
   ],
   "source": [
    "n = int(input())\n",
    "\n",
    "fact = 1\n",
    "if n < 0:\n",
    "    print('Does not Exist')\n",
    "elif n == 0:\n",
    "    print('Factoral is 1')\n",
    "else:\n",
    "    for i in range(1, n+1):\n",
    "        fact = fact * i\n",
    "    print(f\"{n} factorial is {fact}\")"
   ]
  },
  {
   "cell_type": "markdown",
   "id": "4a4eb728-1f9f-45fc-80b9-c4acda05b8aa",
   "metadata": {},
   "source": [
    "### Sum of n natural number"
   ]
  },
  {
   "cell_type": "code",
   "execution_count": 68,
   "id": "92003f17-23b8-41ce-89b2-290524f2ce53",
   "metadata": {},
   "outputs": [
    {
     "name": "stdin",
     "output_type": "stream",
     "text": [
      " 5\n"
     ]
    },
    {
     "name": "stdout",
     "output_type": "stream",
     "text": [
      "15\n"
     ]
    }
   ],
   "source": [
    "n = int(input())\n",
    "\n",
    "sum = 0\n",
    "\n",
    "for i in range(1, n + 1): \n",
    "    sum = sum + i\n",
    "print(sum)"
   ]
  },
  {
   "cell_type": "markdown",
   "id": "76525fec-a123-4f08-a414-19838b887c67",
   "metadata": {},
   "source": [
    "### Greatest Number "
   ]
  },
  {
   "cell_type": "code",
   "execution_count": 73,
   "id": "c45ffe6a-a3cd-44d9-852c-03b30ca278e3",
   "metadata": {},
   "outputs": [
    {
     "name": "stdin",
     "output_type": "stream",
     "text": [
      " 4\n",
      " 5\n",
      " 6\n"
     ]
    },
    {
     "name": "stdout",
     "output_type": "stream",
     "text": [
      "6 is greatest\n"
     ]
    }
   ],
   "source": [
    "a= int(input())\n",
    "b = int(input())\n",
    "c = int(input())\n",
    "\n",
    "if a > b and a > c:\n",
    "    print(a,\"is greatest\")\n",
    "elif b > a and b > c:\n",
    "    print(b,'is greatest')\n",
    "else: \n",
    "    print(c,'is greatest')"
   ]
  },
  {
   "cell_type": "code",
   "execution_count": null,
   "id": "73e304d9-8a7e-4da9-907e-81a1a015eb93",
   "metadata": {},
   "outputs": [],
   "source": []
  }
 ],
 "metadata": {
  "kernelspec": {
   "display_name": "Python 3 (ipykernel)",
   "language": "python",
   "name": "python3"
  },
  "language_info": {
   "codemirror_mode": {
    "name": "ipython",
    "version": 3
   },
   "file_extension": ".py",
   "mimetype": "text/x-python",
   "name": "python",
   "nbconvert_exporter": "python",
   "pygments_lexer": "ipython3",
   "version": "3.13.5"
  }
 },
 "nbformat": 4,
 "nbformat_minor": 5
}
