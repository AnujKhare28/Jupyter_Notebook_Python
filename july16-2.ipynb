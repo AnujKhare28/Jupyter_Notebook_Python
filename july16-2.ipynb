{
 "cells": [
  {
   "cell_type": "markdown",
   "id": "7f6efd04-3323-498a-b0ed-9c7b4d30d520",
   "metadata": {},
   "source": [
    "### Extract Substring using Slicing"
   ]
  },
  {
   "cell_type": "code",
   "execution_count": 12,
   "id": "d474a16f-50d4-490c-8e81-300eef339ee7",
   "metadata": {},
   "outputs": [
    {
     "name": "stdout",
     "output_type": "stream",
     "text": [
      "Science\n"
     ]
    }
   ],
   "source": [
    "str1 = 'I am Learning Data Science and Analytics'\n",
    "\n",
    "# find the index of the \"Science\"\n",
    "# for i in range(0, len(str1)):\n",
    "    # print(str1[i],'-',i)\n",
    "#\"Science\" has index from 19 to 25\n",
    "# now slice it\n",
    "str2 = str1[19:26]\n",
    "print(str2)"
   ]
  },
  {
   "cell_type": "markdown",
   "id": "7978cc7d-e754-424d-a8e3-60dd6e8c566a",
   "metadata": {},
   "source": [
    "### Extracting min and max from a set"
   ]
  },
  {
   "cell_type": "code",
   "execution_count": 14,
   "id": "1f45d902-dee0-4079-8f25-890a3cae1a83",
   "metadata": {},
   "outputs": [
    {
     "name": "stdout",
     "output_type": "stream",
     "text": [
      "Minimum: 1\n",
      "Maximum: 9\n"
     ]
    }
   ],
   "source": [
    "set1 = {1,4,7,2,9,3,5}\n",
    "\n",
    "set2 = sorted(set1)\n",
    "print('Minimum:',set2[0])\n",
    "print('Maximum:',set2[-1])"
   ]
  }
 ],
 "metadata": {
  "kernelspec": {
   "display_name": "Python 3 (ipykernel)",
   "language": "python",
   "name": "python3"
  },
  "language_info": {
   "codemirror_mode": {
    "name": "ipython",
    "version": 3
   },
   "file_extension": ".py",
   "mimetype": "text/x-python",
   "name": "python",
   "nbconvert_exporter": "python",
   "pygments_lexer": "ipython3",
   "version": "3.13.5"
  }
 },
 "nbformat": 4,
 "nbformat_minor": 5
}
