{
 "cells": [
  {
   "cell_type": "code",
   "execution_count": 2,
   "id": "f20635f0-f6fa-4d23-81e4-6f796e6984a7",
   "metadata": {},
   "outputs": [
    {
     "name": "stdin",
     "output_type": "stream",
     "text": [
      "Enter a positive number: 100\n"
     ]
    },
    {
     "name": "stdout",
     "output_type": "stream",
     "text": [
      "5050\n"
     ]
    }
   ],
   "source": [
    "num = int (input(\"Enter a positive number:\"))\n",
    "\n",
    "if num < 0:\n",
    "    print (\"Number is not Positive, please enter a positive number\")\n",
    "else:\n",
    "    sum = 0\n",
    "    while num > 0:\n",
    "        sum += num\n",
    "        num -= 1\n",
    "print(sum)"
   ]
  },
  {
   "cell_type": "code",
   "execution_count": null,
   "id": "a053d84c-5996-49c1-a482-5decb673dbf4",
   "metadata": {},
   "outputs": [],
   "source": []
  }
 ],
 "metadata": {
  "kernelspec": {
   "display_name": "Python 3 (ipykernel)",
   "language": "python",
   "name": "python3"
  },
  "language_info": {
   "codemirror_mode": {
    "name": "ipython",
    "version": 3
   },
   "file_extension": ".py",
   "mimetype": "text/x-python",
   "name": "python",
   "nbconvert_exporter": "python",
   "pygments_lexer": "ipython3",
   "version": "3.13.5"
  }
 },
 "nbformat": 4,
 "nbformat_minor": 5
}
