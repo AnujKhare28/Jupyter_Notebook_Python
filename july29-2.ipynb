{
 "cells": [
  {
   "cell_type": "markdown",
   "id": "93791c37-0409-4626-b8b5-b7ac927bbe94",
   "metadata": {},
   "source": [
    "### Array Modification"
   ]
  },
  {
   "cell_type": "markdown",
   "id": "fa484c97-5385-4fd8-bb6e-77457fa9e80b",
   "metadata": {},
   "source": [
    "#### In Vector"
   ]
  },
  {
   "cell_type": "code",
   "execution_count": 2,
   "id": "c78f1598-c9a9-4764-b42d-3bec107bc32e",
   "metadata": {},
   "outputs": [],
   "source": [
    "import numpy as np"
   ]
  },
  {
   "cell_type": "code",
   "execution_count": 3,
   "id": "39ada859-bc06-4f13-8e32-7e6400b296eb",
   "metadata": {},
   "outputs": [
    {
     "name": "stdout",
     "output_type": "stream",
     "text": [
      "[10 20 30 40 50 60 70 80 90]\n"
     ]
    }
   ],
   "source": [
    "arr = np.array([10,20,30,40,50,60,70,80,90])\n",
    "print(arr)"
   ]
  },
  {
   "cell_type": "code",
   "execution_count": 4,
   "id": "1f808e52-1845-49bc-b985-54e723b4b53b",
   "metadata": {},
   "outputs": [
    {
     "name": "stdout",
     "output_type": "stream",
     "text": [
      "[ 10  20  30 100  40  50  60  70  80  90]\n"
     ]
    }
   ],
   "source": [
    "new_arr = np.insert(arr,3,100)\n",
    "print(new_arr)"
   ]
  },
  {
   "cell_type": "markdown",
   "id": "c76f8730-f854-4537-86ce-a561c55dcc87",
   "metadata": {},
   "source": [
    "#### In Matrix"
   ]
  },
  {
   "cell_type": "code",
   "execution_count": 5,
   "id": "4ac45d69-613d-4541-bae4-2abc9be3ff43",
   "metadata": {},
   "outputs": [
    {
     "name": "stdout",
     "output_type": "stream",
     "text": [
      "[[1 2]\n",
      " [3 4]]\n"
     ]
    }
   ],
   "source": [
    "arr_2d = np.array([[1,2],[3,4]])\n",
    "print(arr_2d)"
   ]
  },
  {
   "cell_type": "code",
   "execution_count": 6,
   "id": "d4735870-8f24-4dcd-a653-965b62285771",
   "metadata": {},
   "outputs": [
    {
     "name": "stdout",
     "output_type": "stream",
     "text": [
      "[[1 2]\n",
      " [5 6]\n",
      " [3 4]]\n"
     ]
    }
   ],
   "source": [
    "new_arr_2d = np.insert(arr_2d, 1, [5,6], axis=0)\n",
    "print(new_arr_2d)"
   ]
  },
  {
   "cell_type": "code",
   "execution_count": 7,
   "id": "db2f9b2f-39ee-4ad2-94d0-6008634668c9",
   "metadata": {},
   "outputs": [
    {
     "name": "stdout",
     "output_type": "stream",
     "text": [
      "[[1 5 2]\n",
      " [3 6 4]]\n"
     ]
    }
   ],
   "source": [
    "new_arr_2d = np.insert(arr_2d, 1, [5,6], axis=1)\n",
    "print(new_arr_2d)"
   ]
  },
  {
   "cell_type": "code",
   "execution_count": 8,
   "id": "b8129f43-5540-437d-bfac-e4ba082d4f08",
   "metadata": {},
   "outputs": [
    {
     "name": "stdout",
     "output_type": "stream",
     "text": [
      "[1 5 6 2 3 4]\n"
     ]
    }
   ],
   "source": [
    "new_arr_2d = np.insert(arr_2d, 1, [5,6], axis=None)\n",
    "print(new_arr_2d)"
   ]
  },
  {
   "cell_type": "code",
   "execution_count": 9,
   "id": "2b3a06f1-b797-4232-894b-60854f96f2a5",
   "metadata": {},
   "outputs": [
    {
     "data": {
      "text/plain": [
       "array([1, 2, 3, 4, 5, 6])"
      ]
     },
     "execution_count": 9,
     "metadata": {},
     "output_type": "execute_result"
    }
   ],
   "source": [
    "np.append(arr_2d,[5,6])"
   ]
  },
  {
   "cell_type": "code",
   "execution_count": 10,
   "id": "0a20f06a-9f8d-4523-b14f-6912a101b08f",
   "metadata": {},
   "outputs": [],
   "source": [
    "arr1 = [1,2]\n",
    "arr2 = [3,4]"
   ]
  },
  {
   "cell_type": "code",
   "execution_count": 11,
   "id": "9060f9d5-dcca-486d-b91c-d6f9842270d5",
   "metadata": {},
   "outputs": [
    {
     "data": {
      "text/plain": [
       "array([1, 2, 3, 4])"
      ]
     },
     "execution_count": 11,
     "metadata": {},
     "output_type": "execute_result"
    }
   ],
   "source": [
    "np.concatenate((arr1,arr2), axis = 0)"
   ]
  },
  {
   "cell_type": "code",
   "execution_count": 12,
   "id": "d11cb17b-e7ec-4165-a39e-9dc130fd653b",
   "metadata": {},
   "outputs": [
    {
     "data": {
      "text/plain": [
       "array([1, 2, 3, 4])"
      ]
     },
     "execution_count": 12,
     "metadata": {},
     "output_type": "execute_result"
    }
   ],
   "source": [
    "np.concat((arr1,arr2),axis = 0)"
   ]
  },
  {
   "cell_type": "code",
   "execution_count": 13,
   "id": "26894875-41d2-4195-9d36-c2f270cc1274",
   "metadata": {},
   "outputs": [
    {
     "name": "stdout",
     "output_type": "stream",
     "text": [
      "[10 20 30 40 50 60 70 80 90]\n"
     ]
    }
   ],
   "source": [
    "arr = np.array([10,20,30,40,50,60,70,80,90])\n",
    "print(arr)"
   ]
  },
  {
   "cell_type": "code",
   "execution_count": 14,
   "id": "377d9f5b-dbb7-41fa-8229-6224cddc5ec4",
   "metadata": {},
   "outputs": [],
   "source": [
    "a = np.delete(arr, 2)"
   ]
  },
  {
   "cell_type": "code",
   "execution_count": 15,
   "id": "ef4a8be4-3329-469e-9a37-2da75182256d",
   "metadata": {},
   "outputs": [
    {
     "name": "stdout",
     "output_type": "stream",
     "text": [
      "[10 20 40 50 60 70 80 90]\n"
     ]
    }
   ],
   "source": [
    "print(a)"
   ]
  },
  {
   "cell_type": "code",
   "execution_count": 17,
   "id": "3ae580f1-499d-4342-ad93-bc31fe91f3da",
   "metadata": {},
   "outputs": [
    {
     "data": {
      "text/plain": [
       "array([[1, 2, 3],\n",
       "       [4, 5, 6]])"
      ]
     },
     "execution_count": 17,
     "metadata": {},
     "output_type": "execute_result"
    }
   ],
   "source": [
    "arr1_2d = np.array([[1,2,3],[4,5,6]])\n",
    "arr1_2d"
   ]
  },
  {
   "cell_type": "code",
   "execution_count": 18,
   "id": "bbaa0e92-aa39-444e-82d1-8b3717a5d364",
   "metadata": {},
   "outputs": [
    {
     "name": "stdout",
     "output_type": "stream",
     "text": [
      "[[4 5 6]]\n"
     ]
    }
   ],
   "source": [
    "a1 = np.delete(arr1_2d, 0, axis= 0)\n",
    "print(a1)"
   ]
  },
  {
   "cell_type": "code",
   "execution_count": 19,
   "id": "0ce21fe1-c4f8-4ff3-a093-b620b9a76937",
   "metadata": {},
   "outputs": [],
   "source": [
    "arr1 = [1,2,5]\n",
    "arr2 = [3,4,6]"
   ]
  },
  {
   "cell_type": "code",
   "execution_count": 20,
   "id": "b06ebff9-e8e0-449b-97f3-9d85b256dc13",
   "metadata": {},
   "outputs": [
    {
     "name": "stdout",
     "output_type": "stream",
     "text": [
      "[1 2 5 3 4 6]\n",
      "[[1 2 5]\n",
      " [3 4 6]]\n"
     ]
    }
   ],
   "source": [
    "print(np.hstack((arr1,arr2)))\n",
    "print(np.vstack((arr1,arr2)))"
   ]
  },
  {
   "cell_type": "code",
   "execution_count": 21,
   "id": "edf6da70-38b8-4459-a3d9-4323f3d74cdb",
   "metadata": {},
   "outputs": [],
   "source": [
    "arr = np.array([10,20,30,40,50,60,70,80,90])"
   ]
  },
  {
   "cell_type": "code",
   "execution_count": 24,
   "id": "fa3a5336-4c19-462a-9bbf-02a84359b0de",
   "metadata": {},
   "outputs": [
    {
     "data": {
      "text/plain": [
       "[array([10, 20, 30]), array([40, 50, 60]), array([70, 80, 90])]"
      ]
     },
     "execution_count": 24,
     "metadata": {},
     "output_type": "execute_result"
    }
   ],
   "source": [
    "np.split(arr,3)"
   ]
  },
  {
   "cell_type": "code",
   "execution_count": null,
   "id": "d3d5180f-17e7-4820-af97-90dcdf7092ad",
   "metadata": {},
   "outputs": [],
   "source": []
  }
 ],
 "metadata": {
  "kernelspec": {
   "display_name": "Python 3 (ipykernel)",
   "language": "python",
   "name": "python3"
  },
  "language_info": {
   "codemirror_mode": {
    "name": "ipython",
    "version": 3
   },
   "file_extension": ".py",
   "mimetype": "text/x-python",
   "name": "python",
   "nbconvert_exporter": "python",
   "pygments_lexer": "ipython3",
   "version": "3.13.5"
  }
 },
 "nbformat": 4,
 "nbformat_minor": 5
}
