{
 "cells": [
  {
   "cell_type": "code",
   "execution_count": 1,
   "id": "ead924e8-0665-4a6a-b1c6-1b07699183b9",
   "metadata": {},
   "outputs": [],
   "source": [
    "nums = [3,1,-2,-5,2,-4]"
   ]
  },
  {
   "cell_type": "code",
   "execution_count": 2,
   "id": "3a999cfd-2333-4946-b3b6-16e8e5b765b5",
   "metadata": {},
   "outputs": [
    {
     "name": "stdout",
     "output_type": "stream",
     "text": [
      "[3, -2, 1, -5, 2, -4]\n"
     ]
    }
   ],
   "source": [
    "n = len(nums)\n",
    "result = [0] * n\n",
    "pos = 0\n",
    "neg = 1\n",
    "for i in range(0,n):\n",
    "    if nums[i] >= 0:\n",
    "        result[pos] = nums[i]\n",
    "        pos += 2\n",
    "    else: \n",
    "        result[neg] = nums[i]\n",
    "        neg += 2\n",
    "print(result)"
   ]
  },
  {
   "cell_type": "code",
   "execution_count": null,
   "id": "0dd27e5b-3777-40de-b0de-acf40a5963e3",
   "metadata": {},
   "outputs": [],
   "source": []
  }
 ],
 "metadata": {
  "kernelspec": {
   "display_name": "Python 3 (ipykernel)",
   "language": "python",
   "name": "python3"
  },
  "language_info": {
   "codemirror_mode": {
    "name": "ipython",
    "version": 3
   },
   "file_extension": ".py",
   "mimetype": "text/x-python",
   "name": "python",
   "nbconvert_exporter": "python",
   "pygments_lexer": "ipython3",
   "version": "3.13.5"
  }
 },
 "nbformat": 4,
 "nbformat_minor": 5
}
