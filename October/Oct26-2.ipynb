{
 "cells": [
  {
   "cell_type": "code",
   "execution_count": 1,
   "id": "3c9d3654-5201-4b7c-8952-22af75491ecc",
   "metadata": {},
   "outputs": [],
   "source": [
    "nums = [1, 2, 3, 4, 5, 7, 9, 11, 15, 17]"
   ]
  },
  {
   "cell_type": "code",
   "execution_count": 2,
   "id": "c7426fdf-58f3-44d6-947e-1dbdca50e0fc",
   "metadata": {},
   "outputs": [],
   "source": [
    "def binarySearch(nums,low,high): \n",
    "    if low > high: \n",
    "        return -1\n",
    "        \n",
    "    mid = (low+high) // 2\n",
    "    \n",
    "    if nums[mid] == target:\n",
    "        return mid \n",
    "    elif nums[mid] < target: \n",
    "        return binarySearch(nums,mid+1, high)\n",
    "    else: \n",
    "        return binarySearch(nums,low, mid-1)"
   ]
  },
  {
   "cell_type": "code",
   "execution_count": 3,
   "id": "30f216f7-bd98-4f14-976a-8f78040a9fcc",
   "metadata": {},
   "outputs": [
    {
     "data": {
      "text/plain": [
       "7"
      ]
     },
     "execution_count": 3,
     "metadata": {},
     "output_type": "execute_result"
    }
   ],
   "source": [
    "target = 11\n",
    "binarySearch(nums,0,len(nums))"
   ]
  },
  {
   "cell_type": "code",
   "execution_count": 4,
   "id": "91013eec-a3c0-4255-a506-e61f7e565839",
   "metadata": {},
   "outputs": [
    {
     "data": {
      "text/plain": [
       "2"
      ]
     },
     "execution_count": 4,
     "metadata": {},
     "output_type": "execute_result"
    }
   ],
   "source": [
    "target = 3\n",
    "binarySearch(nums,0,len(nums))"
   ]
  },
  {
   "cell_type": "code",
   "execution_count": 5,
   "id": "f42fb212-b6f9-456c-af09-554e0e781f63",
   "metadata": {},
   "outputs": [
    {
     "data": {
      "text/plain": [
       "-1"
      ]
     },
     "execution_count": 5,
     "metadata": {},
     "output_type": "execute_result"
    }
   ],
   "source": [
    "target = 12\n",
    "binarySearch(nums,0,len(nums))"
   ]
  },
  {
   "cell_type": "code",
   "execution_count": null,
   "id": "7b63c6fd-3707-4b92-9c77-062ada5cc4c1",
   "metadata": {},
   "outputs": [],
   "source": []
  }
 ],
 "metadata": {
  "kernelspec": {
   "display_name": "Python 3 (ipykernel)",
   "language": "python",
   "name": "python3"
  },
  "language_info": {
   "codemirror_mode": {
    "name": "ipython",
    "version": 3
   },
   "file_extension": ".py",
   "mimetype": "text/x-python",
   "name": "python",
   "nbconvert_exporter": "python",
   "pygments_lexer": "ipython3",
   "version": "3.13.5"
  }
 },
 "nbformat": 4,
 "nbformat_minor": 5
}
