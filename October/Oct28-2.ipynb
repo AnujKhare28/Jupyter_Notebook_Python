{
 "cells": [
  {
   "cell_type": "code",
   "execution_count": 2,
   "id": "e18d227d-8193-4240-9ce9-ffdfae79694e",
   "metadata": {},
   "outputs": [],
   "source": [
    "nums = [5,7,7,8,8,10]\n",
    "target = 8"
   ]
  },
  {
   "cell_type": "code",
   "execution_count": 5,
   "id": "fa085f86-e651-40f8-8399-0092420017e2",
   "metadata": {},
   "outputs": [],
   "source": [
    "def firLas(nums, target): \n",
    "    first = -1\n",
    "    last = -1 \n",
    "    n = len(nums)\n",
    "    for i in range(n): \n",
    "        if nums[i] == target: \n",
    "            if first == -1: \n",
    "                first = i\n",
    "            last = i\n",
    "    return [first, last]"
   ]
  },
  {
   "cell_type": "code",
   "execution_count": 6,
   "id": "74b03ada-25fe-4626-bd33-385735fa57ee",
   "metadata": {},
   "outputs": [
    {
     "data": {
      "text/plain": [
       "[3, 4]"
      ]
     },
     "execution_count": 6,
     "metadata": {},
     "output_type": "execute_result"
    }
   ],
   "source": [
    "firLas(nums,target)"
   ]
  },
  {
   "cell_type": "code",
   "execution_count": null,
   "id": "66732978-9ba4-4882-9e21-54c832c5b5bd",
   "metadata": {},
   "outputs": [],
   "source": []
  }
 ],
 "metadata": {
  "kernelspec": {
   "display_name": "Python 3 (ipykernel)",
   "language": "python",
   "name": "python3"
  },
  "language_info": {
   "codemirror_mode": {
    "name": "ipython",
    "version": 3
   },
   "file_extension": ".py",
   "mimetype": "text/x-python",
   "name": "python",
   "nbconvert_exporter": "python",
   "pygments_lexer": "ipython3",
   "version": "3.13.5"
  }
 },
 "nbformat": 4,
 "nbformat_minor": 5
}
