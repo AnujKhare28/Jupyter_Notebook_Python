{
 "cells": [
  {
   "cell_type": "code",
   "execution_count": 1,
   "id": "2f34b6e9-7bb9-460e-8cad-d2340fc43026",
   "metadata": {},
   "outputs": [],
   "source": [
    "nums = [9,7,5,3,1,2,6,4,0]"
   ]
  },
  {
   "cell_type": "code",
   "execution_count": 3,
   "id": "115b7a04-0b93-456c-87ac-7d65924c3049",
   "metadata": {},
   "outputs": [
    {
     "name": "stdout",
     "output_type": "stream",
     "text": [
      "8\n"
     ]
    }
   ],
   "source": [
    "n = len(nums)\n",
    "freq = {}\n",
    "\n",
    "for i in range(0,n+1):\n",
    "    freq[i] = 0\n",
    "\n",
    "for i in nums:\n",
    "    freq[i] = 1\n",
    "for k,v in freq.items():\n",
    "    if v == 0:\n",
    "        print(k)"
   ]
  },
  {
   "cell_type": "code",
   "execution_count": null,
   "id": "40b74efa-d450-4997-b7e4-e6531b1cf9cb",
   "metadata": {},
   "outputs": [],
   "source": []
  }
 ],
 "metadata": {
  "kernelspec": {
   "display_name": "Python 3 (ipykernel)",
   "language": "python",
   "name": "python3"
  },
  "language_info": {
   "codemirror_mode": {
    "name": "ipython",
    "version": 3
   },
   "file_extension": ".py",
   "mimetype": "text/x-python",
   "name": "python",
   "nbconvert_exporter": "python",
   "pygments_lexer": "ipython3",
   "version": "3.13.5"
  }
 },
 "nbformat": 4,
 "nbformat_minor": 5
}
