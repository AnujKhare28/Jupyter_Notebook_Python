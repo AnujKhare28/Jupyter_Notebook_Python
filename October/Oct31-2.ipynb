{
 "cells": [
  {
   "cell_type": "code",
   "execution_count": 9,
   "id": "efde1423-f5f6-4f6a-804f-c74c476c2968",
   "metadata": {},
   "outputs": [],
   "source": [
    "class Node: \n",
    "    def __init__(self,val): \n",
    "        self.val = val\n",
    "        self.next = None\n",
    "\n",
    "class singlyLinkedList: \n",
    "    def __init__(self):\n",
    "        self.head = None\n",
    "        \n",
    "    def append(self,val): \n",
    "        new_node = Node(val)\n",
    "        if not self.head: \n",
    "            self.head = new_node\n",
    "        else: \n",
    "            curr = self.head\n",
    "            while curr.next is not None:\n",
    "                curr = curr.next\n",
    "            curr.next = new_node\n",
    "\n",
    "    def traverse(self):\n",
    "        if not self.head: \n",
    "            print('SLL is empty')\n",
    "        else: \n",
    "            curr = self.head\n",
    "            while curr is not None: \n",
    "                print(curr.val,end=\" \")\n",
    "                curr = curr.next\n",
    "            print()\n",
    "\n",
    "    def insert_at(self,val,position): \n",
    "        new_node = Node(val)\n",
    "        if position == 0: \n",
    "            new_node.next = self.head\n",
    "            self.head = new_node\n",
    "        curr  = self.head\n",
    "        pre_node = None \n",
    "        count = 0\n",
    "        while curr is not None and count < position: \n",
    "            pre_node = curr\n",
    "            curr = curr.next\n",
    "            count += 1\n",
    "        pre_node.next = new_node\n",
    "        new_node.next = curr\n",
    "\n",
    "    def delete(self,val): \n",
    "        temp = self.head\n",
    "        if temp.next is not None: \n",
    "            if temp.val == val: \n",
    "                self.head = temp.next\n",
    "                return\n",
    "            else: \n",
    "                found = False\n",
    "                prev = None\n",
    "                while temp is not None: \n",
    "                    if temp.val == val: \n",
    "                        found = True\n",
    "                        break \n",
    "                    prev = temp \n",
    "                    temp = temp.next\n",
    "                if found: \n",
    "                    prev.next = temp.next\n",
    "                    return\n",
    "                else: \n",
    "                    print('Node not found')"
   ]
  },
  {
   "cell_type": "code",
   "execution_count": 10,
   "id": "98548ece-fca2-429b-82bd-a8660234f490",
   "metadata": {},
   "outputs": [],
   "source": [
    "sll = singlyLinkedList()"
   ]
  },
  {
   "cell_type": "code",
   "execution_count": 11,
   "id": "39e49dce-8d45-49e4-81f5-e0efe4158905",
   "metadata": {},
   "outputs": [
    {
     "name": "stdout",
     "output_type": "stream",
     "text": [
      "SLL is empty\n"
     ]
    }
   ],
   "source": [
    "sll.traverse()"
   ]
  },
  {
   "cell_type": "code",
   "execution_count": 12,
   "id": "ed8e4643-96e9-495a-95a6-1b733faa7e2c",
   "metadata": {},
   "outputs": [],
   "source": [
    "sll.append(10)\n",
    "sll.append(20)\n",
    "sll.append(30) \n",
    "sll.append(40)\n",
    "sll.append(50)"
   ]
  },
  {
   "cell_type": "code",
   "execution_count": 13,
   "id": "3d39c746-486d-480a-87c8-421feee3f215",
   "metadata": {},
   "outputs": [
    {
     "name": "stdout",
     "output_type": "stream",
     "text": [
      "10 20 30 40 50 \n"
     ]
    }
   ],
   "source": [
    "sll.traverse()"
   ]
  },
  {
   "cell_type": "code",
   "execution_count": 14,
   "id": "f285a26f-84a1-47c3-b666-6b0754cb3925",
   "metadata": {},
   "outputs": [],
   "source": [
    "sll.insert_at(45,3)"
   ]
  },
  {
   "cell_type": "code",
   "execution_count": 15,
   "id": "34422a43-eabc-4867-9105-e70d504ab31d",
   "metadata": {},
   "outputs": [
    {
     "name": "stdout",
     "output_type": "stream",
     "text": [
      "10 20 30 45 40 50 \n"
     ]
    }
   ],
   "source": [
    "sll.traverse()"
   ]
  },
  {
   "cell_type": "code",
   "execution_count": 16,
   "id": "d9449529-10ad-4275-ae88-e993ebf13307",
   "metadata": {},
   "outputs": [],
   "source": [
    "sll.delete(40)"
   ]
  },
  {
   "cell_type": "code",
   "execution_count": 17,
   "id": "d958a083-e4cd-4e92-96bd-fae12340a7f0",
   "metadata": {},
   "outputs": [
    {
     "name": "stdout",
     "output_type": "stream",
     "text": [
      "10 20 30 45 50 \n"
     ]
    }
   ],
   "source": [
    "sll.traverse()"
   ]
  },
  {
   "cell_type": "code",
   "execution_count": null,
   "id": "c8f6cd69-4602-40fe-b768-689fabe94108",
   "metadata": {},
   "outputs": [],
   "source": []
  }
 ],
 "metadata": {
  "kernelspec": {
   "display_name": "Python 3 (ipykernel)",
   "language": "python",
   "name": "python3"
  },
  "language_info": {
   "codemirror_mode": {
    "name": "ipython",
    "version": 3
   },
   "file_extension": ".py",
   "mimetype": "text/x-python",
   "name": "python",
   "nbconvert_exporter": "python",
   "pygments_lexer": "ipython3",
   "version": "3.13.5"
  }
 },
 "nbformat": 4,
 "nbformat_minor": 5
}
