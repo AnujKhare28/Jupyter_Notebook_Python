{
 "cells": [
  {
   "cell_type": "code",
   "execution_count": 1,
   "id": "9788750c-4601-4932-a5da-ec24a2e21395",
   "metadata": {},
   "outputs": [
    {
     "name": "stdout",
     "output_type": "stream",
     "text": [
      "{5: 2, 6: 1, 7: 2, 1: 5, 9: 1, 111: 1}\n"
     ]
    }
   ],
   "source": [
    "l = [5,6,7,7,1,9,111,1,1,5,1,1]\n",
    "d = {}\n",
    "for i in range(len(l)):\n",
    "    if l[i] in d:\n",
    "        d[l[i]] += 1\n",
    "    else:\n",
    "        d[l[i]] = 1\n",
    "\n",
    "print(d)"
   ]
  }
 ],
 "metadata": {
  "kernelspec": {
   "display_name": "Python [conda env:base] *",
   "language": "python",
   "name": "conda-base-py"
  },
  "language_info": {
   "codemirror_mode": {
    "name": "ipython",
    "version": 3
   },
   "file_extension": ".py",
   "mimetype": "text/x-python",
   "name": "python",
   "nbconvert_exporter": "python",
   "pygments_lexer": "ipython3",
   "version": "3.12.7"
  }
 },
 "nbformat": 4,
 "nbformat_minor": 5
}
