{
 "cells": [
  {
   "cell_type": "code",
   "execution_count": 1,
   "id": "ec934ebf-e574-42b9-bd15-c558919379ac",
   "metadata": {},
   "outputs": [],
   "source": [
    "nums = [-1,0,1,2,-1,-4]"
   ]
  },
  {
   "cell_type": "code",
   "execution_count": 2,
   "id": "352ff532-d98e-4cd8-adca-19d1cc10d82d",
   "metadata": {},
   "outputs": [
    {
     "name": "stdout",
     "output_type": "stream",
     "text": [
      "[[-1, 0, 1], [-1, -1, 2]]\n"
     ]
    }
   ],
   "source": [
    "n = len(nums)\n",
    "result = set()\n",
    "\n",
    "for i in range(n):\n",
    "    my_set = set()\n",
    "    for j in range(i+1,n):\n",
    "        third = -(nums[i]+nums[j])\n",
    "        if third in my_set: \n",
    "            temp = [nums[i],nums[j],third]\n",
    "            temp.sort()\n",
    "            result.add(tuple(temp))\n",
    "        my_set.add(nums[j])\n",
    "print([list(ans) for ans in result])"
   ]
  },
  {
   "cell_type": "code",
   "execution_count": null,
   "id": "b0e6f5f6-5259-4a29-9229-8a02f8646bfe",
   "metadata": {},
   "outputs": [],
   "source": []
  }
 ],
 "metadata": {
  "kernelspec": {
   "display_name": "Python 3 (ipykernel)",
   "language": "python",
   "name": "python3"
  },
  "language_info": {
   "codemirror_mode": {
    "name": "ipython",
    "version": 3
   },
   "file_extension": ".py",
   "mimetype": "text/x-python",
   "name": "python",
   "nbconvert_exporter": "python",
   "pygments_lexer": "ipython3",
   "version": "3.13.5"
  }
 },
 "nbformat": 4,
 "nbformat_minor": 5
}
