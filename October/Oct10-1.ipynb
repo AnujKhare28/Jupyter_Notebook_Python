{
 "cells": [
  {
   "cell_type": "code",
   "execution_count": 2,
   "id": "3813a732-cd26-418a-a60e-b9cd6acd1eea",
   "metadata": {},
   "outputs": [],
   "source": [
    "nums = [[5,6,3],[3,6,8],[1,2,3]]"
   ]
  },
  {
   "cell_type": "code",
   "execution_count": 3,
   "id": "ce8f7a2e-3d4c-4fe9-9c85-2030f91d54a3",
   "metadata": {},
   "outputs": [
    {
     "name": "stdout",
     "output_type": "stream",
     "text": [
      "5 6 3 \n",
      "* 6 8 \n",
      "* * 3 \n"
     ]
    }
   ],
   "source": [
    "rows = len(nums)\n",
    "cols = len(nums[0])\n",
    "\n",
    "for i in range(0,rows):\n",
    "\n",
    "    for j in range(0, cols):\n",
    "\n",
    "        if j >= i:\n",
    "            print(nums[i][j], end=\" \")\n",
    "            \n",
    "        else: \n",
    "            print(\"*\",end=\" \")\n",
    "    print()"
   ]
  },
  {
   "cell_type": "code",
   "execution_count": null,
   "id": "65bb37b5-0d11-41e4-b492-23927da0398d",
   "metadata": {},
   "outputs": [],
   "source": []
  }
 ],
 "metadata": {
  "kernelspec": {
   "display_name": "Python 3 (ipykernel)",
   "language": "python",
   "name": "python3"
  },
  "language_info": {
   "codemirror_mode": {
    "name": "ipython",
    "version": 3
   },
   "file_extension": ".py",
   "mimetype": "text/x-python",
   "name": "python",
   "nbconvert_exporter": "python",
   "pygments_lexer": "ipython3",
   "version": "3.13.5"
  }
 },
 "nbformat": 4,
 "nbformat_minor": 5
}
