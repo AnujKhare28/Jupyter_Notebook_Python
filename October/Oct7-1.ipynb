{
 "cells": [
  {
   "cell_type": "code",
   "execution_count": 1,
   "id": "d89a1812-2fca-44a1-8b63-00dff4089958",
   "metadata": {},
   "outputs": [],
   "source": [
    "nums = [1,1,0,1,1,1]"
   ]
  },
  {
   "cell_type": "code",
   "execution_count": 2,
   "id": "b912778b-a56d-433c-ac3b-405199fc7ee0",
   "metadata": {},
   "outputs": [
    {
     "name": "stdout",
     "output_type": "stream",
     "text": [
      "3\n"
     ]
    }
   ],
   "source": [
    "count = 0\n",
    "max_count = 0\n",
    "\n",
    "for i in range(0,len(nums)): \n",
    "    if nums[i] == 1: \n",
    "        count += 1\n",
    "    else: \n",
    "        max_count = max(max_count, count)\n",
    "        count = 0\n",
    "print(max(max_count, count))"
   ]
  },
  {
   "cell_type": "code",
   "execution_count": null,
   "id": "fb7b3118-ddbd-46e4-a37d-f67e1ec6b7ff",
   "metadata": {},
   "outputs": [],
   "source": []
  }
 ],
 "metadata": {
  "kernelspec": {
   "display_name": "Python 3 (ipykernel)",
   "language": "python",
   "name": "python3"
  },
  "language_info": {
   "codemirror_mode": {
    "name": "ipython",
    "version": 3
   },
   "file_extension": ".py",
   "mimetype": "text/x-python",
   "name": "python",
   "nbconvert_exporter": "python",
   "pygments_lexer": "ipython3",
   "version": "3.13.5"
  }
 },
 "nbformat": 4,
 "nbformat_minor": 5
}
