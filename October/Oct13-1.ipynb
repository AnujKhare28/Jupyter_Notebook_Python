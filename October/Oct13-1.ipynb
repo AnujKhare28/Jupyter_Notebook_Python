{
 "cells": [
  {
   "cell_type": "code",
   "execution_count": 1,
   "id": "2c5098da-670d-435c-b938-a0999dd40283",
   "metadata": {},
   "outputs": [],
   "source": [
    "matrix = [[1,2,3,4],[5,6,7,8],[9,10,11,12]]"
   ]
  },
  {
   "cell_type": "code",
   "execution_count": 3,
   "id": "198597bd-dae2-4ee8-b22f-f7d3b2969db5",
   "metadata": {},
   "outputs": [],
   "source": [
    "if not matrix or not matrix[0]: \n",
    "    print([])\n",
    "\n",
    "result = []\n",
    "\n",
    "top, left = 0,0\n",
    "bottom, right = len(matrix)-1, len(matrix[0])-1\n",
    "\n",
    "while top <= bottom and left <= right: \n",
    "\n",
    "    for i in range(left, right+1):\n",
    "        result.append(matrix[top][i])\n",
    "    top += 1\n",
    "\n",
    "    for i in range(top, bottom+1): \n",
    "        result.append(matrix[i][right])\n",
    "    right -= 1\n",
    "\n",
    "    if top<= bottom: \n",
    "        for i in range(right, left-1, -1): \n",
    "            result.append(matrix[bottom][i])\n",
    "        bottom -= 1\n",
    "\n",
    "    if left <= right:\n",
    "        for i in range(bottom,top-1,-1):\n",
    "            result.append(matrix[i][left])\n",
    "        left += 1\n"
   ]
  },
  {
   "cell_type": "code",
   "execution_count": 4,
   "id": "d79eb073-3552-45d1-a078-29ab62225fbe",
   "metadata": {},
   "outputs": [
    {
     "data": {
      "text/plain": [
       "[1, 2, 3, 4, 8, 12, 11, 10, 9, 5, 6, 7]"
      ]
     },
     "execution_count": 4,
     "metadata": {},
     "output_type": "execute_result"
    }
   ],
   "source": [
    "result"
   ]
  },
  {
   "cell_type": "code",
   "execution_count": null,
   "id": "401bb021-5fa2-47e6-8561-99c3df263d41",
   "metadata": {},
   "outputs": [],
   "source": []
  }
 ],
 "metadata": {
  "kernelspec": {
   "display_name": "Python 3 (ipykernel)",
   "language": "python",
   "name": "python3"
  },
  "language_info": {
   "codemirror_mode": {
    "name": "ipython",
    "version": 3
   },
   "file_extension": ".py",
   "mimetype": "text/x-python",
   "name": "python",
   "nbconvert_exporter": "python",
   "pygments_lexer": "ipython3",
   "version": "3.13.5"
  }
 },
 "nbformat": 4,
 "nbformat_minor": 5
}
