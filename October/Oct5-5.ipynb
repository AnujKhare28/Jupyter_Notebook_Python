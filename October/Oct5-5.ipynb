{
 "cells": [
  {
   "cell_type": "code",
   "execution_count": 3,
   "id": "34dbf81d-0665-4d45-b540-5523d6d24063",
   "metadata": {},
   "outputs": [],
   "source": [
    "class Computer: \n",
    "\n",
    "    def __init__(self, name, make, os): \n",
    "        self.name = name\n",
    "        self.cpu = self.CPU(make)\n",
    "        self.os = self.OS(os)\n",
    "\n",
    "    def __str__(self):\n",
    "        return 'Name: '+ self.name + '\\nMake: '+ self.cpu.get_make() + '\\nOS Name:'+ self.os.get_name()\n",
    "    \n",
    "\n",
    "    class CPU: \n",
    "\n",
    "        def __init__(self, make): \n",
    "            self.make = make \n",
    "\n",
    "        def get_make(self): \n",
    "            return self.make \n",
    "\n",
    "    class OS:\n",
    "\n",
    "        def __init__(self, os): \n",
    "            self.name = os \n",
    "\n",
    "        def get_name(self): \n",
    "            return self.name "
   ]
  },
  {
   "cell_type": "code",
   "execution_count": 4,
   "id": "655bba67-6901-403d-9178-761cf74f8e55",
   "metadata": {},
   "outputs": [
    {
     "name": "stdout",
     "output_type": "stream",
     "text": [
      "Name: PC101\n",
      "Make: Intel\n",
      "OS Name:Windows\n"
     ]
    }
   ],
   "source": [
    "c1 = Computer('PC101', 'Intel', 'Windows')\n",
    "print(c1)"
   ]
  },
  {
   "cell_type": "code",
   "execution_count": null,
   "id": "a10063f8-0796-40a2-92d3-4360df3699ff",
   "metadata": {},
   "outputs": [],
   "source": []
  }
 ],
 "metadata": {
  "kernelspec": {
   "display_name": "Python 3 (ipykernel)",
   "language": "python",
   "name": "python3"
  },
  "language_info": {
   "codemirror_mode": {
    "name": "ipython",
    "version": 3
   },
   "file_extension": ".py",
   "mimetype": "text/x-python",
   "name": "python",
   "nbconvert_exporter": "python",
   "pygments_lexer": "ipython3",
   "version": "3.13.5"
  }
 },
 "nbformat": 4,
 "nbformat_minor": 5
}
