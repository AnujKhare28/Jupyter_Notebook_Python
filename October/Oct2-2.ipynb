{
 "cells": [
  {
   "cell_type": "code",
   "execution_count": 3,
   "id": "4e47c338-01b7-4043-a0e4-79ec01104a0c",
   "metadata": {},
   "outputs": [
    {
     "name": "stdin",
     "output_type": "stream",
     "text": [
      "Enter a number:  63\n"
     ]
    },
    {
     "name": "stdout",
     "output_type": "stream",
     "text": [
      "[1, 3, 7, 9, 21, 63]\n"
     ]
    }
   ],
   "source": [
    "from math import sqrt\n",
    "n = int(input(\"Enter a number: \"))\n",
    "result = []\n",
    "for i in range(1, int(sqrt(n)) + 1):\n",
    "    if n % i == 0:\n",
    "        result.append(i)\n",
    "        if n // i != 0:\n",
    "            result.append(n//i)\n",
    "\n",
    "print(sorted(result))"
   ]
  }
 ],
 "metadata": {
  "kernelspec": {
   "display_name": "Python [conda env:base] *",
   "language": "python",
   "name": "conda-base-py"
  },
  "language_info": {
   "codemirror_mode": {
    "name": "ipython",
    "version": 3
   },
   "file_extension": ".py",
   "mimetype": "text/x-python",
   "name": "python",
   "nbconvert_exporter": "python",
   "pygments_lexer": "ipython3",
   "version": "3.12.7"
  }
 },
 "nbformat": 4,
 "nbformat_minor": 5
}
