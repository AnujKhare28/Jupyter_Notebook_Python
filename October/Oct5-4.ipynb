{
 "cells": [
  {
   "cell_type": "markdown",
   "id": "e5804488-3827-40fb-bc73-34dcda31e1c1",
   "metadata": {},
   "source": [
    "### Course Books"
   ]
  },
  {
   "cell_type": "code",
   "execution_count": 1,
   "id": "002d2056-f080-4649-afc1-9e05050eabb2",
   "metadata": {},
   "outputs": [],
   "source": [
    "class Course: \n",
    "\n",
    "    def __init__(self, name, dur, *books): \n",
    "        self.course_name = name\n",
    "        self.duration = dur\n",
    "\n",
    "        self.books = [self.Book(b) for b in books]\n",
    "\n",
    "    def show_details(self): \n",
    "        print('Name: ', self.course_name)\n",
    "        print('Duration: ', self.duration)\n",
    "        print('Suggested Books')\n",
    "        for b in self.books: \n",
    "            print(b)\n",
    "\n",
    "    class Book: \n",
    "\n",
    "        def __init__(self, title): \n",
    "            self.title = title\n",
    "\n",
    "        def __str__(self):\n",
    "            return self.title"
   ]
  },
  {
   "cell_type": "code",
   "execution_count": 3,
   "id": "ff5bac7d-ff66-4da3-8813-e83c0f7e91e0",
   "metadata": {},
   "outputs": [
    {
     "name": "stdout",
     "output_type": "stream",
     "text": [
      "Name:  Python\n",
      "Duration:  20\n",
      "Suggested Books\n",
      "Learn Python\n",
      "Python + DSA\n"
     ]
    }
   ],
   "source": [
    " c1 = Course('Python', 20, 'Learn Python', 'Python + DSA')\n",
    "c1.show_details()"
   ]
  }
 ],
 "metadata": {
  "kernelspec": {
   "display_name": "Python 3 (ipykernel)",
   "language": "python",
   "name": "python3"
  },
  "language_info": {
   "codemirror_mode": {
    "name": "ipython",
    "version": 3
   },
   "file_extension": ".py",
   "mimetype": "text/x-python",
   "name": "python",
   "nbconvert_exporter": "python",
   "pygments_lexer": "ipython3",
   "version": "3.13.5"
  }
 },
 "nbformat": 4,
 "nbformat_minor": 5
}
