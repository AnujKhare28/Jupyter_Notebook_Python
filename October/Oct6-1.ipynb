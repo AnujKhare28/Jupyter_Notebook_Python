{
 "cells": [
  {
   "cell_type": "code",
   "execution_count": 4,
   "id": "1eca690f-eabe-4b2c-b2dd-8721606d0435",
   "metadata": {},
   "outputs": [],
   "source": [
    "nums = [9,6,7,4,5,3,1,2,0]"
   ]
  },
  {
   "cell_type": "code",
   "execution_count": 5,
   "id": "ad30bc6e-94a2-4475-bcf1-8d1fe48fb72f",
   "metadata": {},
   "outputs": [
    {
     "name": "stdout",
     "output_type": "stream",
     "text": [
      "8\n"
     ]
    }
   ],
   "source": [
    "for i in range(0, (len(nums)+1)): \n",
    "    if i not in nums: \n",
    "        print(i)"
   ]
  },
  {
   "cell_type": "code",
   "execution_count": null,
   "id": "ef6056a1-45f7-4d1f-9840-fb59520380ba",
   "metadata": {},
   "outputs": [],
   "source": []
  },
  {
   "cell_type": "code",
   "execution_count": null,
   "id": "797d9551-71e8-4c51-80a5-8f8d79509dee",
   "metadata": {},
   "outputs": [],
   "source": []
  }
 ],
 "metadata": {
  "kernelspec": {
   "display_name": "Python 3 (ipykernel)",
   "language": "python",
   "name": "python3"
  },
  "language_info": {
   "codemirror_mode": {
    "name": "ipython",
    "version": 3
   },
   "file_extension": ".py",
   "mimetype": "text/x-python",
   "name": "python",
   "nbconvert_exporter": "python",
   "pygments_lexer": "ipython3",
   "version": "3.13.5"
  }
 },
 "nbformat": 4,
 "nbformat_minor": 5
}
