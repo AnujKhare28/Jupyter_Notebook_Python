{
 "cells": [
  {
   "cell_type": "code",
   "execution_count": 3,
   "id": "e714c2ca-d9cb-4aa5-b6a9-69f12540a58e",
   "metadata": {},
   "outputs": [],
   "source": [
    "nums = [1, 1, 2, 4, 6, 8, 10, 11, 12, 19]"
   ]
  },
  {
   "cell_type": "code",
   "execution_count": 4,
   "id": "4dc4eddc-dc36-449f-93d3-e1207f3ba643",
   "metadata": {},
   "outputs": [],
   "source": [
    "t = 7 "
   ]
  },
  {
   "cell_type": "code",
   "execution_count": 5,
   "id": "025de14c-3295-486c-b0d9-209e859c109d",
   "metadata": {},
   "outputs": [],
   "source": [
    "n = len(nums)\n",
    "floor = -1\n",
    "ceil = -1\n",
    "l = 0\n",
    "h = n -1\n",
    "while l <= h: \n",
    "    mid = (l+h)//2\n",
    "    if nums[mid] == t: \n",
    "        print([nums[mid],nums[mid]])\n",
    "    elif nums[mid] > t: \n",
    "        ceil = nums[mid]\n",
    "        h = mid -1\n",
    "    else: \n",
    "        floor = nums[mid]\n",
    "        l = mid+1\n",
    "        "
   ]
  },
  {
   "cell_type": "code",
   "execution_count": 7,
   "id": "0e25771e-c90d-425e-abf0-178ef8481251",
   "metadata": {},
   "outputs": [
    {
     "name": "stdout",
     "output_type": "stream",
     "text": [
      "[2, 8]\n"
     ]
    }
   ],
   "source": [
    "print([floor,ceil])"
   ]
  },
  {
   "cell_type": "code",
   "execution_count": null,
   "id": "b3061759-2561-405e-a286-3abe3d2f19bb",
   "metadata": {},
   "outputs": [],
   "source": []
  }
 ],
 "metadata": {
  "kernelspec": {
   "display_name": "Python 3 (ipykernel)",
   "language": "python",
   "name": "python3"
  },
  "language_info": {
   "codemirror_mode": {
    "name": "ipython",
    "version": 3
   },
   "file_extension": ".py",
   "mimetype": "text/x-python",
   "name": "python",
   "nbconvert_exporter": "python",
   "pygments_lexer": "ipython3",
   "version": "3.13.5"
  }
 },
 "nbformat": 4,
 "nbformat_minor": 5
}
