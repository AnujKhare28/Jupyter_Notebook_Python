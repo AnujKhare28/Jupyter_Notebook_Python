{
 "cells": [
  {
   "cell_type": "code",
   "execution_count": 1,
   "id": "45a34eb3-5090-4747-83da-a03a5e75fe44",
   "metadata": {},
   "outputs": [],
   "source": [
    "nums = [-1,0,1,2,-1,-4]"
   ]
  },
  {
   "cell_type": "code",
   "execution_count": 5,
   "id": "91aba725-6a16-462e-820b-c02c3bf65df8",
   "metadata": {},
   "outputs": [
    {
     "name": "stdout",
     "output_type": "stream",
     "text": [
      "[[-1, 0, 1], [-1, -1, 2]]\n"
     ]
    }
   ],
   "source": [
    "n = len(nums)\n",
    "my_set = set()\n",
    "\n",
    "for i in range(0, n):\n",
    "    for j in range(i+1, n):\n",
    "        for k in range(j+1, n): \n",
    "            if nums[i]+nums[j]+nums[k] == 0:\n",
    "                temp = [nums[i],nums[j],nums[k]]\n",
    "                temp.sort()\n",
    "                my_set.add(tuple(temp))\n",
    "print([list(ans) for ans in my_set])"
   ]
  },
  {
   "cell_type": "code",
   "execution_count": null,
   "id": "e49bed5b-da56-4842-8ddc-c5f8b95b6a8f",
   "metadata": {},
   "outputs": [],
   "source": []
  },
  {
   "cell_type": "code",
   "execution_count": null,
   "id": "f804517d-2bb5-4fe0-9263-5884c73a5454",
   "metadata": {},
   "outputs": [],
   "source": []
  }
 ],
 "metadata": {
  "kernelspec": {
   "display_name": "Python 3 (ipykernel)",
   "language": "python",
   "name": "python3"
  },
  "language_info": {
   "codemirror_mode": {
    "name": "ipython",
    "version": 3
   },
   "file_extension": ".py",
   "mimetype": "text/x-python",
   "name": "python",
   "nbconvert_exporter": "python",
   "pygments_lexer": "ipython3",
   "version": "3.13.5"
  }
 },
 "nbformat": 4,
 "nbformat_minor": 5
}
