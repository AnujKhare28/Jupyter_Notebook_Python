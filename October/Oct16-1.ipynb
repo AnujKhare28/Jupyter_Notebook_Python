{
 "cells": [
  {
   "cell_type": "code",
   "execution_count": 1,
   "id": "cf02dcb4-b29f-4d4c-8fa8-b9df5e381ad7",
   "metadata": {},
   "outputs": [],
   "source": [
    "nums = [1,0,-1,0,-2,2]\n",
    "target = 0"
   ]
  },
  {
   "cell_type": "code",
   "execution_count": 3,
   "id": "183d22e7-3d56-49d9-b42b-2e9557141186",
   "metadata": {},
   "outputs": [
    {
     "name": "stdout",
     "output_type": "stream",
     "text": [
      "[[-2, -1, 1, 2], [-1, 0, 0, 1], [-2, 0, 0, 2]]\n"
     ]
    }
   ],
   "source": [
    "n = len(nums)\n",
    "if n < 4:\n",
    "    print([])\n",
    "my_set = set()\n",
    "for i in range(n): \n",
    "    for j in range(i+1,n): \n",
    "        for k in range(j+1,n):\n",
    "            for l in range(k+1,n):\n",
    "                total = nums[i] + nums[j] + nums[k] + nums[l]\n",
    "                if total == target:\n",
    "                    temp = [nums[i], nums[j], nums[k], nums[l]]\n",
    "                    temp.sort()\n",
    "                    my_set.add(tuple(temp))\n",
    "result = []\n",
    "for ans in my_set: \n",
    "    result.append(list(ans))\n",
    "print(result)"
   ]
  },
  {
   "cell_type": "code",
   "execution_count": null,
   "id": "a735e225-92e1-4d8f-9eb8-ea8b026c996f",
   "metadata": {},
   "outputs": [],
   "source": []
  }
 ],
 "metadata": {
  "kernelspec": {
   "display_name": "Python 3 (ipykernel)",
   "language": "python",
   "name": "python3"
  },
  "language_info": {
   "codemirror_mode": {
    "name": "ipython",
    "version": 3
   },
   "file_extension": ".py",
   "mimetype": "text/x-python",
   "name": "python",
   "nbconvert_exporter": "python",
   "pygments_lexer": "ipython3",
   "version": "3.13.5"
  }
 },
 "nbformat": 4,
 "nbformat_minor": 5
}
