{
 "cells": [
  {
   "cell_type": "code",
   "execution_count": 5,
   "id": "f962dde1-85d2-4555-8cc2-8d21849fc53a",
   "metadata": {},
   "outputs": [],
   "source": [
    "nums = [-2,1,-3,4,-1,2,1,-5,4]"
   ]
  },
  {
   "cell_type": "code",
   "execution_count": 8,
   "id": "b420a3fd-f29d-4408-a1da-70666ea686d5",
   "metadata": {},
   "outputs": [
    {
     "name": "stdout",
     "output_type": "stream",
     "text": [
      "6\n"
     ]
    }
   ],
   "source": [
    "n = len(nums)\n",
    "maxi = float('-inf')\n",
    "\n",
    "for i in range(0,n):\n",
    "    total = 0\n",
    "    for j in range(i,n):\n",
    "        total += nums[j]\n",
    "        maxi = max(maxi,total)\n",
    "print(maxi)"
   ]
  },
  {
   "cell_type": "code",
   "execution_count": null,
   "id": "e2a8e9b8-1f80-4634-aa04-14f55ddf7181",
   "metadata": {},
   "outputs": [],
   "source": []
  }
 ],
 "metadata": {
  "kernelspec": {
   "display_name": "Python 3 (ipykernel)",
   "language": "python",
   "name": "python3"
  },
  "language_info": {
   "codemirror_mode": {
    "name": "ipython",
    "version": 3
   },
   "file_extension": ".py",
   "mimetype": "text/x-python",
   "name": "python",
   "nbconvert_exporter": "python",
   "pygments_lexer": "ipython3",
   "version": "3.13.5"
  }
 },
 "nbformat": 4,
 "nbformat_minor": 5
}
