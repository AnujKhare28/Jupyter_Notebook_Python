{
 "cells": [
  {
   "cell_type": "code",
   "execution_count": 7,
   "id": "cd50073e-5012-4718-8fa6-fe7f9d1e3b1c",
   "metadata": {},
   "outputs": [],
   "source": [
    "def mergeTwo(arr1, arr2): \n",
    "    n = len(arr1)\n",
    "    m = len(arr2)\n",
    "    result = []\n",
    "    i = 0\n",
    "    j = 0\n",
    "    while i < n and j < m:\n",
    "        if arr1[i] <= arr2[j]:\n",
    "            if len(result) == 0 or result[-1] != arr1[i]: \n",
    "                result.append(arr1[i])\n",
    "            i += 1\n",
    "        else:\n",
    "            if len(result) == 0 or result[-1] != arr2[j]: \n",
    "                result.append(arr2[j])\n",
    "            j += 1\n",
    "    while i < n:\n",
    "        if len(result) == 0 or result[-1] != arr1[i]: \n",
    "            result.append(arr1[i])\n",
    "        i += 1\n",
    "    while j < m:\n",
    "        if len(result) == 0 or result[-1] != arr2[j]: \n",
    "            result.append(arr2[j])\n",
    "        j += 1\n",
    "    return result"
   ]
  },
  {
   "cell_type": "code",
   "execution_count": 12,
   "id": "3e8513c7-516c-4d85-bac5-b21c725a65e6",
   "metadata": {},
   "outputs": [],
   "source": [
    "nums1 = [1,2,3,4,5,6,6,7,8]\n",
    "nums2 = [1,1,2,4,6,8,9,9,10]"
   ]
  },
  {
   "cell_type": "code",
   "execution_count": 13,
   "id": "7f655900-7209-4202-b6c8-e5c640138e52",
   "metadata": {},
   "outputs": [
    {
     "data": {
      "text/plain": [
       "[1, 2, 3, 4, 5, 6, 7, 8, 9, 10]"
      ]
     },
     "execution_count": 13,
     "metadata": {},
     "output_type": "execute_result"
    }
   ],
   "source": [
    "mergeTwo(nums1,nums2)"
   ]
  },
  {
   "cell_type": "code",
   "execution_count": null,
   "id": "ff566bb5-1635-4558-b949-0c4e43acb9db",
   "metadata": {},
   "outputs": [],
   "source": []
  },
  {
   "cell_type": "code",
   "execution_count": null,
   "id": "3d3fe28a-24a2-4ad5-9c95-b61dceaa27ee",
   "metadata": {},
   "outputs": [],
   "source": []
  }
 ],
 "metadata": {
  "kernelspec": {
   "display_name": "Python 3 (ipykernel)",
   "language": "python",
   "name": "python3"
  },
  "language_info": {
   "codemirror_mode": {
    "name": "ipython",
    "version": 3
   },
   "file_extension": ".py",
   "mimetype": "text/x-python",
   "name": "python",
   "nbconvert_exporter": "python",
   "pygments_lexer": "ipython3",
   "version": "3.13.5"
  }
 },
 "nbformat": 4,
 "nbformat_minor": 5
}
