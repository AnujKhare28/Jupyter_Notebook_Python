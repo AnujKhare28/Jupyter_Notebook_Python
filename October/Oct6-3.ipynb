{
 "cells": [
  {
   "cell_type": "code",
   "execution_count": 1,
   "id": "40a3ed84-9897-430c-afc8-83427dc69e90",
   "metadata": {},
   "outputs": [],
   "source": [
    "nums = [9,7,5,3,1,2,6,4,0]"
   ]
  },
  {
   "cell_type": "code",
   "execution_count": 2,
   "id": "50a82d40-99af-4b0d-b7a0-8f852d58cd48",
   "metadata": {},
   "outputs": [
    {
     "name": "stdout",
     "output_type": "stream",
     "text": [
      "8\n"
     ]
    }
   ],
   "source": [
    "n=len (nums)\n",
    "n_sum=(n*(n+1))//2\n",
    "sum=0\n",
    "for i in nums:\n",
    "  sum=sum+i\n",
    "missing_number=n_sum-sum\n",
    "print(missing_number)"
   ]
  },
  {
   "cell_type": "code",
   "execution_count": null,
   "id": "56f4d46f-8877-4d5b-a9bd-1031e72133f5",
   "metadata": {},
   "outputs": [],
   "source": []
  }
 ],
 "metadata": {
  "kernelspec": {
   "display_name": "Python 3 (ipykernel)",
   "language": "python",
   "name": "python3"
  },
  "language_info": {
   "codemirror_mode": {
    "name": "ipython",
    "version": 3
   },
   "file_extension": ".py",
   "mimetype": "text/x-python",
   "name": "python",
   "nbconvert_exporter": "python",
   "pygments_lexer": "ipython3",
   "version": "3.13.5"
  }
 },
 "nbformat": 4,
 "nbformat_minor": 5
}
