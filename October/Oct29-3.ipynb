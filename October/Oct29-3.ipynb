{
 "cells": [
  {
   "cell_type": "code",
   "execution_count": 2,
   "id": "b60eff8a-25a3-4b11-a1b3-3712cdeac368",
   "metadata": {},
   "outputs": [],
   "source": [
    "nums = [4,5,6,7,0,1,2]\n",
    "target = 3"
   ]
  },
  {
   "cell_type": "code",
   "execution_count": 3,
   "id": "14e5f015-2a28-4769-ae79-a1b5ab40c338",
   "metadata": {},
   "outputs": [],
   "source": [
    "def occ(nums, target):\n",
    "    n = len(nums)\n",
    "    l = 0\n",
    "    h = n -1\n",
    "    while l <= h: \n",
    "        mid = (l+h)//2\n",
    "        if nums[mid] == target: \n",
    "            return mid\n",
    "        if nums[mid] <= nums[h]: \n",
    "            if nums[mid] <= target <= nums[h]:\n",
    "                l = mid + 1\n",
    "            else: \n",
    "                h = mid - 1\n",
    "        else: \n",
    "            if nums[l] <= target <= nums[mid]: \n",
    "                h = mid - 1\n",
    "            else: \n",
    "                l = mid + 1\n",
    "    return -1"
   ]
  },
  {
   "cell_type": "code",
   "execution_count": 4,
   "id": "2f4e5411-d536-4987-825b-44f9c5972d19",
   "metadata": {},
   "outputs": [
    {
     "data": {
      "text/plain": [
       "-1"
      ]
     },
     "execution_count": 4,
     "metadata": {},
     "output_type": "execute_result"
    }
   ],
   "source": [
    "occ(nums,target)"
   ]
  },
  {
   "cell_type": "code",
   "execution_count": 5,
   "id": "f653eace-e28d-4b83-aabe-cdcebe24e4c1",
   "metadata": {},
   "outputs": [
    {
     "data": {
      "text/plain": [
       "2"
      ]
     },
     "execution_count": 5,
     "metadata": {},
     "output_type": "execute_result"
    }
   ],
   "source": [
    "target = 6\n",
    "occ(nums,target)"
   ]
  },
  {
   "cell_type": "code",
   "execution_count": null,
   "id": "686c844e-bf7a-47f0-81b6-4a1d6bff654d",
   "metadata": {},
   "outputs": [],
   "source": [
    "|"
   ]
  },
  {
   "cell_type": "code",
   "execution_count": null,
   "id": "52f480ac-984e-46d5-9385-7ae4604907e8",
   "metadata": {},
   "outputs": [],
   "source": []
  }
 ],
 "metadata": {
  "kernelspec": {
   "display_name": "Python 3 (ipykernel)",
   "language": "python",
   "name": "python3"
  },
  "language_info": {
   "codemirror_mode": {
    "name": "ipython",
    "version": 3
   },
   "file_extension": ".py",
   "mimetype": "text/x-python",
   "name": "python",
   "nbconvert_exporter": "python",
   "pygments_lexer": "ipython3",
   "version": "3.13.5"
  }
 },
 "nbformat": 4,
 "nbformat_minor": 5
}
