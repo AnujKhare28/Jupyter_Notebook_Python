{
 "cells": [
  {
   "cell_type": "code",
   "execution_count": 1,
   "id": "b80b5478-4919-4bd2-a5f3-01b96e05ac6f",
   "metadata": {},
   "outputs": [],
   "source": [
    "nums = [1,0,-1,0,-2,2]\n",
    "target = 0"
   ]
  },
  {
   "cell_type": "code",
   "execution_count": 2,
   "id": "792e581c-f047-4c74-875d-9a576bdafb66",
   "metadata": {},
   "outputs": [],
   "source": [
    "n = len(nums)\n",
    "ans = []\n",
    "nums.sort()\n",
    "for i in range(n):\n",
    "    if i > 0 and nums[i] == nums[i-1]:\n",
    "        continue\n",
    "    for j in range(i+1, n): \n",
    "        if j > i+1 and nums[j] == nums[j -1]:\n",
    "            continue\n",
    "        k = j + 1\n",
    "        l = n - 1\n",
    "        while k < l: \n",
    "            total = nums[i] + nums[j] + nums[k] + nums[l]\n",
    "            if total == target:\n",
    "                ans.append([nums[i], nums[j], nums[k], nums[l]])\n",
    "                k += 1\n",
    "                l -= 1\n",
    "                while k < l and nums[k] == nums[k-1]: \n",
    "                    k += 1\n",
    "                while l > k and nums[l] == nums[l+1]: \n",
    "                    l -= 1 \n",
    "            elif total < target: \n",
    "                k += 1\n",
    "            else:\n",
    "                l -= 1"
   ]
  },
  {
   "cell_type": "code",
   "execution_count": 4,
   "id": "71797253-ba4f-411f-acfe-5309a9867997",
   "metadata": {},
   "outputs": [
    {
     "data": {
      "text/plain": [
       "[[-2, -1, 1, 2], [-2, 0, 0, 2], [-1, 0, 0, 1]]"
      ]
     },
     "execution_count": 4,
     "metadata": {},
     "output_type": "execute_result"
    }
   ],
   "source": [
    "ans"
   ]
  },
  {
   "cell_type": "code",
   "execution_count": null,
   "id": "15dc0a97-ae37-4c87-b8cb-30daefc3047d",
   "metadata": {},
   "outputs": [],
   "source": []
  }
 ],
 "metadata": {
  "kernelspec": {
   "display_name": "Python 3 (ipykernel)",
   "language": "python",
   "name": "python3"
  },
  "language_info": {
   "codemirror_mode": {
    "name": "ipython",
    "version": 3
   },
   "file_extension": ".py",
   "mimetype": "text/x-python",
   "name": "python",
   "nbconvert_exporter": "python",
   "pygments_lexer": "ipython3",
   "version": "3.13.5"
  }
 },
 "nbformat": 4,
 "nbformat_minor": 5
}
