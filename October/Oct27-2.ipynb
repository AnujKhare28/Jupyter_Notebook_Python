{
 "cells": [
  {
   "cell_type": "code",
   "execution_count": 1,
   "id": "7f51acf2-51a3-47ae-a8ff-fa90e9a334b9",
   "metadata": {},
   "outputs": [],
   "source": [
    "nums = [1,1,1,2,2,3,5,5,6,7,7,8,8,9,11,11,11,12,13]"
   ]
  },
  {
   "cell_type": "code",
   "execution_count": 3,
   "id": "314a8f15-1b5a-48df-94b6-50d42a9aacd8",
   "metadata": {},
   "outputs": [],
   "source": [
    "def upperbound(nums, target): \n",
    "    n = len(nums)\n",
    "    ub = n \n",
    "    low = 0\n",
    "    high = n - 1\n",
    "\n",
    "    while low <= high: \n",
    "        mid = (low + high) // 2\n",
    "        if nums[mid] > target: \n",
    "            ub = mid \n",
    "            high = mid - 1\n",
    "        else: \n",
    "            low = mid +1\n",
    "    return ub"
   ]
  },
  {
   "cell_type": "code",
   "execution_count": 4,
   "id": "a9d30d23-f27c-469a-9bc0-e149449ca381",
   "metadata": {},
   "outputs": [
    {
     "data": {
      "text/plain": [
       "18"
      ]
     },
     "execution_count": 4,
     "metadata": {},
     "output_type": "execute_result"
    }
   ],
   "source": [
    "target = 12\n",
    "upperbound(nums,target)"
   ]
  },
  {
   "cell_type": "code",
   "execution_count": 5,
   "id": "54972016-1690-4587-a709-9f0a2820f798",
   "metadata": {},
   "outputs": [
    {
     "data": {
      "text/plain": [
       "5"
      ]
     },
     "execution_count": 5,
     "metadata": {},
     "output_type": "execute_result"
    }
   ],
   "source": [
    "target = 2\n",
    "upperbound(nums,target)"
   ]
  },
  {
   "cell_type": "code",
   "execution_count": null,
   "id": "66f2f21a-f03d-4300-a597-7fec714b3821",
   "metadata": {},
   "outputs": [],
   "source": []
  }
 ],
 "metadata": {
  "kernelspec": {
   "display_name": "Python 3.11",
   "language": "python",
   "name": "py311"
  },
  "language_info": {
   "codemirror_mode": {
    "name": "ipython",
    "version": 3
   },
   "file_extension": ".py",
   "mimetype": "text/x-python",
   "name": "python",
   "nbconvert_exporter": "python",
   "pygments_lexer": "ipython3",
   "version": "3.13.5"
  }
 },
 "nbformat": 4,
 "nbformat_minor": 5
}
