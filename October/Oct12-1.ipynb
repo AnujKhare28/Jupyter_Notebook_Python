{
 "cells": [
  {
   "cell_type": "code",
   "execution_count": 1,
   "id": "a09af56c-f214-4229-937c-d9c1e84e64d7",
   "metadata": {},
   "outputs": [],
   "source": [
    " matrix = [[5,1,9,11],[2,4,8,10],[13,3,6,7],[15,14,12,16]]"
   ]
  },
  {
   "cell_type": "code",
   "execution_count": 4,
   "id": "f789c207-8084-453c-907e-b73ec4aad90f",
   "metadata": {},
   "outputs": [],
   "source": [
    "n = len(matrix)\n",
    "result = [[0 for _ in range(n)] for _ in range(n)]\n",
    "\n",
    "for i in range(n): \n",
    "    for j in range(n): \n",
    "        result[j][(n-1)-i] = matrix[i][j]"
   ]
  },
  {
   "cell_type": "code",
   "execution_count": 5,
   "id": "47aee261-fb7e-4391-a336-17f940bb1c98",
   "metadata": {},
   "outputs": [
    {
     "data": {
      "text/plain": [
       "[[15, 13, 2, 5], [14, 3, 4, 1], [12, 6, 8, 9], [16, 7, 10, 11]]"
      ]
     },
     "execution_count": 5,
     "metadata": {},
     "output_type": "execute_result"
    }
   ],
   "source": [
    "result"
   ]
  },
  {
   "cell_type": "code",
   "execution_count": null,
   "id": "613bb2f6-3a8c-49f0-be81-555b06f6ce00",
   "metadata": {},
   "outputs": [],
   "source": []
  }
 ],
 "metadata": {
  "kernelspec": {
   "display_name": "Python 3 (ipykernel)",
   "language": "python",
   "name": "python3"
  },
  "language_info": {
   "codemirror_mode": {
    "name": "ipython",
    "version": 3
   },
   "file_extension": ".py",
   "mimetype": "text/x-python",
   "name": "python",
   "nbconvert_exporter": "python",
   "pygments_lexer": "ipython3",
   "version": "3.13.5"
  }
 },
 "nbformat": 4,
 "nbformat_minor": 5
}
