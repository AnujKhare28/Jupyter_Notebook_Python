{
 "cells": [
  {
   "cell_type": "code",
   "execution_count": 1,
   "id": "029ec422-3328-4591-b74d-7d3144d1d53e",
   "metadata": {},
   "outputs": [],
   "source": [
    "nums = [1,3,5,6]\n",
    "target = 5"
   ]
  },
  {
   "cell_type": "code",
   "execution_count": 2,
   "id": "7b0e3b0c-c8e8-4fe4-a456-923136b21f92",
   "metadata": {},
   "outputs": [],
   "source": [
    "n = len(nums)\n",
    "lb = n\n",
    "low = 0\n",
    "high = n-1\n",
    "while low <= high: \n",
    "    mid = (low+high) // 2 \n",
    "    if nums[mid] >= target: \n",
    "        lb = mid \n",
    "        high = mid-1\n",
    "    else:\n",
    "        low = mid+1"
   ]
  },
  {
   "cell_type": "code",
   "execution_count": 3,
   "id": "821eb709-2d60-46bf-8da5-92a38ce7d47e",
   "metadata": {},
   "outputs": [
    {
     "data": {
      "text/plain": [
       "2"
      ]
     },
     "execution_count": 3,
     "metadata": {},
     "output_type": "execute_result"
    }
   ],
   "source": [
    "lb"
   ]
  },
  {
   "cell_type": "code",
   "execution_count": null,
   "id": "b632cd5d-1da7-453c-b053-a271d287c447",
   "metadata": {},
   "outputs": [],
   "source": []
  }
 ],
 "metadata": {
  "kernelspec": {
   "display_name": "Python 3 (ipykernel)",
   "language": "python",
   "name": "python3"
  },
  "language_info": {
   "codemirror_mode": {
    "name": "ipython",
    "version": 3
   },
   "file_extension": ".py",
   "mimetype": "text/x-python",
   "name": "python",
   "nbconvert_exporter": "python",
   "pygments_lexer": "ipython3",
   "version": "3.13.5"
  }
 },
 "nbformat": 4,
 "nbformat_minor": 5
}
