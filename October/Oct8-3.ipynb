{
 "cells": [
  {
   "cell_type": "code",
   "execution_count": 4,
   "id": "55388576-94a7-43c6-9f64-a13d6964e738",
   "metadata": {},
   "outputs": [],
   "source": [
    "prices = [7,1,5,3,6,4,8]"
   ]
  },
  {
   "cell_type": "code",
   "execution_count": 6,
   "id": "c40a9420-3a82-4154-a038-90530e1017d4",
   "metadata": {},
   "outputs": [
    {
     "name": "stdout",
     "output_type": "stream",
     "text": [
      "7\n"
     ]
    }
   ],
   "source": [
    "n = len(prices)\n",
    "max_profit = 0\n",
    "for i in range(0,n):\n",
    "\n",
    "    for j in range(i+1,n):\n",
    "        if prices[j] > prices[i]:\n",
    "            profit = prices[j] - prices[i]\n",
    "            max_profit = max(max_profit,profit)\n",
    "print(max_profit)"
   ]
  },
  {
   "cell_type": "code",
   "execution_count": null,
   "id": "a8ec4107-8551-4788-993d-d09258d29305",
   "metadata": {},
   "outputs": [],
   "source": []
  }
 ],
 "metadata": {
  "kernelspec": {
   "display_name": "Python 3 (ipykernel)",
   "language": "python",
   "name": "python3"
  },
  "language_info": {
   "codemirror_mode": {
    "name": "ipython",
    "version": 3
   },
   "file_extension": ".py",
   "mimetype": "text/x-python",
   "name": "python",
   "nbconvert_exporter": "python",
   "pygments_lexer": "ipython3",
   "version": "3.13.5"
  }
 },
 "nbformat": 4,
 "nbformat_minor": 5
}
