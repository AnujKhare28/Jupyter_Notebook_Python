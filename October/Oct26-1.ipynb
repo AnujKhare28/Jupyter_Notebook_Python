{
 "cells": [
  {
   "cell_type": "code",
   "execution_count": 3,
   "id": "02929205-20aa-4c0e-91ad-5b929c31a865",
   "metadata": {},
   "outputs": [],
   "source": [
    "nums = [1, 2, 3, 4, 5, 7, 9, 11, 15, 17]"
   ]
  },
  {
   "cell_type": "code",
   "execution_count": 2,
   "id": "390a779d-a977-45e7-93f1-d5bbb7aef5bf",
   "metadata": {},
   "outputs": [],
   "source": [
    "def binarySearch(nums,target): \n",
    "    n = len(nums)\n",
    "    low = 0\n",
    "    high = n - 1\n",
    "\n",
    "    while low <= high: \n",
    "        mid = (low+high) // 2\n",
    "        if nums[mid] == target: \n",
    "            return mid\n",
    "        elif nums[mid] < target: \n",
    "            low = mid + 1\n",
    "        else: \n",
    "            high = mid - 1\n",
    "    return -1"
   ]
  },
  {
   "cell_type": "code",
   "execution_count": 4,
   "id": "68b9b097-20c0-487e-9365-9270465640e7",
   "metadata": {},
   "outputs": [
    {
     "data": {
      "text/plain": [
       "2"
      ]
     },
     "execution_count": 4,
     "metadata": {},
     "output_type": "execute_result"
    }
   ],
   "source": [
    "target = 3\n",
    "binarySearch(nums,target)"
   ]
  },
  {
   "cell_type": "code",
   "execution_count": 5,
   "id": "0a31f14a-3791-4abe-9651-4156e44b3394",
   "metadata": {},
   "outputs": [
    {
     "data": {
      "text/plain": [
       "8"
      ]
     },
     "execution_count": 5,
     "metadata": {},
     "output_type": "execute_result"
    }
   ],
   "source": [
    "target = 15\n",
    "binarySearch(nums,target)"
   ]
  },
  {
   "cell_type": "code",
   "execution_count": 6,
   "id": "c2e2c680-9ef5-44d0-8604-71ecd2f1a008",
   "metadata": {},
   "outputs": [
    {
     "data": {
      "text/plain": [
       "-1"
      ]
     },
     "execution_count": 6,
     "metadata": {},
     "output_type": "execute_result"
    }
   ],
   "source": [
    "target = 12\n",
    "binarySearch(nums,target)"
   ]
  },
  {
   "cell_type": "code",
   "execution_count": null,
   "id": "78a27eb9-78f9-48bb-b51a-e3f2def0c280",
   "metadata": {},
   "outputs": [],
   "source": []
  }
 ],
 "metadata": {
  "kernelspec": {
   "display_name": "Python 3 (ipykernel)",
   "language": "python",
   "name": "python3"
  },
  "language_info": {
   "codemirror_mode": {
    "name": "ipython",
    "version": 3
   },
   "file_extension": ".py",
   "mimetype": "text/x-python",
   "name": "python",
   "nbconvert_exporter": "python",
   "pygments_lexer": "ipython3",
   "version": "3.13.5"
  }
 },
 "nbformat": 4,
 "nbformat_minor": 5
}
