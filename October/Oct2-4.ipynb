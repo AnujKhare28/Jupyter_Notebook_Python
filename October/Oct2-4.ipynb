{
 "cells": [
  {
   "cell_type": "code",
   "execution_count": 1,
   "id": "3753e5d9-500a-4b9e-89da-5d8766ea892b",
   "metadata": {},
   "outputs": [
    {
     "name": "stdout",
     "output_type": "stream",
     "text": [
      "{5: 2, 6: 1, 7: 2, 1: 5, 9: 1, 111: 1}\n"
     ]
    }
   ],
   "source": [
    "l = [5,6,7,7,1,9,111,1,1,5,1,1]\n",
    "hash_map = dict()\n",
    "n = len(l)\n",
    "for i in range(n):\n",
    "    hash_map[l[i]] = hash_map.get(l[i], 0) + 1\n",
    "\n",
    "print(hash_map)"
   ]
  }
 ],
 "metadata": {
  "kernelspec": {
   "display_name": "Python [conda env:base] *",
   "language": "python",
   "name": "conda-base-py"
  },
  "language_info": {
   "codemirror_mode": {
    "name": "ipython",
    "version": 3
   },
   "file_extension": ".py",
   "mimetype": "text/x-python",
   "name": "python",
   "nbconvert_exporter": "python",
   "pygments_lexer": "ipython3",
   "version": "3.12.7"
  }
 },
 "nbformat": 4,
 "nbformat_minor": 5
}
