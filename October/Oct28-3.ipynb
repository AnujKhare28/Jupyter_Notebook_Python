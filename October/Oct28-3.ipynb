{
 "cells": [
  {
   "cell_type": "code",
   "execution_count": 1,
   "id": "fefa2539-2faa-43c7-9ab3-dbfed6170194",
   "metadata": {},
   "outputs": [],
   "source": [
    "nums = [5,7,7,8,8,10]\n",
    "target = 8"
   ]
  },
  {
   "cell_type": "code",
   "execution_count": 2,
   "id": "c5abb922-ff43-452b-88a1-e051900b4014",
   "metadata": {},
   "outputs": [],
   "source": [
    "def lower_bound(nums, target):   \n",
    "    \n",
    "    n = len(nums)\n",
    "    l =0\n",
    "    h = n-1\n",
    "    lb = -1\n",
    "    \n",
    "    while l <= h:\n",
    "        mid = (l+h)//2\n",
    "        if nums[mid] >= target:\n",
    "            lb = mid\n",
    "            h = mid - 1\n",
    "        else:\n",
    "            l = mid + 1\n",
    "        \n",
    "    if lb == -1 or nums[lb] !=target:\n",
    "        return -1\n",
    "    return lb\n"
   ]
  },
  {
   "cell_type": "code",
   "execution_count": 11,
   "id": "1e8e7e24-e6fa-4a04-99b1-f24d495235b0",
   "metadata": {},
   "outputs": [],
   "source": [
    "def upper_bound(nums, target):\n",
    "    n = len(nums)\n",
    "    l =0\n",
    "    h =n-1\n",
    "    ub = n -1\n",
    "    while l <=h:\n",
    "        mid = (l+h)//2\n",
    "        if nums[mid] <= target:\n",
    "            ub = mid\n",
    "            l= mid+1\n",
    "        else:\n",
    "            h =mid - 1\n",
    "    return ub \n",
    "\n",
    "    lb = lower_bound(nums, target)\n",
    "    \n",
    "    if lb == -1:\n",
    "        return [-1,-1]\n",
    "    ub = upper_bound(nums,target)\n",
    "    return [lb,ub]"
   ]
  },
  {
   "cell_type": "code",
   "execution_count": 12,
   "id": "5259027b-fb4f-4bae-9a4e-eb66fe3a04fb",
   "metadata": {},
   "outputs": [
    {
     "data": {
      "text/plain": [
       "4"
      ]
     },
     "execution_count": 12,
     "metadata": {},
     "output_type": "execute_result"
    }
   ],
   "source": [
    "upper_bound(nums,target)"
   ]
  },
  {
   "cell_type": "code",
   "execution_count": null,
   "id": "0a3cfabc-b045-4460-a13e-b68b552c6953",
   "metadata": {},
   "outputs": [],
   "source": []
  }
 ],
 "metadata": {
  "kernelspec": {
   "display_name": "Python 3 (ipykernel)",
   "language": "python",
   "name": "python3"
  },
  "language_info": {
   "codemirror_mode": {
    "name": "ipython",
    "version": 3
   },
   "file_extension": ".py",
   "mimetype": "text/x-python",
   "name": "python",
   "nbconvert_exporter": "python",
   "pygments_lexer": "ipython3",
   "version": "3.13.5"
  }
 },
 "nbformat": 4,
 "nbformat_minor": 5
}
