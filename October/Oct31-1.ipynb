{
 "cells": [
  {
   "cell_type": "code",
   "execution_count": 1,
   "id": "3546643b-4d2a-434a-9af2-d5b781e03fbb",
   "metadata": {},
   "outputs": [],
   "source": [
    "class Node: \n",
    "    def __init__(self,val): \n",
    "        self.val = val\n",
    "        self.next = None\n",
    "\n",
    "class singlyLinkedList: \n",
    "    def __init__(self):\n",
    "        self.head = None\n",
    "        \n",
    "    def append(self,val): \n",
    "        new_node = Node(val)\n",
    "        if not self.head: \n",
    "            self.head = new_node\n",
    "        else: \n",
    "            curr = self.head\n",
    "            while curr.next is not None:\n",
    "                curr = curr.next\n",
    "            curr.next = new_node\n",
    "\n",
    "    def traverse(self):\n",
    "        if not self.head: \n",
    "            print('SLL is empty')\n",
    "        else: \n",
    "            curr = self.head\n",
    "            while curr is not None: \n",
    "                print(curr.val,end=\" \")\n",
    "                curr = curr.next\n",
    "            print()\n",
    "\n",
    "    def insert_at(self,val,position): \n",
    "        new_node = Node(val)\n",
    "        if position == 0: \n",
    "            new_node.next = self.head\n",
    "            self.head = new_node\n",
    "        curr  = self.head\n",
    "        pre_node = None \n",
    "        count = 0\n",
    "        while curr is not None and count < position: \n",
    "            pre_node = curr\n",
    "            curr = curr.next\n",
    "            count += 1\n",
    "        pre_node.next = new_node\n",
    "        new_node.next = curr"
   ]
  },
  {
   "cell_type": "code",
   "execution_count": 2,
   "id": "1d34c9fd-e40d-45ac-903f-94ce52587d9e",
   "metadata": {},
   "outputs": [],
   "source": [
    "sll = singlyLinkedList()"
   ]
  },
  {
   "cell_type": "code",
   "execution_count": 3,
   "id": "7b1c8044-633d-4775-a2aa-58b3e870bf79",
   "metadata": {},
   "outputs": [],
   "source": [
    "sll.append(10)\n",
    "sll.append(20)\n",
    "sll.append(30) \n",
    "sll.append(40)\n",
    "sll.append(50)\n"
   ]
  },
  {
   "cell_type": "code",
   "execution_count": 5,
   "id": "a28da70c-4789-417f-bf6c-60408a2e8606",
   "metadata": {},
   "outputs": [
    {
     "name": "stdout",
     "output_type": "stream",
     "text": [
      "10 20 30 40 50 \n"
     ]
    }
   ],
   "source": [
    "sll.traverse()"
   ]
  },
  {
   "cell_type": "code",
   "execution_count": 6,
   "id": "809ecf19-4a60-4963-9ebf-f9402f9d2b6d",
   "metadata": {},
   "outputs": [],
   "source": [
    "sll.insert_at(45,3)"
   ]
  },
  {
   "cell_type": "code",
   "execution_count": 7,
   "id": "f1a6d824-15dd-43dd-a95d-fa29293c224a",
   "metadata": {},
   "outputs": [
    {
     "name": "stdout",
     "output_type": "stream",
     "text": [
      "10 20 30 45 40 50 \n"
     ]
    }
   ],
   "source": [
    "sll.traverse()"
   ]
  },
  {
   "cell_type": "code",
   "execution_count": null,
   "id": "a72f2fd4-d4cb-43dd-94c4-54fcd0cdb1cf",
   "metadata": {},
   "outputs": [],
   "source": []
  }
 ],
 "metadata": {
  "kernelspec": {
   "display_name": "Python 3 (ipykernel)",
   "language": "python",
   "name": "python3"
  },
  "language_info": {
   "codemirror_mode": {
    "name": "ipython",
    "version": 3
   },
   "file_extension": ".py",
   "mimetype": "text/x-python",
   "name": "python",
   "nbconvert_exporter": "python",
   "pygments_lexer": "ipython3",
   "version": "3.13.5"
  }
 },
 "nbformat": 4,
 "nbformat_minor": 5
}
