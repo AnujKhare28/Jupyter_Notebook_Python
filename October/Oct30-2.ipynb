{
 "cells": [
  {
   "cell_type": "code",
   "execution_count": 1,
   "id": "ea969d7a-fac5-4a76-8a56-cdcb1b26e7d3",
   "metadata": {},
   "outputs": [],
   "source": [
    "class Node: \n",
    "    def __init__(self,val): \n",
    "        self.val = val\n",
    "        self.next = None\n",
    "\n",
    "node1 = Node(5)\n",
    "node2 = Node(8)\n",
    "node3 = Node(9)\n",
    "node4 = Node(3)"
   ]
  },
  {
   "cell_type": "code",
   "execution_count": 2,
   "id": "ea0d6d02-33d3-4be5-9e51-5512a1b74e75",
   "metadata": {},
   "outputs": [],
   "source": [
    "node1.next = node2\n",
    "node2.next = node3\n",
    "node3.next = node4"
   ]
  },
  {
   "cell_type": "code",
   "execution_count": 4,
   "id": "94007094-5864-4807-8540-00241c60d4e2",
   "metadata": {},
   "outputs": [
    {
     "data": {
      "text/plain": [
       "<__main__.Node at 0x250df7c6510>"
      ]
     },
     "execution_count": 4,
     "metadata": {},
     "output_type": "execute_result"
    }
   ],
   "source": [
    "node1"
   ]
  },
  {
   "cell_type": "code",
   "execution_count": 5,
   "id": "8e69c1b1-cddb-435f-b5c0-d0252e0d252f",
   "metadata": {},
   "outputs": [
    {
     "data": {
      "text/plain": [
       "5"
      ]
     },
     "execution_count": 5,
     "metadata": {},
     "output_type": "execute_result"
    }
   ],
   "source": [
    "node1.val"
   ]
  },
  {
   "cell_type": "code",
   "execution_count": 6,
   "id": "50a86cf1-25fb-444a-b24d-8be0b250b23f",
   "metadata": {},
   "outputs": [
    {
     "data": {
      "text/plain": [
       "<__main__.Node at 0x250df603610>"
      ]
     },
     "execution_count": 6,
     "metadata": {},
     "output_type": "execute_result"
    }
   ],
   "source": [
    "node1.next"
   ]
  },
  {
   "cell_type": "code",
   "execution_count": 7,
   "id": "d43bb329-dac0-4b25-9c4c-afd09884ce3e",
   "metadata": {},
   "outputs": [
    {
     "data": {
      "text/plain": [
       "8"
      ]
     },
     "execution_count": 7,
     "metadata": {},
     "output_type": "execute_result"
    }
   ],
   "source": [
    "node1.next.val"
   ]
  },
  {
   "cell_type": "code",
   "execution_count": 8,
   "id": "4674d7ab-9920-493b-b00e-9364b5dc05fd",
   "metadata": {},
   "outputs": [
    {
     "data": {
      "text/plain": [
       "3"
      ]
     },
     "execution_count": 8,
     "metadata": {},
     "output_type": "execute_result"
    }
   ],
   "source": [
    "node1.next.next.next.val"
   ]
  },
  {
   "cell_type": "code",
   "execution_count": null,
   "id": "c99c7a7b-3a0c-4b91-9b13-e178c0fe51b9",
   "metadata": {},
   "outputs": [],
   "source": []
  }
 ],
 "metadata": {
  "kernelspec": {
   "display_name": "Python 3 (ipykernel)",
   "language": "python",
   "name": "python3"
  },
  "language_info": {
   "codemirror_mode": {
    "name": "ipython",
    "version": 3
   },
   "file_extension": ".py",
   "mimetype": "text/x-python",
   "name": "python",
   "nbconvert_exporter": "python",
   "pygments_lexer": "ipython3",
   "version": "3.13.5"
  }
 },
 "nbformat": 4,
 "nbformat_minor": 5
}
