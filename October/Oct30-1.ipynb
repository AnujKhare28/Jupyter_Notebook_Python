{
 "cells": [
  {
   "cell_type": "code",
   "execution_count": 1,
   "id": "73293270-fa14-4247-b2e4-a3e0623df1b1",
   "metadata": {},
   "outputs": [],
   "source": [
    "nums = [2,5,6,0,0,1,2]\n",
    "target = 3"
   ]
  },
  {
   "cell_type": "code",
   "execution_count": 5,
   "id": "39bb498d-7dd2-4fed-b9e6-4eb4d02341d6",
   "metadata": {},
   "outputs": [],
   "source": [
    "def search(nums,target):\n",
    "    n = len(nums)\n",
    "    l = 0\n",
    "    h = n - 1\n",
    "    while l<=h: \n",
    "        mid = (l+h)//2\n",
    "        if nums[mid] == target: \n",
    "            return True\n",
    "        if nums[l] == nums[mid] == nums[h]: \n",
    "            l += 1\n",
    "            h -= 1\n",
    "            continue\n",
    "        if nums[mid] <= nums[h]: \n",
    "            if nums[mid] <= target <= nums[h]:\n",
    "                l = mid+1\n",
    "            else: \n",
    "                h = mid - 1\n",
    "        else: \n",
    "            if nums[l] <= target <= nums[mid]:\n",
    "                h = mid-1\n",
    "            else: \n",
    "                l = mid + 1\n",
    "    return False\n",
    "                "
   ]
  },
  {
   "cell_type": "code",
   "execution_count": 6,
   "id": "da4e41e8-de4a-4192-8d0d-9ce9b5d62333",
   "metadata": {},
   "outputs": [
    {
     "data": {
      "text/plain": [
       "False"
      ]
     },
     "execution_count": 6,
     "metadata": {},
     "output_type": "execute_result"
    }
   ],
   "source": [
    "search(nums,target)"
   ]
  },
  {
   "cell_type": "code",
   "execution_count": 7,
   "id": "058d4e15-0732-4e47-8b13-62bbeb1fb2aa",
   "metadata": {},
   "outputs": [
    {
     "data": {
      "text/plain": [
       "True"
      ]
     },
     "execution_count": 7,
     "metadata": {},
     "output_type": "execute_result"
    }
   ],
   "source": [
    "target = 6\n",
    "search(nums,target)"
   ]
  },
  {
   "cell_type": "code",
   "execution_count": null,
   "id": "7d6350f3-a3c6-4954-a039-efabb2243029",
   "metadata": {},
   "outputs": [],
   "source": []
  }
 ],
 "metadata": {
  "kernelspec": {
   "display_name": "Python 3 (ipykernel)",
   "language": "python",
   "name": "python3"
  },
  "language_info": {
   "codemirror_mode": {
    "name": "ipython",
    "version": 3
   },
   "file_extension": ".py",
   "mimetype": "text/x-python",
   "name": "python",
   "nbconvert_exporter": "python",
   "pygments_lexer": "ipython3",
   "version": "3.13.5"
  }
 },
 "nbformat": 4,
 "nbformat_minor": 5
}
