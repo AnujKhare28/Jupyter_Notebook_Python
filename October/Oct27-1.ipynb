{
 "cells": [
  {
   "cell_type": "code",
   "execution_count": 13,
   "id": "c50aa73e-a229-4752-89da-02ece54dcd28",
   "metadata": {},
   "outputs": [],
   "source": [
    "nums = [1,1,1,2,2,3,5,5,6,7,7,8,8,9,11,11,11,12,13]"
   ]
  },
  {
   "cell_type": "code",
   "execution_count": 22,
   "id": "3ea7ea3f-ee77-452a-9290-06b955846a05",
   "metadata": {},
   "outputs": [],
   "source": [
    "def lowerbound(nums,target): \n",
    "    n = len(nums)\n",
    "    lb = n \n",
    "    low = 0\n",
    "    high = n - 1\n",
    "\n",
    "    while low <= high: \n",
    "        mid = (low + high) // 2\n",
    "        if nums[mid] >= target: \n",
    "            lb = mid \n",
    "            high = mid - 1\n",
    "        else: \n",
    "            low = mid +1\n",
    "    return lb"
   ]
  },
  {
   "cell_type": "code",
   "execution_count": 23,
   "id": "8b32fc32-c2c8-45b0-8ed8-497b3e48371d",
   "metadata": {},
   "outputs": [
    {
     "data": {
      "text/plain": [
       "5"
      ]
     },
     "execution_count": 23,
     "metadata": {},
     "output_type": "execute_result"
    }
   ],
   "source": [
    "target = 3\n",
    "lowerbound(nums, target)"
   ]
  },
  {
   "cell_type": "code",
   "execution_count": 24,
   "id": "79990558-8c82-4d2d-9015-99c1aa351978",
   "metadata": {},
   "outputs": [
    {
     "data": {
      "text/plain": [
       "14"
      ]
     },
     "execution_count": 24,
     "metadata": {},
     "output_type": "execute_result"
    }
   ],
   "source": [
    "target = 11\n",
    "lowerbound(nums,target)"
   ]
  },
  {
   "cell_type": "code",
   "execution_count": null,
   "id": "bc1d2bdc-c002-4c24-b73f-0738d44e31c2",
   "metadata": {},
   "outputs": [],
   "source": []
  }
 ],
 "metadata": {
  "kernelspec": {
   "display_name": "Python 3.11",
   "language": "python",
   "name": "py311"
  },
  "language_info": {
   "codemirror_mode": {
    "name": "ipython",
    "version": 3
   },
   "file_extension": ".py",
   "mimetype": "text/x-python",
   "name": "python",
   "nbconvert_exporter": "python",
   "pygments_lexer": "ipython3",
   "version": "3.13.5"
  }
 },
 "nbformat": 4,
 "nbformat_minor": 5
}
