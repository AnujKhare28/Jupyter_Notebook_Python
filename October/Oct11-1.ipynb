{
 "cells": [
  {
   "cell_type": "code",
   "execution_count": 1,
   "id": "8a5faf55-5ac6-4218-9d64-e6148d58a60a",
   "metadata": {},
   "outputs": [],
   "source": [
    "matrix = [[0,1,2,0],[3,4,5,2],[1,3,1,5]]"
   ]
  },
  {
   "cell_type": "code",
   "execution_count": 11,
   "id": "55e77cd4-b3fe-4dd4-bfca-2420ced58a85",
   "metadata": {},
   "outputs": [],
   "source": [
    "def makeInf(matrix,r,c): \n",
    "\n",
    "    row = len(matrix)\n",
    "    col = len(matrix[0])\n",
    "\n",
    "    for i in range(col): \n",
    "        if matrix[r][i] != 0: \n",
    "            matrix[r][i] = float(\"inf\")\n",
    "\n",
    "    for i in range(row): \n",
    "        if matrix[i][c] != 0: \n",
    "            matrix[i][c] = float(\"inf\")"
   ]
  },
  {
   "cell_type": "code",
   "execution_count": 12,
   "id": "36bfd629-36c6-4f2b-9388-a2dbaf2ca416",
   "metadata": {},
   "outputs": [],
   "source": [
    "row = len(matrix)\n",
    "col = len(matrix[0])\n",
    "\n",
    "for i in range(0,row): \n",
    "    for j in range(0,col): \n",
    "        if matrix[i][j] == 0: \n",
    "            makeInf(matrix,i,j)\n",
    "for i in range(0,row): \n",
    "    for j in range(0,col): \n",
    "        if matrix[i][j] == float('inf'): \n",
    "            matrix[i][j] = 0"
   ]
  },
  {
   "cell_type": "code",
   "execution_count": 13,
   "id": "56f2885b-e823-4fd5-bc3e-a2f058025429",
   "metadata": {},
   "outputs": [
    {
     "data": {
      "text/plain": [
       "[[0, 0, 0, 0], [0, 4, 5, 0], [0, 3, 1, 0]]"
      ]
     },
     "execution_count": 13,
     "metadata": {},
     "output_type": "execute_result"
    }
   ],
   "source": [
    "matrix"
   ]
  },
  {
   "cell_type": "code",
   "execution_count": 14,
   "id": "bef0e25e-2174-4e7e-b4a5-9a8474280256",
   "metadata": {},
   "outputs": [],
   "source": [
    "import numpy as np"
   ]
  },
  {
   "cell_type": "code",
   "execution_count": 15,
   "id": "fa708036-49bd-49fc-a63d-bbe87812a634",
   "metadata": {},
   "outputs": [
    {
     "data": {
      "text/plain": [
       "array([[0, 0, 0, 0],\n",
       "       [0, 4, 5, 0],\n",
       "       [0, 3, 1, 0]])"
      ]
     },
     "execution_count": 15,
     "metadata": {},
     "output_type": "execute_result"
    }
   ],
   "source": [
    "np.array(matrix)"
   ]
  },
  {
   "cell_type": "code",
   "execution_count": null,
   "id": "2cbdb2dc-4d67-43c0-9cd8-7ee1efb9088c",
   "metadata": {},
   "outputs": [],
   "source": []
  }
 ],
 "metadata": {
  "kernelspec": {
   "display_name": "Python 3 (ipykernel)",
   "language": "python",
   "name": "python3"
  },
  "language_info": {
   "codemirror_mode": {
    "name": "ipython",
    "version": 3
   },
   "file_extension": ".py",
   "mimetype": "text/x-python",
   "name": "python",
   "nbconvert_exporter": "python",
   "pygments_lexer": "ipython3",
   "version": "3.13.5"
  }
 },
 "nbformat": 4,
 "nbformat_minor": 5
}
