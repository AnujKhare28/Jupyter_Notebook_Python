{
 "cells": [
  {
   "cell_type": "code",
   "execution_count": 1,
   "id": "0a4f2650-86cc-49f1-ac2e-e1d1295f76fe",
   "metadata": {},
   "outputs": [
    {
     "name": "stdout",
     "output_type": "stream",
     "text": [
      "4321\n"
     ]
    }
   ],
   "source": [
    "n = 1234\n",
    "num = n\n",
    "result = 0\n",
    "\n",
    "while num > 0:\n",
    "    lst_dig = num %10\n",
    "    result = (result*10) + lst_dig\n",
    "    num = num // 10\n",
    "\n",
    "print(result)"
   ]
  }
 ],
 "metadata": {
  "kernelspec": {
   "display_name": "Python [conda env:base] *",
   "language": "python",
   "name": "conda-base-py"
  },
  "language_info": {
   "codemirror_mode": {
    "name": "ipython",
    "version": 3
   },
   "file_extension": ".py",
   "mimetype": "text/x-python",
   "name": "python",
   "nbconvert_exporter": "python",
   "pygments_lexer": "ipython3",
   "version": "3.12.7"
  }
 },
 "nbformat": 4,
 "nbformat_minor": 5
}
