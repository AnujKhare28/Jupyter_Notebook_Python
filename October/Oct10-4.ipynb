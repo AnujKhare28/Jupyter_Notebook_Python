{
 "cells": [
  {
   "cell_type": "code",
   "execution_count": 1,
   "id": "e36b884d-83a7-4c3c-ad24-c5292224611d",
   "metadata": {},
   "outputs": [],
   "source": [
    "nums = [[5,6,3],[3,6,8],[1,2,3]]"
   ]
  },
  {
   "cell_type": "code",
   "execution_count": 7,
   "id": "1c6b211c-16b6-4dce-bb1d-c49febb49717",
   "metadata": {},
   "outputs": [
    {
     "name": "stdout",
     "output_type": "stream",
     "text": [
      "* * 3 \n",
      "* 6 8 \n",
      "1 2 3 \n"
     ]
    }
   ],
   "source": [
    "rows = len(nums)\n",
    "col = len(nums[0])\n",
    "\n",
    "for i in range(0, rows):\n",
    "\n",
    "    for j in range(0,col): \n",
    "\n",
    "        if i + j >= rows - 1: \n",
    "            print(nums[i][j], end=' ')\n",
    "        else: \n",
    "            print('*', end=\" \")\n",
    "    print()"
   ]
  },
  {
   "cell_type": "code",
   "execution_count": null,
   "id": "afeaa22a-2fda-466e-a0dd-990b1321e01f",
   "metadata": {},
   "outputs": [],
   "source": []
  }
 ],
 "metadata": {
  "kernelspec": {
   "display_name": "Python 3 (ipykernel)",
   "language": "python",
   "name": "python3"
  },
  "language_info": {
   "codemirror_mode": {
    "name": "ipython",
    "version": 3
   },
   "file_extension": ".py",
   "mimetype": "text/x-python",
   "name": "python",
   "nbconvert_exporter": "python",
   "pygments_lexer": "ipython3",
   "version": "3.13.5"
  }
 },
 "nbformat": 4,
 "nbformat_minor": 5
}
