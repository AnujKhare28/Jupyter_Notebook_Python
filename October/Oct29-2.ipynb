{
 "cells": [
  {
   "cell_type": "code",
   "execution_count": 1,
   "id": "305a7a1c-6310-426a-b2ee-4a43ed667bdb",
   "metadata": {},
   "outputs": [],
   "source": [
    "arr = [1, 2, 2, 2, 2, 3, 4,5,5,5,5,5,6,7,7,7, 7, 8, 8]\n",
    "target = 2"
   ]
  },
  {
   "cell_type": "code",
   "execution_count": 4,
   "id": "112191ea-7d56-4ecc-a1d3-93e9c586651b",
   "metadata": {},
   "outputs": [],
   "source": [
    "def occure(nums, target):\n",
    "    n = len(nums)\n",
    "\n",
    "    def lowerbound(nums, target):\n",
    "        l, h = 0, n - 1\n",
    "        lb = n\n",
    "        while l <= h:\n",
    "            mid = (l + h) // 2\n",
    "            if nums[mid] >= target:\n",
    "                lb = mid\n",
    "                h = mid - 1\n",
    "            else:\n",
    "                l = mid + 1\n",
    "        return lb\n",
    "\n",
    "    def upperbound(nums, target):\n",
    "        l, h = 0, n - 1\n",
    "        ub = n\n",
    "        while l <= h:\n",
    "            mid = (l + h) // 2\n",
    "            if nums[mid] > target:\n",
    "                ub = mid\n",
    "                h = mid - 1\n",
    "            else:\n",
    "                l = mid + 1\n",
    "        return ub\n",
    "\n",
    "    lb = lowerbound(nums, target)\n",
    "    ub = upperbound(nums, target)\n",
    "\n",
    "    if lb == n or nums[lb] != target:\n",
    "        return 0\n",
    "    return ub - lb\n"
   ]
  },
  {
   "cell_type": "code",
   "execution_count": 5,
   "id": "6d9581e6-cbfd-47e9-b33e-4e16a496033c",
   "metadata": {},
   "outputs": [
    {
     "data": {
      "text/plain": [
       "4"
      ]
     },
     "execution_count": 5,
     "metadata": {},
     "output_type": "execute_result"
    }
   ],
   "source": [
    "occure(arr,target)"
   ]
  },
  {
   "cell_type": "code",
   "execution_count": 9,
   "id": "9c0db34d-524c-4a5d-bd6b-76199588ab8f",
   "metadata": {},
   "outputs": [],
   "source": [
    "target1 = 7"
   ]
  },
  {
   "cell_type": "code",
   "execution_count": 10,
   "id": "19c7163b-c8a9-4c48-b762-4b91acd71651",
   "metadata": {},
   "outputs": [
    {
     "data": {
      "text/plain": [
       "4"
      ]
     },
     "execution_count": 10,
     "metadata": {},
     "output_type": "execute_result"
    }
   ],
   "source": [
    "occure(arr,target1 )"
   ]
  },
  {
   "cell_type": "code",
   "execution_count": null,
   "id": "5c0ea857-9a21-4939-a98a-d43a33797667",
   "metadata": {},
   "outputs": [],
   "source": []
  }
 ],
 "metadata": {
  "kernelspec": {
   "display_name": "Python 3 (ipykernel)",
   "language": "python",
   "name": "python3"
  },
  "language_info": {
   "codemirror_mode": {
    "name": "ipython",
    "version": 3
   },
   "file_extension": ".py",
   "mimetype": "text/x-python",
   "name": "python",
   "nbconvert_exporter": "python",
   "pygments_lexer": "ipython3",
   "version": "3.13.5"
  }
 },
 "nbformat": 4,
 "nbformat_minor": 5
}
