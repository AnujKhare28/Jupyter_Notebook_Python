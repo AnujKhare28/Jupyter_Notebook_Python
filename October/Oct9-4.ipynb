{
 "cells": [
  {
   "cell_type": "code",
   "execution_count": 1,
   "id": "5daa2116-ec38-4175-a816-d8b9e762eb28",
   "metadata": {},
   "outputs": [],
   "source": [
    "nums = [100,4,200,1,3,2]"
   ]
  },
  {
   "cell_type": "code",
   "execution_count": 3,
   "id": "db82b5ba-dfac-4b63-a820-1e43ef5d0ce7",
   "metadata": {},
   "outputs": [
    {
     "name": "stdout",
     "output_type": "stream",
     "text": [
      "4\n"
     ]
    }
   ],
   "source": [
    "nums.sort()\n",
    "last_smaller = float('-inf')\n",
    "count = 0\n",
    "long = 0\n",
    "\n",
    "for i in range(0,len(nums)):\n",
    "    num = nums[i]\n",
    "    if num - 1 == last_smaller:\n",
    "        count += 1\n",
    "        last_smaller = num\n",
    "    elif num != last_smaller: \n",
    "        count = 1\n",
    "        last_smaller = num\n",
    "    long = max(long,count)\n",
    "print(long)"
   ]
  },
  {
   "cell_type": "code",
   "execution_count": null,
   "id": "8ff50fa9-66ae-40eb-b29c-9b5fd1f5542c",
   "metadata": {},
   "outputs": [],
   "source": []
  }
 ],
 "metadata": {
  "kernelspec": {
   "display_name": "Python 3 (ipykernel)",
   "language": "python",
   "name": "python3"
  },
  "language_info": {
   "codemirror_mode": {
    "name": "ipython",
    "version": 3
   },
   "file_extension": ".py",
   "mimetype": "text/x-python",
   "name": "python",
   "nbconvert_exporter": "python",
   "pygments_lexer": "ipython3",
   "version": "3.13.5"
  }
 },
 "nbformat": 4,
 "nbformat_minor": 5
}
