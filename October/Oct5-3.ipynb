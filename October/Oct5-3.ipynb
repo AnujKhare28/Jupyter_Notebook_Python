{
 "cells": [
  {
   "cell_type": "markdown",
   "id": "0d6a8c00-d3c5-47b2-917f-b61885bf9cdf",
   "metadata": {},
   "source": [
    "### Polygon class"
   ]
  },
  {
   "cell_type": "code",
   "execution_count": 5,
   "id": "25fea09b-c598-47cf-9d9b-163f2e3b9f9c",
   "metadata": {},
   "outputs": [],
   "source": [
    "import math\n",
    "\n",
    "class Polygon:\n",
    "\n",
    "    def __init__(self, ns, *sides): \n",
    "        self.no_of_sides = ns\n",
    "        self.sides = sides[:ns]\n",
    "\n",
    "class Triangle(Polygon): \n",
    "\n",
    "    def __init__(self, ns, *sides): \n",
    "        Polygon.__init__(self, ns, *sides)\n",
    "\n",
    "    def area(self): \n",
    "        a, b, c = self.sides\n",
    "        s = (a + b + c)/2\n",
    "        area = math.sqrt(s * (s-a) * (s-b) * (s-c))\n",
    "        return area"
   ]
  },
  {
   "cell_type": "code",
   "execution_count": 6,
   "id": "8cc6fcf3-80de-4e0e-9cbc-480676ce10ea",
   "metadata": {},
   "outputs": [
    {
     "name": "stdout",
     "output_type": "stream",
     "text": [
      "Area:  43.634848458542855\n"
     ]
    }
   ],
   "source": [
    "t1 = Triangle(3, 10,15,9)\n",
    "print('Area: ', t1.area())"
   ]
  },
  {
   "cell_type": "code",
   "execution_count": null,
   "id": "681c8275-5be4-488a-a61d-effb38137b3f",
   "metadata": {},
   "outputs": [],
   "source": []
  }
 ],
 "metadata": {
  "kernelspec": {
   "display_name": "Python 3 (ipykernel)",
   "language": "python",
   "name": "python3"
  },
  "language_info": {
   "codemirror_mode": {
    "name": "ipython",
    "version": 3
   },
   "file_extension": ".py",
   "mimetype": "text/x-python",
   "name": "python",
   "nbconvert_exporter": "python",
   "pygments_lexer": "ipython3",
   "version": "3.13.5"
  }
 },
 "nbformat": 4,
 "nbformat_minor": 5
}
