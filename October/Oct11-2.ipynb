{
 "cells": [
  {
   "cell_type": "code",
   "execution_count": 1,
   "id": "b043a5b1-f5cd-4d7e-93eb-2b7662169952",
   "metadata": {},
   "outputs": [],
   "source": [
    "matrix = [[0,1,2,0],[3,4,5,2],[1,3,1,5]]"
   ]
  },
  {
   "cell_type": "code",
   "execution_count": 2,
   "id": "5e85fe8e-2126-483c-b45c-4d4baf666530",
   "metadata": {},
   "outputs": [],
   "source": [
    "row = len(matrix)\n",
    "col = len(matrix[0])\n",
    "\n",
    "rtrack = [0 for _ in range(row)]\n",
    "ctrack = [0 for _ in range(col)] \n",
    "\n",
    "\n",
    "for i in range(row):\n",
    "    for j in range(col): \n",
    "        if matrix[i][j] == 0: \n",
    "            rtrack[i] = -1\n",
    "            ctrack[j] = -1\n",
    "for i in range(row):\n",
    "    for j in range(col): \n",
    "        if rtrack[i] == -1 or ctrack[j] == -1: \n",
    "            matrix[i][j] = 0"
   ]
  },
  {
   "cell_type": "code",
   "execution_count": 3,
   "id": "3dcaa685-ed0a-46b8-843d-d10d7391de34",
   "metadata": {},
   "outputs": [
    {
     "data": {
      "text/plain": [
       "[[0, 0, 0, 0], [0, 4, 5, 0], [0, 3, 1, 0]]"
      ]
     },
     "execution_count": 3,
     "metadata": {},
     "output_type": "execute_result"
    }
   ],
   "source": [
    "matrix"
   ]
  },
  {
   "cell_type": "code",
   "execution_count": 4,
   "id": "b87cf29b-9d2f-4ea9-84bc-0eda1fd49e68",
   "metadata": {},
   "outputs": [],
   "source": [
    "import numpy as np"
   ]
  },
  {
   "cell_type": "code",
   "execution_count": 5,
   "id": "7f87945e-209c-4a0b-b82d-43cacc4df901",
   "metadata": {},
   "outputs": [
    {
     "data": {
      "text/plain": [
       "array([[0, 0, 0, 0],\n",
       "       [0, 4, 5, 0],\n",
       "       [0, 3, 1, 0]])"
      ]
     },
     "execution_count": 5,
     "metadata": {},
     "output_type": "execute_result"
    }
   ],
   "source": [
    "np.array(matrix)"
   ]
  },
  {
   "cell_type": "code",
   "execution_count": null,
   "id": "2c49f195-22e0-4080-8587-dcf684ef83fe",
   "metadata": {},
   "outputs": [],
   "source": []
  }
 ],
 "metadata": {
  "kernelspec": {
   "display_name": "Python 3 (ipykernel)",
   "language": "python",
   "name": "python3"
  },
  "language_info": {
   "codemirror_mode": {
    "name": "ipython",
    "version": 3
   },
   "file_extension": ".py",
   "mimetype": "text/x-python",
   "name": "python",
   "nbconvert_exporter": "python",
   "pygments_lexer": "ipython3",
   "version": "3.13.5"
  }
 },
 "nbformat": 4,
 "nbformat_minor": 5
}
