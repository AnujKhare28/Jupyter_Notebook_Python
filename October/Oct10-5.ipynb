{
 "cells": [
  {
   "cell_type": "code",
   "execution_count": 1,
   "id": "46497f41-b673-49e3-a679-6e9aae371cda",
   "metadata": {},
   "outputs": [],
   "source": [
    "nums = [[5,6,3],[3,6,8]]"
   ]
  },
  {
   "cell_type": "code",
   "execution_count": 6,
   "id": "584349f3-707a-405f-9d7b-444d2e63a371",
   "metadata": {},
   "outputs": [
    {
     "name": "stdout",
     "output_type": "stream",
     "text": [
      "[[5, 3], [6, 6], [3, 8]]\n"
     ]
    }
   ],
   "source": [
    "rows = len(nums)\n",
    "col = len(nums[0])\n",
    "\n",
    "result = [[0]*rows for _ in range(col)]\n",
    "\n",
    "for i in range(0,rows):\n",
    "    for j in range(0,col): \n",
    "        result[j][i] = nums[i][j]\n",
    "print(result)"
   ]
  },
  {
   "cell_type": "code",
   "execution_count": 7,
   "id": "ea6ce08e-f673-44fa-89bd-bd08fbc5085e",
   "metadata": {},
   "outputs": [
    {
     "data": {
      "text/plain": [
       "[[5, 3], [6, 6], [3, 8]]"
      ]
     },
     "execution_count": 7,
     "metadata": {},
     "output_type": "execute_result"
    }
   ],
   "source": [
    "result"
   ]
  },
  {
   "cell_type": "code",
   "execution_count": null,
   "id": "7edc859e-9667-4cc6-b0b4-5c3c84ca1264",
   "metadata": {},
   "outputs": [],
   "source": []
  }
 ],
 "metadata": {
  "kernelspec": {
   "display_name": "Python 3 (ipykernel)",
   "language": "python",
   "name": "python3"
  },
  "language_info": {
   "codemirror_mode": {
    "name": "ipython",
    "version": 3
   },
   "file_extension": ".py",
   "mimetype": "text/x-python",
   "name": "python",
   "nbconvert_exporter": "python",
   "pygments_lexer": "ipython3",
   "version": "3.13.5"
  }
 },
 "nbformat": 4,
 "nbformat_minor": 5
}
