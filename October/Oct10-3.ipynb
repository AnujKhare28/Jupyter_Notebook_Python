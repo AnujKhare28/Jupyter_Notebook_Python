{
 "cells": [
  {
   "cell_type": "code",
   "execution_count": 1,
   "id": "7bca6414-bb99-44d7-baaa-7ff4ed6bfd67",
   "metadata": {},
   "outputs": [],
   "source": [
    "nums = [[5,6,3],[3,6,8],[1,2,3]]"
   ]
  },
  {
   "cell_type": "code",
   "execution_count": 2,
   "id": "7c4aa341-3ac9-483a-a302-7fe874e1a686",
   "metadata": {},
   "outputs": [
    {
     "name": "stdout",
     "output_type": "stream",
     "text": [
      "5 * * \n",
      "* 6 * \n",
      "* * 3 \n"
     ]
    }
   ],
   "source": [
    "rows = len(nums)\n",
    "cols = len(nums[0])\n",
    "\n",
    "for i in range(0,rows):\n",
    "\n",
    "    for j in range(0, cols):\n",
    "\n",
    "        if j == i:\n",
    "            print(nums[i][j], end=\" \")\n",
    "            \n",
    "        else: \n",
    "            print(\"*\",end=\" \")\n",
    "    print()"
   ]
  },
  {
   "cell_type": "code",
   "execution_count": null,
   "id": "2c0f0bda-e34f-4324-a2ed-d1d27d869e42",
   "metadata": {},
   "outputs": [],
   "source": []
  }
 ],
 "metadata": {
  "kernelspec": {
   "display_name": "Python 3 (ipykernel)",
   "language": "python",
   "name": "python3"
  },
  "language_info": {
   "codemirror_mode": {
    "name": "ipython",
    "version": 3
   },
   "file_extension": ".py",
   "mimetype": "text/x-python",
   "name": "python",
   "nbconvert_exporter": "python",
   "pygments_lexer": "ipython3",
   "version": "3.13.5"
  }
 },
 "nbformat": 4,
 "nbformat_minor": 5
}
