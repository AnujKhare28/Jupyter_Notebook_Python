{
 "cells": [
  {
   "cell_type": "code",
   "execution_count": 1,
   "id": "ef881fa3-3ebf-4f62-a405-96e5e791eb26",
   "metadata": {},
   "outputs": [],
   "source": [
    "nums = [[5,6,3],[3,6,8],[1,2,3]]"
   ]
  },
  {
   "cell_type": "code",
   "execution_count": 2,
   "id": "9681e2ec-8332-4be0-bd3d-643a5f0d5657",
   "metadata": {},
   "outputs": [
    {
     "name": "stdout",
     "output_type": "stream",
     "text": [
      "5 * * \n",
      "3 6 * \n",
      "1 2 3 \n"
     ]
    }
   ],
   "source": [
    "rows = len(nums)\n",
    "cols = len(nums[0])\n",
    "\n",
    "for i in range(0,rows):\n",
    "\n",
    "    for j in range(0, cols):\n",
    "\n",
    "        if j <= i:\n",
    "            print(nums[i][j], end=\" \")\n",
    "            \n",
    "        else: \n",
    "            print(\"*\",end=\" \")\n",
    "    print()"
   ]
  },
  {
   "cell_type": "code",
   "execution_count": null,
   "id": "7ac974c4-70a8-44ef-a1a0-3a730f4e1b36",
   "metadata": {},
   "outputs": [],
   "source": []
  }
 ],
 "metadata": {
  "kernelspec": {
   "display_name": "Python 3 (ipykernel)",
   "language": "python",
   "name": "python3"
  },
  "language_info": {
   "codemirror_mode": {
    "name": "ipython",
    "version": 3
   },
   "file_extension": ".py",
   "mimetype": "text/x-python",
   "name": "python",
   "nbconvert_exporter": "python",
   "pygments_lexer": "ipython3",
   "version": "3.13.5"
  }
 },
 "nbformat": 4,
 "nbformat_minor": 5
}
