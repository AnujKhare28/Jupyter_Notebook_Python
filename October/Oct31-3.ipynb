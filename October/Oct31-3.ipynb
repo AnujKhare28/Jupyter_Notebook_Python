{
 "cells": [
  {
   "cell_type": "code",
   "execution_count": 1,
   "id": "c6564b67-a5a3-45c8-979c-6b7ea857f060",
   "metadata": {},
   "outputs": [],
   "source": [
    "nums = [5, 6, 1, 2, 3, 4]"
   ]
  },
  {
   "cell_type": "code",
   "execution_count": 3,
   "id": "1fb72093-6c5b-4bf3-975c-d8010e0a8e6a",
   "metadata": {},
   "outputs": [],
   "source": [
    "def findMin(nums): \n",
    "    n = len(nums)\n",
    "    l,h = 0,n-1\n",
    "    mini = float('inf')\n",
    "    while l <= h: \n",
    "        mid = (l+h) // 2\n",
    "        if nums[mid] <= nums[h]: \n",
    "            mini = min(mini,nums[mid])\n",
    "            h = mid-1\n",
    "        else: \n",
    "            mini = min(mini,nums[l])\n",
    "            l = mid+1\n",
    "    return mini"
   ]
  },
  {
   "cell_type": "code",
   "execution_count": 4,
   "id": "9bfb43c4-0552-44c5-aaa9-5a33e245a826",
   "metadata": {},
   "outputs": [
    {
     "data": {
      "text/plain": [
       "1"
      ]
     },
     "execution_count": 4,
     "metadata": {},
     "output_type": "execute_result"
    }
   ],
   "source": [
    "findMin(nums)"
   ]
  },
  {
   "cell_type": "code",
   "execution_count": null,
   "id": "cee6abf0-83fa-466d-a98d-0d0c0c86c7fb",
   "metadata": {},
   "outputs": [],
   "source": []
  }
 ],
 "metadata": {
  "kernelspec": {
   "display_name": "Python 3 (ipykernel)",
   "language": "python",
   "name": "python3"
  },
  "language_info": {
   "codemirror_mode": {
    "name": "ipython",
    "version": 3
   },
   "file_extension": ".py",
   "mimetype": "text/x-python",
   "name": "python",
   "nbconvert_exporter": "python",
   "pygments_lexer": "ipython3",
   "version": "3.13.5"
  }
 },
 "nbformat": 4,
 "nbformat_minor": 5
}
