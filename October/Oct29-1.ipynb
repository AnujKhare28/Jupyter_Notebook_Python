{
 "cells": [
  {
   "cell_type": "code",
   "execution_count": 8,
   "id": "50a47fd1-389e-493d-903c-d1bbac0bd09a",
   "metadata": {},
   "outputs": [],
   "source": [
    "arr = [1, 2, 2, 2, 2, 3, 4,5,5,5,5,5,6,7,7,7, 7, 8, 8]\n",
    "target = 2"
   ]
  },
  {
   "cell_type": "code",
   "execution_count": 9,
   "id": "321aab56-807c-4026-bc1b-e3296df98e41",
   "metadata": {},
   "outputs": [],
   "source": [
    "def fun(nums,target): \n",
    "    n = len(nums)\n",
    "    first = -1\n",
    "    last = -1 \n",
    "    for i in range(n): \n",
    "        if nums[i] == target: \n",
    "            if first ==-1: \n",
    "                first = i\n",
    "            last = i\n",
    "    if first == -1: \n",
    "        return 0\n",
    "    return last - first + 1"
   ]
  },
  {
   "cell_type": "code",
   "execution_count": 10,
   "id": "a6e9960c-eb36-4eac-b5c5-cfdd4c1449b6",
   "metadata": {},
   "outputs": [
    {
     "data": {
      "text/plain": [
       "4"
      ]
     },
     "execution_count": 10,
     "metadata": {},
     "output_type": "execute_result"
    }
   ],
   "source": [
    "fun(arr, target)"
   ]
  },
  {
   "cell_type": "code",
   "execution_count": 12,
   "id": "1a34dd86-8030-422f-bf8c-1a8313a0969c",
   "metadata": {},
   "outputs": [],
   "source": [
    "arr = [1, 2, 2, 2, 2, 3, 4,5,5,5,5,5,6,7,7,7, 7, 8, 8]\n",
    "target1 = 5"
   ]
  },
  {
   "cell_type": "code",
   "execution_count": 13,
   "id": "2414e0d2-f4e9-4e62-9694-e00b48166ae7",
   "metadata": {},
   "outputs": [
    {
     "data": {
      "text/plain": [
       "5"
      ]
     },
     "execution_count": 13,
     "metadata": {},
     "output_type": "execute_result"
    }
   ],
   "source": [
    "fun(arr,target1)"
   ]
  },
  {
   "cell_type": "code",
   "execution_count": null,
   "id": "837a8f17-a62b-4ed7-a457-8b93202cb260",
   "metadata": {},
   "outputs": [],
   "source": []
  }
 ],
 "metadata": {
  "kernelspec": {
   "display_name": "Python 3 (ipykernel)",
   "language": "python",
   "name": "python3"
  },
  "language_info": {
   "codemirror_mode": {
    "name": "ipython",
    "version": 3
   },
   "file_extension": ".py",
   "mimetype": "text/x-python",
   "name": "python",
   "nbconvert_exporter": "python",
   "pygments_lexer": "ipython3",
   "version": "3.13.5"
  }
 },
 "nbformat": 4,
 "nbformat_minor": 5
}
