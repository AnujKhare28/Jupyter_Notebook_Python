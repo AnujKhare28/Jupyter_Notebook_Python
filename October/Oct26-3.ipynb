{
 "cells": [
  {
   "cell_type": "markdown",
   "id": "88e0724e-63d8-4169-a8ae-ce346f9041cc",
   "metadata": {},
   "source": [
    "#### HackerRank Questions"
   ]
  },
  {
   "cell_type": "code",
   "execution_count": 5,
   "id": "2a60d900-3eda-4d95-be87-f580c91409c0",
   "metadata": {},
   "outputs": [
    {
     "name": "stdin",
     "output_type": "stream",
     "text": [
      "Enter a Number:  24\n"
     ]
    },
    {
     "name": "stdout",
     "output_type": "stream",
     "text": [
      "Not Weird\n"
     ]
    }
   ],
   "source": [
    " n = int(input(\"Enter a Number: \").strip())\n",
    " a = n % 2\n",
    "if a == 1:\n",
    "   print (\"Weird\")\n",
    "elif 2 <= n <= 5:\n",
    "   print (\"Not Weird\")\n",
    "elif 6 <= n <= 20:\n",
    "   print (\"Weird\")\n",
    "elif n > 20:\n",
    "   print (\"Not Weird\")"
   ]
  },
  {
   "cell_type": "code",
   "execution_count": 6,
   "id": "69f6b411-2a6c-4d2c-8909-416290094515",
   "metadata": {},
   "outputs": [
    {
     "name": "stdin",
     "output_type": "stream",
     "text": [
      " 5\n",
      " 7\n"
     ]
    },
    {
     "name": "stdout",
     "output_type": "stream",
     "text": [
      "12\n",
      "-2\n",
      "35\n"
     ]
    }
   ],
   "source": [
    "a = int(input())\n",
    "b = int(input())\n",
    "print(a+b)\n",
    "print(a-b)\n",
    "print(a*b)"
   ]
  },
  {
   "cell_type": "code",
   "execution_count": 9,
   "id": "862bd4f7-152d-4af6-a75b-0601a41c9a81",
   "metadata": {},
   "outputs": [
    {
     "name": "stdin",
     "output_type": "stream",
     "text": [
      " 5\n",
      " 2\n"
     ]
    },
    {
     "name": "stdout",
     "output_type": "stream",
     "text": [
      "2 <class 'int'>\n",
      "2.5 <class 'float'>\n"
     ]
    }
   ],
   "source": [
    "a = int(input())\n",
    "b = int(input())\n",
    "print((a//b), type(a//b))\n",
    "print((a/b), type(a/b))"
   ]
  },
  {
   "cell_type": "code",
   "execution_count": 12,
   "id": "65f27b40-5283-421d-aa74-080b47690938",
   "metadata": {},
   "outputs": [
    {
     "name": "stdin",
     "output_type": "stream",
     "text": [
      " 10\n"
     ]
    },
    {
     "name": "stdout",
     "output_type": "stream",
     "text": [
      "0\n",
      "1\n",
      "4\n",
      "9\n",
      "16\n",
      "25\n",
      "36\n",
      "49\n",
      "64\n",
      "81\n"
     ]
    }
   ],
   "source": [
    "n = int(input())\n",
    "    \n",
    "for i in range(0, n):\n",
    "    print (i * i)"
   ]
  },
  {
   "cell_type": "code",
   "execution_count": 9,
   "id": "49a52201-d44c-46d8-b2ec-eeb90712798e",
   "metadata": {},
   "outputs": [
    {
     "name": "stdin",
     "output_type": "stream",
     "text": [
      " 2000\n"
     ]
    },
    {
     "name": "stdout",
     "output_type": "stream",
     "text": [
      "True\n"
     ]
    }
   ],
   "source": [
    "year = int(input())\n",
    "if year % 4 == 0:\n",
    "    leap = True\n",
    "    if year % 100 == 0:\n",
    "        if year % 400 == 0:\n",
    "            leap = True\n",
    "        else :\n",
    "            leap = False\n",
    "else: \n",
    "    leap = False\n",
    "print(leap)"
   ]
  },
  {
   "cell_type": "code",
   "execution_count": null,
   "id": "c5784c0b-f8a9-4664-ba60-8a8e9eb44f93",
   "metadata": {},
   "outputs": [],
   "source": []
  }
 ],
 "metadata": {
  "kernelspec": {
   "display_name": "Python 3 (ipykernel)",
   "language": "python",
   "name": "python3"
  },
  "language_info": {
   "codemirror_mode": {
    "name": "ipython",
    "version": 3
   },
   "file_extension": ".py",
   "mimetype": "text/x-python",
   "name": "python",
   "nbconvert_exporter": "python",
   "pygments_lexer": "ipython3",
   "version": "3.13.5"
  }
 },
 "nbformat": 4,
 "nbformat_minor": 5
}
