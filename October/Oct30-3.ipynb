{
 "cells": [
  {
   "cell_type": "code",
   "execution_count": 14,
   "id": "920d17fa-249d-4826-bb38-9618c69e3126",
   "metadata": {},
   "outputs": [],
   "source": [
    "class Node: \n",
    "    def __init__(self,val): \n",
    "        self.val = val\n",
    "        self.next = None\n",
    "\n",
    "class singlyLinkedList: \n",
    "    def __init__(self):\n",
    "        self.head = None\n",
    "        \n",
    "    def append(self,val): \n",
    "        new_node = Node(val)\n",
    "        if not self.head: \n",
    "            self.head = new_node\n",
    "        else: \n",
    "            curr = self.head\n",
    "            while curr.next is not None:\n",
    "                curr = curr.next\n",
    "            curr.next = new_node\n",
    "\n",
    "    def traverse(self):\n",
    "        if not self.head: \n",
    "            print('SLL is empty')\n",
    "        else: \n",
    "            curr = self.head\n",
    "            while curr is not None: \n",
    "                print(curr.val,end=\" \")\n",
    "                curr = curr.next\n",
    "            print()"
   ]
  },
  {
   "cell_type": "code",
   "execution_count": 15,
   "id": "0dc688b2-f61d-40b9-8f00-8072290ff211",
   "metadata": {},
   "outputs": [],
   "source": [
    "sll = singlyLinkedList()"
   ]
  },
  {
   "cell_type": "code",
   "execution_count": 16,
   "id": "a252dc6a-b51d-415b-a319-bb0b9eb3533a",
   "metadata": {},
   "outputs": [
    {
     "name": "stdout",
     "output_type": "stream",
     "text": [
      "SLL is empty\n"
     ]
    }
   ],
   "source": [
    "sll.traverse()"
   ]
  },
  {
   "cell_type": "code",
   "execution_count": 17,
   "id": "15a7f95f-4fc2-4e50-8709-a753c4efc076",
   "metadata": {},
   "outputs": [],
   "source": [
    "sll.append(10)\n",
    "sll.append(20)\n",
    "sll.append(30)\n",
    "sll.append(40)\n",
    "sll.append(50)\n"
   ]
  },
  {
   "cell_type": "code",
   "execution_count": 18,
   "id": "971c89c6-3e9f-4e0d-850b-0e50b81b1b24",
   "metadata": {},
   "outputs": [
    {
     "name": "stdout",
     "output_type": "stream",
     "text": [
      "10 20 30 40 50 \n"
     ]
    }
   ],
   "source": [
    "sll.traverse()"
   ]
  },
  {
   "cell_type": "code",
   "execution_count": null,
   "id": "699f4cd3-5f5c-40f0-8034-e056dc35feb4",
   "metadata": {},
   "outputs": [],
   "source": []
  }
 ],
 "metadata": {
  "kernelspec": {
   "display_name": "Python 3 (ipykernel)",
   "language": "python",
   "name": "python3"
  },
  "language_info": {
   "codemirror_mode": {
    "name": "ipython",
    "version": 3
   },
   "file_extension": ".py",
   "mimetype": "text/x-python",
   "name": "python",
   "nbconvert_exporter": "python",
   "pygments_lexer": "ipython3",
   "version": "3.13.5"
  }
 },
 "nbformat": 4,
 "nbformat_minor": 5
}
