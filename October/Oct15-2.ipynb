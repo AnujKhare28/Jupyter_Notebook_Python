{
 "cells": [
  {
   "cell_type": "code",
   "execution_count": 1,
   "id": "deda1969-90de-4c26-9657-750243f2168d",
   "metadata": {},
   "outputs": [],
   "source": [
    "nums = [-1,0,1,2,-1,-4]"
   ]
  },
  {
   "cell_type": "code",
   "execution_count": 3,
   "id": "6b8c017d-4878-4268-b1f1-5d37d9224ffa",
   "metadata": {},
   "outputs": [
    {
     "name": "stdout",
     "output_type": "stream",
     "text": [
      "[[-1, -1, 2], [-1, 0, 1]]\n"
     ]
    }
   ],
   "source": [
    "ans = []\n",
    "n = len(nums)\n",
    "nums.sort()\n",
    "\n",
    "for i in range(n):\n",
    "    if i != 0 and nums[i] == nums[i-1]: \n",
    "        continue\n",
    "    j = i +1\n",
    "    k = n -1\n",
    "    while j < k: \n",
    "        total_sum = nums[i] + nums[j] + nums[k]\n",
    "        if total_sum < 0:\n",
    "            j += 1\n",
    "        elif total_sum > 0:\n",
    "            k -= 1\n",
    "        else: \n",
    "            temp = [nums[i],nums[j],nums[k]]\n",
    "            ans.append(temp)\n",
    "            j += 1\n",
    "            k -= 1\n",
    "            while j < k and nums[j] == nums[j-1]:\n",
    "                j += 1\n",
    "            while j < k and nums[k] == nums[k+1]:\n",
    "                k -= 1\n",
    "print(ans)"
   ]
  },
  {
   "cell_type": "code",
   "execution_count": null,
   "id": "7d82bb7e-8fab-444b-a6e6-8295c93c2b7d",
   "metadata": {},
   "outputs": [],
   "source": []
  }
 ],
 "metadata": {
  "kernelspec": {
   "display_name": "Python 3 (ipykernel)",
   "language": "python",
   "name": "python3"
  },
  "language_info": {
   "codemirror_mode": {
    "name": "ipython",
    "version": 3
   },
   "file_extension": ".py",
   "mimetype": "text/x-python",
   "name": "python",
   "nbconvert_exporter": "python",
   "pygments_lexer": "ipython3",
   "version": "3.13.5"
  }
 },
 "nbformat": 4,
 "nbformat_minor": 5
}
