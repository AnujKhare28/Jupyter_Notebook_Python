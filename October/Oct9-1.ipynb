{
 "cells": [
  {
   "cell_type": "code",
   "execution_count": 1,
   "id": "49c2a168-c30a-4b4a-9531-af80a6c3e5cb",
   "metadata": {},
   "outputs": [],
   "source": [
    "nums = [3,1,-2,-5,2,-4]"
   ]
  },
  {
   "cell_type": "code",
   "execution_count": 6,
   "id": "b12515d0-71e0-455e-a8cc-e19c13938787",
   "metadata": {},
   "outputs": [
    {
     "name": "stdout",
     "output_type": "stream",
     "text": [
      "[3, -2, 1, -5, 2, -4]\n"
     ]
    }
   ],
   "source": [
    "pos = []\n",
    "neg = []\n",
    "for i in range(0,len(nums)): \n",
    "    if nums[i] > 0:\n",
    "        pos.append(nums[i])\n",
    "    else:\n",
    "        neg.append(nums[i])\n",
    "for i in range(0, len(pos)):\n",
    "    nums[2*i] = pos[i]\n",
    "    nums[(2*i)+1] = neg[i]\n",
    "print(nums)"
   ]
  },
  {
   "cell_type": "code",
   "execution_count": 4,
   "id": "30db6ed8-699e-4fb1-8bc0-c80ea9f60338",
   "metadata": {},
   "outputs": [
    {
     "data": {
      "text/plain": [
       "[3, 1, 2]"
      ]
     },
     "execution_count": 4,
     "metadata": {},
     "output_type": "execute_result"
    }
   ],
   "source": [
    "pos"
   ]
  },
  {
   "cell_type": "code",
   "execution_count": 5,
   "id": "b32011d7-b07d-4e5a-873d-6ab86314917b",
   "metadata": {},
   "outputs": [
    {
     "data": {
      "text/plain": [
       "[-2, -5, -4]"
      ]
     },
     "execution_count": 5,
     "metadata": {},
     "output_type": "execute_result"
    }
   ],
   "source": [
    "neg"
   ]
  },
  {
   "cell_type": "code",
   "execution_count": null,
   "id": "b946b941-27c0-4095-bbf4-2c890bcff52c",
   "metadata": {},
   "outputs": [],
   "source": []
  }
 ],
 "metadata": {
  "kernelspec": {
   "display_name": "Python 3 (ipykernel)",
   "language": "python",
   "name": "python3"
  },
  "language_info": {
   "codemirror_mode": {
    "name": "ipython",
    "version": 3
   },
   "file_extension": ".py",
   "mimetype": "text/x-python",
   "name": "python",
   "nbconvert_exporter": "python",
   "pygments_lexer": "ipython3",
   "version": "3.13.5"
  }
 },
 "nbformat": 4,
 "nbformat_minor": 5
}
