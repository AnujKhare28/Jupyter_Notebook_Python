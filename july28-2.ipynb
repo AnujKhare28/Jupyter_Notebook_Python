{
 "cells": [
  {
   "cell_type": "code",
   "execution_count": 1,
   "id": "e550f31a-8889-42aa-89f3-c6b79312c22c",
   "metadata": {},
   "outputs": [],
   "source": [
    "import numpy as np"
   ]
  },
  {
   "cell_type": "code",
   "execution_count": 12,
   "id": "727d5d96-82fe-4236-8121-1ee48702fc91",
   "metadata": {},
   "outputs": [],
   "source": [
    "arr1 = np.zeros((3,3))"
   ]
  },
  {
   "cell_type": "code",
   "execution_count": 13,
   "id": "e39acf39-8478-48a0-aace-e9b37c8c12f4",
   "metadata": {},
   "outputs": [
    {
     "name": "stdout",
     "output_type": "stream",
     "text": [
      "[[0. 0. 0.]\n",
      " [0. 0. 0.]\n",
      " [0. 0. 0.]]\n"
     ]
    }
   ],
   "source": [
    "print(arr1)"
   ]
  },
  {
   "cell_type": "code",
   "execution_count": 14,
   "id": "738345c6-f635-42b4-b899-d6254937d1a9",
   "metadata": {},
   "outputs": [
    {
     "data": {
      "text/plain": [
       "array([[1., 1., 1.],\n",
       "       [1., 1., 1.]])"
      ]
     },
     "execution_count": 14,
     "metadata": {},
     "output_type": "execute_result"
    }
   ],
   "source": [
    "arr2 = np.ones((2,3))\n",
    "arr2"
   ]
  },
  {
   "cell_type": "code",
   "execution_count": 16,
   "id": "be0e7795-85ec-4b11-9e10-44b8723b1c45",
   "metadata": {},
   "outputs": [
    {
     "data": {
      "text/plain": [
       "array([[4, 4, 4],\n",
       "       [4, 4, 4],\n",
       "       [4, 4, 4]])"
      ]
     },
     "execution_count": 16,
     "metadata": {},
     "output_type": "execute_result"
    }
   ],
   "source": [
    "arr3 = np.full((3,3),4)\n",
    "arr3"
   ]
  },
  {
   "cell_type": "markdown",
   "id": "19a16a01-a7ef-4d62-88ef-c899c5b7b413",
   "metadata": {},
   "source": [
    "### Identity matrix"
   ]
  },
  {
   "cell_type": "code",
   "execution_count": 18,
   "id": "76f274d0-4394-4e92-933d-2d4274d58501",
   "metadata": {},
   "outputs": [
    {
     "data": {
      "text/plain": [
       "array([[1., 0., 0.],\n",
       "       [0., 1., 0.],\n",
       "       [0., 0., 1.]])"
      ]
     },
     "execution_count": 18,
     "metadata": {},
     "output_type": "execute_result"
    }
   ],
   "source": [
    "idArr = np.eye(3)\n",
    "idArr"
   ]
  },
  {
   "cell_type": "code",
   "execution_count": 19,
   "id": "2b8e3af0-af44-4dbc-b7ca-d4ddcede23e6",
   "metadata": {},
   "outputs": [
    {
     "data": {
      "text/plain": [
       "array([1.2, 2.3, 3.4])"
      ]
     },
     "execution_count": 19,
     "metadata": {},
     "output_type": "execute_result"
    }
   ],
   "source": [
    "arr4 = np.array([1.2,2.3,3.4])\n",
    "arr4"
   ]
  },
  {
   "cell_type": "code",
   "execution_count": 22,
   "id": "481a5efe-27d7-45f4-b30c-f045169f8335",
   "metadata": {},
   "outputs": [
    {
     "name": "stdout",
     "output_type": "stream",
     "text": [
      "float64\n"
     ]
    }
   ],
   "source": [
    "print(arr4.dtype)"
   ]
  },
  {
   "cell_type": "code",
   "execution_count": 21,
   "id": "7f627ca9-de66-4e0d-99ea-179ab7c1de15",
   "metadata": {},
   "outputs": [
    {
     "name": "stdout",
     "output_type": "stream",
     "text": [
      "[1 2 3]\n",
      "int64\n"
     ]
    }
   ],
   "source": [
    "arr5 = arr4.astype(int)\n",
    "print(arr5)\n",
    "print(arr5.dtype)"
   ]
  },
  {
   "cell_type": "code",
   "execution_count": 24,
   "id": "ae58116d-0130-429c-9dc7-5fc0ed09ba34",
   "metadata": {},
   "outputs": [
    {
     "name": "stdout",
     "output_type": "stream",
     "text": [
      "[15 25 35 45 55]\n",
      "[ 20  40  60  80 100]\n",
      "[ 100  400  900 1600 2500]\n"
     ]
    }
   ],
   "source": [
    "Arr = np.array([10,20,30,40,50])\n",
    "\n",
    "print(Arr + 5)\n",
    "print(Arr * 2)\n",
    "print(Arr ** 2)\n"
   ]
  },
  {
   "cell_type": "code",
   "execution_count": 25,
   "id": "ffa7c120-3480-4c83-b226-d81ab3627c45",
   "metadata": {},
   "outputs": [
    {
     "name": "stdout",
     "output_type": "stream",
     "text": [
      "150\n"
     ]
    }
   ],
   "source": [
    "print(np.sum(Arr))"
   ]
  },
  {
   "cell_type": "code",
   "execution_count": 26,
   "id": "d9082340-a860-46c3-a6bf-6b6bc0f03df2",
   "metadata": {},
   "outputs": [
    {
     "name": "stdout",
     "output_type": "stream",
     "text": [
      "30.0\n"
     ]
    }
   ],
   "source": [
    "print(np.mean(Arr))"
   ]
  },
  {
   "cell_type": "code",
   "execution_count": 27,
   "id": "a0bcd032-ebe3-4dcb-814f-4babca519d80",
   "metadata": {},
   "outputs": [
    {
     "name": "stdout",
     "output_type": "stream",
     "text": [
      "10\n"
     ]
    }
   ],
   "source": [
    "print(np.min(Arr))"
   ]
  },
  {
   "cell_type": "code",
   "execution_count": 28,
   "id": "41f1a3c4-6e25-4c4a-89cc-fa46c5686c0e",
   "metadata": {},
   "outputs": [
    {
     "name": "stdout",
     "output_type": "stream",
     "text": [
      "50\n"
     ]
    }
   ],
   "source": [
    "print(np.max(Arr))"
   ]
  },
  {
   "cell_type": "code",
   "execution_count": 29,
   "id": "916233bb-a842-4407-bdb6-81566fcfbad7",
   "metadata": {},
   "outputs": [
    {
     "name": "stdout",
     "output_type": "stream",
     "text": [
      "14.142135623730951\n"
     ]
    }
   ],
   "source": [
    "print(np.std(Arr))"
   ]
  },
  {
   "cell_type": "code",
   "execution_count": 30,
   "id": "8fa22e8c-1f68-49eb-aec1-8989de6eb09e",
   "metadata": {},
   "outputs": [
    {
     "name": "stdout",
     "output_type": "stream",
     "text": [
      "200.0\n"
     ]
    }
   ],
   "source": [
    "print(np.var(Arr))"
   ]
  },
  {
   "cell_type": "code",
   "execution_count": null,
   "id": "3e3b5b11-1687-4c7f-8e74-0bc3fc213f22",
   "metadata": {},
   "outputs": [],
   "source": []
  }
 ],
 "metadata": {
  "kernelspec": {
   "display_name": "Python 3 (ipykernel)",
   "language": "python",
   "name": "python3"
  },
  "language_info": {
   "codemirror_mode": {
    "name": "ipython",
    "version": 3
   },
   "file_extension": ".py",
   "mimetype": "text/x-python",
   "name": "python",
   "nbconvert_exporter": "python",
   "pygments_lexer": "ipython3",
   "version": "3.13.5"
  }
 },
 "nbformat": 4,
 "nbformat_minor": 5
}
