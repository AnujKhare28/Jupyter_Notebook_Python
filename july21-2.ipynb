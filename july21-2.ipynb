{
 "cells": [
  {
   "cell_type": "markdown",
   "id": "a65e4904-3e1c-4dd3-8cd3-12f9ede6d86e",
   "metadata": {},
   "source": [
    "### Door Mat"
   ]
  },
  {
   "cell_type": "code",
   "execution_count": 2,
   "id": "afb8e078-08b7-4839-a28f-1ea7f1ffb881",
   "metadata": {},
   "outputs": [
    {
     "name": "stdin",
     "output_type": "stream",
     "text": [
      " 7 21\n"
     ]
    },
    {
     "name": "stdout",
     "output_type": "stream",
     "text": [
      "---------.|.---------\n",
      "------.|..|..|.------\n",
      "---.|..|..|..|..|.---\n",
      "-------WELCOME-------\n",
      "--.|..|..|..|..|..|.-\n",
      "-----.|..|..|..|.----\n",
      "--------.|..|.-------\n",
      "---------------------\n"
     ]
    }
   ],
   "source": [
    "# Enter Odd values and the second value must be 3 times of the first \n",
    "N, M = map(int, input().split())\n",
    "for i in range(1, N, 2):\n",
    "    print(('.|.'* i).center(M,'-'))    \n",
    "print('WELCOME'.center(M,'-'))\n",
    "for i in range(N-1, -1, -2):\n",
    "    print(('.|.'* i).center(M,'-'))"
   ]
  },
  {
   "cell_type": "code",
   "execution_count": null,
   "id": "f82380e2-43e5-44ea-b340-922b501569e6",
   "metadata": {},
   "outputs": [],
   "source": []
  }
 ],
 "metadata": {
  "kernelspec": {
   "display_name": "Python 3 (ipykernel)",
   "language": "python",
   "name": "python3"
  },
  "language_info": {
   "codemirror_mode": {
    "name": "ipython",
    "version": 3
   },
   "file_extension": ".py",
   "mimetype": "text/x-python",
   "name": "python",
   "nbconvert_exporter": "python",
   "pygments_lexer": "ipython3",
   "version": "3.13.5"
  }
 },
 "nbformat": 4,
 "nbformat_minor": 5
}
