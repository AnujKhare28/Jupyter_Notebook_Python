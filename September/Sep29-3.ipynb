{
 "cells": [
  {
   "cell_type": "code",
   "execution_count": 1,
   "id": "a1579237-e128-4fbb-a9bc-df40917c7574",
   "metadata": {},
   "outputs": [],
   "source": [
    "def linearSearch(arr,target): \n",
    "    n = len(arr)\n",
    "    for i in range(0,n):\n",
    "        if arr[i] == target:\n",
    "            return i\n",
    "    return -1"
   ]
  },
  {
   "cell_type": "code",
   "execution_count": 2,
   "id": "89e9ee4c-07f4-439a-9d0c-56704111eced",
   "metadata": {},
   "outputs": [],
   "source": [
    "arr = [2,4,3,1,5,7,6,8,9,4]\n",
    "t = 5"
   ]
  },
  {
   "cell_type": "code",
   "execution_count": 3,
   "id": "11d51718-21c9-4616-b96f-470459980375",
   "metadata": {},
   "outputs": [
    {
     "data": {
      "text/plain": [
       "4"
      ]
     },
     "execution_count": 3,
     "metadata": {},
     "output_type": "execute_result"
    }
   ],
   "source": [
    "linearSearch(arr,t)"
   ]
  },
  {
   "cell_type": "code",
   "execution_count": null,
   "id": "f5b336d2-90d7-41ae-919d-d7d54f778832",
   "metadata": {},
   "outputs": [],
   "source": []
  }
 ],
 "metadata": {
  "kernelspec": {
   "display_name": "Python 3 (ipykernel)",
   "language": "python",
   "name": "python3"
  },
  "language_info": {
   "codemirror_mode": {
    "name": "ipython",
    "version": 3
   },
   "file_extension": ".py",
   "mimetype": "text/x-python",
   "name": "python",
   "nbconvert_exporter": "python",
   "pygments_lexer": "ipython3",
   "version": "3.13.5"
  }
 },
 "nbformat": 4,
 "nbformat_minor": 5
}
