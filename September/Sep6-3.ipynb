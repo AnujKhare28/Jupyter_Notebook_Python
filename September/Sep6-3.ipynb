{
 "cells": [
  {
   "cell_type": "code",
   "execution_count": 17,
   "id": "1e573c87-c80d-43c2-a3e5-cec845512a25",
   "metadata": {},
   "outputs": [],
   "source": [
    "def frequency(n):\n",
    "    freq = {}\n",
    "\n",
    "    for i in range(0, len(n)):\n",
    "        if n[i] in freq: \n",
    "            freq[n[i]] += 1\n",
    "        else:\n",
    "            freq[n[i]] = 1\n",
    "    return freq"
   ]
  },
  {
   "cell_type": "code",
   "execution_count": 18,
   "id": "8b12ff6f-2846-4228-9df3-5c078814f7a3",
   "metadata": {},
   "outputs": [
    {
     "data": {
      "text/plain": [
       "{'a': 2,\n",
       " 'x': 3,\n",
       " 'c': 2,\n",
       " 'd': 3,\n",
       " 'v': 3,\n",
       " 'f': 3,\n",
       " 'e': 1,\n",
       " 's': 1,\n",
       " 't': 3,\n",
       " 'r': 1,\n",
       " 'w': 1}"
      ]
     },
     "execution_count": 18,
     "metadata": {},
     "output_type": "execute_result"
    }
   ],
   "source": [
    "frequency('axcdvvxdfefsaxcvftrttdw')"
   ]
  },
  {
   "cell_type": "markdown",
   "id": "88f05173-1add-432e-aacb-5cb2ffc130f6",
   "metadata": {},
   "source": [
    "Optimal solution"
   ]
  },
  {
   "cell_type": "code",
   "execution_count": 19,
   "id": "f0a16022-d988-4929-a1c3-0d3bf63758da",
   "metadata": {},
   "outputs": [],
   "source": [
    "def Optfrequency(n):\n",
    "    freq = {}\n",
    "    for i in range(0, len(n)):\n",
    "        freq[n[i]] = freq.get(n[i], 0) + 1\n",
    "    return freq"
   ]
  },
  {
   "cell_type": "code",
   "execution_count": 20,
   "id": "21c60e69-b03a-4975-82db-ce678f554bb1",
   "metadata": {},
   "outputs": [
    {
     "data": {
      "text/plain": [
       "{'a': 3, 'k': 4, 'q': 3, 'j': 3, 'n': 4, 'e': 4, 'f': 2, 'w': 2, 'o': 1}"
      ]
     },
     "execution_count": 20,
     "metadata": {},
     "output_type": "execute_result"
    }
   ],
   "source": [
    "Optfrequency('akqjnkqenkjfkwenfjnaaeqoew')"
   ]
  },
  {
   "cell_type": "code",
   "execution_count": null,
   "id": "1849dfc5-4d49-4df9-8e8d-8a188df4e8ca",
   "metadata": {},
   "outputs": [],
   "source": []
  }
 ],
 "metadata": {
  "kernelspec": {
   "display_name": "Python 3 (ipykernel)",
   "language": "python",
   "name": "python3"
  },
  "language_info": {
   "codemirror_mode": {
    "name": "ipython",
    "version": 3
   },
   "file_extension": ".py",
   "mimetype": "text/x-python",
   "name": "python",
   "nbconvert_exporter": "python",
   "pygments_lexer": "ipython3",
   "version": "3.13.5"
  }
 },
 "nbformat": 4,
 "nbformat_minor": 5
}
