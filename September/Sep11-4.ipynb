{
 "cells": [
  {
   "cell_type": "code",
   "execution_count": 1,
   "id": "a4d179ed-5eb5-46c6-8459-15bbc0b296af",
   "metadata": {},
   "outputs": [
    {
     "name": "stdin",
     "output_type": "stream",
     "text": [
      "Enter x:  45\n",
      "Enter y:  9\n"
     ]
    },
    {
     "name": "stdout",
     "output_type": "stream",
     "text": [
      "\n",
      "Addition: 54\n",
      "Subtraction: 36\n",
      "Multiplication: 405\n",
      "Division: 5.0\n"
     ]
    }
   ],
   "source": [
    "# 149. Class Calculator\n",
    "class Calculator:\n",
    "\n",
    "    @staticmethod\n",
    "    def add(a,b):\n",
    "        return a+b\n",
    "    \n",
    "    def sub(a,b):\n",
    "        return a-b\n",
    "    \n",
    "    def mul(a,b):\n",
    "        return a*b\n",
    "    \n",
    "    def div(a,b):\n",
    "        if b == 0:\n",
    "            raise ZeroDivisionError\n",
    "        else:\n",
    "            return a/b\n",
    "        \n",
    "x = int(input('Enter x: '))\n",
    "y=int(input('Enter y: '))\n",
    "print('')\n",
    "print(\"Addition:\", Calculator.add(x,y))\n",
    "print('Subtraction:',Calculator.sub(x,y))\n",
    "print('Multiplication:', Calculator.mul(x,y))\n",
    "\n",
    "try:\n",
    "    res = Calculator.div(x,y)\n",
    "    print('Division:',res)\n",
    "except:\n",
    "    print('Division by zero error!')"
   ]
  },
  {
   "cell_type": "code",
   "execution_count": 3,
   "id": "c4e01ee7-5e2c-4b8e-9a40-6282bf6c7aab",
   "metadata": {},
   "outputs": [
    {
     "name": "stdout",
     "output_type": "stream",
     "text": [
      "Name:  Clark\n",
      "Phone no:  5564258422\n",
      "\n",
      "Name:  Clark\n",
      "Phone no:  6355878712\n"
     ]
    }
   ],
   "source": [
    "# 150. Customer details \n",
    "class Customer:\n",
    "    def __init__(self, name, phoneno):\n",
    "        self.name = name\n",
    "        self.phno = phoneno\n",
    "\n",
    "    def get_name(self):\n",
    "        return self.name\n",
    "    \n",
    "    def get_phoneno(self):\n",
    "        return self.phno\n",
    "    \n",
    "    def set_phoneno(self,ph):\n",
    "        self.phno = ph\n",
    "\n",
    "c1 = Customer('Clark', 5564258422)\n",
    "print('Name: ', c1.get_name())\n",
    "print('Phone no: ', c1.get_phoneno())\n",
    "\n",
    "c1.set_phoneno(6355878712)\n",
    "\n",
    "print('')\n",
    "print('Name: ', c1.get_name())\n",
    "print('Phone no: ', c1.get_phoneno())"
   ]
  },
  {
   "cell_type": "code",
   "execution_count": 5,
   "id": "76174558-1207-440b-a67f-f3f18550592e",
   "metadata": {},
   "outputs": [
    {
     "name": "stdout",
     "output_type": "stream",
     "text": [
      "USD conversion is 7000\n",
      "AUD conversion is 5000\n"
     ]
    }
   ],
   "source": [
    "# 151. Currency Converter \n",
    "class CurrencyConverter: \n",
    "    def __init__(self, name, rate): \n",
    "        self.currency = name\n",
    "        self.rate = rate\n",
    "\n",
    "    def get_currency(self): \n",
    "        return self.currency\n",
    "\n",
    "    def get_rate(self): \n",
    "        return self.rate\n",
    "\n",
    "    def set_currency(self,name): \n",
    "        self.currency = name\n",
    "\n",
    "    def set_rate(self,rate): \n",
    "        self.rate = rate\n",
    "\n",
    "    def convert(self,amount): \n",
    "        return self.currency + ' conversion is ' + str(self.rate * amount)\n",
    "\n",
    "cc = CurrencyConverter('USD', 70)\n",
    "print(cc.convert(100))\n",
    "\n",
    "cc.set_currency(\"AUD\")\n",
    "cc.set_rate(50)\n",
    "print(cc.convert(100))"
   ]
  }
 ],
 "metadata": {
  "kernelspec": {
   "display_name": "Python [conda env:base] *",
   "language": "python",
   "name": "conda-base-py"
  },
  "language_info": {
   "codemirror_mode": {
    "name": "ipython",
    "version": 3
   },
   "file_extension": ".py",
   "mimetype": "text/x-python",
   "name": "python",
   "nbconvert_exporter": "python",
   "pygments_lexer": "ipython3",
   "version": "3.12.7"
  }
 },
 "nbformat": 4,
 "nbformat_minor": 5
}
