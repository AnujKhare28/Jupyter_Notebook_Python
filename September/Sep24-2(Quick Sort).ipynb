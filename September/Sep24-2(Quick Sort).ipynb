{
 "cells": [
  {
   "cell_type": "code",
   "execution_count": 11,
   "id": "be20f123-b338-465a-890f-703531b6571f",
   "metadata": {},
   "outputs": [],
   "source": [
    "def partition(arr, low, high): \n",
    "    pivot = arr[low]\n",
    "    i = low\n",
    "    j = high\n",
    "\n",
    "    while i < j: \n",
    "\n",
    "        while (arr[i] <= pivot) and (i <= (high - 1)): \n",
    "            i += 1\n",
    "        while (arr[j] > pivot) and (j >= (low + 1)): \n",
    "            j -= 1\n",
    "        if i < j: \n",
    "                arr[i], arr[j] = arr[j], arr[i] \n",
    "        arr[low], arr[j] = arr[j], arr[low]\n",
    "        return j"
   ]
  },
  {
   "cell_type": "code",
   "execution_count": 12,
   "id": "d0b9cf1a-afe6-4bdd-a14a-00ef821bc6e6",
   "metadata": {},
   "outputs": [],
   "source": [
    "def quick_sort(arr, low, high): \n",
    "\n",
    "    if low < high: \n",
    "\n",
    "        pIdx = partition(arr, low, high)\n",
    "        quick_sort(arr, low, (pIdx -1))\n",
    "        quick_sort(arr, (pIdx +1), high)"
   ]
  },
  {
   "cell_type": "code",
   "execution_count": 13,
   "id": "9af0640f-63a5-490d-9cc8-2f02d0d7cf4d",
   "metadata": {},
   "outputs": [],
   "source": [
    "arr = [3,2,4,1,7,6,8]\n",
    "low = 0\n",
    "high = len(arr) - 1"
   ]
  },
  {
   "cell_type": "code",
   "execution_count": 14,
   "id": "cc6f4a1e-74c5-44ad-8591-235d50ea9ed0",
   "metadata": {},
   "outputs": [],
   "source": [
    "quick_sort(arr, low, high)"
   ]
  },
  {
   "cell_type": "code",
   "execution_count": 15,
   "id": "1a1be81c-6dc0-4d86-987f-69dfe13c85b3",
   "metadata": {},
   "outputs": [
    {
     "data": {
      "text/plain": [
       "[1, 2, 4, 3, 6, 7, 8]"
      ]
     },
     "execution_count": 15,
     "metadata": {},
     "output_type": "execute_result"
    }
   ],
   "source": [
    "arr"
   ]
  },
  {
   "cell_type": "code",
   "execution_count": null,
   "id": "87a2afe3-84bd-4031-9664-09ffcb00b0fb",
   "metadata": {},
   "outputs": [],
   "source": []
  },
  {
   "cell_type": "code",
   "execution_count": null,
   "id": "ede438e2-2859-4f4a-a3a8-b8fe21dd4aaf",
   "metadata": {},
   "outputs": [],
   "source": []
  }
 ],
 "metadata": {
  "kernelspec": {
   "display_name": "Python 3 (ipykernel)",
   "language": "python",
   "name": "python3"
  },
  "language_info": {
   "codemirror_mode": {
    "name": "ipython",
    "version": 3
   },
   "file_extension": ".py",
   "mimetype": "text/x-python",
   "name": "python",
   "nbconvert_exporter": "python",
   "pygments_lexer": "ipython3",
   "version": "3.13.5"
  }
 },
 "nbformat": 4,
 "nbformat_minor": 5
}
