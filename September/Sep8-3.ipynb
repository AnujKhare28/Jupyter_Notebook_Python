{
 "cells": [
  {
   "cell_type": "code",
   "execution_count": 3,
   "id": "5b03d420-ba50-4a87-a368-1fb0b9cc2c8a",
   "metadata": {},
   "outputs": [],
   "source": [
    "def revArr(n, l=0, r=None):\n",
    "    if r is None:  \n",
    "        r = len(n) - 1\n",
    "    \n",
    "\n",
    "    if l >= r:\n",
    "        return n\n",
    "    \n",
    "    \n",
    "    n[l], n[r] = n[r], n[l]\n",
    "    \n",
    "    return revArr(n, l + 1, r - 1)\n",
    "\n"
   ]
  },
  {
   "cell_type": "code",
   "execution_count": 4,
   "id": "ebf17078-9951-431f-a8b0-51cf30c8429e",
   "metadata": {},
   "outputs": [
    {
     "data": {
      "text/plain": [
       "[6, 5, 4, 3, 2, 1]"
      ]
     },
     "execution_count": 4,
     "metadata": {},
     "output_type": "execute_result"
    }
   ],
   "source": [
    "revArr([1,2,3,4,5,6])"
   ]
  },
  {
   "cell_type": "code",
   "execution_count": null,
   "id": "70785c41-9e5a-4dc9-ab9c-2a379b81fd68",
   "metadata": {},
   "outputs": [],
   "source": []
  }
 ],
 "metadata": {
  "kernelspec": {
   "display_name": "Python 3 (ipykernel)",
   "language": "python",
   "name": "python3"
  },
  "language_info": {
   "codemirror_mode": {
    "name": "ipython",
    "version": 3
   },
   "file_extension": ".py",
   "mimetype": "text/x-python",
   "name": "python",
   "nbconvert_exporter": "python",
   "pygments_lexer": "ipython3",
   "version": "3.13.5"
  }
 },
 "nbformat": 4,
 "nbformat_minor": 5
}
