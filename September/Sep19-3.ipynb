{
 "cells": [
  {
   "cell_type": "markdown",
   "id": "6582c7e0-9805-4156-940f-16112a46f458",
   "metadata": {},
   "source": [
    "### Reversing a List"
   ]
  },
  {
   "cell_type": "code",
   "execution_count": 18,
   "id": "dd503d19-1360-4905-aa18-e4e92fea9a7b",
   "metadata": {},
   "outputs": [
    {
     "name": "stdout",
     "output_type": "stream",
     "text": [
      "Original list: [12, 34, 54, 32, 65, 76, 22, 44]\n",
      "Reversed list: [44, 22, 76, 65, 32, 54, 34, 12]\n"
     ]
    }
   ],
   "source": [
    "list1 = [12,34,54,32,65,76,22,44]\n",
    "a = []\n",
    "for i in range (len(list1) -1,-1,-1):\n",
    "    a.append(list1[i])\n",
    "print(\"Original list:\",list1)\n",
    "print(\"Reversed list:\",a)\n"
   ]
  },
  {
   "cell_type": "markdown",
   "id": "cc023c3b-75ca-4521-bc71-abce54c3b4e6",
   "metadata": {},
   "source": [
    "### Multiplication of all elements in the List"
   ]
  },
  {
   "cell_type": "code",
   "execution_count": 40,
   "id": "dc8f6de5-e9df-46da-9fae-d0a05f54effa",
   "metadata": {},
   "outputs": [
    {
     "name": "stdout",
     "output_type": "stream",
     "text": [
      "24\n"
     ]
    }
   ],
   "source": [
    "list1 = [1,2,3,4]\n",
    "num = 1\n",
    "\n",
    "for i in range(0,len(list1)):\n",
    "    num = list1[i] * num\n",
    "print(num)"
   ]
  },
  {
   "cell_type": "markdown",
   "id": "efd2846f-91c9-4c74-8ae7-231172f40f55",
   "metadata": {},
   "source": [
    "### Functions"
   ]
  },
  {
   "cell_type": "code",
   "execution_count": 41,
   "id": "7676fc21-241a-4543-8f81-b877026fe3e2",
   "metadata": {},
   "outputs": [
    {
     "data": {
      "text/plain": [
       "4"
      ]
     },
     "execution_count": 41,
     "metadata": {},
     "output_type": "execute_result"
    }
   ],
   "source": [
    "max(list1)"
   ]
  },
  {
   "cell_type": "code",
   "execution_count": 42,
   "id": "89db7b95-e0c5-4464-ab59-e847336c8445",
   "metadata": {},
   "outputs": [
    {
     "data": {
      "text/plain": [
       "1"
      ]
     },
     "execution_count": 42,
     "metadata": {},
     "output_type": "execute_result"
    }
   ],
   "source": [
    "min(list1)"
   ]
  },
  {
   "cell_type": "code",
   "execution_count": 43,
   "id": "3b5da4c0-6764-40f6-9eb1-d665874456a9",
   "metadata": {},
   "outputs": [
    {
     "data": {
      "text/plain": [
       "10"
      ]
     },
     "execution_count": 43,
     "metadata": {},
     "output_type": "execute_result"
    }
   ],
   "source": [
    "sum(list1)"
   ]
  },
  {
   "cell_type": "code",
   "execution_count": 44,
   "id": "b3e0d9e4-7b2f-49a0-ade7-9a03c7fb74ae",
   "metadata": {},
   "outputs": [],
   "source": [
    "def hello(name):\n",
    "    print(\"Hello\", name)"
   ]
  },
  {
   "cell_type": "code",
   "execution_count": 46,
   "id": "36778af6-dd11-413f-81d8-5a4e49f16416",
   "metadata": {},
   "outputs": [
    {
     "name": "stdout",
     "output_type": "stream",
     "text": [
      "Hello Anuj\n"
     ]
    }
   ],
   "source": [
    "hello(\"Anuj\")"
   ]
  },
  {
   "cell_type": "code",
   "execution_count": 47,
   "id": "121d56f5-aa15-43c2-9b59-fb7edbedb83f",
   "metadata": {},
   "outputs": [],
   "source": [
    "def circleArea(r):\n",
    "    area = 3.14 * r ** 2\n",
    "    print(area)"
   ]
  },
  {
   "cell_type": "code",
   "execution_count": 48,
   "id": "f9bdf414-917e-4eda-85c1-22356823054a",
   "metadata": {},
   "outputs": [
    {
     "name": "stdout",
     "output_type": "stream",
     "text": [
      "50.24\n"
     ]
    }
   ],
   "source": [
    "circleArea(4)"
   ]
  },
  {
   "cell_type": "markdown",
   "id": "f86fb18e-026c-4235-afff-7b15d4fade21",
   "metadata": {},
   "source": [
    "### Take input as a List and remove the element the user give"
   ]
  },
  {
   "cell_type": "code",
   "execution_count": 97,
   "id": "81780c58-cdd3-437c-8aa6-822ab32526a0",
   "metadata": {},
   "outputs": [
    {
     "name": "stdin",
     "output_type": "stream",
     "text": [
      "Enter the elements of a list: 1 2 3 4 5\n"
     ]
    },
    {
     "name": "stdout",
     "output_type": "stream",
     "text": [
      "The input : [1, 2, 3, 4, 5]\n"
     ]
    },
    {
     "name": "stdin",
     "output_type": "stream",
     "text": [
      "Enter the element which you want to remove: 3\n"
     ]
    },
    {
     "name": "stdout",
     "output_type": "stream",
     "text": [
      "The given element is removed [1, 2, 4, 5]\n"
     ]
    }
   ],
   "source": [
    "list2 = input(\"Enter the elements of a list:\")\n",
    "list2 = (list2.split())\n",
    "b = []\n",
    "# print(\"The input :\",list2)\n",
    "for i in range(0,len(list2)):\n",
    "    b.append(int(list2[i]))\n",
    "print(\"The input :\",b)\n",
    "rem = int(input(\"Enter the element which you want to remove:\"))\n",
    "if rem in b:\n",
    "        b.remove(rem)\n",
    "print(\"The given element is removed\",b)"
   ]
  },
  {
   "cell_type": "code",
   "execution_count": null,
   "id": "8595de2f-4365-412b-a468-de24775a5dfd",
   "metadata": {},
   "outputs": [],
   "source": []
  },
  {
   "cell_type": "code",
   "execution_count": null,
   "id": "91ef320e-7672-466a-a865-1a1aa7b6122b",
   "metadata": {},
   "outputs": [],
   "source": []
  },
  {
   "cell_type": "code",
   "execution_count": null,
   "id": "eaadcced-d05b-456b-9ac5-808e5590e36f",
   "metadata": {},
   "outputs": [],
   "source": []
  },
  {
   "cell_type": "code",
   "execution_count": null,
   "id": "dd7eecb0-1d02-41ce-b5f0-76ca7c2656d9",
   "metadata": {},
   "outputs": [],
   "source": []
  }
 ],
 "metadata": {
  "kernelspec": {
   "display_name": "Python 3 (ipykernel)",
   "language": "python",
   "name": "python3"
  },
  "language_info": {
   "codemirror_mode": {
    "name": "ipython",
    "version": 3
   },
   "file_extension": ".py",
   "mimetype": "text/x-python",
   "name": "python",
   "nbconvert_exporter": "python",
   "pygments_lexer": "ipython3",
   "version": "3.13.5"
  }
 },
 "nbformat": 4,
 "nbformat_minor": 5
}
