{
 "cells": [
  {
   "cell_type": "code",
   "execution_count": 3,
   "id": "821ccff0-4941-4366-9555-92af159461ba",
   "metadata": {},
   "outputs": [],
   "source": [
    "\n",
    "    def rotate(nums, k):\n",
    "        \"\"\"\n",
    "        :type nums: List[int]\n",
    "        :type k: int\n",
    "        :rtype: None Do not return anything, modify nums in-place instead.\n",
    "        \"\"\"\n",
    "        n = len(nums)\n",
    "        k %= n  # handle cases where k > n\n",
    "\n",
    "        def reverse(nums, left, right):\n",
    "             while left < right:\n",
    "                nums[left], nums[right] = nums[right], nums[left]\n",
    "                left += 1\n",
    "                right -= 1\n",
    "\n",
    "    # Step 1: reverse last k elements\n",
    "        reverse(nums, n - k, n - 1)\n",
    "    # Step 2: reverse first n-k elements\n",
    "        reverse(nums, 0, n - k - 1)\n",
    "    # Step 3: reverse whole array\n",
    "        reverse(nums, 0, n - 1)\n",
    "\n",
    "        "
   ]
  },
  {
   "cell_type": "code",
   "execution_count": 5,
   "id": "821a500c-7156-43e6-88ec-352e2f26b94a",
   "metadata": {},
   "outputs": [
    {
     "data": {
      "text/plain": [
       "[5, 6, 7, 1, 2, 3, 4]"
      ]
     },
     "execution_count": 5,
     "metadata": {},
     "output_type": "execute_result"
    }
   ],
   "source": [
    "nums = [1,2,3,4,5,6,7]\n",
    "k = 3\n",
    "rotate(nums, k)\n",
    "nums"
   ]
  },
  {
   "cell_type": "code",
   "execution_count": null,
   "id": "42d5e755-05b8-42cf-8db0-58d0b8ff5794",
   "metadata": {},
   "outputs": [],
   "source": []
  }
 ],
 "metadata": {
  "kernelspec": {
   "display_name": "Python 3 (ipykernel)",
   "language": "python",
   "name": "python3"
  },
  "language_info": {
   "codemirror_mode": {
    "name": "ipython",
    "version": 3
   },
   "file_extension": ".py",
   "mimetype": "text/x-python",
   "name": "python",
   "nbconvert_exporter": "python",
   "pygments_lexer": "ipython3",
   "version": "3.13.5"
  }
 },
 "nbformat": 4,
 "nbformat_minor": 5
}
