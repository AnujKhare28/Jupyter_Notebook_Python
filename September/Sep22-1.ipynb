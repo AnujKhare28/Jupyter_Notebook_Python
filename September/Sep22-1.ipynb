{
 "cells": [
  {
   "cell_type": "code",
   "execution_count": 3,
   "id": "066c3880-0694-4e7b-92a1-12d6c5171986",
   "metadata": {},
   "outputs": [
    {
     "name": "stdin",
     "output_type": "stream",
     "text": [
      "Enter x1: 4\n",
      "Enter y1: 5\n",
      "Enter x2: 1\n",
      "Enter y2: 6\n"
     ]
    },
    {
     "name": "stdout",
     "output_type": "stream",
     "text": [
      "Midpoint: (2.5, 5.5)\n"
     ]
    }
   ],
   "source": [
    "x1 = int(input(\"Enter x1:\"))\n",
    "y1 = int(input(\"Enter y1:\"))\n",
    "x2 = int(input(\"Enter x2:\"))\n",
    "y2 = int(input(\"Enter y2:\"))\n",
    "mp_x = (x1 + x2) / 2\n",
    "mp_y = (y1 + y2) / 2\n",
    "midpoint = tuple((mp_x,mp_y))\n",
    "print(\"Midpoint:\", midpoint)"
   ]
  }
 ],
 "metadata": {
  "kernelspec": {
   "display_name": "Python [conda env:base] *",
   "language": "python",
   "name": "conda-base-py"
  },
  "language_info": {
   "codemirror_mode": {
    "name": "ipython",
    "version": 3
   },
   "file_extension": ".py",
   "mimetype": "text/x-python",
   "name": "python",
   "nbconvert_exporter": "python",
   "pygments_lexer": "ipython3",
   "version": "3.12.7"
  }
 },
 "nbformat": 4,
 "nbformat_minor": 5
}
