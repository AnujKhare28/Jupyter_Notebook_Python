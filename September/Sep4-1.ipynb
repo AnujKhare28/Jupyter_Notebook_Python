{
 "cells": [
  {
   "cell_type": "code",
   "execution_count": 6,
   "id": "41316ecd-d42b-4d00-8398-ba1f71afa7b1",
   "metadata": {},
   "outputs": [
    {
     "name": "stdin",
     "output_type": "stream",
     "text": [
      " 7\n"
     ]
    },
    {
     "name": "stdout",
     "output_type": "stream",
     "text": [
      "It is Prime\n"
     ]
    }
   ],
   "source": [
    "n = int(input())\n",
    "if n==1 :\n",
    "    print('Not Prime')\n",
    "if n > 1:\n",
    "    \n",
    "    for i in range(2, n):\n",
    "        if n % i == 0: \n",
    "            print('Not Prime')\n",
    "            break\n",
    "    else: \n",
    "        print('It is Prime')"
   ]
  },
  {
   "cell_type": "code",
   "execution_count": null,
   "id": "b65920f3-6714-48e3-b701-cc799db82417",
   "metadata": {},
   "outputs": [],
   "source": []
  }
 ],
 "metadata": {
  "kernelspec": {
   "display_name": "Python 3.11",
   "language": "python",
   "name": "py311"
  },
  "language_info": {
   "codemirror_mode": {
    "name": "ipython",
    "version": 3
   },
   "file_extension": ".py",
   "mimetype": "text/x-python",
   "name": "python",
   "nbconvert_exporter": "python",
   "pygments_lexer": "ipython3",
   "version": "3.13.5"
  }
 },
 "nbformat": 4,
 "nbformat_minor": 5
}
