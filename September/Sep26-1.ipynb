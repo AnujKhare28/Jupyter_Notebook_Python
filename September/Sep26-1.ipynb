{
 "cells": [
  {
   "cell_type": "code",
   "execution_count": 1,
   "id": "423e9049-ea0e-4b24-98cd-00535052b1cf",
   "metadata": {},
   "outputs": [],
   "source": [
    "def secondLargest(arr): \n",
    "    largest = float('-inf')\n",
    "    secLargest = float('-inf')\n",
    "    n = len(arr)\n",
    "\n",
    "    for i in range(0,n): \n",
    "        largest = max(largest, arr[i])\n",
    "    for i in range(0,n): \n",
    "        if secLargest < arr[i] and arr[i] != largest: \n",
    "            secLargest = arr[i]\n",
    "\n",
    "    return secLargest"
   ]
  },
  {
   "cell_type": "code",
   "execution_count": 2,
   "id": "03d4276a-3a40-464d-99e5-ccc1e7696513",
   "metadata": {},
   "outputs": [
    {
     "data": {
      "text/plain": [
       "56"
      ]
     },
     "execution_count": 2,
     "metadata": {},
     "output_type": "execute_result"
    }
   ],
   "source": [
    "arr = [2,3,45,-45,87,23,56,43,21]\n",
    "secondLargest(arr)"
   ]
  },
  {
   "cell_type": "code",
   "execution_count": 5,
   "id": "2bb2931f-e05a-487f-9f9f-07f84a8f433e",
   "metadata": {},
   "outputs": [
    {
     "data": {
      "text/plain": [
       "[-45, 2, 3, 21, 23, 43, 45, 56, 87]"
      ]
     },
     "execution_count": 5,
     "metadata": {},
     "output_type": "execute_result"
    }
   ],
   "source": [
    "sorted(arr)"
   ]
  },
  {
   "cell_type": "markdown",
   "id": "619e44a7-7085-4260-b000-8695c7943684",
   "metadata": {},
   "source": [
    "### Optimal solution"
   ]
  },
  {
   "cell_type": "code",
   "execution_count": 6,
   "id": "1a039225-33e9-4754-ba6c-a8da288fc033",
   "metadata": {},
   "outputs": [],
   "source": [
    "def secLargeOpt(arr): \n",
    "    largest = float('-inf')\n",
    "    secLargest = float('-inf')\n",
    "    n = len(arr)\n",
    "\n",
    "    for i in range(0,n): \n",
    "        if arr[i]>largest: \n",
    "            secLargest = largest\n",
    "            largest = arr[i]\n",
    "        elif arr[i] > secLargest and arr[i] != largest: \n",
    "            secLargest = arr[i]\n",
    "    return secLargest"
   ]
  },
  {
   "cell_type": "code",
   "execution_count": 7,
   "id": "bd545199-e402-4edf-93e7-6b240730155d",
   "metadata": {},
   "outputs": [
    {
     "data": {
      "text/plain": [
       "87"
      ]
     },
     "execution_count": 7,
     "metadata": {},
     "output_type": "execute_result"
    }
   ],
   "source": [
    "arr1 = [2,3,45,-45,99,87,23,56,43,21]\n",
    "secLargeOpt(arr1)"
   ]
  },
  {
   "cell_type": "code",
   "execution_count": 8,
   "id": "7ba5f9ed-295f-464e-926a-cad2992b2e1a",
   "metadata": {},
   "outputs": [
    {
     "data": {
      "text/plain": [
       "[-45, 2, 3, 21, 23, 43, 45, 56, 87, 99]"
      ]
     },
     "execution_count": 8,
     "metadata": {},
     "output_type": "execute_result"
    }
   ],
   "source": [
    "sorted(arr1)"
   ]
  },
  {
   "cell_type": "code",
   "execution_count": null,
   "id": "edb7fd05-f163-4a0c-8bf8-c5f4c98c5877",
   "metadata": {},
   "outputs": [],
   "source": []
  }
 ],
 "metadata": {
  "kernelspec": {
   "display_name": "Python 3 (ipykernel)",
   "language": "python",
   "name": "python3"
  },
  "language_info": {
   "codemirror_mode": {
    "name": "ipython",
    "version": 3
   },
   "file_extension": ".py",
   "mimetype": "text/x-python",
   "name": "python",
   "nbconvert_exporter": "python",
   "pygments_lexer": "ipython3",
   "version": "3.13.5"
  }
 },
 "nbformat": 4,
 "nbformat_minor": 5
}
