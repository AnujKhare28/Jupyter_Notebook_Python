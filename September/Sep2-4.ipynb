{
 "cells": [
  {
   "cell_type": "code",
   "execution_count": 1,
   "id": "39f0d827-7e33-4162-b25d-1190e5299870",
   "metadata": {},
   "outputs": [
    {
     "name": "stdin",
     "output_type": "stream",
     "text": [
      "Enter length of rectangel: 5\n",
      "Enter breadth of rectangle: 3\n"
     ]
    },
    {
     "name": "stdout",
     "output_type": "stream",
     "text": [
      "15\n"
     ]
    }
   ],
   "source": [
    "# 1. Area of rectangle \n",
    "l = int(input(\"Enter length of rectangel:\"))\n",
    "b = int(input(\"Enter breadth of rectangle:\"))\n",
    "area = l*b \n",
    "print(area)"
   ]
  },
  {
   "cell_type": "code",
   "execution_count": 2,
   "id": "e732bb26-3c4c-4fee-9702-18a07dfe12ab",
   "metadata": {},
   "outputs": [
    {
     "name": "stdin",
     "output_type": "stream",
     "text": [
      "Enter base: 7\n",
      "Enter height: 12\n"
     ]
    },
    {
     "name": "stdout",
     "output_type": "stream",
     "text": [
      "42.0\n"
     ]
    }
   ],
   "source": [
    "# 2. Area of triangle \n",
    "base = int(input(\"Enter base:\"))\n",
    "height = int(input(\"Enter height:\"))\n",
    "Area = (1/2) * base * height\n",
    "print(Area)"
   ]
  },
  {
   "cell_type": "code",
   "execution_count": 3,
   "id": "cfbd8d1e-f971-458c-a778-70978480e627",
   "metadata": {},
   "outputs": [
    {
     "name": "stdin",
     "output_type": "stream",
     "text": [
      "Enter smaller length: 5\n",
      "Enter larger length: 8\n",
      "Enter height: 6\n"
     ]
    },
    {
     "name": "stdout",
     "output_type": "stream",
     "text": [
      "39.0\n"
     ]
    }
   ],
   "source": [
    "# 3. Area of trapezium\n",
    "a = int(input(\"Enter smaller length:\"))\n",
    "b = int(input(\"Enter larger length:\"))\n",
    "h = int(input(\"Enter height:\"))\n",
    "trap_area = (1/2) * (a+b) * h\n",
    "print(trap_area)"
   ]
  },
  {
   "cell_type": "code",
   "execution_count": 4,
   "id": "db395e40-8820-499f-82b4-15ba45a9e663",
   "metadata": {},
   "outputs": [
    {
     "name": "stdin",
     "output_type": "stream",
     "text": [
      "Enter final velocity: 35\n",
      "Enter initial velocity: 12\n",
      "Enter distance covered: 20\n"
     ]
    },
    {
     "name": "stdout",
     "output_type": "stream",
     "text": [
      "Displacement: 27.025\n"
     ]
    }
   ],
   "source": [
    "# 4. Displacement \n",
    "v = float(input(\"Enter final velocity:\"))\n",
    "u = float(input(\"Enter initial velocity:\"))\n",
    "a = float(input(\"Enter distance covered:\"))\n",
    "displacement = (v**2 - u**2) / (2*a)\n",
    "print(\"Displacement:\", displacement)"
   ]
  },
  {
   "cell_type": "code",
   "execution_count": 6,
   "id": "540a3fc6-f071-452e-9685-92695ece6c5a",
   "metadata": {},
   "outputs": [
    {
     "name": "stdin",
     "output_type": "stream",
     "text": [
      "Enter total kilometer distance:  5\n"
     ]
    },
    {
     "name": "stdout",
     "output_type": "stream",
     "text": [
      "Total miles: 3.106855\n"
     ]
    }
   ],
   "source": [
    "# 5. KM to Miles \n",
    "d = float(input(\"Enter total kilometer distance: \"))\n",
    "miles = d * 0.621371\n",
    "print('Total miles:', miles)"
   ]
  }
 ],
 "metadata": {
  "kernelspec": {
   "display_name": "Python 3 (ipykernel)",
   "language": "python",
   "name": "python3"
  },
  "language_info": {
   "codemirror_mode": {
    "name": "ipython",
    "version": 3
   },
   "file_extension": ".py",
   "mimetype": "text/x-python",
   "name": "python",
   "nbconvert_exporter": "python",
   "pygments_lexer": "ipython3",
   "version": "3.12.7"
  }
 },
 "nbformat": 4,
 "nbformat_minor": 5
}
