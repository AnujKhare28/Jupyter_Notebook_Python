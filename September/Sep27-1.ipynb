{
 "cells": [
  {
   "cell_type": "code",
   "execution_count": 5,
   "id": "82c46644-9687-4a06-abff-e4e9595aa2c9",
   "metadata": {},
   "outputs": [],
   "source": [
    "def unique(arr):\n",
    "    n = len(arr)\n",
    "    freq_map = {}\n",
    "\n",
    "    for i in range(0,n):\n",
    "        freq_map[arr[i]] = 0\n",
    "    \n",
    "    j = 0\n",
    "    for k in freq_map: \n",
    "        arr[j] = k\n",
    "        j += 1\n",
    "    \n",
    "    return j"
   ]
  },
  {
   "cell_type": "code",
   "execution_count": 6,
   "id": "bbae391b-82e1-48b3-b247-13690205e623",
   "metadata": {},
   "outputs": [
    {
     "data": {
      "text/plain": [
       "9"
      ]
     },
     "execution_count": 6,
     "metadata": {},
     "output_type": "execute_result"
    }
   ],
   "source": [
    "arr = [1,1,1,2,3,4,2,5,7,6,5,4,8,9]\n",
    "unique(arr)"
   ]
  },
  {
   "cell_type": "markdown",
   "id": "af6b8905-ea4c-4f25-bc0e-202652691234",
   "metadata": {},
   "source": []
  },
  {
   "cell_type": "code",
   "execution_count": null,
   "id": "35db955b-1a15-4b4b-ac2e-6c485d5e69fd",
   "metadata": {},
   "outputs": [],
   "source": []
  }
 ],
 "metadata": {
  "kernelspec": {
   "display_name": "Python 3 (ipykernel)",
   "language": "python",
   "name": "python3"
  },
  "language_info": {
   "codemirror_mode": {
    "name": "ipython",
    "version": 3
   },
   "file_extension": ".py",
   "mimetype": "text/x-python",
   "name": "python",
   "nbconvert_exporter": "python",
   "pygments_lexer": "ipython3",
   "version": "3.13.5"
  }
 },
 "nbformat": 4,
 "nbformat_minor": 5
}
