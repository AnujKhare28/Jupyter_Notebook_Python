{
 "cells": [
  {
   "cell_type": "code",
   "execution_count": 1,
   "id": "27ec9439-88b7-4dbc-995c-5bd363556459",
   "metadata": {},
   "outputs": [],
   "source": [
    "import pandas as pd \n",
    "import matplotlib.pyplot as plt"
   ]
  },
  {
   "cell_type": "code",
   "execution_count": 2,
   "id": "020191ba-f01a-4d13-b9bb-a8d87ad3a088",
   "metadata": {},
   "outputs": [],
   "source": [
    "df = pd.read_csv('movie_profit.csv')"
   ]
  },
  {
   "cell_type": "code",
   "execution_count": 3,
   "id": "af7be432-caff-4886-9428-09eee0743409",
   "metadata": {},
   "outputs": [
    {
     "data": {
      "text/html": [
       "<div>\n",
       "<style scoped>\n",
       "    .dataframe tbody tr th:only-of-type {\n",
       "        vertical-align: middle;\n",
       "    }\n",
       "\n",
       "    .dataframe tbody tr th {\n",
       "        vertical-align: top;\n",
       "    }\n",
       "\n",
       "    .dataframe thead th {\n",
       "        text-align: right;\n",
       "    }\n",
       "</style>\n",
       "<table border=\"1\" class=\"dataframe\">\n",
       "  <thead>\n",
       "    <tr style=\"text-align: right;\">\n",
       "      <th></th>\n",
       "      <th>Unnamed: 0</th>\n",
       "      <th>release_date</th>\n",
       "      <th>movie</th>\n",
       "      <th>production_budget</th>\n",
       "      <th>domestic_gross</th>\n",
       "      <th>worldwide_gross</th>\n",
       "      <th>distributor</th>\n",
       "      <th>mpaa_rating</th>\n",
       "      <th>genre</th>\n",
       "    </tr>\n",
       "  </thead>\n",
       "  <tbody>\n",
       "    <tr>\n",
       "      <th>0</th>\n",
       "      <td>1</td>\n",
       "      <td>6/22/2007</td>\n",
       "      <td>Evan Almighty</td>\n",
       "      <td>175000000.0</td>\n",
       "      <td>100289690.0</td>\n",
       "      <td>1.741313e+08</td>\n",
       "      <td>Universal</td>\n",
       "      <td>PG</td>\n",
       "      <td>Comedy</td>\n",
       "    </tr>\n",
       "    <tr>\n",
       "      <th>1</th>\n",
       "      <td>2</td>\n",
       "      <td>7/28/1995</td>\n",
       "      <td>Waterworld</td>\n",
       "      <td>175000000.0</td>\n",
       "      <td>88246220.0</td>\n",
       "      <td>2.642462e+08</td>\n",
       "      <td>Universal</td>\n",
       "      <td>PG-13</td>\n",
       "      <td>Action</td>\n",
       "    </tr>\n",
       "    <tr>\n",
       "      <th>2</th>\n",
       "      <td>3</td>\n",
       "      <td>5/12/2017</td>\n",
       "      <td>King Arthur: Legend of the Sword</td>\n",
       "      <td>175000000.0</td>\n",
       "      <td>39175066.0</td>\n",
       "      <td>1.399507e+08</td>\n",
       "      <td>Warner Bros.</td>\n",
       "      <td>PG-13</td>\n",
       "      <td>Adventure</td>\n",
       "    </tr>\n",
       "    <tr>\n",
       "      <th>3</th>\n",
       "      <td>4</td>\n",
       "      <td>12/25/2013</td>\n",
       "      <td>47 Ronin</td>\n",
       "      <td>175000000.0</td>\n",
       "      <td>38362475.0</td>\n",
       "      <td>1.517168e+08</td>\n",
       "      <td>Universal</td>\n",
       "      <td>PG-13</td>\n",
       "      <td>Action</td>\n",
       "    </tr>\n",
       "    <tr>\n",
       "      <th>4</th>\n",
       "      <td>5</td>\n",
       "      <td>6/22/2018</td>\n",
       "      <td>Jurassic World: Fallen Kingdom</td>\n",
       "      <td>170000000.0</td>\n",
       "      <td>416769345.0</td>\n",
       "      <td>1.304866e+09</td>\n",
       "      <td>Universal</td>\n",
       "      <td>PG-13</td>\n",
       "      <td>Action</td>\n",
       "    </tr>\n",
       "  </tbody>\n",
       "</table>\n",
       "</div>"
      ],
      "text/plain": [
       "   Unnamed: 0 release_date                             movie  \\\n",
       "0           1    6/22/2007                     Evan Almighty   \n",
       "1           2    7/28/1995                        Waterworld   \n",
       "2           3    5/12/2017  King Arthur: Legend of the Sword   \n",
       "3           4   12/25/2013                          47 Ronin   \n",
       "4           5    6/22/2018    Jurassic World: Fallen Kingdom   \n",
       "\n",
       "   production_budget  domestic_gross  worldwide_gross   distributor  \\\n",
       "0        175000000.0     100289690.0     1.741313e+08     Universal   \n",
       "1        175000000.0      88246220.0     2.642462e+08     Universal   \n",
       "2        175000000.0      39175066.0     1.399507e+08  Warner Bros.   \n",
       "3        175000000.0      38362475.0     1.517168e+08     Universal   \n",
       "4        170000000.0     416769345.0     1.304866e+09     Universal   \n",
       "\n",
       "  mpaa_rating      genre  \n",
       "0          PG     Comedy  \n",
       "1       PG-13     Action  \n",
       "2       PG-13  Adventure  \n",
       "3       PG-13     Action  \n",
       "4       PG-13     Action  "
      ]
     },
     "execution_count": 3,
     "metadata": {},
     "output_type": "execute_result"
    }
   ],
   "source": [
    "df.head()"
   ]
  },
  {
   "cell_type": "code",
   "execution_count": 4,
   "id": "7339b86b-96c8-45c5-b1f0-bc31a2a51012",
   "metadata": {},
   "outputs": [
    {
     "data": {
      "text/plain": [
       "Index(['Unnamed: 0', 'release_date', 'movie', 'production_budget',\n",
       "       'domestic_gross', 'worldwide_gross', 'distributor', 'mpaa_rating',\n",
       "       'genre'],\n",
       "      dtype='object')"
      ]
     },
     "execution_count": 4,
     "metadata": {},
     "output_type": "execute_result"
    }
   ],
   "source": [
    "df.columns"
   ]
  },
  {
   "cell_type": "code",
   "execution_count": 6,
   "id": "aff0ab8d-7fa2-425e-8651-4f07d5d945a7",
   "metadata": {},
   "outputs": [],
   "source": [
    "df = df.drop(columns='Unnamed: 0')"
   ]
  },
  {
   "cell_type": "code",
   "execution_count": 7,
   "id": "40bd6723-4453-4089-a3eb-78d92fc3a67d",
   "metadata": {},
   "outputs": [
    {
     "data": {
      "text/html": [
       "<div>\n",
       "<style scoped>\n",
       "    .dataframe tbody tr th:only-of-type {\n",
       "        vertical-align: middle;\n",
       "    }\n",
       "\n",
       "    .dataframe tbody tr th {\n",
       "        vertical-align: top;\n",
       "    }\n",
       "\n",
       "    .dataframe thead th {\n",
       "        text-align: right;\n",
       "    }\n",
       "</style>\n",
       "<table border=\"1\" class=\"dataframe\">\n",
       "  <thead>\n",
       "    <tr style=\"text-align: right;\">\n",
       "      <th></th>\n",
       "      <th>release_date</th>\n",
       "      <th>movie</th>\n",
       "      <th>production_budget</th>\n",
       "      <th>domestic_gross</th>\n",
       "      <th>worldwide_gross</th>\n",
       "      <th>distributor</th>\n",
       "      <th>mpaa_rating</th>\n",
       "      <th>genre</th>\n",
       "    </tr>\n",
       "  </thead>\n",
       "  <tbody>\n",
       "    <tr>\n",
       "      <th>0</th>\n",
       "      <td>6/22/2007</td>\n",
       "      <td>Evan Almighty</td>\n",
       "      <td>175000000.0</td>\n",
       "      <td>100289690.0</td>\n",
       "      <td>1.741313e+08</td>\n",
       "      <td>Universal</td>\n",
       "      <td>PG</td>\n",
       "      <td>Comedy</td>\n",
       "    </tr>\n",
       "    <tr>\n",
       "      <th>1</th>\n",
       "      <td>7/28/1995</td>\n",
       "      <td>Waterworld</td>\n",
       "      <td>175000000.0</td>\n",
       "      <td>88246220.0</td>\n",
       "      <td>2.642462e+08</td>\n",
       "      <td>Universal</td>\n",
       "      <td>PG-13</td>\n",
       "      <td>Action</td>\n",
       "    </tr>\n",
       "    <tr>\n",
       "      <th>2</th>\n",
       "      <td>5/12/2017</td>\n",
       "      <td>King Arthur: Legend of the Sword</td>\n",
       "      <td>175000000.0</td>\n",
       "      <td>39175066.0</td>\n",
       "      <td>1.399507e+08</td>\n",
       "      <td>Warner Bros.</td>\n",
       "      <td>PG-13</td>\n",
       "      <td>Adventure</td>\n",
       "    </tr>\n",
       "    <tr>\n",
       "      <th>3</th>\n",
       "      <td>12/25/2013</td>\n",
       "      <td>47 Ronin</td>\n",
       "      <td>175000000.0</td>\n",
       "      <td>38362475.0</td>\n",
       "      <td>1.517168e+08</td>\n",
       "      <td>Universal</td>\n",
       "      <td>PG-13</td>\n",
       "      <td>Action</td>\n",
       "    </tr>\n",
       "    <tr>\n",
       "      <th>4</th>\n",
       "      <td>6/22/2018</td>\n",
       "      <td>Jurassic World: Fallen Kingdom</td>\n",
       "      <td>170000000.0</td>\n",
       "      <td>416769345.0</td>\n",
       "      <td>1.304866e+09</td>\n",
       "      <td>Universal</td>\n",
       "      <td>PG-13</td>\n",
       "      <td>Action</td>\n",
       "    </tr>\n",
       "    <tr>\n",
       "      <th>...</th>\n",
       "      <td>...</td>\n",
       "      <td>...</td>\n",
       "      <td>...</td>\n",
       "      <td>...</td>\n",
       "      <td>...</td>\n",
       "      <td>...</td>\n",
       "      <td>...</td>\n",
       "      <td>...</td>\n",
       "    </tr>\n",
       "    <tr>\n",
       "      <th>3396</th>\n",
       "      <td>10/28/2011</td>\n",
       "      <td>Like Crazy</td>\n",
       "      <td>250000.0</td>\n",
       "      <td>3395391.0</td>\n",
       "      <td>3.728400e+06</td>\n",
       "      <td>Paramount Pictures</td>\n",
       "      <td>PG-13</td>\n",
       "      <td>Drama</td>\n",
       "    </tr>\n",
       "    <tr>\n",
       "      <th>3397</th>\n",
       "      <td>7/14/2000</td>\n",
       "      <td>Chuck&amp;Buck</td>\n",
       "      <td>250000.0</td>\n",
       "      <td>1055671.0</td>\n",
       "      <td>1.157672e+06</td>\n",
       "      <td>Artisan</td>\n",
       "      <td>R</td>\n",
       "      <td>Drama</td>\n",
       "    </tr>\n",
       "    <tr>\n",
       "      <th>3398</th>\n",
       "      <td>3/28/1997</td>\n",
       "      <td>Love and Other Catastrophes</td>\n",
       "      <td>250000.0</td>\n",
       "      <td>212285.0</td>\n",
       "      <td>7.432160e+05</td>\n",
       "      <td>Fox Searchlight</td>\n",
       "      <td>R</td>\n",
       "      <td>Comedy</td>\n",
       "    </tr>\n",
       "    <tr>\n",
       "      <th>3399</th>\n",
       "      <td>8/28/1998</td>\n",
       "      <td>I Married a Strange Person</td>\n",
       "      <td>250000.0</td>\n",
       "      <td>203134.0</td>\n",
       "      <td>2.031340e+05</td>\n",
       "      <td>Lionsgate</td>\n",
       "      <td>NaN</td>\n",
       "      <td>Comedy</td>\n",
       "    </tr>\n",
       "    <tr>\n",
       "      <th>3400</th>\n",
       "      <td>7/22/2005</td>\n",
       "      <td>November</td>\n",
       "      <td>250000.0</td>\n",
       "      <td>191862.0</td>\n",
       "      <td>1.918620e+05</td>\n",
       "      <td>Sony Pictures Classics</td>\n",
       "      <td>R</td>\n",
       "      <td>Drama</td>\n",
       "    </tr>\n",
       "  </tbody>\n",
       "</table>\n",
       "<p>3401 rows × 8 columns</p>\n",
       "</div>"
      ],
      "text/plain": [
       "     release_date                             movie  production_budget  \\\n",
       "0       6/22/2007                     Evan Almighty        175000000.0   \n",
       "1       7/28/1995                        Waterworld        175000000.0   \n",
       "2       5/12/2017  King Arthur: Legend of the Sword        175000000.0   \n",
       "3      12/25/2013                          47 Ronin        175000000.0   \n",
       "4       6/22/2018    Jurassic World: Fallen Kingdom        170000000.0   \n",
       "...           ...                               ...                ...   \n",
       "3396   10/28/2011                        Like Crazy           250000.0   \n",
       "3397    7/14/2000                        Chuck&Buck           250000.0   \n",
       "3398    3/28/1997       Love and Other Catastrophes           250000.0   \n",
       "3399    8/28/1998        I Married a Strange Person           250000.0   \n",
       "3400    7/22/2005                          November           250000.0   \n",
       "\n",
       "      domestic_gross  worldwide_gross             distributor mpaa_rating  \\\n",
       "0        100289690.0     1.741313e+08               Universal          PG   \n",
       "1         88246220.0     2.642462e+08               Universal       PG-13   \n",
       "2         39175066.0     1.399507e+08            Warner Bros.       PG-13   \n",
       "3         38362475.0     1.517168e+08               Universal       PG-13   \n",
       "4        416769345.0     1.304866e+09               Universal       PG-13   \n",
       "...              ...              ...                     ...         ...   \n",
       "3396       3395391.0     3.728400e+06      Paramount Pictures       PG-13   \n",
       "3397       1055671.0     1.157672e+06                 Artisan           R   \n",
       "3398        212285.0     7.432160e+05         Fox Searchlight           R   \n",
       "3399        203134.0     2.031340e+05               Lionsgate         NaN   \n",
       "3400        191862.0     1.918620e+05  Sony Pictures Classics           R   \n",
       "\n",
       "          genre  \n",
       "0        Comedy  \n",
       "1        Action  \n",
       "2     Adventure  \n",
       "3        Action  \n",
       "4        Action  \n",
       "...         ...  \n",
       "3396      Drama  \n",
       "3397      Drama  \n",
       "3398     Comedy  \n",
       "3399     Comedy  \n",
       "3400      Drama  \n",
       "\n",
       "[3401 rows x 8 columns]"
      ]
     },
     "execution_count": 7,
     "metadata": {},
     "output_type": "execute_result"
    }
   ],
   "source": [
    "df"
   ]
  },
  {
   "cell_type": "code",
   "execution_count": 8,
   "id": "bb3f3553-b742-43ff-b7bb-af0d781e9d0d",
   "metadata": {},
   "outputs": [
    {
     "name": "stdout",
     "output_type": "stream",
     "text": [
      "<class 'pandas.core.frame.DataFrame'>\n",
      "RangeIndex: 3401 entries, 0 to 3400\n",
      "Data columns (total 8 columns):\n",
      " #   Column             Non-Null Count  Dtype  \n",
      "---  ------             --------------  -----  \n",
      " 0   release_date       3401 non-null   object \n",
      " 1   movie              3401 non-null   object \n",
      " 2   production_budget  3401 non-null   float64\n",
      " 3   domestic_gross     3401 non-null   float64\n",
      " 4   worldwide_gross    3401 non-null   float64\n",
      " 5   distributor        3353 non-null   object \n",
      " 6   mpaa_rating        3264 non-null   object \n",
      " 7   genre              3401 non-null   object \n",
      "dtypes: float64(3), object(5)\n",
      "memory usage: 212.7+ KB\n"
     ]
    }
   ],
   "source": [
    "df.info()"
   ]
  },
  {
   "cell_type": "code",
   "execution_count": 9,
   "id": "fbf64b9e-75eb-47eb-8e14-bf78ab95deff",
   "metadata": {},
   "outputs": [
    {
     "data": {
      "text/plain": [
       "release_date           0\n",
       "movie                  0\n",
       "production_budget      0\n",
       "domestic_gross         0\n",
       "worldwide_gross        0\n",
       "distributor           48\n",
       "mpaa_rating          137\n",
       "genre                  0\n",
       "dtype: int64"
      ]
     },
     "execution_count": 9,
     "metadata": {},
     "output_type": "execute_result"
    }
   ],
   "source": [
    "df.isnull().sum()"
   ]
  },
  {
   "cell_type": "code",
   "execution_count": 10,
   "id": "87ff224f-3f6f-488d-a40e-c96de329c00f",
   "metadata": {},
   "outputs": [
    {
     "data": {
      "text/plain": [
       "(3401, 8)"
      ]
     },
     "execution_count": 10,
     "metadata": {},
     "output_type": "execute_result"
    }
   ],
   "source": [
    "df.shape"
   ]
  },
  {
   "cell_type": "code",
   "execution_count": 11,
   "id": "6ea43481-69d2-4120-95ff-b0b2e4b4dee6",
   "metadata": {},
   "outputs": [],
   "source": [
    "df.dropna(inplace=True)"
   ]
  },
  {
   "cell_type": "code",
   "execution_count": 12,
   "id": "4e431689-e971-411c-8a4c-0d0a06adb106",
   "metadata": {},
   "outputs": [
    {
     "data": {
      "text/plain": [
       "release_date         0\n",
       "movie                0\n",
       "production_budget    0\n",
       "domestic_gross       0\n",
       "worldwide_gross      0\n",
       "distributor          0\n",
       "mpaa_rating          0\n",
       "genre                0\n",
       "dtype: int64"
      ]
     },
     "execution_count": 12,
     "metadata": {},
     "output_type": "execute_result"
    }
   ],
   "source": [
    "df.isna().sum()"
   ]
  },
  {
   "cell_type": "code",
   "execution_count": 13,
   "id": "e8f65b0f-e275-4a29-8c4f-7f5502be15ca",
   "metadata": {},
   "outputs": [
    {
     "data": {
      "text/plain": [
       "np.int64(0)"
      ]
     },
     "execution_count": 13,
     "metadata": {},
     "output_type": "execute_result"
    }
   ],
   "source": [
    "df.duplicated().sum()"
   ]
  },
  {
   "cell_type": "code",
   "execution_count": 14,
   "id": "ed9273a0-52f1-47d0-a291-04f8068f0931",
   "metadata": {},
   "outputs": [
    {
     "data": {
      "text/html": [
       "<div>\n",
       "<style scoped>\n",
       "    .dataframe tbody tr th:only-of-type {\n",
       "        vertical-align: middle;\n",
       "    }\n",
       "\n",
       "    .dataframe tbody tr th {\n",
       "        vertical-align: top;\n",
       "    }\n",
       "\n",
       "    .dataframe thead th {\n",
       "        text-align: right;\n",
       "    }\n",
       "</style>\n",
       "<table border=\"1\" class=\"dataframe\">\n",
       "  <thead>\n",
       "    <tr style=\"text-align: right;\">\n",
       "      <th></th>\n",
       "      <th>production_budget</th>\n",
       "      <th>domestic_gross</th>\n",
       "      <th>worldwide_gross</th>\n",
       "    </tr>\n",
       "  </thead>\n",
       "  <tbody>\n",
       "    <tr>\n",
       "      <th>count</th>\n",
       "      <td>3.230000e+03</td>\n",
       "      <td>3.230000e+03</td>\n",
       "      <td>3.230000e+03</td>\n",
       "    </tr>\n",
       "    <tr>\n",
       "      <th>mean</th>\n",
       "      <td>3.459218e+07</td>\n",
       "      <td>4.726805e+07</td>\n",
       "      <td>9.841706e+07</td>\n",
       "    </tr>\n",
       "    <tr>\n",
       "      <th>std</th>\n",
       "      <td>3.526337e+07</td>\n",
       "      <td>5.973707e+07</td>\n",
       "      <td>1.432841e+08</td>\n",
       "    </tr>\n",
       "    <tr>\n",
       "      <th>min</th>\n",
       "      <td>2.500000e+05</td>\n",
       "      <td>0.000000e+00</td>\n",
       "      <td>0.000000e+00</td>\n",
       "    </tr>\n",
       "    <tr>\n",
       "      <th>25%</th>\n",
       "      <td>1.000000e+07</td>\n",
       "      <td>6.867944e+06</td>\n",
       "      <td>1.177994e+07</td>\n",
       "    </tr>\n",
       "    <tr>\n",
       "      <th>50%</th>\n",
       "      <td>2.200000e+07</td>\n",
       "      <td>2.733297e+07</td>\n",
       "      <td>4.404424e+07</td>\n",
       "    </tr>\n",
       "    <tr>\n",
       "      <th>75%</th>\n",
       "      <td>4.900000e+07</td>\n",
       "      <td>6.341329e+07</td>\n",
       "      <td>1.252019e+08</td>\n",
       "    </tr>\n",
       "    <tr>\n",
       "      <th>max</th>\n",
       "      <td>1.750000e+08</td>\n",
       "      <td>4.745447e+08</td>\n",
       "      <td>1.304866e+09</td>\n",
       "    </tr>\n",
       "  </tbody>\n",
       "</table>\n",
       "</div>"
      ],
      "text/plain": [
       "       production_budget  domestic_gross  worldwide_gross\n",
       "count       3.230000e+03    3.230000e+03     3.230000e+03\n",
       "mean        3.459218e+07    4.726805e+07     9.841706e+07\n",
       "std         3.526337e+07    5.973707e+07     1.432841e+08\n",
       "min         2.500000e+05    0.000000e+00     0.000000e+00\n",
       "25%         1.000000e+07    6.867944e+06     1.177994e+07\n",
       "50%         2.200000e+07    2.733297e+07     4.404424e+07\n",
       "75%         4.900000e+07    6.341329e+07     1.252019e+08\n",
       "max         1.750000e+08    4.745447e+08     1.304866e+09"
      ]
     },
     "execution_count": 14,
     "metadata": {},
     "output_type": "execute_result"
    }
   ],
   "source": [
    "df.describe()"
   ]
  },
  {
   "cell_type": "code",
   "execution_count": null,
   "id": "f55f6ae0-2973-4355-a461-6c4f9e7b9346",
   "metadata": {},
   "outputs": [],
   "source": []
  }
 ],
 "metadata": {
  "kernelspec": {
   "display_name": "Python 3.11",
   "language": "python",
   "name": "py311"
  },
  "language_info": {
   "codemirror_mode": {
    "name": "ipython",
    "version": 3
   },
   "file_extension": ".py",
   "mimetype": "text/x-python",
   "name": "python",
   "nbconvert_exporter": "python",
   "pygments_lexer": "ipython3",
   "version": "3.13.5"
  }
 },
 "nbformat": 4,
 "nbformat_minor": 5
}
