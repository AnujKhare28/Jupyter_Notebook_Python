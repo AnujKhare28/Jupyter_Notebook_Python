{
 "cells": [
  {
   "cell_type": "code",
   "execution_count": 3,
   "id": "9f2d95de-85cc-4509-b507-a8c39a184624",
   "metadata": {},
   "outputs": [
    {
     "name": "stdin",
     "output_type": "stream",
     "text": [
      "Enter number of terms: 10\n"
     ]
    },
    {
     "name": "stdout",
     "output_type": "stream",
     "text": [
      "0 1 1 2 3 5 8 13 21 34 "
     ]
    }
   ],
   "source": [
    "# 46. Fibonacci Series\n",
    "n = int(input(\"Enter number of terms:\"))\n",
    "a = 0\n",
    "b = 1\n",
    "for i in range(n): \n",
    "    print(a, end=' ')\n",
    "    c = a+b \n",
    "    a = b \n",
    "    b = c "
   ]
  },
  {
   "cell_type": "code",
   "execution_count": 7,
   "id": "76c05629-637b-4608-977f-5a61cd1d011b",
   "metadata": {},
   "outputs": [
    {
     "name": "stdin",
     "output_type": "stream",
     "text": [
      "Enter a number: 10\n"
     ]
    },
    {
     "name": "stdout",
     "output_type": "stream",
     "text": [
      "Number of factors: 4\n"
     ]
    }
   ],
   "source": [
    "# 47. Factors of a number: \n",
    "f = int(input(\"Enter a number:\"))\n",
    "fact = 0\n",
    "for i in range(1, f+1): \n",
    "    if f % i == 0: \n",
    "        fact += 1\n",
    "print(\"Number of factors:\",fact)"
   ]
  },
  {
   "cell_type": "code",
   "execution_count": 9,
   "id": "f1d2ae4c-a6fb-448e-94f4-e56bdf9fabfc",
   "metadata": {},
   "outputs": [
    {
     "name": "stdin",
     "output_type": "stream",
     "text": [
      "Enter a number:  29\n"
     ]
    },
    {
     "name": "stdout",
     "output_type": "stream",
     "text": [
      "Prime number\n"
     ]
    }
   ],
   "source": [
    "# 48. Prime number\n",
    "p = int(input(\"Enter a number: \"))\n",
    "count = 0\n",
    "for i in range(1, p+1): \n",
    "    if p % i == 0: \n",
    "        count += 1\n",
    "if count == 2: \n",
    "    print(\"Prime number\")\n",
    "else: \n",
    "    print(\"Composite number\")"
   ]
  },
  {
   "cell_type": "code",
   "execution_count": 10,
   "id": "d54b79b1-4451-439d-a810-596913c2c848",
   "metadata": {},
   "outputs": [
    {
     "name": "stdout",
     "output_type": "stream",
     "text": [
      "1\n",
      "2\n",
      "3\n"
     ]
    }
   ],
   "source": [
    "# 49. FOR Break\n",
    "for i in range(1,6): \n",
    "    if i == 4: \n",
    "        break\n",
    "    else: \n",
    "        print(i)"
   ]
  },
  {
   "cell_type": "code",
   "execution_count": 12,
   "id": "e229ed34-4358-49ee-b4c1-9172b3b65c11",
   "metadata": {},
   "outputs": [
    {
     "name": "stdout",
     "output_type": "stream",
     "text": [
      "End of program\n"
     ]
    }
   ],
   "source": [
    "# 50. FOR Pass\n",
    "for i in range(1,10): \n",
    "    pass\n",
    "print(\"End of program\")"
   ]
  }
 ],
 "metadata": {
  "kernelspec": {
   "display_name": "Python 3 (ipykernel)",
   "language": "python",
   "name": "python3"
  },
  "language_info": {
   "codemirror_mode": {
    "name": "ipython",
    "version": 3
   },
   "file_extension": ".py",
   "mimetype": "text/x-python",
   "name": "python",
   "nbconvert_exporter": "python",
   "pygments_lexer": "ipython3",
   "version": "3.12.7"
  }
 },
 "nbformat": 4,
 "nbformat_minor": 5
}
