{
 "cells": [
  {
   "cell_type": "code",
   "execution_count": 4,
   "id": "a9eaa55c-5c2d-4c3c-9c73-f1c7b3588c92",
   "metadata": {},
   "outputs": [],
   "source": [
    "def count(n,m): \n",
    "\n",
    "    for i in m: \n",
    "        count = 0\n",
    "        for j in n : \n",
    "            if j == i: \n",
    "                count += 1\n",
    "        print(count)\n",
    "        \n",
    "# TC = O(m*n)"
   ]
  },
  {
   "cell_type": "code",
   "execution_count": 6,
   "id": "049d1894-d9e9-4b1d-a9e8-d1870e4c3d30",
   "metadata": {},
   "outputs": [
    {
     "name": "stdout",
     "output_type": "stream",
     "text": [
      "1\n",
      "0\n",
      "3\n",
      "1\n",
      "0\n",
      "0\n",
      "0\n",
      "0\n",
      "2\n",
      "1\n",
      "1\n",
      "0\n",
      "2\n",
      "1\n",
      "2\n",
      "0\n",
      "1\n",
      "1\n",
      "0\n",
      "0\n",
      "1\n",
      "0\n",
      "0\n",
      "3\n",
      "1\n",
      "1\n",
      "2\n",
      "0\n",
      "3\n",
      "2\n",
      "2\n"
     ]
    }
   ],
   "source": [
    "n = [2,4,5,3,2,4,6,7,9,1,54,3,7,4]\n",
    "m = [1,23,4,5,45,67,89,8,7,6,5,43,2,1,2,34,5,6,78,76,54,321,23,4,5,6,7,8765,4,3,2,]\n",
    "#counting m in n\n",
    "count(n,m)"
   ]
  },
  {
   "cell_type": "code",
   "execution_count": 13,
   "id": "07f19292-218f-440a-badc-28300392cbe5",
   "metadata": {},
   "outputs": [],
   "source": [
    "def OptCount(n, m): \n",
    "    freq = {}\n",
    "\n",
    "    for val in n: \n",
    "        freq[val] = freq.get(val, 0) + 1\n",
    "    for val in m: \n",
    "        if val < 1 or val > 10: \n",
    "            freq[val] = 0\n",
    "        else: \n",
    "            freq[val] = freq.get(val, 0) + 1\n",
    "\n",
    "    return freq"
   ]
  },
  {
   "cell_type": "code",
   "execution_count": 14,
   "id": "b9bafca3-38da-475a-aca7-d4cc27c988aa",
   "metadata": {},
   "outputs": [
    {
     "data": {
      "text/plain": [
       "{2: 5,\n",
       " 4: 6,\n",
       " 5: 5,\n",
       " 3: 3,\n",
       " 6: 4,\n",
       " 7: 4,\n",
       " 9: 1,\n",
       " 1: 3,\n",
       " 54: 0,\n",
       " 23: 0,\n",
       " 45: 0,\n",
       " 67: 0,\n",
       " 89: 0,\n",
       " 8: 1,\n",
       " 43: 0,\n",
       " 34: 0,\n",
       " 78: 0,\n",
       " 76: 0,\n",
       " 321: 0,\n",
       " 8765: 0}"
      ]
     },
     "execution_count": 14,
     "metadata": {},
     "output_type": "execute_result"
    }
   ],
   "source": [
    "OptCount(n,m)"
   ]
  },
  {
   "cell_type": "code",
   "execution_count": null,
   "id": "31c2e06a-92a8-4725-ad6c-21095f81c30e",
   "metadata": {},
   "outputs": [],
   "source": []
  }
 ],
 "metadata": {
  "kernelspec": {
   "display_name": "Python 3 (ipykernel)",
   "language": "python",
   "name": "python3"
  },
  "language_info": {
   "codemirror_mode": {
    "name": "ipython",
    "version": 3
   },
   "file_extension": ".py",
   "mimetype": "text/x-python",
   "name": "python",
   "nbconvert_exporter": "python",
   "pygments_lexer": "ipython3",
   "version": "3.13.5"
  }
 },
 "nbformat": 4,
 "nbformat_minor": 5
}
