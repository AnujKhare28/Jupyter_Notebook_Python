{
 "cells": [
  {
   "cell_type": "code",
   "execution_count": 9,
   "id": "7c7c6b2d-311e-47aa-9221-297708fa6d7f",
   "metadata": {},
   "outputs": [
    {
     "name": "stdout",
     "output_type": "stream",
     "text": [
      "Inches: 86.4\n",
      "Yards: 2.3760000000000003\n",
      "Miles: 0.0013636368000000002\n"
     ]
    }
   ],
   "source": [
    "ft = 7.2\n",
    "inches = print(\"Inches:\",ft*12)\n",
    "yards = print(\"Yards:\",ft * 0.33) \n",
    "miles = print(\"Miles:\",ft * 0.000189394)"
   ]
  }
 ],
 "metadata": {
  "kernelspec": {
   "display_name": "Python [conda env:base] *",
   "language": "python",
   "name": "conda-base-py"
  },
  "language_info": {
   "codemirror_mode": {
    "name": "ipython",
    "version": 3
   },
   "file_extension": ".py",
   "mimetype": "text/x-python",
   "name": "python",
   "nbconvert_exporter": "python",
   "pygments_lexer": "ipython3",
   "version": "3.12.7"
  }
 },
 "nbformat": 4,
 "nbformat_minor": 5
}
