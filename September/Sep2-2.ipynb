{
 "cells": [
  {
   "cell_type": "code",
   "execution_count": 1,
   "id": "71f02a49-c68c-4ebc-aac1-ca2774c796d5",
   "metadata": {},
   "outputs": [
    {
     "name": "stdout",
     "output_type": "stream",
     "text": [
      "1 2 3 4 6 7 8 9 11 12 13 14 16 17 18 19 "
     ]
    }
   ],
   "source": [
    "# 51. FOR Continue \n",
    "for i in range(1, 21): \n",
    "    if i % 5 == 0: \n",
    "        continue\n",
    "    else:\n",
    "        print(i, end=' ')"
   ]
  },
  {
   "cell_type": "code",
   "execution_count": 20,
   "id": "b0773748-d82c-4875-952a-425616e8acac",
   "metadata": {},
   "outputs": [
    {
     "name": "stdout",
     "output_type": "stream",
     "text": [
      "( 0 , 5 ) ( 0 , 6 ) ( 0 , 7 ) ( 0 , 8 ) ( 0 , 9 ) ( 0 , 10 ) ( 1 , 5 ) ( 1 , 6 ) ( 1 , 7 ) ( 1 , 8 ) ( 1 , 9 ) ( 1 , 10 ) ( 2 , 5 ) ( 2 , 6 ) ( 2 , 7 ) ( 2 , 8 ) ( 2 , 9 ) ( 2 , 10 ) ( 3 , 5 ) ( 3 , 6 ) ( 3 , 7 ) ( 3 , 8 ) ( 3 , 9 ) ( 3 , 10 ) ( 4 , 5 ) ( 4 , 6 ) ( 4 , 7 ) ( 4 , 8 ) ( 4 , 9 ) ( 4 , 10 ) ( 5 , 5 ) ( 5 , 6 ) ( 5 , 7 ) ( 5 , 8 ) ( 5 , 9 ) ( 5 , 10 ) "
     ]
    }
   ],
   "source": [
    "# 52. Nested FOR \n",
    "for i in range(6): \n",
    "    for j in range(5,11): \n",
    "        print('(',i, ',',j, ')', end=(' '))"
   ]
  },
  {
   "cell_type": "code",
   "execution_count": 7,
   "id": "254bf663-becd-4885-8d44-6e225c94a2b9",
   "metadata": {},
   "outputs": [
    {
     "name": "stdout",
     "output_type": "stream",
     "text": [
      "2 3 5 7 11 13 17 19 23 29 31 37 41 43 47 53 59 61 67 71 73 79 83 89 97 "
     ]
    }
   ],
   "source": [
    "# 53. 1-100 Prime \n",
    "for i in range(1,101): \n",
    "    count = 0\n",
    "    for j in range(1, i+1):\n",
    "        if i % j == 0 : \n",
    "            count += 1 \n",
    "    if count == 2: \n",
    "        print(i, end=' ')"
   ]
  },
  {
   "cell_type": "code",
   "execution_count": 8,
   "id": "333c736c-6171-4b86-91d0-fbdb7e59845b",
   "metadata": {},
   "outputs": [
    {
     "name": "stdout",
     "output_type": "stream",
     "text": [
      "* * * * * *\n",
      "* * * * * *\n",
      "* * * * * *\n",
      "* * * * * *\n",
      "* * * * * *\n"
     ]
    }
   ],
   "source": [
    "# 54. Pattern 1 \n",
    "for x in range(1,6): \n",
    "    for y in range(1,6): \n",
    "        print('*', end=' ')\n",
    "    print('*')"
   ]
  },
  {
   "cell_type": "code",
   "execution_count": 1,
   "id": "add5e7b3-67dd-4ae8-9b94-da5c6557dfb2",
   "metadata": {},
   "outputs": [
    {
     "name": "stdout",
     "output_type": "stream",
     "text": [
      "* * * * * *  \n",
      "* * * * *  \n",
      "* * * *  \n",
      "* * *  \n",
      "* *  \n",
      "*  \n"
     ]
    }
   ],
   "source": [
    "# 55. Pattern 2 \n",
    "for p in range(0,6): \n",
    "    for q in range(6): \n",
    "       if p <= q: \n",
    "           print('*', end=' ')\n",
    "    print(' ')"
   ]
  }
 ],
 "metadata": {
  "kernelspec": {
   "display_name": "Python 3 (ipykernel)",
   "language": "python",
   "name": "python3"
  },
  "language_info": {
   "codemirror_mode": {
    "name": "ipython",
    "version": 3
   },
   "file_extension": ".py",
   "mimetype": "text/x-python",
   "name": "python",
   "nbconvert_exporter": "python",
   "pygments_lexer": "ipython3",
   "version": "3.12.7"
  }
 },
 "nbformat": 4,
 "nbformat_minor": 5
}
