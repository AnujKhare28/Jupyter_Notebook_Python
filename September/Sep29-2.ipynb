{
 "cells": [
  {
   "cell_type": "code",
   "execution_count": 9,
   "id": "833ea8b7-1d52-4980-8fea-b12b737298ec",
   "metadata": {},
   "outputs": [],
   "source": [
    "def moveZeros(nums): \n",
    "    if len(nums) == 1:\n",
    "        return\n",
    "    i = 0\n",
    "    while i < len(nums):\n",
    "        if nums[i] == 0:\n",
    "            break\n",
    "        i += 1\n",
    "    if i == len(nums): \n",
    "        return\n",
    "    j = i + 1\n",
    "    while j < len(nums): \n",
    "        if nums[j] != 0: \n",
    "            nums[i], nums[j] = nums[j] , nums[i]\n",
    "            i += 1\n",
    "        j += 1"
   ]
  },
  {
   "cell_type": "code",
   "execution_count": 10,
   "id": "0ee2a5ee-50cf-4c1e-b6f0-0996657ae81a",
   "metadata": {},
   "outputs": [],
   "source": [
    "nums = [1,0,2,4,0,3,0,6,7]"
   ]
  },
  {
   "cell_type": "code",
   "execution_count": 11,
   "id": "754cf261-1be2-422d-baa0-72e263fcd625",
   "metadata": {},
   "outputs": [],
   "source": [
    "moveZeros(nums)"
   ]
  },
  {
   "cell_type": "code",
   "execution_count": 12,
   "id": "f655aa7f-132c-4105-8013-263e3c7c7054",
   "metadata": {},
   "outputs": [
    {
     "data": {
      "text/plain": [
       "[1, 2, 4, 3, 6, 7, 0, 0, 0]"
      ]
     },
     "execution_count": 12,
     "metadata": {},
     "output_type": "execute_result"
    }
   ],
   "source": [
    "nums"
   ]
  },
  {
   "cell_type": "code",
   "execution_count": null,
   "id": "05173de1-5971-4588-8af7-f40a9b75a573",
   "metadata": {},
   "outputs": [],
   "source": []
  }
 ],
 "metadata": {
  "kernelspec": {
   "display_name": "Python 3 (ipykernel)",
   "language": "python",
   "name": "python3"
  },
  "language_info": {
   "codemirror_mode": {
    "name": "ipython",
    "version": 3
   },
   "file_extension": ".py",
   "mimetype": "text/x-python",
   "name": "python",
   "nbconvert_exporter": "python",
   "pygments_lexer": "ipython3",
   "version": "3.13.5"
  }
 },
 "nbformat": 4,
 "nbformat_minor": 5
}
