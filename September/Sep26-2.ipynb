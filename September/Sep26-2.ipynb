{
 "cells": [
  {
   "cell_type": "code",
   "execution_count": 1,
   "id": "0bd925ad-247a-490d-8c84-950ef805014e",
   "metadata": {},
   "outputs": [],
   "source": [
    "def isSorted(arr):\n",
    "    n = len(arr)\n",
    "\n",
    "    for i in range(0,(n-1)):\n",
    "        if arr[i]>arr[i+1]:\n",
    "            return False\n",
    "    return True"
   ]
  },
  {
   "cell_type": "code",
   "execution_count": 2,
   "id": "b8fdc272-2780-4e0e-9f16-8396656683f4",
   "metadata": {},
   "outputs": [
    {
     "data": {
      "text/plain": [
       "True"
      ]
     },
     "execution_count": 2,
     "metadata": {},
     "output_type": "execute_result"
    }
   ],
   "source": [
    "arr = [1,2,3,4,5]\n",
    "isSorted(arr)"
   ]
  },
  {
   "cell_type": "code",
   "execution_count": 3,
   "id": "fd41e797-2a50-4f3e-9d54-c34a044d06e0",
   "metadata": {},
   "outputs": [
    {
     "data": {
      "text/plain": [
       "False"
      ]
     },
     "execution_count": 3,
     "metadata": {},
     "output_type": "execute_result"
    }
   ],
   "source": [
    "arr1= [2,13,34,6,78]\n",
    "isSorted(arr1)"
   ]
  },
  {
   "cell_type": "code",
   "execution_count": null,
   "id": "ba75f2fe-9bde-4f8b-bba4-16b29575c76e",
   "metadata": {},
   "outputs": [],
   "source": []
  }
 ],
 "metadata": {
  "kernelspec": {
   "display_name": "Python 3 (ipykernel)",
   "language": "python",
   "name": "python3"
  },
  "language_info": {
   "codemirror_mode": {
    "name": "ipython",
    "version": 3
   },
   "file_extension": ".py",
   "mimetype": "text/x-python",
   "name": "python",
   "nbconvert_exporter": "python",
   "pygments_lexer": "ipython3",
   "version": "3.13.5"
  }
 },
 "nbformat": 4,
 "nbformat_minor": 5
}
