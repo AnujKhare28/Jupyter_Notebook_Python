{
 "cells": [
  {
   "cell_type": "code",
   "execution_count": 1,
   "id": "ae86bdd4-78f6-4aec-b557-2f3082790bad",
   "metadata": {},
   "outputs": [],
   "source": [
    "n = 1234\n",
    "num = n\n",
    "res = 0\n",
    "while n > 0: \n",
    "    ld = n % 10 \n",
    "    n = n // 10\n",
    "    res = res * 10 + ld "
   ]
  },
  {
   "cell_type": "code",
   "execution_count": 2,
   "id": "10477bc4-f20e-42a6-97a6-3a653ca9b331",
   "metadata": {},
   "outputs": [
    {
     "data": {
      "text/plain": [
       "4321"
      ]
     },
     "execution_count": 2,
     "metadata": {},
     "output_type": "execute_result"
    }
   ],
   "source": [
    "res"
   ]
  },
  {
   "cell_type": "code",
   "execution_count": 3,
   "id": "448ea9d9-2d3a-4a76-8435-ca3616cb46c0",
   "metadata": {},
   "outputs": [
    {
     "data": {
      "text/plain": [
       "False"
      ]
     },
     "execution_count": 3,
     "metadata": {},
     "output_type": "execute_result"
    }
   ],
   "source": [
    "res  == n"
   ]
  },
  {
   "cell_type": "markdown",
   "id": "66c3171a-019f-4989-976b-2e7a4fc13788",
   "metadata": {},
   "source": [
    "Not a palindrome"
   ]
  }
 ],
 "metadata": {
  "kernelspec": {
   "display_name": "Python 3 (ipykernel)",
   "language": "python",
   "name": "python3"
  },
  "language_info": {
   "codemirror_mode": {
    "name": "ipython",
    "version": 3
   },
   "file_extension": ".py",
   "mimetype": "text/x-python",
   "name": "python",
   "nbconvert_exporter": "python",
   "pygments_lexer": "ipython3",
   "version": "3.13.5"
  }
 },
 "nbformat": 4,
 "nbformat_minor": 5
}
