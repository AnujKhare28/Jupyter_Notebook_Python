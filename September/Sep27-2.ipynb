{
 "cells": [
  {
   "cell_type": "code",
   "execution_count": 1,
   "id": "ffcdf3dc-9c2a-44f0-bdac-997ba60e56ab",
   "metadata": {},
   "outputs": [],
   "source": [
    "def unique(arr): \n",
    "    n = len(arr)\n",
    "\n",
    "    if n == 1: \n",
    "        return 1\n",
    "    i = 0\n",
    "    j = i +1\n",
    "\n",
    "    while j < n:\n",
    "        if arr[j] != arr[i]: \n",
    "            i += 1\n",
    "            arr[i], arr[j] = arr[j], arr[i]\n",
    "        j += 1\n",
    "        \n",
    "    return i + 1"
   ]
  },
  {
   "cell_type": "code",
   "execution_count": 4,
   "id": "f00965a7-7832-423a-b828-7e1f98d23409",
   "metadata": {},
   "outputs": [
    {
     "data": {
      "text/plain": [
       "8"
      ]
     },
     "execution_count": 4,
     "metadata": {},
     "output_type": "execute_result"
    }
   ],
   "source": [
    "# Array must be ssorted\n",
    "arr = [1,1,1,2,2,3,4,5,5,6,8,9]\n",
    "unique(arr)"
   ]
  },
  {
   "cell_type": "code",
   "execution_count": null,
   "id": "f344daa5-dd27-4989-94dc-ac7be8db20d6",
   "metadata": {},
   "outputs": [],
   "source": []
  }
 ],
 "metadata": {
  "kernelspec": {
   "display_name": "Python 3 (ipykernel)",
   "language": "python",
   "name": "python3"
  },
  "language_info": {
   "codemirror_mode": {
    "name": "ipython",
    "version": 3
   },
   "file_extension": ".py",
   "mimetype": "text/x-python",
   "name": "python",
   "nbconvert_exporter": "python",
   "pygments_lexer": "ipython3",
   "version": "3.13.5"
  }
 },
 "nbformat": 4,
 "nbformat_minor": 5
}
