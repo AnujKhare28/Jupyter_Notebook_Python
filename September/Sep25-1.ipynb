{
 "cells": [
  {
   "cell_type": "code",
   "execution_count": 3,
   "id": "217e4fe7-85d8-467a-9df7-175ebecf7cca",
   "metadata": {},
   "outputs": [],
   "source": [
    "def largest(arr):\n",
    "    largest = float('-inf')\n",
    "    \n",
    "    n = len(arr)\n",
    "\n",
    "    for i in range(0, n):\n",
    "        if arr[i] > largest:\n",
    "            largest = arr[i]\n",
    "    return largest"
   ]
  },
  {
   "cell_type": "code",
   "execution_count": 4,
   "id": "477bcc03-2797-4e6c-93fd-2cc8c6eb8662",
   "metadata": {},
   "outputs": [
    {
     "data": {
      "text/plain": [
       "103"
      ]
     },
     "execution_count": 4,
     "metadata": {},
     "output_type": "execute_result"
    }
   ],
   "source": [
    "arr = [-23, 56,3,4,89,103]\n",
    "largest(arr)"
   ]
  },
  {
   "cell_type": "code",
   "execution_count": null,
   "id": "56482c6a-909d-42d1-8584-37f71614b2d0",
   "metadata": {},
   "outputs": [],
   "source": []
  }
 ],
 "metadata": {
  "kernelspec": {
   "display_name": "Python 3 (ipykernel)",
   "language": "python",
   "name": "python3"
  },
  "language_info": {
   "codemirror_mode": {
    "name": "ipython",
    "version": 3
   },
   "file_extension": ".py",
   "mimetype": "text/x-python",
   "name": "python",
   "nbconvert_exporter": "python",
   "pygments_lexer": "ipython3",
   "version": "3.13.5"
  }
 },
 "nbformat": 4,
 "nbformat_minor": 5
}
