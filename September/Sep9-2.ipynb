{
 "cells": [
  {
   "cell_type": "code",
   "execution_count": 3,
   "id": "97623e8d-692d-4c09-913e-a0e4a86fd8ff",
   "metadata": {},
   "outputs": [],
   "source": [
    "def recurPalindrome(n, l=0, r=None):\n",
    "    if r is None:  \n",
    "        r = len(n) - 1\n",
    "\n",
    "    if n[l] != n[r]:\n",
    "        return False\n",
    "    if  l >= r:\n",
    "        return True\n",
    "    return recurPalindrome(n, l + 1, r - 1)"
   ]
  },
  {
   "cell_type": "code",
   "execution_count": 4,
   "id": "f1b29362-f0c6-4209-be88-0cfeca255567",
   "metadata": {},
   "outputs": [
    {
     "data": {
      "text/plain": [
       "True"
      ]
     },
     "execution_count": 4,
     "metadata": {},
     "output_type": "execute_result"
    }
   ],
   "source": [
    "recurPalindrome('ABBA')"
   ]
  },
  {
   "cell_type": "code",
   "execution_count": 5,
   "id": "80c00623-d4de-481a-aaf9-be549dfe7813",
   "metadata": {},
   "outputs": [
    {
     "data": {
      "text/plain": [
       "True"
      ]
     },
     "execution_count": 5,
     "metadata": {},
     "output_type": "execute_result"
    }
   ],
   "source": [
    "recurPalindrome([1,2,3,2,1])"
   ]
  },
  {
   "cell_type": "code",
   "execution_count": 6,
   "id": "0f23c686-0cab-4dee-9efa-4392314944e9",
   "metadata": {},
   "outputs": [
    {
     "data": {
      "text/plain": [
       "False"
      ]
     },
     "execution_count": 6,
     "metadata": {},
     "output_type": "execute_result"
    }
   ],
   "source": [
    "recurPalindrome('ANUJ')"
   ]
  },
  {
   "cell_type": "code",
   "execution_count": 7,
   "id": "e96059ce-c33c-43e9-8d08-bf44c39a44c9",
   "metadata": {},
   "outputs": [
    {
     "data": {
      "text/plain": [
       "False"
      ]
     },
     "execution_count": 7,
     "metadata": {},
     "output_type": "execute_result"
    }
   ],
   "source": [
    "recurPalindrome([1,2,3,4,5])"
   ]
  },
  {
   "cell_type": "code",
   "execution_count": null,
   "id": "7c533da5-c5f3-411f-afbd-ac9ab11aae0e",
   "metadata": {},
   "outputs": [],
   "source": []
  }
 ],
 "metadata": {
  "kernelspec": {
   "display_name": "Python 3 (ipykernel)",
   "language": "python",
   "name": "python3"
  },
  "language_info": {
   "codemirror_mode": {
    "name": "ipython",
    "version": 3
   },
   "file_extension": ".py",
   "mimetype": "text/x-python",
   "name": "python",
   "nbconvert_exporter": "python",
   "pygments_lexer": "ipython3",
   "version": "3.13.5"
  }
 },
 "nbformat": 4,
 "nbformat_minor": 5
}
