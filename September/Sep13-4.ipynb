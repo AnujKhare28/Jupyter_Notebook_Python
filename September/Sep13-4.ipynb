{
 "cells": [
  {
   "cell_type": "code",
   "execution_count": 2,
   "id": "99b1b08d-325c-409f-8df8-cc79874897e5",
   "metadata": {},
   "outputs": [
    {
     "name": "stdout",
     "output_type": "stream",
     "text": [
      "655\n"
     ]
    }
   ],
   "source": [
    "sharePrice = [100, 180, 260, 310, 40, 535, 695]\n",
    "\n",
    "n = len(sharePrice)\n",
    "\n",
    "maxProfit = 0\n",
    "minPrice = float('inf')\n",
    "\n",
    "for i in range(0,n): \n",
    "    minPrice = min(minPrice, sharePrice[i])\n",
    "    maxProfit = max(maxProfit,(sharePrice[i]-minPrice))\n",
    "\n",
    "print(maxProfit)"
   ]
  },
  {
   "cell_type": "code",
   "execution_count": null,
   "id": "9106cdfb-e953-45fd-80ea-bf4ac92bbcbe",
   "metadata": {},
   "outputs": [],
   "source": []
  }
 ],
 "metadata": {
  "kernelspec": {
   "display_name": "Python 3 (ipykernel)",
   "language": "python",
   "name": "python3"
  },
  "language_info": {
   "codemirror_mode": {
    "name": "ipython",
    "version": 3
   },
   "file_extension": ".py",
   "mimetype": "text/x-python",
   "name": "python",
   "nbconvert_exporter": "python",
   "pygments_lexer": "ipython3",
   "version": "3.13.5"
  }
 },
 "nbformat": 4,
 "nbformat_minor": 5
}
