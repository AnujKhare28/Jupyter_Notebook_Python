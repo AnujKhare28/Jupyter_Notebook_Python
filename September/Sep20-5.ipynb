{
 "cells": [
  {
   "cell_type": "code",
   "execution_count": 6,
   "id": "23805dce-1bb3-468a-ada4-33db69089306",
   "metadata": {},
   "outputs": [
    {
     "name": "stdin",
     "output_type": "stream",
     "text": [
      "Enter a number:  5\n"
     ]
    },
    {
     "name": "stdout",
     "output_type": "stream",
     "text": [
      "The Factorail of the 5 is 120\n"
     ]
    }
   ],
   "source": [
    "num = int(input(\"Enter a number: \"))\n",
    "\n",
    "fact = 1\n",
    "\n",
    "if num < 0 :\n",
    "    print (\"Factorial of negative no. does not exist\")\n",
    "if num == 0 :\n",
    "    print (\"Factorial of Zero is 1\")\n",
    "if num > 0 :\n",
    "    for i in range (1, num + 1):\n",
    "        fact = fact * i\n",
    "print (f\"The Factorail of the {num} is {fact}\")"
   ]
  },
  {
   "cell_type": "code",
   "execution_count": null,
   "id": "5463ef14-7484-4fe5-8bac-831cea7b99d2",
   "metadata": {},
   "outputs": [],
   "source": []
  }
 ],
 "metadata": {
  "kernelspec": {
   "display_name": "Python 3 (ipykernel)",
   "language": "python",
   "name": "python3"
  },
  "language_info": {
   "codemirror_mode": {
    "name": "ipython",
    "version": 3
   },
   "file_extension": ".py",
   "mimetype": "text/x-python",
   "name": "python",
   "nbconvert_exporter": "python",
   "pygments_lexer": "ipython3",
   "version": "3.13.5"
  }
 },
 "nbformat": 4,
 "nbformat_minor": 5
}
