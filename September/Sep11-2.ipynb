{
 "cells": [
  {
   "cell_type": "code",
   "execution_count": 2,
   "id": "7dae0701-091a-42cd-bb3d-cd6c5333fa7b",
   "metadata": {},
   "outputs": [
    {
     "name": "stdout",
     "output_type": "stream",
     "text": [
      "Parent show\n"
     ]
    }
   ],
   "source": [
    "# 143. Method Overriding \n",
    "class Parent: \n",
    "    def show(self): \n",
    "        print('Parent show')\n",
    "\n",
    "class Child(Parent): \n",
    "    pass \n",
    "    # def show(self): \n",
    "    #     print('Child show')\n",
    "\n",
    "c = Child()\n",
    "c.show()"
   ]
  },
  {
   "cell_type": "code",
   "execution_count": 3,
   "id": "cb5b6f88-a9fe-4a61-9d74-0f4b11562c6d",
   "metadata": {},
   "outputs": [
    {
     "name": "stdout",
     "output_type": "stream",
     "text": [
      "Vector sum: (5,6)\n"
     ]
    }
   ],
   "source": [
    "# 144. Operator Overloading \n",
    "class Vector: \n",
    "    def __init__(self, x,y): \n",
    "        self.x = x\n",
    "        self.y = y\n",
    "\n",
    "    def __add__(self, other): \n",
    "        x = self.x + other.x\n",
    "        y = self.y + other.y\n",
    "        return Vector(x,y)\n",
    "\n",
    "    def __str__(self): \n",
    "        return '(' + str(self.x) + ',' + str(self.y) + ')'\n",
    "\n",
    "v1 = Vector(3,1)\n",
    "v2 = Vector(2,5)\n",
    "v3 = v1 + v2\n",
    "\n",
    "print(\"Vector sum:\", v3)"
   ]
  },
  {
   "cell_type": "code",
   "execution_count": 4,
   "id": "69c2fd8c-3752-4e11-b088-182c47876e71",
   "metadata": {},
   "outputs": [
    {
     "name": "stdout",
     "output_type": "stream",
     "text": [
      "Child implementation 2\n"
     ]
    }
   ],
   "source": [
    "# 145. Abstract class \n",
    "from abc import ABC,abstractmethod\n",
    "class Parent(ABC): \n",
    "    def meth1(self): \n",
    "        print('Parent method 1')\n",
    "\n",
    "    @abstractmethod\n",
    "    def meth2(self): \n",
    "        pass\n",
    "\n",
    "class Child(Parent): \n",
    "    def meth3(self): \n",
    "        print(\"Child method 3\")\n",
    "\n",
    "    def meth2(self): \n",
    "        print(\"Child implementation 2\")\n",
    "\n",
    "c = Child()\n",
    "c.meth2()"
   ]
  }
 ],
 "metadata": {
  "kernelspec": {
   "display_name": "Python [conda env:base] *",
   "language": "python",
   "name": "conda-base-py"
  },
  "language_info": {
   "codemirror_mode": {
    "name": "ipython",
    "version": 3
   },
   "file_extension": ".py",
   "mimetype": "text/x-python",
   "name": "python",
   "nbconvert_exporter": "python",
   "pygments_lexer": "ipython3",
   "version": "3.12.7"
  }
 },
 "nbformat": 4,
 "nbformat_minor": 5
}
