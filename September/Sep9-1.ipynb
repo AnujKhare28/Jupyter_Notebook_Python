{
 "cells": [
  {
   "cell_type": "code",
   "execution_count": 8,
   "id": "c43a1cb7-5487-4733-adca-968046988a79",
   "metadata": {},
   "outputs": [],
   "source": [
    "def palindrome(n): \n",
    "    left = 0 \n",
    "    right = len(n)-1\n",
    "    \n",
    "    while left < right: \n",
    "        if n[left] != n[right]: \n",
    "            return False\n",
    "        left += 1\n",
    "        right -= 1\n",
    "    return True"
   ]
  },
  {
   "cell_type": "code",
   "execution_count": 9,
   "id": "fdcc098b-ba63-4916-a0c7-1c9dfa3d8a4e",
   "metadata": {},
   "outputs": [
    {
     "data": {
      "text/plain": [
       "True"
      ]
     },
     "execution_count": 9,
     "metadata": {},
     "output_type": "execute_result"
    }
   ],
   "source": [
    "palindrome('ABBA')"
   ]
  },
  {
   "cell_type": "code",
   "execution_count": 10,
   "id": "e9b74fe1-7ef3-4e10-9611-18628ec9df46",
   "metadata": {},
   "outputs": [
    {
     "data": {
      "text/plain": [
       "True"
      ]
     },
     "execution_count": 10,
     "metadata": {},
     "output_type": "execute_result"
    }
   ],
   "source": [
    "palindrome([1,2,3,2,1])"
   ]
  },
  {
   "cell_type": "code",
   "execution_count": 11,
   "id": "393e46e9-7e82-4791-a41a-9c031cf75d46",
   "metadata": {},
   "outputs": [
    {
     "data": {
      "text/plain": [
       "False"
      ]
     },
     "execution_count": 11,
     "metadata": {},
     "output_type": "execute_result"
    }
   ],
   "source": [
    "palindrome('anuj')"
   ]
  },
  {
   "cell_type": "code",
   "execution_count": 12,
   "id": "1c29c024-70f1-4348-bfab-5e6d0b770a68",
   "metadata": {},
   "outputs": [
    {
     "data": {
      "text/plain": [
       "False"
      ]
     },
     "execution_count": 12,
     "metadata": {},
     "output_type": "execute_result"
    }
   ],
   "source": [
    "palindrome([1,2,3,4,5])"
   ]
  },
  {
   "cell_type": "code",
   "execution_count": null,
   "id": "25397f77-6253-4ad8-9a1f-d2ea4720bef2",
   "metadata": {},
   "outputs": [],
   "source": []
  }
 ],
 "metadata": {
  "kernelspec": {
   "display_name": "Python 3 (ipykernel)",
   "language": "python",
   "name": "python3"
  },
  "language_info": {
   "codemirror_mode": {
    "name": "ipython",
    "version": 3
   },
   "file_extension": ".py",
   "mimetype": "text/x-python",
   "name": "python",
   "nbconvert_exporter": "python",
   "pygments_lexer": "ipython3",
   "version": "3.13.5"
  }
 },
 "nbformat": 4,
 "nbformat_minor": 5
}
