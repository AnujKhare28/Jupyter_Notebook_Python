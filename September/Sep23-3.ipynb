{
 "cells": [
  {
   "cell_type": "code",
   "execution_count": 5,
   "id": "9b8a063d-189a-4a2b-b176-3c786c91f575",
   "metadata": {},
   "outputs": [
    {
     "name": "stdin",
     "output_type": "stream",
     "text": [
      "Enter a string: hello\n",
      "Enter copies of string: 3\n"
     ]
    },
    {
     "data": {
      "text/plain": [
       "'hehehe'"
      ]
     },
     "execution_count": 5,
     "metadata": {},
     "output_type": "execute_result"
    }
   ],
   "source": [
    "def str_prefix(string):\n",
    "    if len(string) < 2: \n",
    "        return n*string\n",
    "    else: \n",
    "        return n*string[:2]\n",
    "string = input(\"Enter a string:\")\n",
    "n = int(input(\"Enter copies of string:\"))\n",
    "str_prefix(string)"
   ]
  }
 ],
 "metadata": {
  "kernelspec": {
   "display_name": "Python [conda env:base] *",
   "language": "python",
   "name": "conda-base-py"
  },
  "language_info": {
   "codemirror_mode": {
    "name": "ipython",
    "version": 3
   },
   "file_extension": ".py",
   "mimetype": "text/x-python",
   "name": "python",
   "nbconvert_exporter": "python",
   "pygments_lexer": "ipython3",
   "version": "3.12.7"
  }
 },
 "nbformat": 4,
 "nbformat_minor": 5
}
