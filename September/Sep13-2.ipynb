{
 "cells": [
  {
   "cell_type": "code",
   "execution_count": 3,
   "id": "45b4ffba-da5c-47c1-8265-07c1787abf00",
   "metadata": {},
   "outputs": [
    {
     "name": "stdout",
     "output_type": "stream",
     "text": [
      "116\n"
     ]
    }
   ],
   "source": [
    "arr = [1,4,5,3,2]\n",
    "n = len(arr)\n",
    "\n",
    "result = 0\n",
    "\n",
    "for i in range(n):\n",
    "\n",
    "    temp = 0\n",
    "\n",
    "    for j in range(i, n):\n",
    "\n",
    "        temp += arr[j]\n",
    "\n",
    "        result += temp\n",
    "\n",
    "print(result)"
   ]
  },
  {
   "cell_type": "code",
   "execution_count": null,
   "id": "37fd951a-5143-42d5-8c59-3c0a82b6e840",
   "metadata": {},
   "outputs": [],
   "source": []
  }
 ],
 "metadata": {
  "kernelspec": {
   "display_name": "Python 3 (ipykernel)",
   "language": "python",
   "name": "python3"
  },
  "language_info": {
   "codemirror_mode": {
    "name": "ipython",
    "version": 3
   },
   "file_extension": ".py",
   "mimetype": "text/x-python",
   "name": "python",
   "nbconvert_exporter": "python",
   "pygments_lexer": "ipython3",
   "version": "3.13.5"
  }
 },
 "nbformat": 4,
 "nbformat_minor": 5
}
