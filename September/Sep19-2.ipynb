{
 "cells": [
  {
   "cell_type": "code",
   "execution_count": 1,
   "id": "3601cc45-2fe3-4169-af45-dbb7a3f84013",
   "metadata": {},
   "outputs": [],
   "source": [
    "def missingNum(arr):\n",
    "\n",
    "    n = len(arr) + 1\n",
    "\n",
    "    for i in range(1, (n+1)): \n",
    "        found = False\n",
    "\n",
    "        for j in range(n-1): \n",
    "            if arr[j] == i: \n",
    "                found = True\n",
    "                break\n",
    "        if not found: \n",
    "            return i\n",
    "    return -1"
   ]
  },
  {
   "cell_type": "code",
   "execution_count": 2,
   "id": "96ef3464-4f22-4864-b037-d5a2c494ae1b",
   "metadata": {},
   "outputs": [
    {
     "data": {
      "text/plain": [
       "6"
      ]
     },
     "execution_count": 2,
     "metadata": {},
     "output_type": "execute_result"
    }
   ],
   "source": [
    "arr = [8, 2, 4, 5, 3, 7, 1]\n",
    "missingNum(arr)"
   ]
  },
  {
   "cell_type": "code",
   "execution_count": null,
   "id": "43516dae-a8d9-48a4-ab4f-7bceb1cfd7e2",
   "metadata": {},
   "outputs": [],
   "source": []
  }
 ],
 "metadata": {
  "kernelspec": {
   "display_name": "Python 3 (ipykernel)",
   "language": "python",
   "name": "python3"
  },
  "language_info": {
   "codemirror_mode": {
    "name": "ipython",
    "version": 3
   },
   "file_extension": ".py",
   "mimetype": "text/x-python",
   "name": "python",
   "nbconvert_exporter": "python",
   "pygments_lexer": "ipython3",
   "version": "3.13.5"
  }
 },
 "nbformat": 4,
 "nbformat_minor": 5
}
