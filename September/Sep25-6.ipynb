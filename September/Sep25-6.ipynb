{
 "cells": [
  {
   "cell_type": "code",
   "execution_count": 3,
   "id": "ef35d0a8-c41f-4c78-8b82-0af1446b28b6",
   "metadata": {},
   "outputs": [
    {
     "name": "stdout",
     "output_type": "stream",
     "text": [
      "False\n",
      "False\n"
     ]
    }
   ],
   "source": [
    "# os.path module to work with file and directory paths.\n",
    "import os.path\n",
    "\n",
    "# Check if 'main.txt' is a file and print the result.\n",
    "print(os.path.isfile('main.txt'))\n",
    "\n",
    "# Check if 'main.py' is a file and print the result.\n",
    "print(os.path.isfile('myModule.py'))"
   ]
  }
 ],
 "metadata": {
  "kernelspec": {
   "display_name": "Python [conda env:base] *",
   "language": "python",
   "name": "conda-base-py"
  },
  "language_info": {
   "codemirror_mode": {
    "name": "ipython",
    "version": 3
   },
   "file_extension": ".py",
   "mimetype": "text/x-python",
   "name": "python",
   "nbconvert_exporter": "python",
   "pygments_lexer": "ipython3",
   "version": "3.12.7"
  }
 },
 "nbformat": 4,
 "nbformat_minor": 5
}
