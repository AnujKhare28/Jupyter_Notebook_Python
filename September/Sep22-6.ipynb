{
 "cells": [
  {
   "cell_type": "code",
   "execution_count": 5,
   "id": "20074278-9a24-43b7-acf9-2c863b687c31",
   "metadata": {},
   "outputs": [
    {
     "name": "stdout",
     "output_type": "stream",
     "text": [
      "Set\n"
     ]
    }
   ],
   "source": [
    "x = {1,2.3,'Hello', False}\n",
    "if type(x) is list: \n",
    "    print(\"List\")\n",
    "elif type(x) is tuple: \n",
    "    print(\"Tuple\")\n",
    "elif type(x) is set: \n",
    "    print(\"Set\")\n",
    "else: \n",
    "    print(\"Neither a list nor a set nor a tuple\")"
   ]
  }
 ],
 "metadata": {
  "kernelspec": {
   "display_name": "Python [conda env:base] *",
   "language": "python",
   "name": "conda-base-py"
  },
  "language_info": {
   "codemirror_mode": {
    "name": "ipython",
    "version": 3
   },
   "file_extension": ".py",
   "mimetype": "text/x-python",
   "name": "python",
   "nbconvert_exporter": "python",
   "pygments_lexer": "ipython3",
   "version": "3.12.7"
  }
 },
 "nbformat": 4,
 "nbformat_minor": 5
}
