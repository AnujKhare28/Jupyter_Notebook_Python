{
 "cells": [
  {
   "cell_type": "code",
   "execution_count": 1,
   "id": "b01c88e6-7e47-42d1-afd2-96d794ef10da",
   "metadata": {},
   "outputs": [
    {
     "name": "stdout",
     "output_type": "stream",
     "text": [
      "*  \n",
      "* *  \n",
      "* * *  \n",
      "* * * *  \n",
      "* * * * *  \n",
      "* * * * * *  \n"
     ]
    }
   ],
   "source": [
    "# 56. Pattern 3 \n",
    "for s in range(6): \n",
    "    for t in range(6): \n",
    "        if s>=t: \n",
    "            print('*', end=' ')\n",
    "    print(' ')"
   ]
  },
  {
   "cell_type": "code",
   "execution_count": 3,
   "id": "475d7b87-bfd2-4e29-a58a-99b9bd7bd9c5",
   "metadata": {},
   "outputs": [
    {
     "name": "stdin",
     "output_type": "stream",
     "text": [
      "Enter day number: 3\n"
     ]
    },
    {
     "name": "stdout",
     "output_type": "stream",
     "text": [
      "Wednesday\n"
     ]
    }
   ],
   "source": [
    "# 57. Match Case \n",
    "day = int(input(\"Enter day number:\"))\n",
    "match day: \n",
    "    case 1: \n",
    "        print(\"Monday\")\n",
    "    case 2: \n",
    "        print(\"Tuesday\")\n",
    "    case 3: \n",
    "        print(\"Wednesday\")\n",
    "    case 4: \n",
    "        print(\"Thursday\")\n",
    "    case 5: \n",
    "        print(\"Friday\")\n",
    "    case 6: \n",
    "        print(\"Saturday\")\n",
    "    case _: \n",
    "        print(\"Sunday\")"
   ]
  },
  {
   "cell_type": "code",
   "execution_count": 8,
   "id": "85bf75c4-966a-4467-98d7-257764c94997",
   "metadata": {},
   "outputs": [
    {
     "name": "stdin",
     "output_type": "stream",
     "text": [
      "Enter a string: python\n"
     ]
    },
    {
     "name": "stdout",
     "output_type": "stream",
     "text": [
      "h n o p t y\n"
     ]
    }
   ],
   "source": [
    "# 58. String sorting \n",
    "s = input(\"Enter a string:\")\n",
    "S = sorted(s)\n",
    "Str = ' '.join(S)\n",
    "print(Str)"
   ]
  },
  {
   "cell_type": "code",
   "execution_count": 16,
   "id": "ac9a2269-4276-4be5-abd7-e5bb37c1cf4a",
   "metadata": {},
   "outputs": [
    {
     "name": "stdin",
     "output_type": "stream",
     "text": [
      "Enter item name: Pizza\n",
      "Enter item price: 120\n"
     ]
    },
    {
     "name": "stdout",
     "output_type": "stream",
     "text": [
      "Pizza .......... 120\n"
     ]
    }
   ],
   "source": [
    "# 59. Menu Card \n",
    "item = input(\"Enter item name:\")\n",
    "price = int(input(\"Enter item price:\"))\n",
    "dots = '.' \n",
    "menu = item +' '+ str(dots*10)+' '+ str(price) \n",
    "print(menu)"
   ]
  },
  {
   "cell_type": "code",
   "execution_count": 21,
   "id": "2e4fd74f-4c9b-43a4-baa4-f7fcfadcd530",
   "metadata": {},
   "outputs": [
    {
     "name": "stdin",
     "output_type": "stream",
     "text": [
      "Enter password: AS12\n",
      "Confirm password: as12\n"
     ]
    },
    {
     "name": "stdout",
     "output_type": "stream",
     "text": [
      "Password matches but case doesn't\n"
     ]
    }
   ],
   "source": [
    "# 60. Confirm Password \n",
    "pswd = input(\"Enter password:\")\n",
    "conf_pswd = input(\"Confirm password:\")\n",
    "if pswd == conf_pswd:\n",
    "    print(\"Password confirmed\")\n",
    "elif pswd.lower() == conf_pswd.lower(): \n",
    "    print(\"Password matches but case doesn't\")\n",
    "else: \n",
    "    print(\"Password doesn't match\")"
   ]
  }
 ],
 "metadata": {
  "kernelspec": {
   "display_name": "Python 3 (ipykernel)",
   "language": "python",
   "name": "python3"
  },
  "language_info": {
   "codemirror_mode": {
    "name": "ipython",
    "version": 3
   },
   "file_extension": ".py",
   "mimetype": "text/x-python",
   "name": "python",
   "nbconvert_exporter": "python",
   "pygments_lexer": "ipython3",
   "version": "3.12.7"
  }
 },
 "nbformat": 4,
 "nbformat_minor": 5
}
