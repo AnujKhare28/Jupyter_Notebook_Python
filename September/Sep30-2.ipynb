{
 "cells": [
  {
   "cell_type": "markdown",
   "id": "30f1db5f-88f2-4471-8922-2dff56ff774f",
   "metadata": {},
   "source": [
    "### Property Method"
   ]
  },
  {
   "cell_type": "code",
   "execution_count": 2,
   "id": "fbac27fd-7c96-4a49-8671-fc0823360347",
   "metadata": {},
   "outputs": [
    {
     "name": "stdout",
     "output_type": "stream",
     "text": [
      "10\n",
      "1\n"
     ]
    }
   ],
   "source": [
    "class Rectangle:\n",
    "    \n",
    "    def __init__(self, l, b): \n",
    "        self.length = l\n",
    "        self.breadth = b \n",
    "\n",
    "    @property\n",
    "    def length(self):\n",
    "        return self._length\n",
    "\n",
    "    @length.setter\n",
    "    def length(self, l): \n",
    "        if l >= 0:\n",
    "            self._length = l\n",
    "        else: \n",
    "            self._length = 1\n",
    "\n",
    "r = Rectangle(10,5)\n",
    "print(r.length)\n",
    "r.length = -9\n",
    "print(r.length)"
   ]
  },
  {
   "cell_type": "markdown",
   "id": "81be9fc7-604a-40cc-af95-386a726cce0c",
   "metadata": {},
   "source": [
    "## Inheritance"
   ]
  },
  {
   "cell_type": "code",
   "execution_count": 2,
   "id": "70d5c4c3-402b-4d3e-a61e-e86947cdde33",
   "metadata": {},
   "outputs": [
    {
     "name": "stdout",
     "output_type": "stream",
     "text": [
      "150\n"
     ]
    }
   ],
   "source": [
    "class Rectangle:\n",
    "    \n",
    "    def __init__(self,l,b):\n",
    "        self.length = l\n",
    "        self.breadth = b\n",
    "        \n",
    "    def area(self):\n",
    "        return self.length * self.breadth\n",
    "        \n",
    "    def perimeter(self): \n",
    "        return 2 * (self.length + self.breadth)\n",
    "\n",
    "class Cuboid(Rectangle):\n",
    "\n",
    "    def __init__(self,l,b,h):\n",
    "        self.height = h\n",
    "        super().__init__(l,b) # Constructor\n",
    "\n",
    "    def vol(self):\n",
    "        return self.length * self.breadth * self.height\n",
    "\n",
    "c = Cuboid(10,5,3)\n",
    "print(c.vol())"
   ]
  },
  {
   "cell_type": "markdown",
   "id": "8937c847-e4c3-4ad8-8240-c7a887542367",
   "metadata": {},
   "source": [
    "### Nested Class"
   ]
  },
  {
   "cell_type": "code",
   "execution_count": 3,
   "id": "65c317af-3be1-4042-9247-c55499deac25",
   "metadata": {},
   "outputs": [
    {
     "name": "stdout",
     "output_type": "stream",
     "text": [
      "Anuj Khare\n"
     ]
    }
   ],
   "source": [
    "class Outer:\n",
    "    def __init__(self): \n",
    "        self.in_obj = self.Inner()\n",
    "\n",
    "    def show(self): \n",
    "        self.in_obj.show()\n",
    "\n",
    "    class Inner:\n",
    "        def __init__(self): \n",
    "            self.idata = 'Anuj Khare'\n",
    "\n",
    "        def show(self): \n",
    "            print(self.idata)\n",
    "\n",
    "o = Outer()\n",
    "o.show()"
   ]
  },
  {
   "cell_type": "markdown",
   "id": "2a500b11-dba6-4c8e-a77e-0be1fd6aa811",
   "metadata": {},
   "source": [
    "## Polymorphism"
   ]
  },
  {
   "cell_type": "code",
   "execution_count": 1,
   "id": "7fe7b858-0aeb-466d-af0e-47389134550b",
   "metadata": {},
   "outputs": [],
   "source": [
    "class Duck: \n",
    "    \n",
    "    def talk(self): \n",
    "        print('Duck Talking')\n",
    "\n",
    "    def walk(self): \n",
    "        print('Duck Walking')\n",
    "\n",
    "class Dog: \n",
    "\n",
    "    def talk(self): \n",
    "        print('Dog Talking')\n",
    "\n",
    "    def walk(self): \n",
    "        print('Dog Walking')\n",
    "\n",
    "def person(pet): \n",
    "    pet.talk()\n",
    "    pet.walk()"
   ]
  },
  {
   "cell_type": "code",
   "execution_count": 2,
   "id": "d27ce376-454f-4b15-9fba-f8759bf48582",
   "metadata": {},
   "outputs": [
    {
     "name": "stdout",
     "output_type": "stream",
     "text": [
      "Duck Talking\n",
      "Duck Walking\n"
     ]
    }
   ],
   "source": [
    "duck = Duck()\n",
    "person(duck)"
   ]
  },
  {
   "cell_type": "code",
   "execution_count": 3,
   "id": "f30d5967-4716-4708-aef3-5513dbdc528f",
   "metadata": {},
   "outputs": [
    {
     "name": "stdout",
     "output_type": "stream",
     "text": [
      "Dog Talking\n",
      "Dog Walking\n"
     ]
    }
   ],
   "source": [
    "dog = Dog()\n",
    "person(dog)"
   ]
  },
  {
   "cell_type": "markdown",
   "id": "978ea30e-479d-4208-bb3d-acfa5703dc3b",
   "metadata": {},
   "source": [
    "### Vector Addition"
   ]
  },
  {
   "cell_type": "code",
   "execution_count": 7,
   "id": "e8c241f4-d332-493f-88b4-89f9ae4e93f2",
   "metadata": {},
   "outputs": [],
   "source": [
    "class Vector: \n",
    "    \n",
    "    def __init__(self,x,y): \n",
    "        self.x = x\n",
    "        self.y = y\n",
    "\n",
    "    def __add__(self, other): \n",
    "        x = self.x + other.x\n",
    "        y = self.y + other.y\n",
    "        return Vector(x,y)\n",
    "\n",
    "    def __str__(self): \n",
    "        return '(' + str(self.x) + ',' + str(self.y) + ')'"
   ]
  },
  {
   "cell_type": "code",
   "execution_count": 8,
   "id": "6dd2ca56-5b25-496e-bbcf-5cf0666cfd3a",
   "metadata": {},
   "outputs": [
    {
     "name": "stdout",
     "output_type": "stream",
     "text": [
      "Vector Sum: (5,6)\n"
     ]
    }
   ],
   "source": [
    "v1 = Vector(3,1)\n",
    "v2 = Vector(2,5)\n",
    "v3 = v1 + v2\n",
    "print('Vector Sum:', v3)"
   ]
  },
  {
   "cell_type": "code",
   "execution_count": null,
   "id": "e5839518-f8e2-4e1a-87f2-8c78da6528c6",
   "metadata": {},
   "outputs": [],
   "source": []
  }
 ],
 "metadata": {
  "kernelspec": {
   "display_name": "Python 3 (ipykernel)",
   "language": "python",
   "name": "python3"
  },
  "language_info": {
   "codemirror_mode": {
    "name": "ipython",
    "version": 3
   },
   "file_extension": ".py",
   "mimetype": "text/x-python",
   "name": "python",
   "nbconvert_exporter": "python",
   "pygments_lexer": "ipython3",
   "version": "3.13.5"
  }
 },
 "nbformat": 4,
 "nbformat_minor": 5
}
