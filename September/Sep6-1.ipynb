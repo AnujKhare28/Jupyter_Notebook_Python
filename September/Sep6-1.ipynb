{
 "cells": [
  {
   "cell_type": "code",
   "execution_count": 11,
   "id": "c74a1efd-d27c-4abe-bea4-19edaabd8fec",
   "metadata": {},
   "outputs": [],
   "source": [
    "def Arm(n):\n",
    "    num = n\n",
    "    total = 0 \n",
    "    pow = len(str(n))\n",
    "    while n> 0:\n",
    "        ld = n % 10\n",
    "        n = n // 10\n",
    "        # print(ld)\n",
    "        total = total + (ld**pow)\n",
    "        # print(total)\n",
    "    if total == num:\n",
    "        return True\n",
    "    else: \n",
    "        return False\n",
    "    "
   ]
  },
  {
   "cell_type": "code",
   "execution_count": 12,
   "id": "021df461-360d-443d-938a-6e305cfe14db",
   "metadata": {},
   "outputs": [
    {
     "data": {
      "text/plain": [
       "True"
      ]
     },
     "execution_count": 12,
     "metadata": {},
     "output_type": "execute_result"
    }
   ],
   "source": [
    "Arm(153)"
   ]
  },
  {
   "cell_type": "code",
   "execution_count": 13,
   "id": "088cdf06-2d63-4ff5-8b25-033e163d3ef4",
   "metadata": {},
   "outputs": [
    {
     "data": {
      "text/plain": [
       "False"
      ]
     },
     "execution_count": 13,
     "metadata": {},
     "output_type": "execute_result"
    }
   ],
   "source": [
    "Arm(456)"
   ]
  },
  {
   "cell_type": "code",
   "execution_count": null,
   "id": "fd3b8965-05e2-44d6-8df6-9bd9d4304949",
   "metadata": {},
   "outputs": [],
   "source": []
  }
 ],
 "metadata": {
  "kernelspec": {
   "display_name": "Python 3 (ipykernel)",
   "language": "python",
   "name": "python3"
  },
  "language_info": {
   "codemirror_mode": {
    "name": "ipython",
    "version": 3
   },
   "file_extension": ".py",
   "mimetype": "text/x-python",
   "name": "python",
   "nbconvert_exporter": "python",
   "pygments_lexer": "ipython3",
   "version": "3.13.5"
  }
 },
 "nbformat": 4,
 "nbformat_minor": 5
}
