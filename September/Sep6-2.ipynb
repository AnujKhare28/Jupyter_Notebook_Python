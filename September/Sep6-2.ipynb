{
 "cells": [
  {
   "cell_type": "code",
   "execution_count": 1,
   "id": "c6eec219-c01c-4027-b9b9-ab9f532bb47f",
   "metadata": {},
   "outputs": [],
   "source": [
    "def fators(n): \n",
    "    res = []\n",
    "\n",
    "    for i in range(1, n+1): \n",
    "        if n%i == 0: \n",
    "            res.append(i)\n",
    "    return res"
   ]
  },
  {
   "cell_type": "code",
   "execution_count": 4,
   "id": "4ca534fd-5615-4571-98dc-f88d66894f4a",
   "metadata": {},
   "outputs": [
    {
     "data": {
      "text/plain": [
       "[1, 2, 3, 4, 6, 8, 12, 16, 24, 32, 48, 96]"
      ]
     },
     "execution_count": 4,
     "metadata": {},
     "output_type": "execute_result"
    }
   ],
   "source": [
    "fators(96)"
   ]
  },
  {
   "cell_type": "code",
   "execution_count": 16,
   "id": "bff27e41-bb1e-4f62-9b13-4ba01da10312",
   "metadata": {},
   "outputs": [],
   "source": [
    "def Optfators(n): \n",
    "    res = []\n",
    "\n",
    "    for i in range(1, (n//2)): \n",
    "        if n%i == 0: \n",
    "            res.append(i)\n",
    "    res.append((n//2))\n",
    "    res.append(n)\n",
    "    return res"
   ]
  },
  {
   "cell_type": "code",
   "execution_count": 17,
   "id": "f73c657d-0217-4715-addf-6d8bcedaea49",
   "metadata": {},
   "outputs": [
    {
     "data": {
      "text/plain": [
       "[1, 2, 3, 4, 6, 8, 12, 16, 24, 32, 48, 96]"
      ]
     },
     "execution_count": 17,
     "metadata": {},
     "output_type": "execute_result"
    }
   ],
   "source": [
    "Optfators(96)"
   ]
  },
  {
   "cell_type": "code",
   "execution_count": 20,
   "id": "cef14d6d-17a5-4f3e-915f-d06dd18831d1",
   "metadata": {},
   "outputs": [],
   "source": [
    "from math import sqrt\n",
    "def Opt2Factors(n): \n",
    "    result = []\n",
    "    for i in range (1, int(sqrt(n))+1): \n",
    "        if n%i == 0: \n",
    "            result.append(i)\n",
    "            if n//i != i: \n",
    "                result.append(n//i)\n",
    "\n",
    "    return sorted(result)"
   ]
  },
  {
   "cell_type": "code",
   "execution_count": 22,
   "id": "1909c925-f572-4df6-b305-e22dd848bdf8",
   "metadata": {},
   "outputs": [
    {
     "data": {
      "text/plain": [
       "[1, 2, 3, 4, 6, 8, 12, 19, 24, 38, 57, 76, 114, 152, 228, 456]"
      ]
     },
     "execution_count": 22,
     "metadata": {},
     "output_type": "execute_result"
    }
   ],
   "source": [
    "Opt2Factors(456)"
   ]
  },
  {
   "cell_type": "code",
   "execution_count": null,
   "id": "890f3867-fdec-48bf-9f08-885a9dcc781c",
   "metadata": {},
   "outputs": [],
   "source": []
  }
 ],
 "metadata": {
  "kernelspec": {
   "display_name": "Python 3 (ipykernel)",
   "language": "python",
   "name": "python3"
  },
  "language_info": {
   "codemirror_mode": {
    "name": "ipython",
    "version": 3
   },
   "file_extension": ".py",
   "mimetype": "text/x-python",
   "name": "python",
   "nbconvert_exporter": "python",
   "pygments_lexer": "ipython3",
   "version": "3.13.5"
  }
 },
 "nbformat": 4,
 "nbformat_minor": 5
}
