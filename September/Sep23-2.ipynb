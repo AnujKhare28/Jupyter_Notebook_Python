{
 "cells": [
  {
   "cell_type": "code",
   "execution_count": 2,
   "id": "13f3e9d1-6b5d-4790-999e-7daa21625561",
   "metadata": {},
   "outputs": [
    {
     "name": "stdout",
     "output_type": "stream",
     "text": [
      "He\n",
      "Hello.\n",
      "Hello. I s\n",
      "Hello. I study\n",
      "Hello. I study Pyt\n"
     ]
    }
   ],
   "source": [
    "S = 'Hello. I study Python daily.'\n",
    "print('%.2s' % S)\n",
    "print('%.6s' % S)\n",
    "print('%.10s' % S)\n",
    "print('%.14s' % S)\n",
    "print('%.18s' % S)"
   ]
  }
 ],
 "metadata": {
  "kernelspec": {
   "display_name": "Python [conda env:base] *",
   "language": "python",
   "name": "conda-base-py"
  },
  "language_info": {
   "codemirror_mode": {
    "name": "ipython",
    "version": 3
   },
   "file_extension": ".py",
   "mimetype": "text/x-python",
   "name": "python",
   "nbconvert_exporter": "python",
   "pygments_lexer": "ipython3",
   "version": "3.12.7"
  }
 },
 "nbformat": 4,
 "nbformat_minor": 5
}
