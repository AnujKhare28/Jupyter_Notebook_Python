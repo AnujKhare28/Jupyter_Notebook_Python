{
 "cells": [
  {
   "cell_type": "code",
   "execution_count": 1,
   "id": "c53700bf-d715-4ed5-a7d8-ab14ec13d846",
   "metadata": {},
   "outputs": [
    {
     "name": "stdout",
     "output_type": "stream",
     "text": [
      "[['apple' 'banana']\n",
      " ['cherry' 'date']\n",
      " ['elderberry' 'fig']]\n",
      "<class 'numpy.ndarray'>\n",
      "<U10\n"
     ]
    }
   ],
   "source": [
    "import numpy as np\n",
    "\n",
    "list_of_strings = [\n",
    "    [\"apple\", \"banana\"],\n",
    "    [\"cherry\", \"date\"],\n",
    "    [\"elderberry\", \"fig\"]\n",
    "]\n",
    "\n",
    "numpy_array_of_strings = np.array(list_of_strings)\n",
    "\n",
    "print(numpy_array_of_strings)\n",
    "print(type(numpy_array_of_strings))\n",
    "print(numpy_array_of_strings.dtype)"
   ]
  },
  {
   "cell_type": "code",
   "execution_count": null,
   "id": "40a0bf96-e455-466e-a778-c2c65a9a6c96",
   "metadata": {},
   "outputs": [],
   "source": []
  }
 ],
 "metadata": {
  "kernelspec": {
   "display_name": "Python 3 (ipykernel)",
   "language": "python",
   "name": "python3"
  },
  "language_info": {
   "codemirror_mode": {
    "name": "ipython",
    "version": 3
   },
   "file_extension": ".py",
   "mimetype": "text/x-python",
   "name": "python",
   "nbconvert_exporter": "python",
   "pygments_lexer": "ipython3",
   "version": "3.13.5"
  }
 },
 "nbformat": 4,
 "nbformat_minor": 5
}
