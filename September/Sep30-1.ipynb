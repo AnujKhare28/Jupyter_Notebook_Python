{
 "cells": [
  {
   "cell_type": "markdown",
   "id": "d9f3bde6-0786-4d8d-83df-e264aefafd1c",
   "metadata": {},
   "source": [
    "### Writing Classes"
   ]
  },
  {
   "cell_type": "code",
   "execution_count": 5,
   "id": "6f625799-47ec-425a-909a-4c54eacc1e62",
   "metadata": {},
   "outputs": [
    {
     "name": "stdout",
     "output_type": "stream",
     "text": [
      "Length: 10\n",
      "Breadth: 5\n",
      "Area: 50\n",
      "Perimeter: 30\n"
     ]
    }
   ],
   "source": [
    "class Rectangle:\n",
    "    def __init__(self):\n",
    "        self.length = 10\n",
    "        self.breadth = 5\n",
    "    def area(self):\n",
    "        return self.length * self.breadth\n",
    "    def perimeter(self): \n",
    "        return 2 * (self.length + self.breadth)\n",
    "\n",
    "r = Rectangle()\n",
    "print(\"Length:\", r.length)\n",
    "print(\"Breadth:\", r.breadth)\n",
    "print(\"Area:\", r.area())\n",
    "print(\"Perimeter:\", r.perimeter())"
   ]
  },
  {
   "cell_type": "code",
   "execution_count": 12,
   "id": "41c1abdd-71f8-4a2b-ade6-f2975ba5e5e3",
   "metadata": {},
   "outputs": [
    {
     "name": "stdout",
     "output_type": "stream",
     "text": [
      "Length: 15\n",
      "Breadth: 8\n",
      "Area: 120\n",
      "Perimeter: 46\n"
     ]
    }
   ],
   "source": [
    "class Rectangle:\n",
    "    def __init__(self, l, b): \n",
    "        self.length = l #Instance Variable\n",
    "        self.breadth = b #Instance Variable\n",
    "    def area(self): #Instance Method\n",
    "        return self.length * self.breadth\n",
    "    def perimeter(self):  #Instance Method\n",
    "        return 2 * (self.length + self.breadth)\n",
    "\n",
    "r1 = Rectangle(15,8)\n",
    "print(\"Length:\", r1.length)\n",
    "print(\"Breadth:\", r1.breadth)\n",
    "print(\"Area:\", r1.area())\n",
    "print(\"Perimeter:\", r1.perimeter())"
   ]
  },
  {
   "cell_type": "markdown",
   "id": "0dc6a8ee-f462-4303-8748-1e148315b4c4",
   "metadata": {},
   "source": [
    "### Class Variable & Method"
   ]
  },
  {
   "cell_type": "code",
   "execution_count": 14,
   "id": "680947c3-9370-4e85-a13a-7f6e0faa07ee",
   "metadata": {},
   "outputs": [
    {
     "name": "stdout",
     "output_type": "stream",
     "text": [
      "2\n"
     ]
    },
    {
     "data": {
      "text/plain": [
       "2"
      ]
     },
     "execution_count": 14,
     "metadata": {},
     "output_type": "execute_result"
    }
   ],
   "source": [
    "class Rectangle:\n",
    "    count = 0 # class Variable\n",
    "    def __init__(self, l, b): \n",
    "        self.length = l\n",
    "        self.breadth = b \n",
    "        Rectangle.count += 1\n",
    "    def area(self): \n",
    "        return self.length * self.breadth\n",
    "    def perimeter(self):  \n",
    "        return 2 * (self.length + self.breadth)\n",
    "\n",
    "    @classmethod #Class Method (@classmethod is called Decorator)\n",
    "    def get_count(cls):\n",
    "        return cls.count\n",
    "\n",
    "r1 = Rectangle(15,8)\n",
    "r2 = Rectangle(7,3)\n",
    "\n",
    "print(Rectangle.get_count())\n",
    "r1.get_count()"
   ]
  },
  {
   "cell_type": "markdown",
   "id": "d9c8b6b2-be9d-4908-8d50-1a208125503e",
   "metadata": {},
   "source": [
    "### Static Method"
   ]
  },
  {
   "cell_type": "code",
   "execution_count": 15,
   "id": "ce4eb872-fa3c-4eb5-acee-5fb12eb6945d",
   "metadata": {},
   "outputs": [
    {
     "name": "stdout",
     "output_type": "stream",
     "text": [
      "70\n"
     ]
    }
   ],
   "source": [
    "class Rectangle:\n",
    "    \n",
    "    def __init__(self, l, b): \n",
    "        self.length = l\n",
    "        self.breadth = b \n",
    "        Rectangle.count += 1\n",
    "        \n",
    "    def area(self): \n",
    "        return self.length * self.breadth\n",
    "        \n",
    "    def perimeter(self):  \n",
    "        return 2 * (self.length + self.breadth)\n",
    "\n",
    "    @staticmethod\n",
    "    def calc_area(length, breadth):\n",
    "        return length * breadth\n",
    "\n",
    "print(Rectangle.calc_area(10,7))\n"
   ]
  },
  {
   "cell_type": "code",
   "execution_count": null,
   "id": "72edf980-a028-4510-ab37-fc4bcb770f65",
   "metadata": {},
   "outputs": [],
   "source": []
  }
 ],
 "metadata": {
  "kernelspec": {
   "display_name": "Python 3 (ipykernel)",
   "language": "python",
   "name": "python3"
  },
  "language_info": {
   "codemirror_mode": {
    "name": "ipython",
    "version": 3
   },
   "file_extension": ".py",
   "mimetype": "text/x-python",
   "name": "python",
   "nbconvert_exporter": "python",
   "pygments_lexer": "ipython3",
   "version": "3.13.5"
  }
 },
 "nbformat": 4,
 "nbformat_minor": 5
}
