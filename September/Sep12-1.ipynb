{
 "cells": [
  {
   "cell_type": "code",
   "execution_count": 1,
   "id": "338eaa7d-4fcc-4b35-9e01-f952f8d9c8cf",
   "metadata": {},
   "outputs": [],
   "source": [
    "def isSorted(arr):\n",
    "    n = len(arr)\n",
    "\n",
    "    for i in range(1,n): \n",
    "        if arr[i-1] > arr[i]: \n",
    "            return False\n",
    "    return True"
   ]
  },
  {
   "cell_type": "code",
   "execution_count": 2,
   "id": "1954f12e-92d1-49b1-aaf0-11d281e3f258",
   "metadata": {},
   "outputs": [
    {
     "data": {
      "text/plain": [
       "True"
      ]
     },
     "execution_count": 2,
     "metadata": {},
     "output_type": "execute_result"
    }
   ],
   "source": [
    "arr = [1,2,3,4,5]\n",
    "\n",
    "isSorted(arr)"
   ]
  },
  {
   "cell_type": "code",
   "execution_count": 3,
   "id": "7bb29790-51dd-4f4c-afe8-1b04c1210bb1",
   "metadata": {},
   "outputs": [
    {
     "data": {
      "text/plain": [
       "False"
      ]
     },
     "execution_count": 3,
     "metadata": {},
     "output_type": "execute_result"
    }
   ],
   "source": [
    "arr = [2,3,1,5,-1]\n",
    "\n",
    "isSorted(arr)"
   ]
  },
  {
   "cell_type": "code",
   "execution_count": null,
   "id": "d16836e1-db06-4410-a43c-f82b68028ea0",
   "metadata": {},
   "outputs": [],
   "source": []
  }
 ],
 "metadata": {
  "kernelspec": {
   "display_name": "Python 3 (ipykernel)",
   "language": "python",
   "name": "python3"
  },
  "language_info": {
   "codemirror_mode": {
    "name": "ipython",
    "version": 3
   },
   "file_extension": ".py",
   "mimetype": "text/x-python",
   "name": "python",
   "nbconvert_exporter": "python",
   "pygments_lexer": "ipython3",
   "version": "3.13.5"
  }
 },
 "nbformat": 4,
 "nbformat_minor": 5
}
