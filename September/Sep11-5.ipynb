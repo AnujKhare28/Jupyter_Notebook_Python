{
 "cells": [
  {
   "cell_type": "code",
   "execution_count": 6,
   "id": "c8cdc571-087f-4fb3-b11e-fdd42538868e",
   "metadata": {},
   "outputs": [
    {
     "name": "stdin",
     "output_type": "stream",
     "text": [
      "Enter a number: 12\n"
     ]
    },
    {
     "name": "stdout",
     "output_type": "stream",
     "text": [
      "000001100\n"
     ]
    }
   ],
   "source": [
    "x = int(input(\"Enter a number:\"))\n",
    "binary = ''\n",
    "while x > 0:\n",
    "    r = x % 2\n",
    "    x = x // 2\n",
    "    binary = str(r) + binary\n",
    "lead = binary.rjust(9, '0')\n",
    "print(lead)"
   ]
  }
 ],
 "metadata": {
  "kernelspec": {
   "display_name": "Python [conda env:base] *",
   "language": "python",
   "name": "conda-base-py"
  },
  "language_info": {
   "codemirror_mode": {
    "name": "ipython",
    "version": 3
   },
   "file_extension": ".py",
   "mimetype": "text/x-python",
   "name": "python",
   "nbconvert_exporter": "python",
   "pygments_lexer": "ipython3",
   "version": "3.12.7"
  }
 },
 "nbformat": 4,
 "nbformat_minor": 5
}
