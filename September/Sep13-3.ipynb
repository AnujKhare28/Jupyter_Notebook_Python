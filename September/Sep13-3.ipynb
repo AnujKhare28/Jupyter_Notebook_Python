{
 "cells": [
  {
   "cell_type": "code",
   "execution_count": 1,
   "id": "e73d86d2-f3cf-4d1a-8a11-bf27104151af",
   "metadata": {},
   "outputs": [
    {
     "name": "stdout",
     "output_type": "stream",
     "text": [
      "655\n"
     ]
    }
   ],
   "source": [
    "sharePrice = [100, 180, 260, 310, 40, 535, 695]\n",
    "\n",
    "n = len(sharePrice)\n",
    "maxProfit = 0\n",
    "\n",
    "for i in range(0,n): \n",
    "\n",
    "    for j in range((i+1),n): \n",
    "\n",
    "        if sharePrice[j] > sharePrice[i]:\n",
    "            profit = sharePrice[j] - sharePrice[i]\n",
    "            maxProfit = max(maxProfit,profit)\n",
    "\n",
    "print(maxProfit)"
   ]
  },
  {
   "cell_type": "code",
   "execution_count": null,
   "id": "b00623d0-00f3-4ad7-ad99-4225e455cf50",
   "metadata": {},
   "outputs": [],
   "source": []
  }
 ],
 "metadata": {
  "kernelspec": {
   "display_name": "Python 3 (ipykernel)",
   "language": "python",
   "name": "python3"
  },
  "language_info": {
   "codemirror_mode": {
    "name": "ipython",
    "version": 3
   },
   "file_extension": ".py",
   "mimetype": "text/x-python",
   "name": "python",
   "nbconvert_exporter": "python",
   "pygments_lexer": "ipython3",
   "version": "3.13.5"
  }
 },
 "nbformat": 4,
 "nbformat_minor": 5
}
