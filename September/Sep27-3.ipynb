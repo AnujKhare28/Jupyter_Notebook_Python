{
 "cells": [
  {
   "cell_type": "code",
   "execution_count": 3,
   "id": "48c4e98c-6631-4fd5-94b1-34b2f58594e0",
   "metadata": {},
   "outputs": [],
   "source": [
    "arr = [1,2,3,4,5,6,7,8]\n",
    "\n",
    "n = len(arr)\n",
    "temp = arr[n-1]\n",
    "\n",
    "for i in range((n-2), -1, -1): \n",
    "    arr[i+1] = arr[i]\n",
    "arr[0]= temp\n"
   ]
  },
  {
   "cell_type": "code",
   "execution_count": 4,
   "id": "dc8ec4d9-b64c-40a3-89e4-24596d21f1aa",
   "metadata": {},
   "outputs": [
    {
     "data": {
      "text/plain": [
       "[8, 1, 2, 3, 4, 5, 6, 7]"
      ]
     },
     "execution_count": 4,
     "metadata": {},
     "output_type": "execute_result"
    }
   ],
   "source": [
    "arr"
   ]
  },
  {
   "cell_type": "code",
   "execution_count": null,
   "id": "e0f51f76-2a59-4b17-a846-901153c2e945",
   "metadata": {},
   "outputs": [],
   "source": []
  }
 ],
 "metadata": {
  "kernelspec": {
   "display_name": "Python 3 (ipykernel)",
   "language": "python",
   "name": "python3"
  },
  "language_info": {
   "codemirror_mode": {
    "name": "ipython",
    "version": 3
   },
   "file_extension": ".py",
   "mimetype": "text/x-python",
   "name": "python",
   "nbconvert_exporter": "python",
   "pygments_lexer": "ipython3",
   "version": "3.13.5"
  }
 },
 "nbformat": 4,
 "nbformat_minor": 5
}
