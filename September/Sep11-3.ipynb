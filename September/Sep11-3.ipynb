{
 "cells": [
  {
   "cell_type": "code",
   "execution_count": 1,
   "id": "f650aaef-d45b-4ca4-a492-6a5dba44732c",
   "metadata": {},
   "outputs": [
    {
     "name": "stdout",
     "output_type": "stream",
     "text": [
      "Child show\n"
     ]
    }
   ],
   "source": [
    "# 146. Method Resolution Order \n",
    "class Parent: \n",
    "    def show(self): \n",
    "        print(\"Parent show\")\n",
    "\n",
    "class Child(Parent): \n",
    "    def show(self): \n",
    "        print(\"Child show\")\n",
    "\n",
    "c = Child()\n",
    "c.show()"
   ]
  },
  {
   "cell_type": "code",
   "execution_count": 2,
   "id": "0f1ab856-d1a9-4d8e-84d5-bdf40a05e1de",
   "metadata": {},
   "outputs": [
    {
     "name": "stdout",
     "output_type": "stream",
     "text": [
      "Area: 28.274333882308138\n",
      "Perimeter: 18.84955592153876\n"
     ]
    }
   ],
   "source": [
    "# 147. Circle Class \n",
    "import math\n",
    "class Circle: \n",
    "    def __init__(self, r):\n",
    "        self.radius = r \n",
    "\n",
    "    def area(self): \n",
    "        return math.pi * self.radius**2\n",
    "\n",
    "    def perimeter(self): \n",
    "        return 2 * math.pi * self.radius\n",
    "\n",
    "c = Circle(3)\n",
    "print(\"Area:\", c.area())\n",
    "print(\"Perimeter:\", c.perimeter())"
   ]
  },
  {
   "cell_type": "code",
   "execution_count": 3,
   "id": "35bcb122-dd79-487a-9727-32a7bcc6a910",
   "metadata": {},
   "outputs": [
    {
     "name": "stdout",
     "output_type": "stream",
     "text": [
      "Name: James\n",
      "Designation: Engineer\n",
      "Salary: 50000\n",
      " \n",
      "Name: Christie\n",
      "Designation: Web Developer\n",
      "Salary: 60000\n",
      " \n",
      "Total employees: 2\n"
     ]
    }
   ],
   "source": [
    "# 148. Employee Details \n",
    "class Employee: \n",
    "    emp_count = 101\n",
    "\n",
    "    def __init__(self,name,salary,designation): \n",
    "        self.name = name\n",
    "        self.salary = salary\n",
    "        self.designation = designation\n",
    "        self.eid = 'e' + str(Employee.emp_count)\n",
    "        Employee.emp_count += 1 \n",
    "\n",
    "    def show_details(self): \n",
    "        print(\"Name:\", self.name)\n",
    "        print(\"Designation:\", self.designation)\n",
    "        print(\"Salary:\", self.salary)\n",
    "\n",
    "    @classmethod\n",
    "    def total_emp(cls): \n",
    "        return cls.emp_count - 101\n",
    "\n",
    "e1 = Employee('James', '50000', 'Engineer')\n",
    "e1.show_details()\n",
    "print(' ')\n",
    "\n",
    "e2 = Employee(\"Christie\", '60000', 'Web Developer')\n",
    "e2.show_details()\n",
    "print(' ')\n",
    "\n",
    "print('Total employees:', e1.total_emp())"
   ]
  }
 ],
 "metadata": {
  "kernelspec": {
   "display_name": "Python [conda env:base] *",
   "language": "python",
   "name": "conda-base-py"
  },
  "language_info": {
   "codemirror_mode": {
    "name": "ipython",
    "version": 3
   },
   "file_extension": ".py",
   "mimetype": "text/x-python",
   "name": "python",
   "nbconvert_exporter": "python",
   "pygments_lexer": "ipython3",
   "version": "3.12.7"
  }
 },
 "nbformat": 4,
 "nbformat_minor": 5
}
