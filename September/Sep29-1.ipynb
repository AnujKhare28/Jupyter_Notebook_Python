{
 "cells": [
  {
   "cell_type": "code",
   "execution_count": 35,
   "id": "96f4bc5c-7652-4df1-9012-df90a8f83239",
   "metadata": {},
   "outputs": [],
   "source": [
    "def moveZeroes(arr):\n",
    "    n = len(arr)\n",
    "    temp = []\n",
    "\n",
    "    for i in range(0,n): \n",
    "        if arr[i] != 0:\n",
    "            temp.append(arr[i])\n",
    "    for i in range(0,len(temp)): \n",
    "        arr[i] = temp[i]\n",
    "    for i in range(len(temp),n): \n",
    "        arr[i] = 0"
   ]
  },
  {
   "cell_type": "code",
   "execution_count": 36,
   "id": "4d4762cb-9156-4e27-a7e6-3646d3a5e1a5",
   "metadata": {},
   "outputs": [],
   "source": [
    "nums = [0,1,0,3,12]"
   ]
  },
  {
   "cell_type": "code",
   "execution_count": 37,
   "id": "981383ae-2c45-4669-997d-ad019cc351a8",
   "metadata": {},
   "outputs": [],
   "source": [
    "moveZeroes(nums)"
   ]
  },
  {
   "cell_type": "code",
   "execution_count": 38,
   "id": "0cdabc6b-2c7e-405b-aacf-b248ac7eb3d1",
   "metadata": {},
   "outputs": [
    {
     "data": {
      "text/plain": [
       "[1, 3, 12, 0, 0]"
      ]
     },
     "execution_count": 38,
     "metadata": {},
     "output_type": "execute_result"
    }
   ],
   "source": [
    "nums"
   ]
  },
  {
   "cell_type": "code",
   "execution_count": null,
   "id": "75d98232-768d-4396-9947-0e3dd20fc5cd",
   "metadata": {},
   "outputs": [],
   "source": []
  }
 ],
 "metadata": {
  "kernelspec": {
   "display_name": "Python 3 (ipykernel)",
   "language": "python",
   "name": "python3"
  },
  "language_info": {
   "codemirror_mode": {
    "name": "ipython",
    "version": 3
   },
   "file_extension": ".py",
   "mimetype": "text/x-python",
   "name": "python",
   "nbconvert_exporter": "python",
   "pygments_lexer": "ipython3",
   "version": "3.13.5"
  }
 },
 "nbformat": 4,
 "nbformat_minor": 5
}
