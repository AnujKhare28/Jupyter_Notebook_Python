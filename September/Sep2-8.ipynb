{
 "cells": [
  {
   "cell_type": "code",
   "execution_count": 6,
   "id": "8fe0c276-fe22-43dd-a778-9e3a661c054d",
   "metadata": {},
   "outputs": [
    {
     "name": "stdout",
     "output_type": "stream",
     "text": [
      "[5, 7, 9]\n",
      "[5, 7, 9]\n",
      "[3, 3, 3]\n"
     ]
    }
   ],
   "source": [
    "# 81. Matrix Addition\n",
    "m1 = [[1,2,3], [4,5,6], [1,1,1]]\n",
    "m2 = [[4,5,6], [1,2,3], [2,2,2]]\n",
    "result = [[0,0,0], [0,0,0], [0,0,0]]\n",
    "for i in range(len(m1)):\n",
    "    for j in range(len(m1)):\n",
    "        result[i][j] = m1[i][j] + m2[i][j]\n",
    "for i in result:\n",
    "    print(i)"
   ]
  },
  {
   "cell_type": "code",
   "execution_count": 8,
   "id": "551fa5ca-1700-4a79-86cf-8824c1b05c12",
   "metadata": {},
   "outputs": [
    {
     "name": "stdout",
     "output_type": "stream",
     "text": [
      "[[1, 4, 7], [2, 5, 8], [3, 6, 9]]\n"
     ]
    }
   ],
   "source": [
    "# 82. Matrix Transpose\n",
    "M = [[1,2,3], [4,5,6], [7,8,9]]\n",
    "m = []\n",
    "for t in range(3): \n",
    "    L=[]\n",
    "    for r in range(3):\n",
    "        L.append(M[r][t])\n",
    "    m.append(L)\n",
    "print(m)"
   ]
  },
  {
   "cell_type": "code",
   "execution_count": 11,
   "id": "7e6cdc36-8c1f-4026-92f9-3509a256de8f",
   "metadata": {},
   "outputs": [
    {
     "name": "stdin",
     "output_type": "stream",
     "text": [
      "Enter a letter: f\n"
     ]
    },
    {
     "name": "stdout",
     "output_type": "stream",
     "text": [
      "Fries\n"
     ]
    }
   ],
   "source": [
    "# 83. Starting word\n",
    "List = ['Pizza', 'Burger', 'Fries', 'Donuts', 'Cake', 'Hotdog', 'Bread']\n",
    "a = input(\"Enter a letter:\")\n",
    "alpha = a.upper()\n",
    "for x in List:\n",
    "    if x.startswith(alpha):\n",
    "        print(x)\n"
   ]
  },
  {
   "cell_type": "code",
   "execution_count": 13,
   "id": "a24cfb3a-8585-4c6f-a6a6-18a2c38802ea",
   "metadata": {},
   "outputs": [
    {
     "name": "stdin",
     "output_type": "stream",
     "text": [
      "Enter name: C\n"
     ]
    },
    {
     "name": "stdout",
     "output_type": "stream",
     "text": [
      "C : 16/01/2004\n"
     ]
    }
   ],
   "source": [
    "# 84. Birthday Dictionary\n",
    "birth_date = {'A':'15/05/1996', 'B':'29/12/1991', 'C':'16/01/2004', 'D':'25/04/2002', 'E':'06/08/2000'}\n",
    "bday = input(\"Enter name:\")\n",
    "if bday in birth_date:\n",
    "    print(bday, ':', birth_date[bday])\n",
    "else: \n",
    "    prnt(\"Noe record found\")"
   ]
  },
  {
   "cell_type": "code",
   "execution_count": 17,
   "id": "bae9538e-b656-4f43-a5ce-4bf6108a0a27",
   "metadata": {},
   "outputs": [
    {
     "name": "stdout",
     "output_type": "stream",
     "text": [
      "Minimun: small : less than normal\n",
      "Maximun: patch : piece of cloth or material used to mend or strengthen the damaged part\n"
     ]
    }
   ],
   "source": [
    "# 85. Longest and shortest in dictionary\n",
    "d = {'piece':'portion of an object or a material produced by cutting',\n",
    "     'patch':'piece of cloth or material used to mend or strengthen the damaged part',\n",
    "     'area':'a region or part of town or country or world',\n",
    "     'visit':'to go see and spend time with something or someone',\n",
    "     'small':'less than normal'}\n",
    "keys = list(d.keys())\n",
    "values = list(d.values())\n",
    "length = [len(x) for x in values]\n",
    "min_len = min(length)\n",
    "max_len = max(length)\n",
    "min_index = length.index(min_len)\n",
    "max_index = length.index(max_len)\n",
    "print(\"Minimun:\", keys[min_index], \":\", values[min_index])\n",
    "print(\"Maximun:\", keys[max_index], \":\", values[max_index])"
   ]
  }
 ],
 "metadata": {
  "kernelspec": {
   "display_name": "Python [conda env:base] *",
   "language": "python",
   "name": "conda-base-py"
  },
  "language_info": {
   "codemirror_mode": {
    "name": "ipython",
    "version": 3
   },
   "file_extension": ".py",
   "mimetype": "text/x-python",
   "name": "python",
   "nbconvert_exporter": "python",
   "pygments_lexer": "ipython3",
   "version": "3.12.7"
  }
 },
 "nbformat": 4,
 "nbformat_minor": 5
}
