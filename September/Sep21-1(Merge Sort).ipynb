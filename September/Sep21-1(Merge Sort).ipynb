{
 "cells": [
  {
   "cell_type": "code",
   "execution_count": 2,
   "id": "4c2aca50-d8a6-4a59-a7ab-04ed2245d795",
   "metadata": {},
   "outputs": [],
   "source": [
    "def merge_arr(left, right):\n",
    "\n",
    "    i, j = 0, 0\n",
    "    n, m = len(left), len(right)\n",
    "    result = []\n",
    "\n",
    "    while i < n and j < m:\n",
    "\n",
    "        if left[i] <=  right[j]: \n",
    "            result.append(left[i])\n",
    "            i += 1\n",
    "        else:\n",
    "            result.append(right[j])\n",
    "            j += 1\n",
    "    if i < n: \n",
    "        while i < n :\n",
    "            result.append(left[i])\n",
    "            i += 1\n",
    "    if j < m:\n",
    "        while j < m:\n",
    "            result.append(right[j])\n",
    "            j += 1\n",
    "    return result"
   ]
  },
  {
   "cell_type": "code",
   "execution_count": 7,
   "id": "a4e1eb4e-712f-45b1-acf1-fe49ece6164b",
   "metadata": {},
   "outputs": [],
   "source": [
    "def mergeSort(arr): \n",
    "    if len(arr) <= 1:\n",
    "        return arr\n",
    "\n",
    "    mid = len(arr)//2\n",
    "    left_arr = arr[:mid]\n",
    "    right_arr = arr[mid:]\n",
    "    left = mergeSort(left_arr)\n",
    "    right = mergeSort(right_arr)\n",
    "    return merge_arr(left, right)"
   ]
  },
  {
   "cell_type": "code",
   "execution_count": 8,
   "id": "0608c924-4c0e-4d7e-a195-a624971d44d4",
   "metadata": {},
   "outputs": [
    {
     "data": {
      "text/plain": [
       "[1, 2, 4, 4, 4, 5, 5, 6, 7, 8, 9]"
      ]
     },
     "execution_count": 8,
     "metadata": {},
     "output_type": "execute_result"
    }
   ],
   "source": [
    "arr = [4,1,7,8,5,4,6,9,4,2,5]\n",
    "mergeSort(arr)"
   ]
  },
  {
   "cell_type": "code",
   "execution_count": null,
   "id": "1fd45559-1b04-4877-8d64-489faa895b34",
   "metadata": {},
   "outputs": [],
   "source": []
  },
  {
   "cell_type": "code",
   "execution_count": null,
   "id": "6bc0cc2f-3ea0-4037-ace4-fef6b9bcfae5",
   "metadata": {},
   "outputs": [],
   "source": []
  },
  {
   "cell_type": "code",
   "execution_count": null,
   "id": "f58235d9-464b-4502-9dae-123cfe99290a",
   "metadata": {},
   "outputs": [],
   "source": []
  }
 ],
 "metadata": {
  "kernelspec": {
   "display_name": "Python 3 (ipykernel)",
   "language": "python",
   "name": "python3"
  },
  "language_info": {
   "codemirror_mode": {
    "name": "ipython",
    "version": 3
   },
   "file_extension": ".py",
   "mimetype": "text/x-python",
   "name": "python",
   "nbconvert_exporter": "python",
   "pygments_lexer": "ipython3",
   "version": "3.13.5"
  }
 },
 "nbformat": 4,
 "nbformat_minor": 5
}
