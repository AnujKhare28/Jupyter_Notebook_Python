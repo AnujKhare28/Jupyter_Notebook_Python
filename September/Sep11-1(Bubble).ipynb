{
 "cells": [
  {
   "cell_type": "code",
   "execution_count": 41,
   "id": "804f59c0-382f-447a-9d27-ada2ef4ab5ee",
   "metadata": {},
   "outputs": [
    {
     "name": "stdout",
     "output_type": "stream",
     "text": [
      "[1, 2, 4, 5, 6, 7, 8]\n"
     ]
    }
   ],
   "source": [
    "n = [7,5,6,8,1,2,4]\n",
    "\n",
    "for i in range((len(n)-2),-1,-1):\n",
    "    isSwap = False\n",
    "    for j in range(0,(i+1)):\n",
    "        if n[j] > n[j+1]: \n",
    "            n[j],n[j+1]=n[j+1],n[j]\n",
    "            isSwap = True \n",
    "    if isSwap == False:\n",
    "        break\n",
    "print(n)"
   ]
  },
  {
   "cell_type": "code",
   "execution_count": 42,
   "id": "22ae1c19-36ef-4edd-9781-4d521b3d6a51",
   "metadata": {},
   "outputs": [],
   "source": [
    "n = [7,5,6,8,1,2,4]\n",
    "\n",
    "for i in range((len(n)-2),-1,-1):\n",
    "    for j in range(0,(i+1)):\n",
    "        if n[j] < n[j+1]: \n",
    "            n[j],n[j+1]=n[j+1],n[j]"
   ]
  },
  {
   "cell_type": "code",
   "execution_count": 43,
   "id": "5a41a788-542a-4247-96b6-aac60326f4a7",
   "metadata": {},
   "outputs": [
    {
     "data": {
      "text/plain": [
       "[8, 7, 6, 5, 4, 2, 1]"
      ]
     },
     "execution_count": 43,
     "metadata": {},
     "output_type": "execute_result"
    }
   ],
   "source": [
    "n"
   ]
  },
  {
   "cell_type": "code",
   "execution_count": null,
   "id": "31dbb3a6-9c52-43fc-a27a-d30e0fb3372d",
   "metadata": {},
   "outputs": [],
   "source": []
  }
 ],
 "metadata": {
  "kernelspec": {
   "display_name": "Python 3 (ipykernel)",
   "language": "python",
   "name": "python3"
  },
  "language_info": {
   "codemirror_mode": {
    "name": "ipython",
    "version": 3
   },
   "file_extension": ".py",
   "mimetype": "text/x-python",
   "name": "python",
   "nbconvert_exporter": "python",
   "pygments_lexer": "ipython3",
   "version": "3.13.5"
  }
 },
 "nbformat": 4,
 "nbformat_minor": 5
}
