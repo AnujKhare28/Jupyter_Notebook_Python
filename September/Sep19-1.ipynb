{
 "cells": [
  {
   "cell_type": "code",
   "execution_count": 8,
   "id": "8b2e75a0-c34c-439f-962c-bf70baf179cb",
   "metadata": {},
   "outputs": [],
   "source": [
    "def findUnique(arr): \n",
    "    n = len(arr)\n",
    "\n",
    "    for i in range(n): \n",
    "\n",
    "        count = 0 \n",
    "\n",
    "        for j in range(n):\n",
    "\n",
    "            if arr[i]== arr[j]:\n",
    "                count += 1\n",
    "\n",
    "        if count == 1:\n",
    "            return arr[i]\n",
    "    return -1"
   ]
  },
  {
   "cell_type": "code",
   "execution_count": 10,
   "id": "432f9d2c-d6b8-49db-84d5-c43fd2f9e08f",
   "metadata": {},
   "outputs": [
    {
     "data": {
      "text/plain": [
       "10"
      ]
     },
     "execution_count": 10,
     "metadata": {},
     "output_type": "execute_result"
    }
   ],
   "source": [
    "arr = [3, 5, 4, 10, 5, 3, 4]\n",
    "findUnique(arr)"
   ]
  },
  {
   "cell_type": "code",
   "execution_count": null,
   "id": "51343cc8-ebe0-443d-9e65-e1d18ecf03bc",
   "metadata": {},
   "outputs": [],
   "source": []
  }
 ],
 "metadata": {
  "kernelspec": {
   "display_name": "Python 3 (ipykernel)",
   "language": "python",
   "name": "python3"
  },
  "language_info": {
   "codemirror_mode": {
    "name": "ipython",
    "version": 3
   },
   "file_extension": ".py",
   "mimetype": "text/x-python",
   "name": "python",
   "nbconvert_exporter": "python",
   "pygments_lexer": "ipython3",
   "version": "3.13.5"
  }
 },
 "nbformat": 4,
 "nbformat_minor": 5
}
