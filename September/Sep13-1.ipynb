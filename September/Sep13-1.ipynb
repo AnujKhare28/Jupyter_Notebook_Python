{
 "cells": [
  {
   "cell_type": "code",
   "execution_count": 1,
   "id": "c348ace6-02ad-4393-b6ec-d09cae5c0547",
   "metadata": {},
   "outputs": [],
   "source": [
    "arr = [1,2,3,4,5,6]\n",
    "rotateBy = 2\n",
    "n = len(arr)\n",
    "for i in range(rotateBy): \n",
    "    last = arr[n-1]\n",
    "    for j in range((n-1), 0,-1):\n",
    "        arr[j] = arr[j-1]\n",
    "    arr[0] = last"
   ]
  },
  {
   "cell_type": "code",
   "execution_count": 3,
   "id": "5543d6a6-d8ff-4b83-af4a-74a4aea12684",
   "metadata": {},
   "outputs": [
    {
     "data": {
      "text/plain": [
       "[5, 6, 1, 2, 3, 4]"
      ]
     },
     "execution_count": 3,
     "metadata": {},
     "output_type": "execute_result"
    }
   ],
   "source": [
    "arr"
   ]
  },
  {
   "cell_type": "code",
   "execution_count": null,
   "id": "cc74fc52-336f-4bf0-9cec-b75d2e4a5ee4",
   "metadata": {},
   "outputs": [],
   "source": []
  }
 ],
 "metadata": {
  "kernelspec": {
   "display_name": "Python 3 (ipykernel)",
   "language": "python",
   "name": "python3"
  },
  "language_info": {
   "codemirror_mode": {
    "name": "ipython",
    "version": 3
   },
   "file_extension": ".py",
   "mimetype": "text/x-python",
   "name": "python",
   "nbconvert_exporter": "python",
   "pygments_lexer": "ipython3",
   "version": "3.13.5"
  }
 },
 "nbformat": 4,
 "nbformat_minor": 5
}
