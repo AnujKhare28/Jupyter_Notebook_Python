{
 "cells": [
  {
   "cell_type": "code",
   "execution_count": 6,
   "id": "d2adfe41-2806-45a5-9bac-81c77e0dc181",
   "metadata": {},
   "outputs": [],
   "source": [
    "def subArr(arr): \n",
    "\n",
    "    n = len(arr)\n",
    "\n",
    "    for i in range(n): \n",
    "\n",
    "        for j in range(i, n):\n",
    "\n",
    "            for k in range(i, (j+1)): \n",
    "                \n",
    "                print(arr[k], end=\" \")\n",
    "                \n",
    "            print()"
   ]
  },
  {
   "cell_type": "code",
   "execution_count": 7,
   "id": "98e0bffd-d7e6-4266-8915-bec7cadada1f",
   "metadata": {},
   "outputs": [
    {
     "name": "stdout",
     "output_type": "stream",
     "text": [
      "2 \n",
      "2 3 \n",
      "2 3 7 \n",
      "2 3 7 5 \n",
      "2 3 7 5 4 \n",
      "2 3 7 5 4 9 \n",
      "3 \n",
      "3 7 \n",
      "3 7 5 \n",
      "3 7 5 4 \n",
      "3 7 5 4 9 \n",
      "7 \n",
      "7 5 \n",
      "7 5 4 \n",
      "7 5 4 9 \n",
      "5 \n",
      "5 4 \n",
      "5 4 9 \n",
      "4 \n",
      "4 9 \n",
      "9 \n"
     ]
    }
   ],
   "source": [
    "arr = [ 2,3,7,5,4,9]\n",
    "\n",
    "subArr(arr)"
   ]
  },
  {
   "cell_type": "code",
   "execution_count": null,
   "id": "34a54919-e563-48c1-8f6f-580057e6bc5a",
   "metadata": {},
   "outputs": [],
   "source": []
  }
 ],
 "metadata": {
  "kernelspec": {
   "display_name": "Python 3 (ipykernel)",
   "language": "python",
   "name": "python3"
  },
  "language_info": {
   "codemirror_mode": {
    "name": "ipython",
    "version": 3
   },
   "file_extension": ".py",
   "mimetype": "text/x-python",
   "name": "python",
   "nbconvert_exporter": "python",
   "pygments_lexer": "ipython3",
   "version": "3.13.5"
  }
 },
 "nbformat": 4,
 "nbformat_minor": 5
}
