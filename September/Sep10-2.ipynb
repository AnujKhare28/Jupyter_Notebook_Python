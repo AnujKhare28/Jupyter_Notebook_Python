{
 "cells": [
  {
   "cell_type": "markdown",
   "id": "9ede1ae9-ee99-4982-aff0-4fcf8e7c6e0f",
   "metadata": {},
   "source": [
    "### Section Sort"
   ]
  },
  {
   "cell_type": "code",
   "execution_count": 12,
   "id": "1466f3cf-276a-41fa-ac5f-efc98b96e5a9",
   "metadata": {},
   "outputs": [
    {
     "name": "stdout",
     "output_type": "stream",
     "text": [
      "[1, 2, 3, 4, 5, 6]\n"
     ]
    }
   ],
   "source": [
    "# Ascending\n",
    "\n",
    "n = [5,6,2,3,1,4]\n",
    "\n",
    "for i in range(0,len(n)):\n",
    "    minIdx = i\n",
    "    for j in range((i+1),len(n)): \n",
    "        if n[j] < n[i]:\n",
    "            minIdx = j\n",
    "            n[i],n[j] = n[j],n[i]\n",
    "print(n)"
   ]
  },
  {
   "cell_type": "code",
   "execution_count": 13,
   "id": "413d1aae-c6d9-43e6-b01e-f1de871dbbf1",
   "metadata": {},
   "outputs": [
    {
     "name": "stdout",
     "output_type": "stream",
     "text": [
      "[6, 5, 4, 3, 2, 1]\n"
     ]
    }
   ],
   "source": [
    "# descending\n",
    "\n",
    "n = [5,6,2,3,1,4]\n",
    "\n",
    "for i in range(0,len(n)):\n",
    "    maxIdx = i\n",
    "    for j in range((i+1),len(n)): \n",
    "        if n[j] > n[i]:\n",
    "            maxIdx = j\n",
    "            n[i],n[j] = n[j],n[i]\n",
    "print(n)\n"
   ]
  },
  {
   "cell_type": "code",
   "execution_count": null,
   "id": "a0c012d9-6cbd-47b6-9ad4-1f65733196d0",
   "metadata": {},
   "outputs": [],
   "source": []
  }
 ],
 "metadata": {
  "kernelspec": {
   "display_name": "Python 3 (ipykernel)",
   "language": "python",
   "name": "python3"
  },
  "language_info": {
   "codemirror_mode": {
    "name": "ipython",
    "version": 3
   },
   "file_extension": ".py",
   "mimetype": "text/x-python",
   "name": "python",
   "nbconvert_exporter": "python",
   "pygments_lexer": "ipython3",
   "version": "3.13.5"
  }
 },
 "nbformat": 4,
 "nbformat_minor": 5
}
