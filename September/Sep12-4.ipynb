{
 "cells": [
  {
   "cell_type": "code",
   "execution_count": 5,
   "id": "aead4758-95d9-4fba-8c35-0247e1e6ead9",
   "metadata": {},
   "outputs": [
    {
     "name": "stdout",
     "output_type": "stream",
     "text": [
      "2\n",
      "3\n"
     ]
    }
   ],
   "source": [
    "def count_4(ele): \n",
    "    count = 0\n",
    "    for x in ele:\n",
    "        if x == 4: \n",
    "            count += 1\n",
    "    return count\n",
    "print(count_4([1,4,6,7,4]))\n",
    "print(count_4([1,4,6,4,7,4]))"
   ]
  }
 ],
 "metadata": {
  "kernelspec": {
   "display_name": "Python [conda env:base] *",
   "language": "python",
   "name": "conda-base-py"
  },
  "language_info": {
   "codemirror_mode": {
    "name": "ipython",
    "version": 3
   },
   "file_extension": ".py",
   "mimetype": "text/x-python",
   "name": "python",
   "nbconvert_exporter": "python",
   "pygments_lexer": "ipython3",
   "version": "3.12.7"
  }
 },
 "nbformat": 4,
 "nbformat_minor": 5
}
