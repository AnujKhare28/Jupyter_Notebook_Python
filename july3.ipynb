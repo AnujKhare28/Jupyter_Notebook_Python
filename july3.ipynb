{
 "cells": [
  {
   "cell_type": "markdown",
   "id": "8207f4b8-4aa8-4149-82eb-cdd0971793f7",
   "metadata": {},
   "source": [
    "#### Updating and Deleting in String"
   ]
  },
  {
   "cell_type": "raw",
   "id": "f5e1566d-26b6-4a6d-b97b-92d18daa196a",
   "metadata": {},
   "source": [
    "Strings are immutable."
   ]
  },
  {
   "cell_type": "code",
   "execution_count": 2,
   "id": "c85fbd2c-77f6-4f7e-a6c0-1be2238f0bc3",
   "metadata": {},
   "outputs": [
    {
     "data": {
      "text/plain": [
       "'Data'"
      ]
     },
     "execution_count": 2,
     "metadata": {},
     "output_type": "execute_result"
    }
   ],
   "source": [
    "course = \"Data Science\"\n",
    "course[:4]"
   ]
  },
  {
   "cell_type": "code",
   "execution_count": 3,
   "id": "db6e3fc2-5a7f-40a3-8bfd-0607f20f1922",
   "metadata": {},
   "outputs": [
    {
     "ename": "TypeError",
     "evalue": "'str' object does not support item assignment",
     "output_type": "error",
     "traceback": [
      "\u001b[1;31m---------------------------------------------------------------------------\u001b[0m",
      "\u001b[1;31mTypeError\u001b[0m                                 Traceback (most recent call last)",
      "Cell \u001b[1;32mIn[3], line 1\u001b[0m\n\u001b[1;32m----> 1\u001b[0m course[:\u001b[38;5;241m4\u001b[39m] \u001b[38;5;241m=\u001b[39m \u001b[38;5;124m\"\u001b[39m\u001b[38;5;124mLife\u001b[39m\u001b[38;5;124m\"\u001b[39m\n",
      "\u001b[1;31mTypeError\u001b[0m: 'str' object does not support item assignment"
     ]
    }
   ],
   "source": [
    "course[:4] = \"Life\""
   ]
  },
  {
   "cell_type": "code",
   "execution_count": 5,
   "id": "99c3d6c4-bb53-4d5c-b0d3-8a38f9796b4f",
   "metadata": {},
   "outputs": [
    {
     "ename": "TypeError",
     "evalue": "'str' object does not support item assignment",
     "output_type": "error",
     "traceback": [
      "\u001b[1;31m---------------------------------------------------------------------------\u001b[0m",
      "\u001b[1;31mTypeError\u001b[0m                                 Traceback (most recent call last)",
      "Cell \u001b[1;32mIn[5], line 2\u001b[0m\n\u001b[0;32m      1\u001b[0m s \u001b[38;5;241m=\u001b[39m \u001b[38;5;124m\"\u001b[39m\u001b[38;5;124mPython\u001b[39m\u001b[38;5;124m\"\u001b[39m\n\u001b[1;32m----> 2\u001b[0m s[\u001b[38;5;241m0\u001b[39m] \u001b[38;5;241m=\u001b[39m \u001b[38;5;124m\"\u001b[39m\u001b[38;5;124mX\u001b[39m\u001b[38;5;124m\"\u001b[39m\n",
      "\u001b[1;31mTypeError\u001b[0m: 'str' object does not support item assignment"
     ]
    }
   ],
   "source": [
    "s = \"Python\"\n",
    "s[0] = \"X\""
   ]
  },
  {
   "cell_type": "raw",
   "id": "4e6226d1-6410-474a-b4d2-91f606c5914e",
   "metadata": {},
   "source": [
    "Lists are mutable."
   ]
  },
  {
   "cell_type": "code",
   "execution_count": 9,
   "id": "d8b7f13d-ff78-43e1-895f-07ea222f541e",
   "metadata": {},
   "outputs": [
    {
     "data": {
      "text/plain": [
       "[1, 3, 5, 6, 9, 2]"
      ]
     },
     "execution_count": 9,
     "metadata": {},
     "output_type": "execute_result"
    }
   ],
   "source": [
    "l1 = [1,3,5,6,9,2]\n",
    "l1"
   ]
  },
  {
   "cell_type": "code",
   "execution_count": 10,
   "id": "0f06eb24-3ceb-43b4-9500-bf9bbdb21c1f",
   "metadata": {},
   "outputs": [
    {
     "data": {
      "text/plain": [
       "[1, 3, 10, 6, 9, 2]"
      ]
     },
     "execution_count": 10,
     "metadata": {},
     "output_type": "execute_result"
    }
   ],
   "source": [
    "l1 = [1,3,5,6,9,2]\n",
    "l1[2] = 10\n",
    "l1"
   ]
  },
  {
   "cell_type": "markdown",
   "id": "a7bca1b6-f6e4-404e-98cd-6edcf0ca6a1d",
   "metadata": {},
   "source": [
    "##### Replace function"
   ]
  },
  {
   "cell_type": "code",
   "execution_count": 17,
   "id": "2f6da391-b37e-4473-92be-4f5b1a7b661b",
   "metadata": {},
   "outputs": [
    {
     "data": {
      "text/plain": [
       "'Life Science'"
      ]
     },
     "execution_count": 17,
     "metadata": {},
     "output_type": "execute_result"
    }
   ],
   "source": [
    "course.replace(\"Data\", \"Life\")"
   ]
  },
  {
   "cell_type": "code",
   "execution_count": 18,
   "id": "c7642df9-0001-4d2b-b2a9-fd71fdb5b272",
   "metadata": {},
   "outputs": [
    {
     "data": {
      "text/plain": [
       "'Data Science'"
      ]
     },
     "execution_count": 18,
     "metadata": {},
     "output_type": "execute_result"
    }
   ],
   "source": [
    "course"
   ]
  },
  {
   "cell_type": "code",
   "execution_count": 19,
   "id": "33ca5121-fe8a-4d4b-8f80-fbfa5418d312",
   "metadata": {},
   "outputs": [
    {
     "data": {
      "text/plain": [
       "'Life Science'"
      ]
     },
     "execution_count": 19,
     "metadata": {},
     "output_type": "execute_result"
    }
   ],
   "source": [
    "new_str = course.replace(\"Data\", \"Life\")\n",
    "new_str"
   ]
  },
  {
   "cell_type": "code",
   "execution_count": 23,
   "id": "c3c6e719-e31e-4da5-a88e-955355cb8426",
   "metadata": {},
   "outputs": [
    {
     "name": "stdout",
     "output_type": "stream",
     "text": [
      "Data Science\n",
      "Life Science\n"
     ]
    }
   ],
   "source": [
    "print(course)\n",
    "print(new_str)"
   ]
  },
  {
   "cell_type": "markdown",
   "id": "48446606-30dc-4eb4-a309-7915a5bb9a72",
   "metadata": {},
   "source": [
    "##### Deleting a String"
   ]
  },
  {
   "cell_type": "code",
   "execution_count": 24,
   "id": "ab577b19-d0b9-4a1d-8b54-8954e7c32741",
   "metadata": {
    "scrolled": true
   },
   "outputs": [
    {
     "ename": "NameError",
     "evalue": "name 'course' is not defined",
     "output_type": "error",
     "traceback": [
      "\u001b[1;31m---------------------------------------------------------------------------\u001b[0m",
      "\u001b[1;31mNameError\u001b[0m                                 Traceback (most recent call last)",
      "Cell \u001b[1;32mIn[24], line 2\u001b[0m\n\u001b[0;32m      1\u001b[0m \u001b[38;5;28;01mdel\u001b[39;00m course\n\u001b[1;32m----> 2\u001b[0m course\n",
      "\u001b[1;31mNameError\u001b[0m: name 'course' is not defined"
     ]
    }
   ],
   "source": [
    "del course\n",
    "course"
   ]
  },
  {
   "cell_type": "markdown",
   "id": "f585f030-8951-4c66-ae78-0387e151a82e",
   "metadata": {},
   "source": [
    "##### string concatnation "
   ]
  },
  {
   "cell_type": "code",
   "execution_count": 29,
   "id": "5693c990-1b00-49ec-82a7-668dc3ebfa44",
   "metadata": {},
   "outputs": [
    {
     "data": {
      "text/plain": [
       "'Anuj  Khare'"
      ]
     },
     "execution_count": 29,
     "metadata": {},
     "output_type": "execute_result"
    }
   ],
   "source": [
    "s1 = \"Anuj \"\n",
    "s2 = \" Khare\"\n",
    "s1 + s2"
   ]
  },
  {
   "cell_type": "code",
   "execution_count": 30,
   "id": "accf79f1-d1c8-4b56-80e0-61787e81e104",
   "metadata": {},
   "outputs": [
    {
     "data": {
      "text/plain": [
       "'Anuj - Khare'"
      ]
     },
     "execution_count": 30,
     "metadata": {},
     "output_type": "execute_result"
    }
   ],
   "source": [
    "s3 = s1 + \"-\" + s2\n",
    "s3"
   ]
  },
  {
   "cell_type": "markdown",
   "id": "a71ce7a6-f0d5-433e-bf15-7dff55f5db4c",
   "metadata": {},
   "source": [
    "#### String Membership"
   ]
  },
  {
   "cell_type": "code",
   "execution_count": 31,
   "id": "0762253f-bd09-4303-8ad9-40f2a26e177c",
   "metadata": {},
   "outputs": [
    {
     "data": {
      "text/plain": [
       "'Data Science and Machine learning'"
      ]
     },
     "execution_count": 31,
     "metadata": {},
     "output_type": "execute_result"
    }
   ],
   "source": [
    "a = \"Data Science and Machine learning\"\n",
    "a"
   ]
  },
  {
   "cell_type": "code",
   "execution_count": 32,
   "id": "aab6ae09-1ce6-46cd-bbe1-f8130de1c6c0",
   "metadata": {},
   "outputs": [
    {
     "data": {
      "text/plain": [
       "True"
      ]
     },
     "execution_count": 32,
     "metadata": {},
     "output_type": "execute_result"
    }
   ],
   "source": [
    "\"Data\" in a"
   ]
  },
  {
   "cell_type": "code",
   "execution_count": 33,
   "id": "61eee49b-1b74-44d7-81c6-9222c79521ef",
   "metadata": {},
   "outputs": [
    {
     "data": {
      "text/plain": [
       "True"
      ]
     },
     "execution_count": 33,
     "metadata": {},
     "output_type": "execute_result"
    }
   ],
   "source": [
    "\"and\" in a"
   ]
  },
  {
   "cell_type": "code",
   "execution_count": 34,
   "id": "fb46cd17-27aa-42b7-a012-c91de76e1ee8",
   "metadata": {},
   "outputs": [
    {
     "data": {
      "text/plain": [
       "False"
      ]
     },
     "execution_count": 34,
     "metadata": {},
     "output_type": "execute_result"
    }
   ],
   "source": [
    "\"Analyst\" in a"
   ]
  },
  {
   "cell_type": "code",
   "execution_count": 35,
   "id": "f772303d-ff9f-4e04-9153-19e500b099db",
   "metadata": {},
   "outputs": [
    {
     "data": {
      "text/plain": [
       "True"
      ]
     },
     "execution_count": 35,
     "metadata": {},
     "output_type": "execute_result"
    }
   ],
   "source": [
    "\"Analyst\" not in a\n"
   ]
  },
  {
   "cell_type": "markdown",
   "id": "8709a542-ac8b-4cd8-9c96-89292636b6d8",
   "metadata": {},
   "source": [
    "#### String Partitioning "
   ]
  },
  {
   "cell_type": "raw",
   "id": "36153a7a-d727-425a-a763-c7f210b4775f",
   "metadata": {},
   "source": [
    "Partition output is always a tuple with 3 elements"
   ]
  },
  {
   "cell_type": "code",
   "execution_count": 39,
   "id": "24b4fb7e-1fb4-4b3c-b8fe-7f789bd1fdd9",
   "metadata": {},
   "outputs": [
    {
     "name": "stdout",
     "output_type": "stream",
     "text": [
      "('Data Science ', 'and', ' Machine learning and AI') 3\n"
     ]
    }
   ],
   "source": [
    "a = \"Data Science and Machine learning and AI\"\n",
    "b = a.partition(\"and\")\n",
    "print (b, len(b))"
   ]
  },
  {
   "cell_type": "code",
   "execution_count": 40,
   "id": "60ac18c1-e389-49e8-9d68-f5f96799f83a",
   "metadata": {},
   "outputs": [
    {
     "name": "stdout",
     "output_type": "stream",
     "text": [
      "('', 'Data', ' Science and Machine learning and AI') 3\n"
     ]
    }
   ],
   "source": [
    "a = \"Data Science and Machine learning and AI\"\n",
    "b = a.partition(\"Data\")\n",
    "print (b, len(b))"
   ]
  },
  {
   "cell_type": "code",
   "execution_count": 41,
   "id": "38660932-e1d3-4c6b-9fa6-356a90f78f10",
   "metadata": {},
   "outputs": [
    {
     "name": "stdout",
     "output_type": "stream",
     "text": [
      "('Data Science and Machine learning and ', 'AI', '') 3\n"
     ]
    }
   ],
   "source": [
    "a = \"Data Science and Machine learning and AI\"\n",
    "b = a.partition(\"AI\")\n",
    "print (b, len(b))"
   ]
  },
  {
   "cell_type": "code",
   "execution_count": 42,
   "id": "d5807928-25ac-4a58-9360-0a26d9df4836",
   "metadata": {},
   "outputs": [
    {
     "name": "stdout",
     "output_type": "stream",
     "text": [
      "('Data Science and ', 'Machine', ' learning and AI') 3\n"
     ]
    }
   ],
   "source": [
    "a = \"Data Science and Machine learning and AI\"\n",
    "b = a.partition(\"Machine\")\n",
    "print (b, len(b))"
   ]
  },
  {
   "cell_type": "code",
   "execution_count": 43,
   "id": "33a1b426-49ff-4481-b3f2-8bf3d1f7bf7c",
   "metadata": {},
   "outputs": [],
   "source": [
    "pan_no1 = \"CSTPK6756D \"\n",
    "pan_no2 = \"     CSTPK6756D\"\n",
    "clean_pan1 = pan_no1.strip()\n",
    "clean_pan2 = pan_no2.strip()"
   ]
  },
  {
   "cell_type": "code",
   "execution_count": 45,
   "id": "092f5df4-e72a-4059-9925-ff60afb34652",
   "metadata": {},
   "outputs": [
    {
     "data": {
      "text/plain": [
       "False"
      ]
     },
     "execution_count": 45,
     "metadata": {},
     "output_type": "execute_result"
    }
   ],
   "source": [
    "pan_no1 == pan_no2"
   ]
  },
  {
   "cell_type": "code",
   "execution_count": 48,
   "id": "f320ae9b-3f03-47af-8f5a-ff98ea4e14f4",
   "metadata": {},
   "outputs": [
    {
     "data": {
      "text/plain": [
       "True"
      ]
     },
     "execution_count": 48,
     "metadata": {},
     "output_type": "execute_result"
    }
   ],
   "source": [
    "clean_pan1 == clean_pan2"
   ]
  },
  {
   "cell_type": "markdown",
   "id": "df8d38e6-b9a3-4703-b983-fa4451b187bb",
   "metadata": {},
   "source": [
    "#### strip() >>> Remove the white spaces at beginning and end of the string"
   ]
  },
  {
   "cell_type": "markdown",
   "id": "ef4756e9-c42b-499c-b52c-ab3330741c3c",
   "metadata": {},
   "source": [
    "#### string functions"
   ]
  },
  {
   "cell_type": "code",
   "execution_count": 52,
   "id": "37a3d3cd-a544-4df8-972b-e6d5d1403f1b",
   "metadata": {},
   "outputs": [
    {
     "data": {
      "text/plain": [
       "'Anuj Khare'"
      ]
     },
     "execution_count": 52,
     "metadata": {},
     "output_type": "execute_result"
    }
   ],
   "source": [
    "y = \"Anuj Khare\"\n",
    "y.lower()"
   ]
  },
  {
   "cell_type": "code",
   "execution_count": 53,
   "id": "59292669-f9e9-4e48-b2f5-bc996725d2dd",
   "metadata": {},
   "outputs": [
    {
     "data": {
      "text/plain": [
       "'ANUJ KHARE'"
      ]
     },
     "execution_count": 53,
     "metadata": {},
     "output_type": "execute_result"
    }
   ],
   "source": [
    "y1 = y.upper()\n",
    "y1"
   ]
  },
  {
   "cell_type": "code",
   "execution_count": 54,
   "id": "4775f16c-20fe-44f5-bbf0-561c8a7e2e85",
   "metadata": {},
   "outputs": [
    {
     "data": {
      "text/plain": [
       "'Anuj Khare'"
      ]
     },
     "execution_count": 54,
     "metadata": {},
     "output_type": "execute_result"
    }
   ],
   "source": [
    "y"
   ]
  },
  {
   "cell_type": "code",
   "execution_count": 56,
   "id": "8309d677-2420-4b00-836f-3ab650f740f4",
   "metadata": {},
   "outputs": [
    {
     "data": {
      "text/plain": [
       "6"
      ]
     },
     "execution_count": 56,
     "metadata": {},
     "output_type": "execute_result"
    }
   ],
   "source": [
    "a = \"Data Science and Machine learning and AI\"\n",
    "a.count(\"a\")"
   ]
  },
  {
   "cell_type": "code",
   "execution_count": 57,
   "id": "58cb32d1-ebd5-4548-b5f5-647b24a57d2d",
   "metadata": {},
   "outputs": [
    {
     "data": {
      "text/plain": [
       "4"
      ]
     },
     "execution_count": 57,
     "metadata": {},
     "output_type": "execute_result"
    }
   ],
   "source": [
    "a.count(\"e\")"
   ]
  },
  {
   "cell_type": "code",
   "execution_count": 58,
   "id": "eb094738-c907-44d4-bf05-a93e606ec06b",
   "metadata": {},
   "outputs": [
    {
     "data": {
      "text/plain": [
       "False"
      ]
     },
     "execution_count": 58,
     "metadata": {},
     "output_type": "execute_result"
    }
   ],
   "source": [
    "a.islower()"
   ]
  },
  {
   "cell_type": "code",
   "execution_count": 59,
   "id": "f304c029-0fa1-43bd-9e69-9a518fcf5610",
   "metadata": {},
   "outputs": [
    {
     "data": {
      "text/plain": [
       "True"
      ]
     },
     "execution_count": 59,
     "metadata": {},
     "output_type": "execute_result"
    }
   ],
   "source": [
    "b = \"data\"\n",
    "b.islower()"
   ]
  },
  {
   "cell_type": "code",
   "execution_count": 61,
   "id": "7df587b5-50e7-4010-afc8-2c608922bd4d",
   "metadata": {},
   "outputs": [
    {
     "data": {
      "text/plain": [
       "False"
      ]
     },
     "execution_count": 61,
     "metadata": {},
     "output_type": "execute_result"
    }
   ],
   "source": [
    "b.isdigit()"
   ]
  },
  {
   "cell_type": "code",
   "execution_count": 63,
   "id": "aa6e89c2-1adb-492a-893a-595e72d46645",
   "metadata": {},
   "outputs": [
    {
     "data": {
      "text/plain": [
       "True"
      ]
     },
     "execution_count": 63,
     "metadata": {},
     "output_type": "execute_result"
    }
   ],
   "source": [
    "c =\"1234\"\n",
    "c.isdigit()"
   ]
  },
  {
   "cell_type": "code",
   "execution_count": 64,
   "id": "8633de2f-1ca0-442d-9497-0bce9617b0be",
   "metadata": {},
   "outputs": [
    {
     "data": {
      "text/plain": [
       "False"
      ]
     },
     "execution_count": 64,
     "metadata": {},
     "output_type": "execute_result"
    }
   ],
   "source": [
    "c =\"1234A\"\n",
    "c.isdigit()"
   ]
  },
  {
   "cell_type": "code",
   "execution_count": 67,
   "id": "64a7ce28-4435-48a1-ba61-5d787f6a8cda",
   "metadata": {},
   "outputs": [
    {
     "data": {
      "text/plain": [
       "True"
      ]
     },
     "execution_count": 67,
     "metadata": {},
     "output_type": "execute_result"
    }
   ],
   "source": [
    "a = \"Data Science and Machine learning and AI\"\n",
    "a.replace(\" \",\"\").isalpha()"
   ]
  },
  {
   "cell_type": "code",
   "execution_count": 68,
   "id": "1e1bc861-c397-43ee-99a3-08c8c098a731",
   "metadata": {},
   "outputs": [
    {
     "data": {
      "text/plain": [
       "True"
      ]
     },
     "execution_count": 68,
     "metadata": {},
     "output_type": "execute_result"
    }
   ],
   "source": [
    "pan_no = \"CSTPK6756D\"\n",
    "pan_no.isalnum()"
   ]
  },
  {
   "cell_type": "code",
   "execution_count": 69,
   "id": "a1f646b1-c785-4162-ab80-a49071d570a0",
   "metadata": {},
   "outputs": [
    {
     "data": {
      "text/plain": [
       "'10'"
      ]
     },
     "execution_count": 69,
     "metadata": {},
     "output_type": "execute_result"
    }
   ],
   "source": [
    "g = 10\n",
    "s = str(g)\n",
    "s"
   ]
  },
  {
   "cell_type": "code",
   "execution_count": 70,
   "id": "79de5277-eb71-48e3-ac27-eabaa1a2fb2b",
   "metadata": {},
   "outputs": [
    {
     "data": {
      "text/plain": [
       "123"
      ]
     },
     "execution_count": 70,
     "metadata": {},
     "output_type": "execute_result"
    }
   ],
   "source": [
    "h = \"123\"\n",
    "s = int(h)\n",
    "s"
   ]
  },
  {
   "cell_type": "code",
   "execution_count": 71,
   "id": "4361ed86-c7db-4c33-a035-6d5068c285a9",
   "metadata": {},
   "outputs": [
    {
     "ename": "ValueError",
     "evalue": "invalid literal for int() with base 10: '123a'",
     "output_type": "error",
     "traceback": [
      "\u001b[1;31m---------------------------------------------------------------------------\u001b[0m",
      "\u001b[1;31mValueError\u001b[0m                                Traceback (most recent call last)",
      "Cell \u001b[1;32mIn[71], line 2\u001b[0m\n\u001b[0;32m      1\u001b[0m i \u001b[38;5;241m=\u001b[39m \u001b[38;5;124m\"\u001b[39m\u001b[38;5;124m123a\u001b[39m\u001b[38;5;124m\"\u001b[39m\n\u001b[1;32m----> 2\u001b[0m s \u001b[38;5;241m=\u001b[39m \u001b[38;5;28mint\u001b[39m(i)\n\u001b[0;32m      3\u001b[0m s\n",
      "\u001b[1;31mValueError\u001b[0m: invalid literal for int() with base 10: '123a'"
     ]
    }
   ],
   "source": [
    "i = \"123a\"\n",
    "s = int(i) #not possible\n",
    "s"
   ]
  },
  {
   "cell_type": "markdown",
   "id": "65b37c44-592e-46c0-9e76-f500a531677c",
   "metadata": {},
   "source": [
    "#### Comparison operator"
   ]
  },
  {
   "cell_type": "code",
   "execution_count": 72,
   "id": "1b962844-2137-4f3a-9dba-bc2d7163311a",
   "metadata": {},
   "outputs": [],
   "source": [
    "# ==, !=, >, <, >=, <=\n",
    "\n",
    "a = 25\n",
    "b =60"
   ]
  },
  {
   "cell_type": "code",
   "execution_count": 73,
   "id": "b2012f0f-e0f3-4647-b4ab-1136db236ea7",
   "metadata": {},
   "outputs": [
    {
     "data": {
      "text/plain": [
       "False"
      ]
     },
     "execution_count": 73,
     "metadata": {},
     "output_type": "execute_result"
    }
   ],
   "source": [
    "a == b"
   ]
  },
  {
   "cell_type": "code",
   "execution_count": 74,
   "id": "23a10050-f9d2-4968-9b32-bbaf08002a14",
   "metadata": {},
   "outputs": [
    {
     "data": {
      "text/plain": [
       "True"
      ]
     },
     "execution_count": 74,
     "metadata": {},
     "output_type": "execute_result"
    }
   ],
   "source": [
    "a != b"
   ]
  },
  {
   "cell_type": "code",
   "execution_count": 75,
   "id": "2cef7064-33ee-4450-8366-29f478b6910a",
   "metadata": {},
   "outputs": [
    {
     "data": {
      "text/plain": [
       "False"
      ]
     },
     "execution_count": 75,
     "metadata": {},
     "output_type": "execute_result"
    }
   ],
   "source": [
    "a > b"
   ]
  },
  {
   "cell_type": "code",
   "execution_count": 76,
   "id": "f942c7c2-c5df-41ea-aeee-329a70b75aed",
   "metadata": {},
   "outputs": [
    {
     "data": {
      "text/plain": [
       "True"
      ]
     },
     "execution_count": 76,
     "metadata": {},
     "output_type": "execute_result"
    }
   ],
   "source": [
    "a < b"
   ]
  },
  {
   "cell_type": "code",
   "execution_count": 77,
   "id": "f8006cc9-b8e0-44b6-92d8-3b74e3d5fb8c",
   "metadata": {},
   "outputs": [
    {
     "data": {
      "text/plain": [
       "False"
      ]
     },
     "execution_count": 77,
     "metadata": {},
     "output_type": "execute_result"
    }
   ],
   "source": [
    "a >= b"
   ]
  },
  {
   "cell_type": "code",
   "execution_count": 78,
   "id": "0f409bf3-5571-4c2a-91f9-6c82443f11f0",
   "metadata": {},
   "outputs": [
    {
     "data": {
      "text/plain": [
       "True"
      ]
     },
     "execution_count": 78,
     "metadata": {},
     "output_type": "execute_result"
    }
   ],
   "source": [
    "a <= b"
   ]
  },
  {
   "cell_type": "markdown",
   "id": "5f814b54-b396-4742-8284-ea9aac3458b9",
   "metadata": {},
   "source": [
    "#### Logical Operator"
   ]
  },
  {
   "cell_type": "code",
   "execution_count": null,
   "id": "b2bbc270-1785-45b5-a1ee-666a9ad7a8ac",
   "metadata": {},
   "outputs": [],
   "source": [
    "# AND, OR, NOT"
   ]
  },
  {
   "cell_type": "code",
   "execution_count": 80,
   "id": "b8ffedd9-4181-4ce5-a2f6-d3df98c94523",
   "metadata": {},
   "outputs": [
    {
     "data": {
      "text/plain": [
       "True"
      ]
     },
     "execution_count": 80,
     "metadata": {},
     "output_type": "execute_result"
    }
   ],
   "source": [
    "True and True"
   ]
  },
  {
   "cell_type": "code",
   "execution_count": 81,
   "id": "0c6827ce-d164-4633-bfa8-4f858851e833",
   "metadata": {},
   "outputs": [
    {
     "data": {
      "text/plain": [
       "False"
      ]
     },
     "execution_count": 81,
     "metadata": {},
     "output_type": "execute_result"
    }
   ],
   "source": [
    "True and False"
   ]
  },
  {
   "cell_type": "code",
   "execution_count": 82,
   "id": "6c2ea555-8e2c-4f9f-bb33-df1031f0db20",
   "metadata": {},
   "outputs": [
    {
     "data": {
      "text/plain": [
       "False"
      ]
     },
     "execution_count": 82,
     "metadata": {},
     "output_type": "execute_result"
    }
   ],
   "source": [
    "False and True"
   ]
  },
  {
   "cell_type": "code",
   "execution_count": 83,
   "id": "f02f1e7d-911a-49c0-829a-58eefa67a7e9",
   "metadata": {},
   "outputs": [
    {
     "data": {
      "text/plain": [
       "False"
      ]
     },
     "execution_count": 83,
     "metadata": {},
     "output_type": "execute_result"
    }
   ],
   "source": [
    "False and False"
   ]
  },
  {
   "cell_type": "code",
   "execution_count": 84,
   "id": "3d6f7199-f070-43ef-9729-9f17f52b7af6",
   "metadata": {},
   "outputs": [
    {
     "data": {
      "text/plain": [
       "True"
      ]
     },
     "execution_count": 84,
     "metadata": {},
     "output_type": "execute_result"
    }
   ],
   "source": [
    "True or True\n"
   ]
  },
  {
   "cell_type": "code",
   "execution_count": 85,
   "id": "12187cf0-252d-4e2f-9185-ddb5ca058d1b",
   "metadata": {},
   "outputs": [
    {
     "data": {
      "text/plain": [
       "True"
      ]
     },
     "execution_count": 85,
     "metadata": {},
     "output_type": "execute_result"
    }
   ],
   "source": [
    "True or False\n"
   ]
  },
  {
   "cell_type": "code",
   "execution_count": 86,
   "id": "c48fafaa-db87-460b-b5e9-baa8b35fd648",
   "metadata": {},
   "outputs": [
    {
     "data": {
      "text/plain": [
       "True"
      ]
     },
     "execution_count": 86,
     "metadata": {},
     "output_type": "execute_result"
    }
   ],
   "source": [
    "False or True\n"
   ]
  },
  {
   "cell_type": "code",
   "execution_count": 87,
   "id": "01121258-b327-472f-93db-7aa29db12abe",
   "metadata": {},
   "outputs": [
    {
     "data": {
      "text/plain": [
       "False"
      ]
     },
     "execution_count": 87,
     "metadata": {},
     "output_type": "execute_result"
    }
   ],
   "source": [
    "False or False\n"
   ]
  },
  {
   "cell_type": "code",
   "execution_count": null,
   "id": "b4967f7c-0e75-4221-9a21-f8aa1b0bf5bd",
   "metadata": {},
   "outputs": [],
   "source": []
  }
 ],
 "metadata": {
  "kernelspec": {
   "display_name": "Python 3 (ipykernel)",
   "language": "python",
   "name": "python3"
  },
  "language_info": {
   "codemirror_mode": {
    "name": "ipython",
    "version": 3
   },
   "file_extension": ".py",
   "mimetype": "text/x-python",
   "name": "python",
   "nbconvert_exporter": "python",
   "pygments_lexer": "ipython3",
   "version": "3.13.5"
  }
 },
 "nbformat": 4,
 "nbformat_minor": 5
}
