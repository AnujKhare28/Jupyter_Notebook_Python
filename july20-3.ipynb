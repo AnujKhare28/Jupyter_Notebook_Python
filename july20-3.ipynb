{
 "cells": [
  {
   "cell_type": "code",
   "execution_count": 2,
   "id": "4b9edaf5-c4fb-42de-a7de-a53db05adc1d",
   "metadata": {},
   "outputs": [
    {
     "name": "stdin",
     "output_type": "stream",
     "text": [
      " ABCDCDC\n"
     ]
    },
    {
     "name": "stdout",
     "output_type": "stream",
     "text": [
      "ABCDCDC\n"
     ]
    },
    {
     "name": "stdin",
     "output_type": "stream",
     "text": [
      " CDC\n"
     ]
    },
    {
     "name": "stdout",
     "output_type": "stream",
     "text": [
      "CDC\n",
      "Substring: 2\n"
     ]
    }
   ],
   "source": [
    "def count_substring(string, sub_string):\n",
    "    start = 0\n",
    "    end = len(sub_string)\n",
    "    \n",
    "    counter = 0\n",
    "    \n",
    "    while end <= len(string):\n",
    "        if sub_string == string[start:end]:\n",
    "            counter += 1\n",
    "        start += 1\n",
    "        end +=1\n",
    "    return counter\n",
    "            \n",
    "    \n",
    "if __name__ == '__main__':\n",
    "    string = input().strip()\n",
    "    print(string)\n",
    "    sub_string = input().strip()\n",
    "    print(sub_string)\n",
    "    \n",
    "    count = count_substring(string, sub_string)\n",
    "    print(\"Substring:\",count)"
   ]
  },
  {
   "cell_type": "code",
   "execution_count": 4,
   "id": "5ae94e8d-753a-496e-898d-81d49240a55b",
   "metadata": {},
   "outputs": [
    {
     "name": "stdin",
     "output_type": "stream",
     "text": [
      " qA2\n"
     ]
    },
    {
     "name": "stdout",
     "output_type": "stream",
     "text": [
      "True\n",
      "True\n",
      "True\n",
      "True\n",
      "True\n"
     ]
    }
   ],
   "source": [
    " s = input()\n",
    "print(any(c.isalnum() for c in s))\n",
    "print(any(c.isalpha() for c in s))\n",
    "print(any(c.isdigit() for c in s))\n",
    "print(any(c.islower() for c in s))\n",
    "print(any(c.isupper() for c in s))\n"
   ]
  },
  {
   "cell_type": "code",
   "execution_count": null,
   "id": "8dd3cdd0-365f-47c7-8e11-ae43dda6fb38",
   "metadata": {},
   "outputs": [],
   "source": []
  }
 ],
 "metadata": {
  "kernelspec": {
   "display_name": "Python 3 (ipykernel)",
   "language": "python",
   "name": "python3"
  },
  "language_info": {
   "codemirror_mode": {
    "name": "ipython",
    "version": 3
   },
   "file_extension": ".py",
   "mimetype": "text/x-python",
   "name": "python",
   "nbconvert_exporter": "python",
   "pygments_lexer": "ipython3",
   "version": "3.13.5"
  }
 },
 "nbformat": 4,
 "nbformat_minor": 5
}
