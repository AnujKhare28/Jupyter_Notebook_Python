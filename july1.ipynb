{
 "cells": [
  {
   "cell_type": "code",
   "execution_count": 5,
   "id": "02f652b9-aac1-4f6d-a0ec-e5055e71815e",
   "metadata": {},
   "outputs": [
    {
     "name": "stdout",
     "output_type": "stream",
     "text": [
      "Name of person is Anuj\n",
      "Person working is Data Scientist\n"
     ]
    }
   ],
   "source": [
    "name = \"Anuj\"\n",
    "desg = \"Data Scientist\"\n",
    "print(\"Name of person is\", name)\n",
    "print(\"Person working is\", desg)"
   ]
  },
  {
   "cell_type": "markdown",
   "id": "d8f10629-f428-40a3-999c-c578ab7d3cea",
   "metadata": {},
   "source": [
    "### String Formatting"
   ]
  },
  {
   "cell_type": "code",
   "execution_count": 6,
   "id": "98bcb087-b693-41fc-8459-dd3b84082828",
   "metadata": {},
   "outputs": [
    {
     "name": "stdout",
     "output_type": "stream",
     "text": [
      "Addition of a and b is 30\n"
     ]
    }
   ],
   "source": [
    "a = 10 \n",
    "b = 20\n",
    "c = a + b\n",
    "print (\"Addition of a and b is\", c)"
   ]
  },
  {
   "cell_type": "markdown",
   "id": "b279e18b-8c8a-4912-9265-399999c5234a",
   "metadata": {},
   "source": [
    "### f - string"
   ]
  },
  {
   "cell_type": "code",
   "execution_count": 8,
   "id": "1296b50a-3ec8-4910-b5bd-21f76f8b4179",
   "metadata": {},
   "outputs": [
    {
     "name": "stdout",
     "output_type": "stream",
     "text": [
      "Addition of 10 and 20 is 30\n"
     ]
    }
   ],
   "source": [
    "a = 10 \n",
    "b = 20\n",
    "c = a + b\n",
    "print (f\"Addition of {a} and {b} is {c}\")"
   ]
  },
  {
   "cell_type": "markdown",
   "id": "fd65a1f4-4ef8-4102-9531-d2e9c8fe49db",
   "metadata": {},
   "source": [
    "### dot format"
   ]
  },
  {
   "cell_type": "code",
   "execution_count": 9,
   "id": "9424478b-fcd1-4bdb-982d-0728f17925e7",
   "metadata": {},
   "outputs": [
    {
     "name": "stdout",
     "output_type": "stream",
     "text": [
      "Addition of 10 and 20 is 30\n"
     ]
    }
   ],
   "source": [
    "a = 10 \n",
    "b = 20\n",
    "c = a + b\n",
    "print (\"Addition of {} and {} is {}\".format(a,b,c))"
   ]
  },
  {
   "cell_type": "markdown",
   "id": "cafa9847-8d43-47e2-af46-7eaa35629727",
   "metadata": {},
   "source": [
    "### Data Types"
   ]
  },
  {
   "cell_type": "raw",
   "id": "e3a58e68-87fa-426b-bfdb-a9ef0ab77d65",
   "metadata": {},
   "source": [
    "Numeric\n",
    "-> int\n",
    "-> float\n",
    "-> complex\n",
    "Boolean\n",
    "-> ture\n",
    "-> false\n",
    "-> string\n",
    "-> list\n",
    "-> tuple\n",
    "-> set\n",
    "-> dict"
   ]
  },
  {
   "cell_type": "markdown",
   "id": "a10ecd3c-78b2-4c2f-87cf-a6e7d141e52e",
   "metadata": {},
   "source": [
    "#### 1. Integer"
   ]
  },
  {
   "cell_type": "code",
   "execution_count": 12,
   "id": "bb8db30c-d760-45ed-9496-8fdffdd038d9",
   "metadata": {},
   "outputs": [
    {
     "name": "stdout",
     "output_type": "stream",
     "text": [
      "10 <class 'int'>\n"
     ]
    }
   ],
   "source": [
    "a = 10 \n",
    "print (a, type(a))"
   ]
  },
  {
   "cell_type": "markdown",
   "id": "2512178f-5bef-4d68-91fa-7733b4a1ed84",
   "metadata": {},
   "source": [
    "#### 2. Float"
   ]
  },
  {
   "cell_type": "code",
   "execution_count": 13,
   "id": "b61712db-d588-4946-a1b0-ad833df240e1",
   "metadata": {},
   "outputs": [
    {
     "name": "stdout",
     "output_type": "stream",
     "text": [
      "10.0 <class 'float'>\n"
     ]
    }
   ],
   "source": [
    "a = 10.0\n",
    "print (a, type(a))"
   ]
  },
  {
   "cell_type": "markdown",
   "id": "432dc2b5-8070-4298-a8e4-781f6c7f87bc",
   "metadata": {},
   "source": [
    "#### 3. Complex No."
   ]
  },
  {
   "cell_type": "code",
   "execution_count": 14,
   "id": "d7908fe5-b92c-4148-822b-e45f6fab8a78",
   "metadata": {},
   "outputs": [
    {
     "name": "stdout",
     "output_type": "stream",
     "text": [
      "(10+7j) <class 'complex'>\n"
     ]
    }
   ],
   "source": [
    "a = 10 + 7j\n",
    "print (a, type(a))"
   ]
  },
  {
   "cell_type": "code",
   "execution_count": 20,
   "id": "1dce4a1c-ef60-40fa-bfa7-c32c58178e67",
   "metadata": {},
   "outputs": [],
   "source": [
    "import sys"
   ]
  },
  {
   "cell_type": "code",
   "execution_count": 26,
   "id": "a26c4d0f-69c6-4f12-9194-cb31e411c30f",
   "metadata": {},
   "outputs": [
    {
     "name": "stdout",
     "output_type": "stream",
     "text": [
      "(5.6+7j)\n",
      "<class 'complex'>\n",
      "32\n",
      "True\n"
     ]
    }
   ],
   "source": [
    "a = 5.6 + 7j\n",
    "print (a)\n",
    "print (type(a))\n",
    "print(sys.getsizeof(a))\n",
    "print(isinstance(a, complex))"
   ]
  },
  {
   "cell_type": "markdown",
   "id": "8a648d87-0bc0-48ce-9c21-e558d6d5b2d0",
   "metadata": {},
   "source": [
    "#### Type Casting"
   ]
  },
  {
   "cell_type": "code",
   "execution_count": 33,
   "id": "3818abf1-14fc-43cb-bb9c-11ae5a22a033",
   "metadata": {},
   "outputs": [
    {
     "name": "stdout",
     "output_type": "stream",
     "text": [
      "5 <class 'int'>\n",
      "5.0 <class 'float'>\n"
     ]
    }
   ],
   "source": [
    "# int to float\n",
    "a = 5\n",
    "print (a, type(a))\n",
    "b = float(a)\n",
    "print(b, type(b))"
   ]
  },
  {
   "cell_type": "code",
   "execution_count": 34,
   "id": "66d4ef5a-25a5-4da6-bac5-7ffd3edd73c7",
   "metadata": {},
   "outputs": [
    {
     "name": "stdout",
     "output_type": "stream",
     "text": [
      "5 <class 'int'>\n",
      "(5+0j) <class 'complex'>\n"
     ]
    }
   ],
   "source": [
    "# int to complex\n",
    "a = 5\n",
    "print (a, type(a))\n",
    "b = complex(a)\n",
    "print(b, type(b))"
   ]
  },
  {
   "cell_type": "code",
   "execution_count": 36,
   "id": "0c0993b0-8458-4357-86f7-10ceb237e8c1",
   "metadata": {},
   "outputs": [
    {
     "name": "stdout",
     "output_type": "stream",
     "text": [
      "5.1 <class 'float'>\n",
      "5 <class 'int'>\n"
     ]
    }
   ],
   "source": [
    "# float to int \n",
    "a = 5.1\n",
    "print (a, type(a))\n",
    "b = int(a)\n",
    "print(b, type(b))"
   ]
  },
  {
   "cell_type": "code",
   "execution_count": 37,
   "id": "8d3d4147-9325-4488-a714-8a2b2fc59c3c",
   "metadata": {},
   "outputs": [
    {
     "name": "stdout",
     "output_type": "stream",
     "text": [
      "5.1 <class 'float'>\n",
      "(5.1+0j) <class 'complex'>\n"
     ]
    }
   ],
   "source": [
    "# float to complex\n",
    "a = 5.1\n",
    "print (a, type(a))\n",
    "b = complex(a)\n",
    "print(b, type(b))"
   ]
  },
  {
   "cell_type": "code",
   "execution_count": 40,
   "id": "39f0fbb7-a008-4262-b83c-664ac2560982",
   "metadata": {},
   "outputs": [
    {
     "name": "stdout",
     "output_type": "stream",
     "text": [
      "(5+2j) <class 'complex'>\n"
     ]
    },
    {
     "ename": "TypeError",
     "evalue": "int() argument must be a string, a bytes-like object or a real number, not 'complex'",
     "output_type": "error",
     "traceback": [
      "\u001b[1;31m---------------------------------------------------------------------------\u001b[0m",
      "\u001b[1;31mTypeError\u001b[0m                                 Traceback (most recent call last)",
      "Cell \u001b[1;32mIn[40], line 4\u001b[0m\n\u001b[0;32m      2\u001b[0m a \u001b[38;5;241m=\u001b[39m \u001b[38;5;241m5\u001b[39m \u001b[38;5;241m+\u001b[39m \u001b[38;5;241m2\u001b[39mj\n\u001b[0;32m      3\u001b[0m \u001b[38;5;28mprint\u001b[39m (a, \u001b[38;5;28mtype\u001b[39m(a))\n\u001b[1;32m----> 4\u001b[0m b \u001b[38;5;241m=\u001b[39m \u001b[38;5;28mint\u001b[39m(a)\n\u001b[0;32m      5\u001b[0m \u001b[38;5;28mprint\u001b[39m(b, \u001b[38;5;28mtype\u001b[39m(b))\n",
      "\u001b[1;31mTypeError\u001b[0m: int() argument must be a string, a bytes-like object or a real number, not 'complex'"
     ]
    }
   ],
   "source": [
    "#complex to int (not possible)\n",
    "a = 5 + 2j\n",
    "print (a, type(a))\n",
    "b = int(a)\n",
    "print(b, type(b))"
   ]
  },
  {
   "cell_type": "code",
   "execution_count": 39,
   "id": "2127aa24-87cf-4efe-b551-8cbf60461b6b",
   "metadata": {},
   "outputs": [
    {
     "name": "stdout",
     "output_type": "stream",
     "text": [
      "(5+2j) <class 'complex'>\n"
     ]
    },
    {
     "ename": "TypeError",
     "evalue": "float() argument must be a string or a real number, not 'complex'",
     "output_type": "error",
     "traceback": [
      "\u001b[1;31m---------------------------------------------------------------------------\u001b[0m",
      "\u001b[1;31mTypeError\u001b[0m                                 Traceback (most recent call last)",
      "Cell \u001b[1;32mIn[39], line 4\u001b[0m\n\u001b[0;32m      2\u001b[0m a \u001b[38;5;241m=\u001b[39m \u001b[38;5;241m5\u001b[39m \u001b[38;5;241m+\u001b[39m \u001b[38;5;241m2\u001b[39mj\n\u001b[0;32m      3\u001b[0m \u001b[38;5;28mprint\u001b[39m (a, \u001b[38;5;28mtype\u001b[39m(a))\n\u001b[1;32m----> 4\u001b[0m b \u001b[38;5;241m=\u001b[39m \u001b[38;5;28mfloat\u001b[39m(a)\n\u001b[0;32m      5\u001b[0m \u001b[38;5;28mprint\u001b[39m(b, \u001b[38;5;28mtype\u001b[39m(b))\n",
      "\u001b[1;31mTypeError\u001b[0m: float() argument must be a string or a real number, not 'complex'"
     ]
    }
   ],
   "source": [
    "#complex to float (not possible)\n",
    "a = 5 + 2j\n",
    "print (a, type(a))\n",
    "b = float(a)\n",
    "print(b, type(b))"
   ]
  },
  {
   "cell_type": "markdown",
   "id": "772107a4-45ab-4e04-aae0-f60f2e1a01b3",
   "metadata": {},
   "source": [
    "#### Boolean"
   ]
  },
  {
   "cell_type": "code",
   "execution_count": 41,
   "id": "0291e17e-8f50-42a9-984c-049f2768c566",
   "metadata": {},
   "outputs": [],
   "source": [
    "on = True "
   ]
  },
  {
   "cell_type": "code",
   "execution_count": 42,
   "id": "98079601-cf1c-4759-8e2a-44a037de7c9a",
   "metadata": {},
   "outputs": [],
   "source": [
    "off = False"
   ]
  },
  {
   "cell_type": "code",
   "execution_count": 43,
   "id": "a0b16e58-294c-4d62-bd7b-dc449758b858",
   "metadata": {},
   "outputs": [
    {
     "data": {
      "text/plain": [
       "bool"
      ]
     },
     "execution_count": 43,
     "metadata": {},
     "output_type": "execute_result"
    }
   ],
   "source": [
    "type(on)"
   ]
  },
  {
   "cell_type": "code",
   "execution_count": 44,
   "id": "545990e3-53bd-4aa6-afb5-b23a8dcd4137",
   "metadata": {},
   "outputs": [
    {
     "data": {
      "text/plain": [
       "bool"
      ]
     },
     "execution_count": 44,
     "metadata": {},
     "output_type": "execute_result"
    }
   ],
   "source": [
    "type(off)"
   ]
  },
  {
   "cell_type": "code",
   "execution_count": 48,
   "id": "851d6a36-71c4-48c4-9e52-483ba547d278",
   "metadata": {},
   "outputs": [
    {
     "data": {
      "text/plain": [
       "True"
      ]
     },
     "execution_count": 48,
     "metadata": {},
     "output_type": "execute_result"
    }
   ],
   "source": [
    "True == 1"
   ]
  },
  {
   "cell_type": "code",
   "execution_count": 49,
   "id": "de6df3c0-02b5-4856-a7db-ccd02dd95a08",
   "metadata": {},
   "outputs": [
    {
     "data": {
      "text/plain": [
       "True"
      ]
     },
     "execution_count": 49,
     "metadata": {},
     "output_type": "execute_result"
    }
   ],
   "source": [
    "False == 0"
   ]
  },
  {
   "cell_type": "code",
   "execution_count": 50,
   "id": "955f6a38-4cf9-4790-a39e-a37089e1a162",
   "metadata": {},
   "outputs": [
    {
     "data": {
      "text/plain": [
       "True"
      ]
     },
     "execution_count": 50,
     "metadata": {},
     "output_type": "execute_result"
    }
   ],
   "source": [
    "isinstance(off, bool)"
   ]
  },
  {
   "cell_type": "code",
   "execution_count": 51,
   "id": "a5709c47-bc39-4229-8a7b-4b1a31a0abae",
   "metadata": {},
   "outputs": [
    {
     "data": {
      "text/plain": [
       "True"
      ]
     },
     "execution_count": 51,
     "metadata": {},
     "output_type": "execute_result"
    }
   ],
   "source": [
    "isinstance(off, int)\n"
   ]
  },
  {
   "cell_type": "code",
   "execution_count": 52,
   "id": "813b7438-56d8-4af8-b875-d69fb6243403",
   "metadata": {},
   "outputs": [
    {
     "data": {
      "text/plain": [
       "False"
      ]
     },
     "execution_count": 52,
     "metadata": {},
     "output_type": "execute_result"
    }
   ],
   "source": [
    "bool(0)"
   ]
  },
  {
   "cell_type": "code",
   "execution_count": 53,
   "id": "b8ac06de-e917-4b10-aee8-7005927d3f99",
   "metadata": {},
   "outputs": [
    {
     "data": {
      "text/plain": [
       "True"
      ]
     },
     "execution_count": 53,
     "metadata": {},
     "output_type": "execute_result"
    }
   ],
   "source": [
    "bool(1)\n"
   ]
  },
  {
   "cell_type": "code",
   "execution_count": 54,
   "id": "ec448624-7586-485e-86bb-59dfd685c71c",
   "metadata": {},
   "outputs": [
    {
     "data": {
      "text/plain": [
       "True"
      ]
     },
     "execution_count": 54,
     "metadata": {},
     "output_type": "execute_result"
    }
   ],
   "source": [
    "bool(-98)"
   ]
  },
  {
   "cell_type": "markdown",
   "id": "8e4a7b05-9789-46a1-8e12-599aab25efe4",
   "metadata": {},
   "source": [
    "#### String"
   ]
  },
  {
   "cell_type": "code",
   "execution_count": 55,
   "id": "dbf528b5-f3e4-440c-abf6-7a82e26fa95b",
   "metadata": {},
   "outputs": [
    {
     "name": "stdout",
     "output_type": "stream",
     "text": [
      "Anuj <class 'str'>\n"
     ]
    }
   ],
   "source": [
    "a = \"Anuj\"\n",
    "print (a, type(a))"
   ]
  },
  {
   "cell_type": "code",
   "execution_count": 68,
   "id": "082b8d93-0042-47e6-9247-0be9d8979eb8",
   "metadata": {},
   "outputs": [],
   "source": [
    "str1 = \"PYTHON\""
   ]
  },
  {
   "cell_type": "code",
   "execution_count": 69,
   "id": "f3f7d456-5ab8-4c9f-9eb3-9d9fc33d11a2",
   "metadata": {},
   "outputs": [
    {
     "data": {
      "text/plain": [
       "'P'"
      ]
     },
     "execution_count": 69,
     "metadata": {},
     "output_type": "execute_result"
    }
   ],
   "source": [
    "str1[0]"
   ]
  },
  {
   "cell_type": "code",
   "execution_count": 70,
   "id": "44a660bf-8418-48ab-b45f-77c05a495d3d",
   "metadata": {},
   "outputs": [
    {
     "data": {
      "text/plain": [
       "'Y'"
      ]
     },
     "execution_count": 70,
     "metadata": {},
     "output_type": "execute_result"
    }
   ],
   "source": [
    "str1[1]"
   ]
  },
  {
   "cell_type": "code",
   "execution_count": 71,
   "id": "9932bec7-a5ae-4b90-a4e0-631fb00cf3ac",
   "metadata": {},
   "outputs": [
    {
     "data": {
      "text/plain": [
       "'T'"
      ]
     },
     "execution_count": 71,
     "metadata": {},
     "output_type": "execute_result"
    }
   ],
   "source": [
    "str1[2]\n"
   ]
  },
  {
   "cell_type": "code",
   "execution_count": 72,
   "id": "a617529b-2de9-423a-ab75-573116de5235",
   "metadata": {},
   "outputs": [
    {
     "data": {
      "text/plain": [
       "'H'"
      ]
     },
     "execution_count": 72,
     "metadata": {},
     "output_type": "execute_result"
    }
   ],
   "source": [
    "str1[3]\n"
   ]
  },
  {
   "cell_type": "code",
   "execution_count": 73,
   "id": "811dee6c-9e3f-414f-9cbe-69e7fd2bc1b2",
   "metadata": {},
   "outputs": [
    {
     "data": {
      "text/plain": [
       "'O'"
      ]
     },
     "execution_count": 73,
     "metadata": {},
     "output_type": "execute_result"
    }
   ],
   "source": [
    "str1[4]\n"
   ]
  },
  {
   "cell_type": "code",
   "execution_count": 74,
   "id": "3093f100-d59f-44b1-9e45-d25196b9c2aa",
   "metadata": {},
   "outputs": [
    {
     "data": {
      "text/plain": [
       "'N'"
      ]
     },
     "execution_count": 74,
     "metadata": {},
     "output_type": "execute_result"
    }
   ],
   "source": [
    "str1[5]\n"
   ]
  },
  {
   "cell_type": "code",
   "execution_count": 75,
   "id": "9e744c7f-9072-4d92-aff4-661dfcbc931f",
   "metadata": {},
   "outputs": [
    {
     "data": {
      "text/plain": [
       "'N'"
      ]
     },
     "execution_count": 75,
     "metadata": {},
     "output_type": "execute_result"
    }
   ],
   "source": [
    "str1[-1]"
   ]
  },
  {
   "cell_type": "code",
   "execution_count": 76,
   "id": "6e709543-4483-431e-9597-05321641dec2",
   "metadata": {},
   "outputs": [
    {
     "data": {
      "text/plain": [
       "'O'"
      ]
     },
     "execution_count": 76,
     "metadata": {},
     "output_type": "execute_result"
    }
   ],
   "source": [
    "str1[-2]\n"
   ]
  },
  {
   "cell_type": "code",
   "execution_count": 77,
   "id": "57b96752-ccc8-4173-a23d-29cb80ba276d",
   "metadata": {},
   "outputs": [
    {
     "data": {
      "text/plain": [
       "'H'"
      ]
     },
     "execution_count": 77,
     "metadata": {},
     "output_type": "execute_result"
    }
   ],
   "source": [
    "str1[-3]\n"
   ]
  },
  {
   "cell_type": "code",
   "execution_count": 78,
   "id": "4e4ad607-d22a-4fd9-b4b2-a820ea73dae6",
   "metadata": {},
   "outputs": [
    {
     "data": {
      "text/plain": [
       "'T'"
      ]
     },
     "execution_count": 78,
     "metadata": {},
     "output_type": "execute_result"
    }
   ],
   "source": [
    "str1[-4]\n"
   ]
  },
  {
   "cell_type": "code",
   "execution_count": 79,
   "id": "c9297be3-7e94-4edc-8a9f-85e8e79401ed",
   "metadata": {},
   "outputs": [
    {
     "data": {
      "text/plain": [
       "'Y'"
      ]
     },
     "execution_count": 79,
     "metadata": {},
     "output_type": "execute_result"
    }
   ],
   "source": [
    "str1[-5]\n"
   ]
  },
  {
   "cell_type": "code",
   "execution_count": 80,
   "id": "02bdef9b-2dd7-4f40-a2c2-19daeb73dc9e",
   "metadata": {},
   "outputs": [
    {
     "data": {
      "text/plain": [
       "'P'"
      ]
     },
     "execution_count": 80,
     "metadata": {},
     "output_type": "execute_result"
    }
   ],
   "source": [
    "str1[-6]\n"
   ]
  },
  {
   "cell_type": "markdown",
   "id": "c714d2a4-782d-470d-9912-a3d2ae369b24",
   "metadata": {},
   "source": [
    "#### Slicing"
   ]
  },
  {
   "cell_type": "raw",
   "id": "f91a9418-351c-4f94-86a3-e8dbf3e567bc",
   "metadata": {},
   "source": [
    "syntax\n",
    "string [ start_idx : end_index : step size]"
   ]
  },
  {
   "cell_type": "code",
   "execution_count": 82,
   "id": "6abe28a5-86ba-4ab0-8df8-a2f329386ce0",
   "metadata": {},
   "outputs": [
    {
     "data": {
      "text/plain": [
       "'YTH'"
      ]
     },
     "execution_count": 82,
     "metadata": {},
     "output_type": "execute_result"
    }
   ],
   "source": [
    "str1[1:4:]"
   ]
  },
  {
   "cell_type": "code",
   "execution_count": 83,
   "id": "9b933cd9-c026-4fa4-88df-9b44463e973e",
   "metadata": {},
   "outputs": [
    {
     "data": {
      "text/plain": [
       "'PYT'"
      ]
     },
     "execution_count": 83,
     "metadata": {},
     "output_type": "execute_result"
    }
   ],
   "source": [
    "str1[0:3:]\n"
   ]
  },
  {
   "cell_type": "code",
   "execution_count": 88,
   "id": "d89d7522-7327-4dc8-a9fc-21a57280b984",
   "metadata": {},
   "outputs": [
    {
     "data": {
      "text/plain": [
       "'PO'"
      ]
     },
     "execution_count": 88,
     "metadata": {},
     "output_type": "execute_result"
    }
   ],
   "source": [
    "str1[0:5:4]\n"
   ]
  },
  {
   "cell_type": "code",
   "execution_count": 89,
   "id": "26bb6460-6bc7-499e-88b2-7a6a1b472efd",
   "metadata": {},
   "outputs": [],
   "source": [
    "str2 = \"PYTHON DATA\""
   ]
  },
  {
   "cell_type": "code",
   "execution_count": 90,
   "id": "feb2d7d0-59e1-402a-a8a0-733c3cc386d3",
   "metadata": {},
   "outputs": [
    {
     "data": {
      "text/plain": [
       "'DATA'"
      ]
     },
     "execution_count": 90,
     "metadata": {},
     "output_type": "execute_result"
    }
   ],
   "source": [
    "str2[7:]"
   ]
  },
  {
   "cell_type": "code",
   "execution_count": 91,
   "id": "c20c7af8-c7af-4548-8515-5b716b9c3354",
   "metadata": {},
   "outputs": [
    {
     "data": {
      "text/plain": [
       "'YHND'"
      ]
     },
     "execution_count": 91,
     "metadata": {},
     "output_type": "execute_result"
    }
   ],
   "source": [
    "str2[1:8:2]\n"
   ]
  },
  {
   "cell_type": "code",
   "execution_count": 92,
   "id": "38c1eb35-1958-4c87-8c8c-b06cd0f694ad",
   "metadata": {},
   "outputs": [
    {
     "data": {
      "text/plain": [
       "'PTO '"
      ]
     },
     "execution_count": 92,
     "metadata": {},
     "output_type": "execute_result"
    }
   ],
   "source": [
    "str2[0:8:2]\n"
   ]
  },
  {
   "cell_type": "code",
   "execution_count": null,
   "id": "65fddb76-cba6-4e6e-9ff3-121965868f53",
   "metadata": {},
   "outputs": [],
   "source": []
  }
 ],
 "metadata": {
  "kernelspec": {
   "display_name": "Python 3 (ipykernel)",
   "language": "python",
   "name": "python3"
  },
  "language_info": {
   "codemirror_mode": {
    "name": "ipython",
    "version": 3
   },
   "file_extension": ".py",
   "mimetype": "text/x-python",
   "name": "python",
   "nbconvert_exporter": "python",
   "pygments_lexer": "ipython3",
   "version": "3.13.5"
  }
 },
 "nbformat": 4,
 "nbformat_minor": 5
}
