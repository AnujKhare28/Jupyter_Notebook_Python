{
 "cells": [
  {
   "cell_type": "code",
   "execution_count": 4,
   "id": "099d1a0e-a71a-4005-9f4e-f9a9e68609a4",
   "metadata": {},
   "outputs": [
    {
     "name": "stdin",
     "output_type": "stream",
     "text": [
      " 20\n"
     ]
    },
    {
     "name": "stdout",
     "output_type": "stream",
     "text": [
      "--------------------------------------t--------------------------------------\n",
      "------------------------------------t-s-t------------------------------------\n",
      "----------------------------------t-s-r-s-t----------------------------------\n",
      "--------------------------------t-s-r-q-r-s-t--------------------------------\n",
      "------------------------------t-s-r-q-p-q-r-s-t------------------------------\n",
      "----------------------------t-s-r-q-p-o-p-q-r-s-t----------------------------\n",
      "--------------------------t-s-r-q-p-o-n-o-p-q-r-s-t--------------------------\n",
      "------------------------t-s-r-q-p-o-n-m-n-o-p-q-r-s-t------------------------\n",
      "----------------------t-s-r-q-p-o-n-m-l-m-n-o-p-q-r-s-t----------------------\n",
      "--------------------t-s-r-q-p-o-n-m-l-k-l-m-n-o-p-q-r-s-t--------------------\n",
      "------------------t-s-r-q-p-o-n-m-l-k-j-k-l-m-n-o-p-q-r-s-t------------------\n",
      "----------------t-s-r-q-p-o-n-m-l-k-j-i-j-k-l-m-n-o-p-q-r-s-t----------------\n",
      "--------------t-s-r-q-p-o-n-m-l-k-j-i-h-i-j-k-l-m-n-o-p-q-r-s-t--------------\n",
      "------------t-s-r-q-p-o-n-m-l-k-j-i-h-g-h-i-j-k-l-m-n-o-p-q-r-s-t------------\n",
      "----------t-s-r-q-p-o-n-m-l-k-j-i-h-g-f-g-h-i-j-k-l-m-n-o-p-q-r-s-t----------\n",
      "--------t-s-r-q-p-o-n-m-l-k-j-i-h-g-f-e-f-g-h-i-j-k-l-m-n-o-p-q-r-s-t--------\n",
      "------t-s-r-q-p-o-n-m-l-k-j-i-h-g-f-e-d-e-f-g-h-i-j-k-l-m-n-o-p-q-r-s-t------\n",
      "----t-s-r-q-p-o-n-m-l-k-j-i-h-g-f-e-d-c-d-e-f-g-h-i-j-k-l-m-n-o-p-q-r-s-t----\n",
      "--t-s-r-q-p-o-n-m-l-k-j-i-h-g-f-e-d-c-b-c-d-e-f-g-h-i-j-k-l-m-n-o-p-q-r-s-t--\n",
      "t-s-r-q-p-o-n-m-l-k-j-i-h-g-f-e-d-c-b-a-b-c-d-e-f-g-h-i-j-k-l-m-n-o-p-q-r-s-t\n",
      "--t-s-r-q-p-o-n-m-l-k-j-i-h-g-f-e-d-c-b-c-d-e-f-g-h-i-j-k-l-m-n-o-p-q-r-s-t--\n",
      "----t-s-r-q-p-o-n-m-l-k-j-i-h-g-f-e-d-c-d-e-f-g-h-i-j-k-l-m-n-o-p-q-r-s-t----\n",
      "------t-s-r-q-p-o-n-m-l-k-j-i-h-g-f-e-d-e-f-g-h-i-j-k-l-m-n-o-p-q-r-s-t------\n",
      "--------t-s-r-q-p-o-n-m-l-k-j-i-h-g-f-e-f-g-h-i-j-k-l-m-n-o-p-q-r-s-t--------\n",
      "----------t-s-r-q-p-o-n-m-l-k-j-i-h-g-f-g-h-i-j-k-l-m-n-o-p-q-r-s-t----------\n",
      "------------t-s-r-q-p-o-n-m-l-k-j-i-h-g-h-i-j-k-l-m-n-o-p-q-r-s-t------------\n",
      "--------------t-s-r-q-p-o-n-m-l-k-j-i-h-i-j-k-l-m-n-o-p-q-r-s-t--------------\n",
      "----------------t-s-r-q-p-o-n-m-l-k-j-i-j-k-l-m-n-o-p-q-r-s-t----------------\n",
      "------------------t-s-r-q-p-o-n-m-l-k-j-k-l-m-n-o-p-q-r-s-t------------------\n",
      "--------------------t-s-r-q-p-o-n-m-l-k-l-m-n-o-p-q-r-s-t--------------------\n",
      "----------------------t-s-r-q-p-o-n-m-l-m-n-o-p-q-r-s-t----------------------\n",
      "------------------------t-s-r-q-p-o-n-m-n-o-p-q-r-s-t------------------------\n",
      "--------------------------t-s-r-q-p-o-n-o-p-q-r-s-t--------------------------\n",
      "----------------------------t-s-r-q-p-o-p-q-r-s-t----------------------------\n",
      "------------------------------t-s-r-q-p-q-r-s-t------------------------------\n",
      "--------------------------------t-s-r-q-r-s-t--------------------------------\n",
      "----------------------------------t-s-r-s-t----------------------------------\n",
      "------------------------------------t-s-t------------------------------------\n",
      "--------------------------------------t--------------------------------------\n"
     ]
    }
   ],
   "source": [
    "def print_rangoli(size):\n",
    "    alphabet = [chr(i) for i in range(97, 123)]\n",
    "    alphabet = alphabet[:size]\n",
    "    \n",
    "    indices = list (range(size))\n",
    "    indices = indices[:-1] + indices[::-1]\n",
    "    \n",
    "    for i in indices:\n",
    "        start_index = i + 1\n",
    "        original = alphabet[-start_index:]\n",
    "        reverse =original[::-1]\n",
    "        row = reverse + original[1:]\n",
    "        row = '-'.join(row)\n",
    "        width = size * 4 -3\n",
    "        row =row.center(width,'-')\n",
    "        print(row)\n",
    "\n",
    "if __name__ == '__main__':\n",
    "    n = int(input())\n",
    "    print_rangoli(n)"
   ]
  },
  {
   "cell_type": "code",
   "execution_count": 1,
   "id": "fddd59ce-11c4-4b1c-a5b0-cee94df97896",
   "metadata": {},
   "outputs": [
    {
     "name": "stdin",
     "output_type": "stream",
     "text": [
      " BANANA\n"
     ]
    },
    {
     "name": "stdout",
     "output_type": "stream",
     "text": [
      "Stuart 12\n"
     ]
    }
   ],
   "source": [
    "def minion_game(string):\n",
    "    vowels = 'AEIOU'\n",
    "    \n",
    "    kevins_scores = stuart_scores = 0\n",
    "    length = len(string)\n",
    "    \n",
    "    for i in range(length):\n",
    "        if string[i] in vowels:\n",
    "            kevins_scores += length - i\n",
    "        else:\n",
    "            stuart_scores += length - i\n",
    "    \n",
    "    if stuart_scores > kevins_scores:\n",
    "        print(f'Stuart {stuart_scores}')\n",
    "    elif kevins_scores > stuart_scores:\n",
    "        print(f'Kevin {kevins_scores}')\n",
    "    else:\n",
    "        print(\"Draw\")\n",
    "\n",
    "if __name__ == '__main__':\n",
    "    s = input()\n",
    "    minion_game(s)"
   ]
  },
  {
   "cell_type": "code",
   "execution_count": null,
   "id": "a78c5ac4-a2f5-4351-bff9-f3cd4517d82c",
   "metadata": {},
   "outputs": [],
   "source": []
  }
 ],
 "metadata": {
  "kernelspec": {
   "display_name": "Python 3 (ipykernel)",
   "language": "python",
   "name": "python3"
  },
  "language_info": {
   "codemirror_mode": {
    "name": "ipython",
    "version": 3
   },
   "file_extension": ".py",
   "mimetype": "text/x-python",
   "name": "python",
   "nbconvert_exporter": "python",
   "pygments_lexer": "ipython3",
   "version": "3.13.5"
  }
 },
 "nbformat": 4,
 "nbformat_minor": 5
}
