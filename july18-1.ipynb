{
 "cells": [
  {
   "cell_type": "markdown",
   "id": "508471e6-7f34-489d-8382-f4ac40cb5a0a",
   "metadata": {},
   "source": [
    "### List Methods"
   ]
  },
  {
   "cell_type": "code",
   "execution_count": 1,
   "id": "7719a719-75e4-4331-89be-0cfa373f66ac",
   "metadata": {},
   "outputs": [
    {
     "name": "stdin",
     "output_type": "stream",
     "text": [
      "Enter the number of inputes: 12\n",
      "Enter the name of the  list method and the value: insert 0 5\n",
      "Enter the name of the  list method and the value: insert 1 10\n",
      "Enter the name of the  list method and the value: insert 0 6\n",
      "Enter the name of the  list method and the value: print\n"
     ]
    },
    {
     "name": "stdout",
     "output_type": "stream",
     "text": [
      "[6, 5, 10]\n"
     ]
    },
    {
     "name": "stdin",
     "output_type": "stream",
     "text": [
      "Enter the name of the  list method and the value: remove 6\n",
      "Enter the name of the  list method and the value: append 9\n",
      "Enter the name of the  list method and the value: append 1\n",
      "Enter the name of the  list method and the value: sort\n",
      "Enter the name of the  list method and the value: print\n"
     ]
    },
    {
     "name": "stdout",
     "output_type": "stream",
     "text": [
      "[1, 5, 9, 10]\n"
     ]
    },
    {
     "name": "stdin",
     "output_type": "stream",
     "text": [
      "Enter the name of the  list method and the value: pop\n",
      "Enter the name of the  list method and the value: reverse\n",
      "Enter the name of the  list method and the value: print\n"
     ]
    },
    {
     "name": "stdout",
     "output_type": "stream",
     "text": [
      "[9, 5, 1]\n"
     ]
    }
   ],
   "source": [
    "N = int(input(\"Enter the number of inputes:\"))\n",
    "arr = []\n",
    "for i in range(N):\n",
    "    s = input(\"Enter the name of the  list method and the value:\").split()\n",
    "    for i in range(1,len(s)):\n",
    "        s[i] = int(s[i])\n",
    "        \n",
    "    if s[0] == 'append':\n",
    "        arr.append(s[1])\n",
    "    elif s[0] == 'insert':\n",
    "        arr.insert(s[1], s[2])\n",
    "    elif s[0] == 'remove':\n",
    "        arr.remove(s[1])\n",
    "    elif s[0] == 'pop':\n",
    "        arr.pop()\n",
    "    elif s[0] == 'sort':\n",
    "        arr.sort()\n",
    "    elif s[0] == 'reverse':\n",
    "        arr.reverse()\n",
    "    elif s[0] == 'print':\n",
    "        print(arr)"
   ]
  },
  {
   "cell_type": "code",
   "execution_count": 8,
   "id": "ad52279f-1e28-46f6-aca0-253ab6e9a51f",
   "metadata": {},
   "outputs": [
    {
     "name": "stdin",
     "output_type": "stream",
     "text": [
      " 2\n",
      " 1 2\n"
     ]
    },
    {
     "name": "stdout",
     "output_type": "stream",
     "text": [
      "[1, 2]\n",
      "(1, 2)\n",
      "-3550055125485641917\n"
     ]
    }
   ],
   "source": [
    "n = int(input())\n",
    "t = input().split()\n",
    "\n",
    "for i in range(len(t)):\n",
    "    t[i] = int(t[i])\n",
    "print(t)\n",
    "t = tuple(t)\n",
    "print(t)\n",
    "print(hash(t))"
   ]
  },
  {
   "cell_type": "code",
   "execution_count": null,
   "id": "51673f06-fe0a-4ec4-b86a-2bff9db01b3f",
   "metadata": {},
   "outputs": [],
   "source": []
  }
 ],
 "metadata": {
  "kernelspec": {
   "display_name": "Python 3 (ipykernel)",
   "language": "python",
   "name": "python3"
  },
  "language_info": {
   "codemirror_mode": {
    "name": "ipython",
    "version": 3
   },
   "file_extension": ".py",
   "mimetype": "text/x-python",
   "name": "python",
   "nbconvert_exporter": "python",
   "pygments_lexer": "ipython3",
   "version": "3.13.5"
  }
 },
 "nbformat": 4,
 "nbformat_minor": 5
}
