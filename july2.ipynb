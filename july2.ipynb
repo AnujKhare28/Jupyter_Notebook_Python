{
 "cells": [
  {
   "cell_type": "markdown",
   "id": "01de4761-bfef-40ab-92e0-8af44873d49f",
   "metadata": {},
   "source": [
    "### Arithemaic operator"
   ]
  },
  {
   "cell_type": "raw",
   "id": "32518d63-2780-4a55-92d1-a934d796d8f2",
   "metadata": {},
   "source": [
    "+ ,  -  ,  *  ,  /  ,  //  , % , **"
   ]
  },
  {
   "cell_type": "code",
   "execution_count": 8,
   "id": "188e37aa-c64f-43a3-b373-16b3d144fc6b",
   "metadata": {},
   "outputs": [
    {
     "name": "stdout",
     "output_type": "stream",
     "text": [
      "12 <class 'int'>\n"
     ]
    }
   ],
   "source": [
    "a = 10\n",
    "b = 2\n",
    "c = a+b\n",
    "print (c, type(c))"
   ]
  },
  {
   "cell_type": "code",
   "execution_count": 9,
   "id": "1a8d20ef-e374-40a3-8d37-0266f3acd67e",
   "metadata": {},
   "outputs": [
    {
     "name": "stdout",
     "output_type": "stream",
     "text": [
      "8 <class 'int'>\n"
     ]
    }
   ],
   "source": [
    "a = 10\n",
    "b = 2\n",
    "c = a-b\n",
    "print (c, type(c))"
   ]
  },
  {
   "cell_type": "code",
   "execution_count": 12,
   "id": "f974fd4f-1040-4995-9598-366447fc0256",
   "metadata": {},
   "outputs": [
    {
     "name": "stdout",
     "output_type": "stream",
     "text": [
      "20 <class 'int'>\n"
     ]
    }
   ],
   "source": [
    "a = 10\n",
    "b = 2\n",
    "c = a*b\n",
    "print (c, type(c))"
   ]
  },
  {
   "cell_type": "code",
   "execution_count": 10,
   "id": "caba3e2b-bf71-4364-83f8-79088f067d8d",
   "metadata": {},
   "outputs": [
    {
     "name": "stdout",
     "output_type": "stream",
     "text": [
      "5.5 <class 'float'>\n"
     ]
    }
   ],
   "source": [
    "a = 11\n",
    "b = 2\n",
    "c = a/b\n",
    "print (c, type(c))"
   ]
  },
  {
   "cell_type": "code",
   "execution_count": 11,
   "id": "6c3665b7-7079-4fd9-be3f-1696fc899990",
   "metadata": {},
   "outputs": [
    {
     "name": "stdout",
     "output_type": "stream",
     "text": [
      "5 <class 'int'>\n"
     ]
    }
   ],
   "source": [
    "a = 11\n",
    "b = 2\n",
    "c = a//b\n",
    "print (c, type(c))"
   ]
  },
  {
   "cell_type": "code",
   "execution_count": 14,
   "id": "90f65bda-bb37-4b0d-916e-62d3151d37a4",
   "metadata": {},
   "outputs": [
    {
     "name": "stdout",
     "output_type": "stream",
     "text": [
      "1 <class 'int'>\n"
     ]
    }
   ],
   "source": [
    "a = 13\n",
    "b = 2\n",
    "c = a%b\n",
    "print (c, type(c))"
   ]
  },
  {
   "cell_type": "code",
   "execution_count": 15,
   "id": "960f289e-e87f-420b-8b7f-f784be02404d",
   "metadata": {},
   "outputs": [
    {
     "name": "stdout",
     "output_type": "stream",
     "text": [
      "100 <class 'int'>\n"
     ]
    }
   ],
   "source": [
    "a = 10\n",
    "b = 2\n",
    "c = a**b\n",
    "print (c, type(c))"
   ]
  },
  {
   "cell_type": "code",
   "execution_count": 19,
   "id": "21e81740-621d-4a36-8202-24c6197fc6bc",
   "metadata": {},
   "outputs": [
    {
     "name": "stdin",
     "output_type": "stream",
     "text": [
      "Enter a number:  6\n"
     ]
    },
    {
     "name": "stdout",
     "output_type": "stream",
     "text": [
      "6 <class 'int'>\n",
      "16 <class 'int'>\n"
     ]
    }
   ],
   "source": [
    "d = int (input (\"Enter a number: \"))\n",
    "print (d, type(d))\n",
    "e = d + a\n",
    "print (e, type(e))"
   ]
  },
  {
   "cell_type": "markdown",
   "id": "040383c3-2e1b-4957-883e-ae0bc81dedc9",
   "metadata": {},
   "source": [
    "#### Find the Area of the circle"
   ]
  },
  {
   "cell_type": "code",
   "execution_count": 28,
   "id": "231ff266-de6f-444c-9fc9-fdd155568a10",
   "metadata": {
    "scrolled": true
   },
   "outputs": [
    {
     "name": "stdin",
     "output_type": "stream",
     "text": [
      "Enter the radius of the circle:  5.5\n"
     ]
    },
    {
     "name": "stdout",
     "output_type": "stream",
     "text": [
      "The area of the circle is:  94.985\n"
     ]
    }
   ],
   "source": [
    "rad = float(input(\"Enter the radius of the circle: \"))\n",
    "area = 3.14 * rad ** 2\n",
    "print (\"The area of the circle is: \", area)"
   ]
  },
  {
   "cell_type": "markdown",
   "id": "deeaadd2-fbf4-4efb-9f1e-5bff4813b69d",
   "metadata": {},
   "source": [
    "#### Area of Rectangle "
   ]
  },
  {
   "cell_type": "code",
   "execution_count": 30,
   "id": "e49ea370-bca7-43cb-8c74-68af4daf508f",
   "metadata": {},
   "outputs": [
    {
     "name": "stdin",
     "output_type": "stream",
     "text": [
      "Ener the Length of the Rectangle:  5\n",
      "Ener the breath of the Rectangle:  2\n"
     ]
    },
    {
     "name": "stdout",
     "output_type": "stream",
     "text": [
      "The Area of the Rectangle is:  10\n"
     ]
    }
   ],
   "source": [
    "length = int (input (\"Ener the Length of the Rectangle: \"))\n",
    "breath = int (input (\"Ener the breath of the Rectangle: \"))\n",
    "area = length * breath\n",
    "print (\"The Area of the Rectangle is: \", area)"
   ]
  },
  {
   "cell_type": "markdown",
   "id": "7a9f754b-c115-4a98-ba14-370695e948e1",
   "metadata": {},
   "source": [
    "#### Area of the Square"
   ]
  },
  {
   "cell_type": "code",
   "execution_count": 32,
   "id": "e23faa2f-6ac1-4f40-af1c-d5e379bcb1eb",
   "metadata": {},
   "outputs": [
    {
     "name": "stdin",
     "output_type": "stream",
     "text": [
      "Ener the side of the square:  5\n"
     ]
    },
    {
     "name": "stdout",
     "output_type": "stream",
     "text": [
      "The Area of the Square is:  25\n"
     ]
    }
   ],
   "source": [
    "side = int (input (\"Ener the side of the square: \"))\n",
    "area = side * side\n",
    "print (\"The Area of the Square is: \", area)"
   ]
  },
  {
   "cell_type": "markdown",
   "id": "9a0a50fd-e236-4a3a-b407-4ff11f6e969e",
   "metadata": {},
   "source": [
    "#### Area of Triangle"
   ]
  },
  {
   "cell_type": "code",
   "execution_count": 33,
   "id": "2d8ef9e0-74ba-4c7f-b247-4b271154cce3",
   "metadata": {},
   "outputs": [
    {
     "name": "stdin",
     "output_type": "stream",
     "text": [
      "Ener the base of the Triangle:  5\n",
      "Ener the height of the Triangle:  2\n"
     ]
    },
    {
     "name": "stdout",
     "output_type": "stream",
     "text": [
      "The Area of the Triangle is:  5.0\n"
     ]
    }
   ],
   "source": [
    "base = int (input (\"Ener the base of the Triangle: \"))\n",
    "height = int (input (\"Ener the height of the Triangle: \"))\n",
    "area = 0.5* base * height\n",
    "print (\"The Area of the Triangle is: \", area)"
   ]
  },
  {
   "cell_type": "markdown",
   "id": "15c086af-a7c3-43c3-8a9b-1849e5f65d3b",
   "metadata": {},
   "source": [
    "#### Square root"
   ]
  },
  {
   "cell_type": "code",
   "execution_count": 44,
   "id": "7de65f93-bfc1-4841-b1bf-88125b2138cf",
   "metadata": {},
   "outputs": [
    {
     "name": "stdin",
     "output_type": "stream",
     "text": [
      "Enter a number:  100\n"
     ]
    },
    {
     "name": "stdout",
     "output_type": "stream",
     "text": [
      "The square root of the number is:  10.0\n"
     ]
    }
   ],
   "source": [
    "b = float (input (\"Enter a number: \"))\n",
    "c = float(b ** (1/2))\n",
    "print (\"The square root of the number is: \", c)"
   ]
  },
  {
   "cell_type": "markdown",
   "id": "bb5caf99-3259-4393-964b-4e8364f2957a",
   "metadata": {},
   "source": [
    "#### Cube root"
   ]
  },
  {
   "cell_type": "code",
   "execution_count": 45,
   "id": "3fba6411-11b4-4dab-9305-b0e56ca4235e",
   "metadata": {},
   "outputs": [
    {
     "name": "stdin",
     "output_type": "stream",
     "text": [
      "Enter a number:  27\n"
     ]
    },
    {
     "name": "stdout",
     "output_type": "stream",
     "text": [
      "The cube root of the number is:  3.0\n"
     ]
    }
   ],
   "source": [
    "b = float (input (\"Enter a number: \"))\n",
    "c = float(b ** (1/3))\n",
    "print (\"The cube root of the number is: \", c)"
   ]
  },
  {
   "cell_type": "markdown",
   "id": "7f687688-eb26-4b72-b6c9-049792e4ee91",
   "metadata": {},
   "source": [
    "#### Simple Interest "
   ]
  },
  {
   "cell_type": "code",
   "execution_count": 48,
   "id": "77e36851-dde7-47b9-a693-9492bee268f7",
   "metadata": {},
   "outputs": [
    {
     "name": "stdin",
     "output_type": "stream",
     "text": [
      "Enter the principle amount:  2000\n",
      "Enter the rate of interest:  10\n",
      "Enter the Time Duration:  2\n"
     ]
    },
    {
     "name": "stdout",
     "output_type": "stream",
     "text": [
      "The Simple Interest is:  400.0\n"
     ]
    }
   ],
   "source": [
    "P = float (input( \"Enter the principle amount: \"))\n",
    "R = float (input( \"Enter the rate of interest: \"))\n",
    "T = float (input( \"Enter the Time Duration: \"))\n",
    "SI = (P * R * T) / 100\n",
    "print (\"The Simple Interest is: \", SI)"
   ]
  },
  {
   "cell_type": "markdown",
   "id": "e8a41da4-4169-415a-b670-13ef17a550ec",
   "metadata": {},
   "source": [
    "#### Compound Interest "
   ]
  },
  {
   "cell_type": "code",
   "execution_count": 2,
   "id": "560114be-f4b2-4056-833f-f3777b10dee5",
   "metadata": {},
   "outputs": [
    {
     "name": "stdin",
     "output_type": "stream",
     "text": [
      "Enter the principle amount:  10000\n",
      "Enter the rate of interest(%):  5\n",
      "Enter the Time Duration:  2\n",
      " Enter the Number of times the interest is compounded per year:  4\n"
     ]
    },
    {
     "name": "stdout",
     "output_type": "stream",
     "text": [
      "The compound Interest is:  1044.8610118141205\n"
     ]
    }
   ],
   "source": [
    "P = float (input( \"Enter the principle amount: \"))\n",
    "R = float (input( \"Enter the rate of interest(%): \"))\n",
    "T = float (input( \"Enter the Time Duration: \"))\n",
    "N = float (input(\" Enter the Number of times the interest is compounded per year: \"))\n",
    "R = R/100\n",
    "CI = P * (1 + (R/N)) ** (N * T) - P\n",
    "print(\"The compound Interest is: \", CI)"
   ]
  },
  {
   "cell_type": "markdown",
   "id": "d2a123d6-1613-4adc-b8f5-640fae3f56d0",
   "metadata": {},
   "source": [
    "#### Check Even and odd"
   ]
  },
  {
   "cell_type": "code",
   "execution_count": 59,
   "id": "d6cd2672-0155-46a7-8275-9fd751a155aa",
   "metadata": {},
   "outputs": [
    {
     "name": "stdin",
     "output_type": "stream",
     "text": [
      "Enter a number:  5\n"
     ]
    },
    {
     "name": "stdout",
     "output_type": "stream",
     "text": [
      "Number is Odd\n"
     ]
    }
   ],
   "source": [
    "n = int (input(\"Enter a number: \"))\n",
    "if n % 2 == 0:\n",
    "    print (\"Number is Even\")\n",
    "else:\n",
    "    print (\"Number is Odd\")"
   ]
  },
  {
   "cell_type": "code",
   "execution_count": 60,
   "id": "9eea4eb4-f364-412c-91c7-c123781f6e06",
   "metadata": {},
   "outputs": [
    {
     "name": "stdin",
     "output_type": "stream",
     "text": [
      "Enter a number:  6\n"
     ]
    },
    {
     "name": "stdout",
     "output_type": "stream",
     "text": [
      "Number is Even\n"
     ]
    }
   ],
   "source": [
    "n = int (input(\"Enter a number: \"))\n",
    "if n % 2 == 0:\n",
    "    print (\"Number is Even\")\n",
    "else:\n",
    "    print (\"Number is Odd\")"
   ]
  },
  {
   "cell_type": "code",
   "execution_count": null,
   "id": "cac00142-b5b7-4e90-be5b-fa399a1d1f31",
   "metadata": {},
   "outputs": [],
   "source": []
  }
 ],
 "metadata": {
  "kernelspec": {
   "display_name": "Python 3 (ipykernel)",
   "language": "python",
   "name": "python3"
  },
  "language_info": {
   "codemirror_mode": {
    "name": "ipython",
    "version": 3
   },
   "file_extension": ".py",
   "mimetype": "text/x-python",
   "name": "python",
   "nbconvert_exporter": "python",
   "pygments_lexer": "ipython3",
   "version": "3.13.5"
  }
 },
 "nbformat": 4,
 "nbformat_minor": 5
}
