{
 "cells": [
  {
   "cell_type": "markdown",
   "id": "f29264f6-3486-4ea0-a332-bd49f188d9dc",
   "metadata": {},
   "source": [
    "### Number of Occurance"
   ]
  },
  {
   "cell_type": "code",
   "execution_count": 4,
   "id": "a1400fe4-2bc4-4372-af46-de897d2192c9",
   "metadata": {},
   "outputs": [
    {
     "name": "stdout",
     "output_type": "stream",
     "text": [
      "['A', 3, 'B', 2, 'C', 3, 'D', 2, 'E', 3]\n"
     ]
    }
   ],
   "source": [
    "l1 = ['A', 'B', 'C', 'D', 'E', 'A', 'D', 'C', 'A', 'E', 'B', 'C', 'E']\n",
    "r = []\n",
    "for i in l1: \n",
    "    if i not in r: \n",
    "        r.append(i)\n",
    "        counter = l1.count(i)\n",
    "        r.append(counter)\n",
    "print(r)"
   ]
  },
  {
   "cell_type": "code",
   "execution_count": null,
   "id": "bbaafb9c-3adf-460a-9922-48f27c030d9f",
   "metadata": {},
   "outputs": [],
   "source": []
  }
 ],
 "metadata": {
  "kernelspec": {
   "display_name": "Python 3 (ipykernel)",
   "language": "python",
   "name": "python3"
  },
  "language_info": {
   "codemirror_mode": {
    "name": "ipython",
    "version": 3
   },
   "file_extension": ".py",
   "mimetype": "text/x-python",
   "name": "python",
   "nbconvert_exporter": "python",
   "pygments_lexer": "ipython3",
   "version": "3.13.5"
  }
 },
 "nbformat": 4,
 "nbformat_minor": 5
}
