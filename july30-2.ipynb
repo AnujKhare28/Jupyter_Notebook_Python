{
 "cells": [
  {
   "cell_type": "code",
   "execution_count": 2,
   "id": "90879960-12ae-4151-af37-dead81802679",
   "metadata": {},
   "outputs": [],
   "source": [
    "import numpy as np"
   ]
  },
  {
   "cell_type": "code",
   "execution_count": 3,
   "id": "5dc02409-1d12-4b36-8b06-0b2c89f95d2b",
   "metadata": {},
   "outputs": [
    {
     "name": "stdout",
     "output_type": "stream",
     "text": [
      "[ 90. 180. 270. 360. 450.]\n"
     ]
    }
   ],
   "source": [
    "prices = np.array([100,200,300,400,500])\n",
    "disount = 10\n",
    "\n",
    "final_prices = prices - (prices * disount / 100)\n",
    "print(final_prices)"
   ]
  },
  {
   "cell_type": "code",
   "execution_count": 4,
   "id": "e3204d16-1b95-41bc-bf21-4a03e382aa86",
   "metadata": {},
   "outputs": [
    {
     "name": "stdout",
     "output_type": "stream",
     "text": [
      "[[11 22 33]\n",
      " [14 25 36]]\n"
     ]
    }
   ],
   "source": [
    "matrix = np.array([[1,2,3],[4,5,6]])\n",
    "vector = np.array([10,20,30])\n",
    "result = matrix + vector\n",
    "print(result)"
   ]
  },
  {
   "cell_type": "code",
   "execution_count": null,
   "id": "8c630313-10c4-430a-b663-0e9ac674339e",
   "metadata": {},
   "outputs": [],
   "source": [
    "arr1 = np.array()"
   ]
  },
  {
   "cell_type": "code",
   "execution_count": null,
   "id": "47b244a8-c4a3-4b45-8e6c-7169ecc50201",
   "metadata": {},
   "outputs": [],
   "source": []
  }
 ],
 "metadata": {
  "kernelspec": {
   "display_name": "Python 3 (ipykernel)",
   "language": "python",
   "name": "python3"
  },
  "language_info": {
   "codemirror_mode": {
    "name": "ipython",
    "version": 3
   },
   "file_extension": ".py",
   "mimetype": "text/x-python",
   "name": "python",
   "nbconvert_exporter": "python",
   "pygments_lexer": "ipython3",
   "version": "3.13.5"
  }
 },
 "nbformat": 4,
 "nbformat_minor": 5
}
