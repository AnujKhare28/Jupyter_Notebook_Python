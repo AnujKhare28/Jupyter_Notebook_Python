{
 "cells": [
  {
   "cell_type": "code",
   "execution_count": 2,
   "id": "1c4e4fa4-909c-47c9-ad97-1cf35f8542e9",
   "metadata": {},
   "outputs": [
    {
     "name": "stdin",
     "output_type": "stream",
     "text": [
      " 2\n",
      " 2\n",
      " 2\n",
      " 5\n"
     ]
    },
    {
     "name": "stdout",
     "output_type": "stream",
     "text": [
      "[[0, 0, 0], [0, 0, 1], [0, 0, 2], [0, 1, 0], [0, 1, 1], [0, 1, 2], [0, 2, 0], [0, 2, 1], [0, 2, 2], [1, 0, 0], [1, 0, 1], [1, 0, 2], [1, 1, 0], [1, 1, 1], [1, 1, 2], [1, 2, 0], [1, 2, 1], [2, 0, 0], [2, 0, 1], [2, 0, 2], [2, 1, 0], [2, 1, 1], [2, 2, 0], [2, 2, 2]]\n"
     ]
    }
   ],
   "source": [
    "#list comprehension\n",
    "x = int(input())\n",
    "y = int(input())\n",
    "z = int(input())\n",
    "n = int(input())\n",
    "    \n",
    "print([[i, j, k] for i in range(x + 1) for j in range(y + 1) for k in range(z + 1) if ((i + j + k) != n)])"
   ]
  },
  {
   "cell_type": "code",
   "execution_count": 3,
   "id": "0582ee5f-b434-476a-80fa-8a90e708bd30",
   "metadata": {},
   "outputs": [
    {
     "name": "stdout",
     "output_type": "stream",
     "text": [
      "The value of x after swapping: 10\n",
      "The value of y after swapping: 5\n"
     ]
    }
   ],
   "source": [
    "x = 5\n",
    "y = 10\n",
    "temp = x\n",
    "x = y\n",
    "y = temp\n",
    "\n",
    "print('The value of x after swapping: {}'.format(x))\n",
    "print('The value of y after swapping: {}'.format(y))"
   ]
  },
  {
   "cell_type": "code",
   "execution_count": 7,
   "id": "aa603f1a-6ce5-426f-a8b0-7c51a5e1c95b",
   "metadata": {},
   "outputs": [
    {
     "name": "stdout",
     "output_type": "stream",
     "text": [
      "37.5degree Celsius is equal to 99.5 degree Fahrenheit\n"
     ]
    }
   ],
   "source": [
    "celsius = 37.5\n",
    "fahrenheit = (celsius * 1.8) + 32\n",
    "print(f'{celsius}degree Celsius is equal to {fahrenheit} degree Fahrenheit')"
   ]
  },
  {
   "cell_type": "code",
   "execution_count": null,
   "id": "d75457ce-a31b-4724-bf4a-1f8a32f8bfa5",
   "metadata": {},
   "outputs": [],
   "source": []
  }
 ],
 "metadata": {
  "kernelspec": {
   "display_name": "Python 3 (ipykernel)",
   "language": "python",
   "name": "python3"
  },
  "language_info": {
   "codemirror_mode": {
    "name": "ipython",
    "version": 3
   },
   "file_extension": ".py",
   "mimetype": "text/x-python",
   "name": "python",
   "nbconvert_exporter": "python",
   "pygments_lexer": "ipython3",
   "version": "3.13.5"
  }
 },
 "nbformat": 4,
 "nbformat_minor": 5
}
