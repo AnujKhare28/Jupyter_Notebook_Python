{
 "cells": [
  {
   "cell_type": "code",
   "execution_count": 6,
   "id": "c8ef35ac-e715-4447-9000-e775d17d37d6",
   "metadata": {},
   "outputs": [],
   "source": [
    "head = [1,2,3,4,5]"
   ]
  },
  {
   "cell_type": "code",
   "execution_count": 11,
   "id": "0432b975-44ae-4df1-a782-be87ad009f1b",
   "metadata": {},
   "outputs": [],
   "source": [
    "def middleNode(head):\n",
    "    n = 0\n",
    "    temp = head\n",
    "    while temp is not None: \n",
    "        n += 1\n",
    "        temp = temp.next\n",
    "    temp = head\n",
    "    for _ in range(0,(n//2)): \n",
    "        temp = temp.next\n",
    "    return temp"
   ]
  },
  {
   "cell_type": "code",
   "execution_count": null,
   "id": "e9da6c26-a25f-4ac0-ae63-9901e71b990d",
   "metadata": {},
   "outputs": [],
   "source": []
  },
  {
   "cell_type": "code",
   "execution_count": null,
   "id": "a95ecc82-e3e8-40bb-821a-e8dfdb0b0353",
   "metadata": {},
   "outputs": [],
   "source": []
  }
 ],
 "metadata": {
  "kernelspec": {
   "display_name": "Python 3 (ipykernel)",
   "language": "python",
   "name": "python3"
  },
  "language_info": {
   "codemirror_mode": {
    "name": "ipython",
    "version": 3
   },
   "file_extension": ".py",
   "mimetype": "text/x-python",
   "name": "python",
   "nbconvert_exporter": "python",
   "pygments_lexer": "ipython3",
   "version": "3.13.5"
  }
 },
 "nbformat": 4,
 "nbformat_minor": 5
}
