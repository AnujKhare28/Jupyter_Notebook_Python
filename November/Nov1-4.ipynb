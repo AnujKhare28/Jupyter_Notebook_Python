{
 "cells": [
  {
   "cell_type": "code",
   "execution_count": 2,
   "id": "99acb03d-57ae-44ba-a7b5-dfea891138ab",
   "metadata": {},
   "outputs": [
    {
     "name": "stdout",
     "output_type": "stream",
     "text": [
      "Enter three numbers\n"
     ]
    },
    {
     "name": "stdin",
     "output_type": "stream",
     "text": [
      " 8\n",
      " 5\n",
      " 7\n"
     ]
    },
    {
     "name": "stdout",
     "output_type": "stream",
     "text": [
      "8is largest\n"
     ]
    }
   ],
   "source": [
    "print(\"Enter three numbers\")\n",
    "num1 = int (input())\n",
    "num2 = int (input())\n",
    "num3 = int (input())\n",
    "\n",
    "if (num1 > num2) and (num1 > num3):\n",
    "    print (f\"{num1}is largest\")\n",
    "elif (num2 > num1) and (num2 > num3):\n",
    "    print (f\"{num2}is largest\")\n",
    "else:\n",
    "    print (f\"{num3}is largest\")\n",
    "    "
   ]
  },
  {
   "cell_type": "code",
   "execution_count": null,
   "id": "bcdf9185-3363-4a09-bb0a-2f2597e7465b",
   "metadata": {},
   "outputs": [],
   "source": []
  }
 ],
 "metadata": {
  "kernelspec": {
   "display_name": "Python 3 (ipykernel)",
   "language": "python",
   "name": "python3"
  },
  "language_info": {
   "codemirror_mode": {
    "name": "ipython",
    "version": 3
   },
   "file_extension": ".py",
   "mimetype": "text/x-python",
   "name": "python",
   "nbconvert_exporter": "python",
   "pygments_lexer": "ipython3",
   "version": "3.13.5"
  }
 },
 "nbformat": 4,
 "nbformat_minor": 5
}
