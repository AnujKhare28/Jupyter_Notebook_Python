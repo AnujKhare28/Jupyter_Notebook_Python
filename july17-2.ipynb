{
 "cells": [
  {
   "cell_type": "code",
   "execution_count": 14,
   "id": "248b0369-6814-4701-aef4-9b3c27aa57f3",
   "metadata": {},
   "outputs": [
    {
     "name": "stdin",
     "output_type": "stream",
     "text": [
      "Enter the number of students: 5\n",
      "Enter the name of the student: Anuj\n",
      "Enter the Marks of the student: 87\n",
      "Enter the name of the student: Anubhav\n",
      "Enter the Marks of the student: 65\n",
      "Enter the name of the student: Aman\n",
      "Enter the Marks of the student: 75\n",
      "Enter the name of the student: Ankit\n",
      "Enter the Marks of the student: 45\n",
      "Enter the name of the student: Anoop\n",
      "Enter the Marks of the student: 85\n"
     ]
    },
    {
     "name": "stdout",
     "output_type": "stream",
     "text": [
      "Second Lowest Marks of the students: Anubhav\n"
     ]
    }
   ],
   "source": [
    "names_scores = []\n",
    "    \n",
    "for _ in range(int(input(\"Enter the number of students:\"))):       \n",
    "    name = input(\"Enter the name of the student:\")\n",
    "    score = float(input(\"Enter the Marks of the student:\"))\n",
    "    names_scores.append([name, score])\n",
    "scores = [] \n",
    "for student in names_scores:\n",
    "    scores.append(student[1])    \n",
    "        \n",
    "sorted_score = sorted (set(scores))\n",
    "second_lowest = sorted_score[1]\n",
    "names = []\n",
    "for student in names_scores:\n",
    "    if student[1] == second_lowest:\n",
    "        names.append(student[0])\n",
    "   \n",
    "names = sorted(names)\n",
    "for name in names:\n",
    "    print(\"Second Lowest Marks of the students:\",name)"
   ]
  }
 ],
 "metadata": {
  "kernelspec": {
   "display_name": "Python 3 (ipykernel)",
   "language": "python",
   "name": "python3"
  },
  "language_info": {
   "codemirror_mode": {
    "name": "ipython",
    "version": 3
   },
   "file_extension": ".py",
   "mimetype": "text/x-python",
   "name": "python",
   "nbconvert_exporter": "python",
   "pygments_lexer": "ipython3",
   "version": "3.13.5"
  }
 },
 "nbformat": 4,
 "nbformat_minor": 5
}
